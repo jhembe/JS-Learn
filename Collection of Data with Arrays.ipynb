{
 "cells": [
  {
   "cell_type": "markdown",
   "id": "ddbaa573-e74e-459e-9445-dd4378852e64",
   "metadata": {},
   "source": [
    "<center><h1><b>Capturing Collection of data with Arrays</b></h1></center>"
   ]
  },
  {
   "cell_type": "code",
   "execution_count": 92,
   "id": "8f31d5ac-3761-44e9-a9c8-6b1f05eccbd2",
   "metadata": {},
   "outputs": [],
   "source": [
    "// let's Start with the GOALS"
   ]
  },
  {
   "cell_type": "markdown",
   "id": "1410bed0-d2f5-409d-b229-8d1ddc308679",
   "metadata": {},
   "source": [
    "## Goals:\n",
    "* Work with Arrays\n",
    "* Write Object Litterals\n",
    "* Understand Reference Types\n",
    "* Use common Array/Object methods"
   ]
  },
  {
   "cell_type": "code",
   "execution_count": null,
   "id": "ff9a6a5c-4a11-47af-a017-24835dc9e8df",
   "metadata": {},
   "outputs": [],
   "source": []
  },
  {
   "cell_type": "markdown",
   "id": "c2ef9fe9-444f-49d7-b06e-1ab8784ceb09",
   "metadata": {},
   "source": [
    "## **Arrays**\n",
    "Ordered Collection of values\n",
    "* List of comments on IG post\n",
    "* Collection of levels in a Game\n",
    "* Songs in a playlist"
   ]
  },
  {
   "cell_type": "code",
   "execution_count": 93,
   "id": "306c8dd4-fd19-490f-b700-c33a66395347",
   "metadata": {},
   "outputs": [],
   "source": [
    "// creating an array"
   ]
  },
  {
   "cell_type": "code",
   "execution_count": 94,
   "id": "3b9a183d-815b-4e2a-80c3-8c0c32c29e7f",
   "metadata": {},
   "outputs": [],
   "source": [
    "let shoppingList = ['cereal','cheese','ice']"
   ]
  },
  {
   "cell_type": "code",
   "execution_count": 95,
   "id": "bda60803-ae22-40e6-8532-602733b994a3",
   "metadata": {},
   "outputs": [
    {
     "data": {
      "text/plain": [
       "[ 'cereal', 'cheese', 'ice' ]"
      ]
     },
     "execution_count": 95,
     "metadata": {},
     "output_type": "execute_result"
    }
   ],
   "source": [
    "shoppingList"
   ]
  },
  {
   "cell_type": "code",
   "execution_count": 96,
   "id": "28daedf5-6d3d-49bc-b756-a2160f77dcb2",
   "metadata": {},
   "outputs": [],
   "source": [
    "// we can also make an empty array"
   ]
  },
  {
   "cell_type": "code",
   "execution_count": 97,
   "id": "dde5297e-559d-41f6-bd81-f3ec75d1c7fe",
   "metadata": {},
   "outputs": [],
   "source": [
    "let emptyArray = [];"
   ]
  },
  {
   "cell_type": "code",
   "execution_count": 98,
   "id": "4dc5c70f-46fc-4ed8-b0ff-c8eda3cf8006",
   "metadata": {},
   "outputs": [
    {
     "data": {
      "text/plain": [
       "[]"
      ]
     },
     "execution_count": 98,
     "metadata": {},
     "output_type": "execute_result"
    }
   ],
   "source": [
    "emptyArray"
   ]
  },
  {
   "cell_type": "code",
   "execution_count": 99,
   "id": "aab37d3b-4f81-4276-9a39-bfc3f4f32996",
   "metadata": {},
   "outputs": [],
   "source": [
    "let lottoNumbers = [23,87,65,23,45]"
   ]
  },
  {
   "cell_type": "code",
   "execution_count": 100,
   "id": "01f96619-5a52-4e38-af7b-42b0efd5376b",
   "metadata": {},
   "outputs": [
    {
     "data": {
      "text/plain": [
       "[ 23, 87, 65, 23, 45 ]"
      ]
     },
     "execution_count": 100,
     "metadata": {},
     "output_type": "execute_result"
    }
   ],
   "source": [
    "lottoNumbers"
   ]
  },
  {
   "cell_type": "code",
   "execution_count": 101,
   "id": "cc514cb4-118b-4e4e-ac14-63c5b35f0f3d",
   "metadata": {},
   "outputs": [],
   "source": [
    "// we can also have a mixed array"
   ]
  },
  {
   "cell_type": "code",
   "execution_count": 102,
   "id": "203f0be5-bb19-4825-a372-7cef73aad63b",
   "metadata": {},
   "outputs": [],
   "source": [
    "let mixedArray = ['food',20,true,'Dog',45.87]"
   ]
  },
  {
   "cell_type": "code",
   "execution_count": 103,
   "id": "7d06bd9c-3087-4db9-90a4-27b74f8122b8",
   "metadata": {},
   "outputs": [
    {
     "data": {
      "text/plain": [
       "[ 'food', 20, true, 'Dog', 45.87 ]"
      ]
     },
     "execution_count": 103,
     "metadata": {},
     "output_type": "execute_result"
    }
   ],
   "source": [
    "mixedArray"
   ]
  },
  {
   "cell_type": "code",
   "execution_count": 104,
   "id": "f6fa2844-35cf-4e01-9306-fb69de48fa12",
   "metadata": {},
   "outputs": [],
   "source": [
    "// Another way to make an array is this : \n",
    "let newArray = new Array(4);"
   ]
  },
  {
   "cell_type": "code",
   "execution_count": 105,
   "id": "85e83234-13bb-4478-9499-647b4735fd43",
   "metadata": {},
   "outputs": [
    {
     "data": {
      "text/plain": [
       "[ <4 empty items> ]"
      ]
     },
     "execution_count": 105,
     "metadata": {},
     "output_type": "execute_result"
    }
   ],
   "source": [
    "newArray"
   ]
  },
  {
   "cell_type": "code",
   "execution_count": 106,
   "id": "bc5745d1-83bb-43c4-8c4f-2c45202a51a7",
   "metadata": {},
   "outputs": [],
   "source": [
    "// you can add items in the above array later"
   ]
  },
  {
   "cell_type": "code",
   "execution_count": null,
   "id": "165c20a4-dcfa-4614-9fb7-f9e23c9a3037",
   "metadata": {},
   "outputs": [],
   "source": []
  },
  {
   "cell_type": "code",
   "execution_count": null,
   "id": "b67939ba-216b-4e62-9fde-fbfced793a30",
   "metadata": {},
   "outputs": [],
   "source": []
  },
  {
   "cell_type": "markdown",
   "id": "c36a00c9-54dd-4666-b109-6cc3d1694763",
   "metadata": {},
   "source": [
    "## **Array Indices**"
   ]
  },
  {
   "cell_type": "code",
   "execution_count": 107,
   "id": "e999f969-9fce-45bb-95cb-33fe65a4e2a1",
   "metadata": {},
   "outputs": [],
   "source": [
    "let colors = ['red','orange','yellow','green'];"
   ]
  },
  {
   "cell_type": "code",
   "execution_count": 108,
   "id": "f009f1fe-8e95-42a3-a1ab-3a248d895e25",
   "metadata": {},
   "outputs": [],
   "source": [
    "// to get the length of the array, we use array.length"
   ]
  },
  {
   "cell_type": "code",
   "execution_count": 109,
   "id": "25b24a01-004e-4f0a-855a-b9ff2dce567f",
   "metadata": {},
   "outputs": [
    {
     "data": {
      "text/plain": [
       "4"
      ]
     },
     "execution_count": 109,
     "metadata": {},
     "output_type": "execute_result"
    }
   ],
   "source": [
    "colors.length"
   ]
  },
  {
   "cell_type": "code",
   "execution_count": null,
   "id": "080a5be8-fc65-4d89-814f-8ca8e8aecf92",
   "metadata": {},
   "outputs": [],
   "source": []
  },
  {
   "cell_type": "code",
   "execution_count": 110,
   "id": "a21a79c2-7467-4792-bc46-f2c3ce1dc3a3",
   "metadata": {},
   "outputs": [
    {
     "name": "stdout",
     "output_type": "stream",
     "text": [
      "red\n",
      "orange\n",
      "yellow\n",
      "green\n",
      "undefined\n"
     ]
    }
   ],
   "source": [
    "console.log(colors[0])\n",
    "console.log(colors[1])\n",
    "console.log(colors[2])\n",
    "console.log(colors[3])\n",
    "console.log(colors[4]) // will bring undefined since the index does not exist in the array"
   ]
  },
  {
   "cell_type": "code",
   "execution_count": null,
   "id": "21d516ae-86c1-4157-bb26-c7ab2dbdd34d",
   "metadata": {},
   "outputs": [],
   "source": []
  },
  {
   "cell_type": "markdown",
   "id": "54718728-04f2-4352-8c67-84e0a3eac78d",
   "metadata": {},
   "source": [
    "## **Modifying Arrays**"
   ]
  },
  {
   "cell_type": "code",
   "execution_count": 111,
   "id": "83b20e21-2c94-4b8c-8318-e12f87a269cb",
   "metadata": {},
   "outputs": [
    {
     "data": {
      "text/plain": [
       "'Blue'"
      ]
     },
     "execution_count": 111,
     "metadata": {},
     "output_type": "execute_result"
    }
   ],
   "source": [
    "colors[2] = 'Blue';"
   ]
  },
  {
   "cell_type": "code",
   "execution_count": 112,
   "id": "b911a79d-42fa-434c-b755-21cb84eff4cf",
   "metadata": {},
   "outputs": [
    {
     "data": {
      "text/plain": [
       "'Indigo'"
      ]
     },
     "execution_count": 112,
     "metadata": {},
     "output_type": "execute_result"
    }
   ],
   "source": [
    "colors[4] = 'Indigo';"
   ]
  },
  {
   "cell_type": "code",
   "execution_count": 113,
   "id": "49f55841-db44-484a-9507-7e781fb7a8fb",
   "metadata": {},
   "outputs": [
    {
     "data": {
      "text/plain": [
       "[ 'red', 'orange', 'Blue', 'green', 'Indigo' ]"
      ]
     },
     "execution_count": 113,
     "metadata": {},
     "output_type": "execute_result"
    }
   ],
   "source": [
    "colors"
   ]
  },
  {
   "cell_type": "code",
   "execution_count": 114,
   "id": "232fe346-10da-4fbc-9be1-756fb299f8cd",
   "metadata": {},
   "outputs": [],
   "source": [
    "// now the color array now changed"
   ]
  },
  {
   "cell_type": "code",
   "execution_count": null,
   "id": "5f012f2e-5758-49ee-b466-70839394c26f",
   "metadata": {},
   "outputs": [],
   "source": []
  },
  {
   "cell_type": "markdown",
   "id": "c81ef3c7-aa59-4aca-8563-056b1d0ec478",
   "metadata": {},
   "source": [
    "## **Array Methods**\n",
    "Some of the array methods\n",
    "* Push    - adds to the end\n",
    "* Pop     - Removes from end\n",
    "* Shift   - Removes from start\n",
    "* Unshift - Adds to start"
   ]
  },
  {
   "cell_type": "code",
   "execution_count": 115,
   "id": "5e5976bb-3ec3-447a-b326-13652f1f84e9",
   "metadata": {},
   "outputs": [],
   "source": [
    "let topSongs = [\n",
    "    \"Love The Way You Lie\",\n",
    "    \"I'm Your Psycho\",\n",
    "    \"10:35\",\n",
    "    \"Beutiful Day\",\n",
    "    \"When I'm Gone\"\n",
    "];"
   ]
  },
  {
   "cell_type": "code",
   "execution_count": 116,
   "id": "0457a66c-bae8-4461-bc85-a4e40f6c5f6f",
   "metadata": {},
   "outputs": [
    {
     "data": {
      "text/plain": [
       "[\n",
       "  'Love The Way You Lie',\n",
       "  \"I'm Your Psycho\",\n",
       "  '10:35',\n",
       "  'Beutiful Day',\n",
       "  \"When I'm Gone\"\n",
       "]"
      ]
     },
     "execution_count": 116,
     "metadata": {},
     "output_type": "execute_result"
    }
   ],
   "source": [
    "topSongs"
   ]
  },
  {
   "cell_type": "markdown",
   "id": "a35e10d6-0d2f-49cf-9f96-1bb1b5fb5291",
   "metadata": {},
   "source": [
    "### Push"
   ]
  },
  {
   "cell_type": "code",
   "execution_count": 117,
   "id": "2671cfb6-dc67-4725-9247-8cad111a32e8",
   "metadata": {},
   "outputs": [
    {
     "data": {
      "text/plain": [
       "6"
      ]
     },
     "execution_count": 117,
     "metadata": {},
     "output_type": "execute_result"
    }
   ],
   "source": [
    "// i want to add something to the end.\n",
    "topSongs.push(\"Stand Up\");"
   ]
  },
  {
   "cell_type": "code",
   "execution_count": 118,
   "id": "ff2e6d94-151f-4fcf-9536-562eee9b16df",
   "metadata": {},
   "outputs": [],
   "source": [
    "topSongs[topSongs.push(\"Could have been me\")]"
   ]
  },
  {
   "cell_type": "code",
   "execution_count": 119,
   "id": "df593296-30b8-421f-bd03-e1653bf6b9da",
   "metadata": {},
   "outputs": [
    {
     "data": {
      "text/plain": [
       "[\n",
       "  'Love The Way You Lie',\n",
       "  \"I'm Your Psycho\",\n",
       "  '10:35',\n",
       "  'Beutiful Day',\n",
       "  \"When I'm Gone\",\n",
       "  'Stand Up',\n",
       "  'Could have been me'\n",
       "]"
      ]
     },
     "execution_count": 119,
     "metadata": {},
     "output_type": "execute_result"
    }
   ],
   "source": [
    "topSongs"
   ]
  },
  {
   "cell_type": "code",
   "execution_count": null,
   "id": "88e08936-4210-4d7c-882a-b0af6dac18a0",
   "metadata": {},
   "outputs": [],
   "source": []
  },
  {
   "cell_type": "markdown",
   "id": "f815b1c9-c1fe-42e9-8a61-84b34b9096ff",
   "metadata": {},
   "source": [
    "### pop"
   ]
  },
  {
   "cell_type": "code",
   "execution_count": 120,
   "id": "aa5880ed-73b1-4b67-b04b-5b7b29e80938",
   "metadata": {},
   "outputs": [
    {
     "data": {
      "text/plain": [
       "8"
      ]
     },
     "execution_count": 120,
     "metadata": {},
     "output_type": "execute_result"
    }
   ],
   "source": [
    "// consider me adding a dummy value to my list\n",
    "topSongs.push(\"Dummy Song\");"
   ]
  },
  {
   "cell_type": "code",
   "execution_count": 121,
   "id": "d0bcac4f-0d89-4e4b-a19f-b2aafcfcbbbf",
   "metadata": {},
   "outputs": [
    {
     "data": {
      "text/plain": [
       "[\n",
       "  'Love The Way You Lie',\n",
       "  \"I'm Your Psycho\",\n",
       "  '10:35',\n",
       "  'Beutiful Day',\n",
       "  \"When I'm Gone\",\n",
       "  'Stand Up',\n",
       "  'Could have been me',\n",
       "  'Dummy Song'\n",
       "]"
      ]
     },
     "execution_count": 121,
     "metadata": {},
     "output_type": "execute_result"
    }
   ],
   "source": [
    "topSongs"
   ]
  },
  {
   "cell_type": "code",
   "execution_count": 122,
   "id": "e11e3906-a2b9-4971-bb0b-1d4deae58af6",
   "metadata": {},
   "outputs": [],
   "source": [
    "// now let's pop the value. Mind you, the popped value is always returned, so it can be stored to a variable"
   ]
  },
  {
   "cell_type": "code",
   "execution_count": 123,
   "id": "899d2014-3481-4079-9815-cccf569210f7",
   "metadata": {},
   "outputs": [
    {
     "data": {
      "text/plain": [
       "'Dummy Song'"
      ]
     },
     "execution_count": 123,
     "metadata": {},
     "output_type": "execute_result"
    }
   ],
   "source": [
    "topSongs.pop();"
   ]
  },
  {
   "cell_type": "code",
   "execution_count": 124,
   "id": "e4fe1ae2-eda4-4eb5-9575-5a930e33329f",
   "metadata": {},
   "outputs": [],
   "source": [
    "let lastSong = topSongs.pop(); // popped the last song, and stored in lastSong variable"
   ]
  },
  {
   "cell_type": "code",
   "execution_count": 125,
   "id": "539ff2c0-2084-4d9f-a6f1-3c4e636d1eeb",
   "metadata": {},
   "outputs": [
    {
     "data": {
      "text/plain": [
       "'Could have been me'"
      ]
     },
     "execution_count": 125,
     "metadata": {},
     "output_type": "execute_result"
    }
   ],
   "source": [
    "lastSong"
   ]
  },
  {
   "cell_type": "code",
   "execution_count": null,
   "id": "5300d3b0-6095-4303-b537-8550cab9eeac",
   "metadata": {},
   "outputs": [],
   "source": []
  },
  {
   "cell_type": "markdown",
   "id": "8544b925-b37b-4cfa-b030-61fbbb26d8a8",
   "metadata": {},
   "source": [
    "### unshift"
   ]
  },
  {
   "cell_type": "code",
   "execution_count": 126,
   "id": "6cd599a2-3ef7-4b6b-8df2-3528daa3e2bf",
   "metadata": {},
   "outputs": [],
   "source": [
    "let dishesToDo = ['Spoons']"
   ]
  },
  {
   "cell_type": "code",
   "execution_count": 127,
   "id": "1cdbb274-d979-487b-a52b-5be1616a4d7d",
   "metadata": {},
   "outputs": [
    {
     "data": {
      "text/plain": [
       "2"
      ]
     },
     "execution_count": 127,
     "metadata": {},
     "output_type": "execute_result"
    }
   ],
   "source": [
    "dishesToDo.unshift('Large Plate');"
   ]
  },
  {
   "cell_type": "code",
   "execution_count": 128,
   "id": "053e797c-e93f-4bb5-8941-ce84989d334e",
   "metadata": {},
   "outputs": [
    {
     "data": {
      "text/plain": [
       "3"
      ]
     },
     "execution_count": 128,
     "metadata": {},
     "output_type": "execute_result"
    }
   ],
   "source": [
    "dishesToDo.unshift('Small Plate');"
   ]
  },
  {
   "cell_type": "code",
   "execution_count": 129,
   "id": "64bb6b8e-5487-483a-81c1-f08fb38f4fa3",
   "metadata": {},
   "outputs": [
    {
     "data": {
      "text/plain": [
       "4"
      ]
     },
     "execution_count": 129,
     "metadata": {},
     "output_type": "execute_result"
    }
   ],
   "source": [
    "dishesToDo.unshift('Bowl');"
   ]
  },
  {
   "cell_type": "code",
   "execution_count": 130,
   "id": "7dd9604c-fe8b-4f73-adfc-5fb0fa720659",
   "metadata": {},
   "outputs": [
    {
     "data": {
      "text/plain": [
       "5"
      ]
     },
     "execution_count": 130,
     "metadata": {},
     "output_type": "execute_result"
    }
   ],
   "source": [
    "dishesToDo.unshift('Mug')"
   ]
  },
  {
   "cell_type": "code",
   "execution_count": 131,
   "id": "a6845a04-769b-4ccc-a858-367aedfe8654",
   "metadata": {},
   "outputs": [
    {
     "data": {
      "text/plain": [
       "[ 'Mug', 'Bowl', 'Small Plate', 'Large Plate', 'Spoons' ]"
      ]
     },
     "execution_count": 131,
     "metadata": {},
     "output_type": "execute_result"
    }
   ],
   "source": [
    "dishesToDo"
   ]
  },
  {
   "cell_type": "code",
   "execution_count": 132,
   "id": "591d3b1b-7420-4ffe-ade0-e0b52cbea51f",
   "metadata": {},
   "outputs": [
    {
     "data": {
      "text/plain": [
       "8"
      ]
     },
     "execution_count": 132,
     "metadata": {},
     "output_type": "execute_result"
    }
   ],
   "source": [
    "dishesToDo.unshift(\"Fork\",'Knife','Frying Pan')"
   ]
  },
  {
   "cell_type": "code",
   "execution_count": 133,
   "id": "fd65aa15-5102-4856-8908-382e34c6c20b",
   "metadata": {},
   "outputs": [
    {
     "data": {
      "text/plain": [
       "[\n",
       "  'Fork',\n",
       "  'Knife',\n",
       "  'Frying Pan',\n",
       "  'Mug',\n",
       "  'Bowl',\n",
       "  'Small Plate',\n",
       "  'Large Plate',\n",
       "  'Spoons'\n",
       "]"
      ]
     },
     "execution_count": 133,
     "metadata": {},
     "output_type": "execute_result"
    }
   ],
   "source": [
    "dishesToDo"
   ]
  },
  {
   "cell_type": "markdown",
   "id": "513206fc-21c0-497d-bf42-7902890a5938",
   "metadata": {},
   "source": [
    "### Shift"
   ]
  },
  {
   "cell_type": "code",
   "execution_count": 134,
   "id": "dfef740b-2670-48f9-98d0-b092be9f92b4",
   "metadata": {},
   "outputs": [],
   "source": [
    "// let's use shift"
   ]
  },
  {
   "cell_type": "code",
   "execution_count": 135,
   "id": "1a9c226a-249c-4e31-8959-f91ee86383bd",
   "metadata": {},
   "outputs": [
    {
     "data": {
      "text/plain": [
       "'Fork'"
      ]
     },
     "execution_count": 135,
     "metadata": {},
     "output_type": "execute_result"
    }
   ],
   "source": [
    "dishesToDo.shift()"
   ]
  },
  {
   "cell_type": "code",
   "execution_count": 136,
   "id": "b78b59a3-6531-4693-ab20-3a1b94eeaa1f",
   "metadata": {},
   "outputs": [
    {
     "data": {
      "text/plain": [
       "'Knife'"
      ]
     },
     "execution_count": 136,
     "metadata": {},
     "output_type": "execute_result"
    }
   ],
   "source": [
    "dishesToDo.shift();"
   ]
  },
  {
   "cell_type": "code",
   "execution_count": 137,
   "id": "76bf6240-3618-4be7-a57d-988c97c33a02",
   "metadata": {},
   "outputs": [
    {
     "data": {
      "text/plain": [
       "'Frying Pan'"
      ]
     },
     "execution_count": 137,
     "metadata": {},
     "output_type": "execute_result"
    }
   ],
   "source": [
    "dishesToDo.shift();"
   ]
  },
  {
   "cell_type": "code",
   "execution_count": null,
   "id": "d5a60311-fefe-4341-a5d2-3685a9b0ed81",
   "metadata": {},
   "outputs": [],
   "source": []
  },
  {
   "cell_type": "markdown",
   "id": "d600313d-40b1-4fac-81de-40e5ebbe0a2f",
   "metadata": {},
   "source": [
    "### Concat"
   ]
  },
  {
   "cell_type": "code",
   "execution_count": 138,
   "id": "6cca97fe-ba6b-4da9-a192-03277b0e44e9",
   "metadata": {},
   "outputs": [],
   "source": [
    "// adds or merge two or more arrays"
   ]
  },
  {
   "cell_type": "code",
   "execution_count": 139,
   "id": "ee518485-3533-41f0-846d-55324e1b4d2f",
   "metadata": {},
   "outputs": [],
   "source": [
    "let array1 = ['a','b','c','d'];\n",
    "let array2 = ['e','f','g','h'];"
   ]
  },
  {
   "cell_type": "code",
   "execution_count": 140,
   "id": "ccf6ebd6-e337-44bc-b656-2f25a3c396ce",
   "metadata": {},
   "outputs": [
    {
     "data": {
      "text/plain": [
       "[\n",
       "  'a', 'b', 'c',\n",
       "  'd', 'e', 'f',\n",
       "  'g', 'h'\n",
       "]"
      ]
     },
     "execution_count": 140,
     "metadata": {},
     "output_type": "execute_result"
    }
   ],
   "source": [
    "array1.concat(array2) // added the two arrays"
   ]
  },
  {
   "cell_type": "code",
   "execution_count": 141,
   "id": "8e3a408e-89e2-42d8-bdad-7e8ebde58d66",
   "metadata": {},
   "outputs": [],
   "source": [
    "let fruits = ['apple','banana'];\n",
    "let veggies = ['asparagus','brussel sprouts']"
   ]
  },
  {
   "cell_type": "code",
   "execution_count": 142,
   "id": "0735a3bf-bd48-4edc-8da9-8856c005c9ec",
   "metadata": {},
   "outputs": [
    {
     "data": {
      "text/plain": [
       "[ 'apple', 'banana', 'asparagus', 'brussel sprouts' ]"
      ]
     },
     "execution_count": 142,
     "metadata": {},
     "output_type": "execute_result"
    }
   ],
   "source": [
    "fruits.concat(veggies);"
   ]
  },
  {
   "cell_type": "code",
   "execution_count": 143,
   "id": "92d132d3-a4cd-41d2-8d8a-5cd44f0f4be4",
   "metadata": {},
   "outputs": [
    {
     "data": {
      "text/plain": [
       "[ 'asparagus', 'brussel sprouts', 'apple', 'banana' ]"
      ]
     },
     "execution_count": 143,
     "metadata": {},
     "output_type": "execute_result"
    }
   ],
   "source": [
    "veggies.concat(fruits)"
   ]
  },
  {
   "cell_type": "code",
   "execution_count": 144,
   "id": "45175101-aa84-4d5d-b32a-e8685c77056b",
   "metadata": {},
   "outputs": [],
   "source": [
    "// we can concat more than one array"
   ]
  },
  {
   "cell_type": "code",
   "execution_count": 145,
   "id": "d0ecc2d8-3a12-4f5b-8eaa-b5ad94a05dcc",
   "metadata": {},
   "outputs": [],
   "source": [
    "let meats = ['Steak','Chicken Breast','T-Bone']"
   ]
  },
  {
   "cell_type": "code",
   "execution_count": 146,
   "id": "8c3c0141-bd20-426f-9605-0fbc56488b59",
   "metadata": {},
   "outputs": [
    {
     "data": {
      "text/plain": [
       "[\n",
       "  'apple',\n",
       "  'banana',\n",
       "  'asparagus',\n",
       "  'brussel sprouts',\n",
       "  'Steak',\n",
       "  'Chicken Breast',\n",
       "  'T-Bone'\n",
       "]"
      ]
     },
     "execution_count": 146,
     "metadata": {},
     "output_type": "execute_result"
    }
   ],
   "source": [
    "fruits.concat(veggies,meats)"
   ]
  },
  {
   "cell_type": "code",
   "execution_count": null,
   "id": "f0fa946f-eeae-434b-8b59-421f0ebefc3d",
   "metadata": {},
   "outputs": [],
   "source": []
  },
  {
   "cell_type": "markdown",
   "id": "61dc9972-7949-4e76-99fc-554724081829",
   "metadata": {},
   "source": [
    "## More Methods\n",
    "* includes - Merge Arrays\n",
    "* indexOf  - just like str.indexOf\n",
    "* join - creates a string from arr\n",
    "* reverse - Reverses an array\n",
    "* slice - copy portion of an array\n",
    "* Splice - remove/replace elements\n",
    "* sort - sorts an array\n"
   ]
  },
  {
   "cell_type": "code",
   "execution_count": null,
   "id": "bfafc688-248d-42e7-b574-763edbe8b59e",
   "metadata": {},
   "outputs": [],
   "source": []
  },
  {
   "cell_type": "markdown",
   "id": "40ce7f52-0fda-4681-99ac-d1c3e8815540",
   "metadata": {},
   "source": [
    "### Includes"
   ]
  },
  {
   "cell_type": "code",
   "execution_count": 147,
   "id": "4291c322-117c-4185-8fbd-8ccda4d64c54",
   "metadata": {},
   "outputs": [],
   "source": [
    "// It returns true or false based on if the array has the value or not"
   ]
  },
  {
   "cell_type": "code",
   "execution_count": 148,
   "id": "238bc67c-0ac3-4049-baae-68a6568aca04",
   "metadata": {},
   "outputs": [],
   "source": [
    "let ingredients = [\n",
    "    'Water',\n",
    "    'Corn Starch',\n",
    "    'Flour',\n",
    "    'Cheese',\n",
    "    'Brown Sugar',\n",
    "    'Shrimp',\n",
    "    'eel',\n",
    "    'Butter'\n",
    "]"
   ]
  },
  {
   "cell_type": "code",
   "execution_count": 149,
   "id": "a3a77135-e8a3-4e21-82c9-c668bd8678e2",
   "metadata": {},
   "outputs": [
    {
     "data": {
      "text/plain": [
       "true"
      ]
     },
     "execution_count": 149,
     "metadata": {},
     "output_type": "execute_result"
    }
   ],
   "source": [
    "ingredients.includes('Water')"
   ]
  },
  {
   "cell_type": "code",
   "execution_count": 150,
   "id": "e4f4346d-51c9-4e82-9051-d01729ad4ce0",
   "metadata": {},
   "outputs": [
    {
     "data": {
      "text/plain": [
       "false"
      ]
     },
     "execution_count": 150,
     "metadata": {},
     "output_type": "execute_result"
    }
   ],
   "source": [
    "ingredients.includes('Fish')"
   ]
  },
  {
   "cell_type": "code",
   "execution_count": 151,
   "id": "289c7e42-beac-4341-afeb-6634830cacf0",
   "metadata": {},
   "outputs": [
    {
     "data": {
      "text/plain": [
       "false"
      ]
     },
     "execution_count": 151,
     "metadata": {},
     "output_type": "execute_result"
    }
   ],
   "source": [
    "ingredients.includes('Corn');"
   ]
  },
  {
   "cell_type": "code",
   "execution_count": 152,
   "id": "a8bf02a1-a3ba-4f7f-9613-b6b3230f95af",
   "metadata": {},
   "outputs": [
    {
     "data": {
      "text/plain": [
       "true"
      ]
     },
     "execution_count": 152,
     "metadata": {},
     "output_type": "execute_result"
    }
   ],
   "source": [
    "ingredients.includes('Corn Starch')"
   ]
  },
  {
   "cell_type": "code",
   "execution_count": 153,
   "id": "c0d4c508-ef01-4c5b-861a-ed8e319810f4",
   "metadata": {},
   "outputs": [],
   "source": [
    "// we can also add an optional parameter that represents the start index"
   ]
  },
  {
   "cell_type": "code",
   "execution_count": 154,
   "id": "04f00399-6d09-45b3-b22e-57d2f7bd88c3",
   "metadata": {},
   "outputs": [
    {
     "data": {
      "text/plain": [
       "false"
      ]
     },
     "execution_count": 154,
     "metadata": {},
     "output_type": "execute_result"
    }
   ],
   "source": [
    "ingredients.includes('Water',3)"
   ]
  },
  {
   "cell_type": "code",
   "execution_count": 155,
   "id": "1f540a8e-6c1e-4bed-8bc1-c58bf404343a",
   "metadata": {},
   "outputs": [
    {
     "data": {
      "text/plain": [
       "true"
      ]
     },
     "execution_count": 155,
     "metadata": {},
     "output_type": "execute_result"
    }
   ],
   "source": [
    "ingredients.includes('Water',0)"
   ]
  },
  {
   "cell_type": "code",
   "execution_count": null,
   "id": "352f8282-2a0c-4c69-a31d-b79e5cc899b1",
   "metadata": {},
   "outputs": [],
   "source": []
  },
  {
   "cell_type": "markdown",
   "id": "506e6aac-05aa-4e74-a48f-11b6e50ce970",
   "metadata": {},
   "source": [
    "### indexOf"
   ]
  },
  {
   "cell_type": "code",
   "execution_count": 156,
   "id": "9f02a450-7685-4c55-809b-84b7f0a6b1a3",
   "metadata": {},
   "outputs": [],
   "source": [
    "// werks just like in string"
   ]
  },
  {
   "cell_type": "code",
   "execution_count": 157,
   "id": "e74d902e-909d-4076-9cb3-bcf2ecad5525",
   "metadata": {},
   "outputs": [
    {
     "data": {
      "text/plain": [
       "-1"
      ]
     },
     "execution_count": 157,
     "metadata": {},
     "output_type": "execute_result"
    }
   ],
   "source": [
    "ingredients.indexOf('cheese')"
   ]
  },
  {
   "cell_type": "code",
   "execution_count": 158,
   "id": "722d625c-95e5-489e-87c5-dc4be103255f",
   "metadata": {},
   "outputs": [
    {
     "data": {
      "text/plain": [
       "3"
      ]
     },
     "execution_count": 158,
     "metadata": {},
     "output_type": "execute_result"
    }
   ],
   "source": [
    "ingredients.indexOf('Cheese')"
   ]
  },
  {
   "cell_type": "code",
   "execution_count": null,
   "id": "cb2b669b-6b9a-4153-a4b3-0a8fc24e3801",
   "metadata": {},
   "outputs": [],
   "source": []
  },
  {
   "cell_type": "markdown",
   "id": "4dc804c5-b106-4bae-9ab2-4bb9c7ecd008",
   "metadata": {},
   "source": [
    "### Join & Reverse"
   ]
  },
  {
   "cell_type": "code",
   "execution_count": 159,
   "id": "46013f97-c43e-43d1-9162-f3e8d43b8b5a",
   "metadata": {},
   "outputs": [],
   "source": [
    "// Reverse\n",
    "\n",
    "let alphabets = ['a','b','c','d'];"
   ]
  },
  {
   "cell_type": "code",
   "execution_count": 160,
   "id": "259ce99b-117b-4ef3-9c6e-65c297904347",
   "metadata": {},
   "outputs": [
    {
     "data": {
      "text/plain": [
       "[ 'd', 'c', 'b', 'a' ]"
      ]
     },
     "execution_count": 160,
     "metadata": {},
     "output_type": "execute_result"
    }
   ],
   "source": [
    "alphabets.reverse()"
   ]
  },
  {
   "cell_type": "code",
   "execution_count": null,
   "id": "78729b8c-b7a3-401a-abb1-91d4bab2bf3a",
   "metadata": {},
   "outputs": [],
   "source": []
  },
  {
   "cell_type": "code",
   "execution_count": 161,
   "id": "26d3caf6-2137-40f1-b7be-8aaa0ec908a1",
   "metadata": {},
   "outputs": [],
   "source": [
    "// Join "
   ]
  },
  {
   "cell_type": "code",
   "execution_count": 162,
   "id": "83d0f856-1943-4891-ae04-68a96374ecd0",
   "metadata": {},
   "outputs": [],
   "source": [
    "let elements = ['Fire','Air','Water']"
   ]
  },
  {
   "cell_type": "code",
   "execution_count": 163,
   "id": "bb0151d0-a4a5-4cb6-85e2-a0d08fb1e4bb",
   "metadata": {},
   "outputs": [
    {
     "name": "stdout",
     "output_type": "stream",
     "text": [
      "Fire,Air,Water\n"
     ]
    }
   ],
   "source": [
    "console.log(elements.join())"
   ]
  },
  {
   "cell_type": "code",
   "execution_count": 164,
   "id": "a43cd551-b4c0-4151-a75e-e79e8477f591",
   "metadata": {},
   "outputs": [
    {
     "data": {
      "text/plain": [
       "'Fire Air Water'"
      ]
     },
     "execution_count": 164,
     "metadata": {},
     "output_type": "execute_result"
    }
   ],
   "source": [
    "elements.join(' ')"
   ]
  },
  {
   "cell_type": "code",
   "execution_count": 165,
   "id": "9a8b1149-bb5c-46d0-826f-99d16eb8e80c",
   "metadata": {},
   "outputs": [
    {
     "data": {
      "text/plain": [
       "'Fire | Air | Water'"
      ]
     },
     "execution_count": 165,
     "metadata": {},
     "output_type": "execute_result"
    }
   ],
   "source": [
    "elements.join(' | ')"
   ]
  },
  {
   "cell_type": "code",
   "execution_count": null,
   "id": "2d6b026c-751f-4d66-9744-b593edf744b9",
   "metadata": {},
   "outputs": [],
   "source": []
  },
  {
   "cell_type": "code",
   "execution_count": 166,
   "id": "16d63bc1-2b22-43a8-8bfb-becd823ef4dd",
   "metadata": {},
   "outputs": [],
   "source": [
    "// now here is a suprise"
   ]
  },
  {
   "cell_type": "code",
   "execution_count": 167,
   "id": "5fca37c9-1322-421d-9dd7-8ee459ee8bae",
   "metadata": {},
   "outputs": [],
   "source": [
    "let myRule  = ['👊','T','C','E','P','S','E','R'] "
   ]
  },
  {
   "cell_type": "code",
   "execution_count": 168,
   "id": "dc3b2416-fd6b-4c6c-8fd5-f5ce6c3172c5",
   "metadata": {},
   "outputs": [
    {
     "data": {
      "text/plain": [
       "'R.E.S.P.E.C.T.👊'"
      ]
     },
     "execution_count": 168,
     "metadata": {},
     "output_type": "execute_result"
    }
   ],
   "source": [
    "myRule.reverse().join('.')"
   ]
  },
  {
   "cell_type": "code",
   "execution_count": null,
   "id": "a107f4a6-b43d-4c76-b5d8-f7acd4967f1e",
   "metadata": {},
   "outputs": [],
   "source": []
  },
  {
   "cell_type": "code",
   "execution_count": null,
   "id": "dd69b080-fb53-48d6-87be-da2ba9f325d9",
   "metadata": {},
   "outputs": [],
   "source": []
  },
  {
   "cell_type": "markdown",
   "id": "08f26189-6ce1-4140-98c9-624ac35bc18e",
   "metadata": {},
   "source": [
    "### Splice"
   ]
  },
  {
   "cell_type": "markdown",
   "id": "91bf4508-3208-4e57-9446-82a23f103273",
   "metadata": {},
   "source": [
    "Method returns a shallow coppy of a portion of an array into a new array object."
   ]
  },
  {
   "cell_type": "code",
   "execution_count": 169,
   "id": "1f085fee-f112-4472-98a0-391788d339b7",
   "metadata": {
    "tags": []
   },
   "outputs": [],
   "source": [
    "// let's create a sample animal array"
   ]
  },
  {
   "cell_type": "code",
   "execution_count": 170,
   "id": "6ac043cd-b7b9-4fcf-a5d8-2b03c8d4638b",
   "metadata": {},
   "outputs": [],
   "source": [
    "let animals = ['Sharks','Salmon','Whale','Bear','Lizard','Tortoise']"
   ]
  },
  {
   "cell_type": "code",
   "execution_count": 171,
   "id": "c2cb83b9-b42f-4815-8687-1b429f189c7b",
   "metadata": {},
   "outputs": [
    {
     "data": {
      "text/plain": [
       "[ 'Sharks', 'Salmon', 'Whale', 'Bear', 'Lizard', 'Tortoise' ]"
      ]
     },
     "execution_count": 171,
     "metadata": {},
     "output_type": "execute_result"
    }
   ],
   "source": [
    "animals"
   ]
  },
  {
   "cell_type": "code",
   "execution_count": 172,
   "id": "fcecf03d-4f3a-4e46-a2b5-3be7547366f4",
   "metadata": {},
   "outputs": [],
   "source": [
    "// the first 3 animals are swimmers\n",
    "let swimmers = animals.splice(0,3)"
   ]
  },
  {
   "cell_type": "code",
   "execution_count": 173,
   "id": "cec968b4-ad59-4e4c-b8bb-b8f8f9dbcfb3",
   "metadata": {},
   "outputs": [
    {
     "data": {
      "text/plain": [
       "[ 'Sharks', 'Salmon', 'Whale' ]"
      ]
     },
     "execution_count": 173,
     "metadata": {},
     "output_type": "execute_result"
    }
   ],
   "source": [
    "swimmers"
   ]
  },
  {
   "cell_type": "code",
   "execution_count": 174,
   "id": "a1cd3f9a-08e9-4142-95ba-2994270dd078",
   "metadata": {},
   "outputs": [
    {
     "data": {
      "text/plain": [
       "[ 'Bear', 'Lizard', 'Tortoise' ]"
      ]
     },
     "execution_count": 174,
     "metadata": {},
     "output_type": "execute_result"
    }
   ],
   "source": [
    "animals"
   ]
  },
  {
   "cell_type": "code",
   "execution_count": null,
   "id": "dd5cb9cf-7f7e-42c7-8754-1d09d2a28bb8",
   "metadata": {},
   "outputs": [],
   "source": []
  },
  {
   "cell_type": "code",
   "execution_count": null,
   "id": "904f4384-eb9f-4242-aec0-7dd2aa2732ff",
   "metadata": {},
   "outputs": [],
   "source": []
  },
  {
   "cell_type": "markdown",
   "id": "fe44c72e-31b2-4f78-b54a-404b87540061",
   "metadata": {},
   "source": [
    "### Slice"
   ]
  },
  {
   "cell_type": "code",
   "execution_count": 175,
   "id": "adc6a7f4-9ddb-4dc9-973e-2ec0320054fd",
   "metadata": {},
   "outputs": [
    {
     "data": {
      "text/plain": [
       "[ 'Sharks', 'Salmon', 'Whale', 'Bear', 'Lizard', 'Tortoise' ]"
      ]
     },
     "execution_count": 175,
     "metadata": {},
     "output_type": "execute_result"
    }
   ],
   "source": [
    "animals = ['Sharks','Salmon','Whale','Bear','Lizard','Tortoise']"
   ]
  },
  {
   "cell_type": "code",
   "execution_count": 176,
   "id": "51c67f42-4f5e-49e7-8a32-901fecdc04e3",
   "metadata": {},
   "outputs": [
    {
     "data": {
      "text/plain": [
       "[ 'Sharks', 'Salmon', 'Whale' ]"
      ]
     },
     "execution_count": 176,
     "metadata": {},
     "output_type": "execute_result"
    }
   ],
   "source": [
    "animals.slice(0,3)"
   ]
  },
  {
   "cell_type": "code",
   "execution_count": 177,
   "id": "316a2b83-7931-4d2f-b53c-b742e202de48",
   "metadata": {},
   "outputs": [
    {
     "data": {
      "text/plain": [
       "[ 'Sharks', 'Salmon', 'Whale', 'Bear', 'Lizard', 'Tortoise' ]"
      ]
     },
     "execution_count": 177,
     "metadata": {},
     "output_type": "execute_result"
    }
   ],
   "source": [
    "animals"
   ]
  },
  {
   "cell_type": "code",
   "execution_count": 178,
   "id": "f99555a3-0ba5-4952-9693-634fb72b3088",
   "metadata": {},
   "outputs": [],
   "source": [
    "// The array remains safe even after it's sliced."
   ]
  },
  {
   "cell_type": "code",
   "execution_count": 179,
   "id": "57334c7e-c852-4904-9f80-e972c60e9038",
   "metadata": {},
   "outputs": [
    {
     "data": {
      "text/plain": [
       "[ 'Sharks', 'Salmon', 'Whale' ]"
      ]
     },
     "execution_count": 179,
     "metadata": {},
     "output_type": "execute_result"
    }
   ],
   "source": [
    "swimmers = animals.slice(0,3)"
   ]
  },
  {
   "cell_type": "code",
   "execution_count": 180,
   "id": "51ee2555-fd7c-45e7-9b1a-ec82ae88e3e6",
   "metadata": {},
   "outputs": [
    {
     "data": {
      "text/plain": [
       "[ 'Bear', 'Lizard', 'Tortoise' ]"
      ]
     },
     "execution_count": 180,
     "metadata": {},
     "output_type": "execute_result"
    }
   ],
   "source": [
    "reptiles = animals.slice(3)"
   ]
  },
  {
   "cell_type": "code",
   "execution_count": 181,
   "id": "b80c8ddd-71bf-4fe9-925b-58ea1f2cd78e",
   "metadata": {},
   "outputs": [],
   "source": [
    "// we can also do it going backwards"
   ]
  },
  {
   "cell_type": "code",
   "execution_count": 182,
   "id": "ee624a60-a897-4288-a51f-3fb9b4fffe4d",
   "metadata": {},
   "outputs": [
    {
     "data": {
      "text/plain": [
       "[ 'Bear', 'Lizard', 'Tortoise' ]"
      ]
     },
     "execution_count": 182,
     "metadata": {},
     "output_type": "execute_result"
    }
   ],
   "source": [
    "animals.slice(-3) // returns 3 elements from the end"
   ]
  },
  {
   "cell_type": "code",
   "execution_count": null,
   "id": "990ddc5e-e7ef-41e8-b864-c8e4c20aefd1",
   "metadata": {},
   "outputs": [],
   "source": [
    " "
   ]
  },
  {
   "cell_type": "code",
   "execution_count": null,
   "id": "c982c9e3-1a00-4a41-8691-3b1c249c3a70",
   "metadata": {},
   "outputs": [],
   "source": []
  },
  {
   "cell_type": "markdown",
   "id": "7e73ecfe-dbfd-40d8-92d5-b189efc737d2",
   "metadata": {},
   "source": [
    "### **Sorting Part 1**"
   ]
  },
  {
   "cell_type": "markdown",
   "id": "53eeedf3-f62a-4f6b-9dc4-9689b9e062e7",
   "metadata": {},
   "source": [
    "Sorts the elements of the array in place and returns the sorted array.The built in order is build upon converting the elements into strings"
   ]
  },
  {
   "cell_type": "code",
   "execution_count": 183,
   "id": "8167b283-b500-4e73-a2d8-258431b0cdd0",
   "metadata": {},
   "outputs": [],
   "source": [
    "let people = ['Mrs. Robinson','Angie','Jolene','Maggie May','Roxanne']"
   ]
  },
  {
   "cell_type": "code",
   "execution_count": 184,
   "id": "571a0318-99df-4fd4-a05f-6e45297ceb2b",
   "metadata": {},
   "outputs": [
    {
     "data": {
      "text/plain": [
       "[ 'Angie', 'Jolene', 'Maggie May', 'Mrs. Robinson', 'Roxanne' ]"
      ]
     },
     "execution_count": 184,
     "metadata": {},
     "output_type": "execute_result"
    }
   ],
   "source": [
    "people.sort();"
   ]
  },
  {
   "cell_type": "code",
   "execution_count": 185,
   "id": "56bb8497-367f-4c0c-b757-00c18adba50a",
   "metadata": {},
   "outputs": [
    {
     "data": {
      "text/plain": [
       "[ 'Angie', 'Jolene', 'Maggie May', 'Mrs. Robinson', 'Roxanne' ]"
      ]
     },
     "execution_count": 185,
     "metadata": {},
     "output_type": "execute_result"
    }
   ],
   "source": [
    "people // Return of the array"
   ]
  },
  {
   "cell_type": "code",
   "execution_count": 186,
   "id": "faecdaed-f8c6-4234-95b7-6d0067e17b93",
   "metadata": {},
   "outputs": [],
   "source": [
    "// Let's try on numbers"
   ]
  },
  {
   "cell_type": "code",
   "execution_count": 187,
   "id": "029fe82a-5f96-4ddb-afe1-ed866ca84c4e",
   "metadata": {},
   "outputs": [],
   "source": [
    "let nums = [ 34,10,10000,67,99];"
   ]
  },
  {
   "cell_type": "code",
   "execution_count": 188,
   "id": "4c7f3c68-e1fe-4984-8197-38fe1d6010d3",
   "metadata": {},
   "outputs": [
    {
     "data": {
      "text/plain": [
       "[ 10, 10000, 34, 67, 99 ]"
      ]
     },
     "execution_count": 188,
     "metadata": {},
     "output_type": "execute_result"
    }
   ],
   "source": [
    "nums.sort()"
   ]
  },
  {
   "cell_type": "code",
   "execution_count": 189,
   "id": "84560063-696c-4df9-862a-ea652b6b605d",
   "metadata": {},
   "outputs": [],
   "source": [
    "// --> not sorting based on numeric values. It checks the UTF code"
   ]
  },
  {
   "cell_type": "code",
   "execution_count": null,
   "id": "458e3feb-f828-44d3-9f1a-c30495e91a92",
   "metadata": {},
   "outputs": [],
   "source": []
  },
  {
   "cell_type": "code",
   "execution_count": null,
   "id": "7f6097a0-88b6-42cb-a8fd-396025c6654a",
   "metadata": {},
   "outputs": [],
   "source": []
  },
  {
   "cell_type": "markdown",
   "id": "ef92cfd3-2b83-4a8b-9236-3548a3ee2635",
   "metadata": {
    "tags": []
   },
   "source": [
    "## Understand Reference Types"
   ]
  },
  {
   "cell_type": "code",
   "execution_count": 190,
   "id": "c35fa397-87dc-4a53-96c1-b85d720cef03",
   "metadata": {},
   "outputs": [],
   "source": [
    "// consider \n",
    "let fruit = 'Orange';"
   ]
  },
  {
   "cell_type": "code",
   "execution_count": 191,
   "id": "7f5a0fdd-3d83-4a6a-ac5c-acdda46337a6",
   "metadata": {},
   "outputs": [],
   "source": [
    "let color = fruit; "
   ]
  },
  {
   "cell_type": "code",
   "execution_count": 192,
   "id": "159ee31a-abe5-489d-bb53-3227287bbd11",
   "metadata": {},
   "outputs": [
    {
     "data": {
      "text/plain": [
       "'Orange'"
      ]
     },
     "execution_count": 192,
     "metadata": {},
     "output_type": "execute_result"
    }
   ],
   "source": [
    "color"
   ]
  },
  {
   "cell_type": "code",
   "execution_count": 193,
   "id": "7c251a69-0d43-4aad-ab42-340c63590c0d",
   "metadata": {},
   "outputs": [
    {
     "data": {
      "text/plain": [
       "'Orange'"
      ]
     },
     "execution_count": 193,
     "metadata": {},
     "output_type": "execute_result"
    }
   ],
   "source": [
    "fruit"
   ]
  },
  {
   "cell_type": "code",
   "execution_count": null,
   "id": "214c3368-7303-44d5-836d-d5122b035c01",
   "metadata": {},
   "outputs": [],
   "source": [
    "// now let's try again"
   ]
  },
  {
   "cell_type": "code",
   "execution_count": 194,
   "id": "74cc340b-c872-4b94-af4b-177eff3b9167",
   "metadata": {},
   "outputs": [
    {
     "data": {
      "text/plain": [
       "'Watermelon'"
      ]
     },
     "execution_count": 194,
     "metadata": {},
     "output_type": "execute_result"
    }
   ],
   "source": [
    "fruit = 'Watermelon'"
   ]
  },
  {
   "cell_type": "code",
   "execution_count": 195,
   "id": "17ab1cc6-7574-4fb3-abfc-f402f36f8c29",
   "metadata": {},
   "outputs": [
    {
     "data": {
      "text/plain": [
       "'Orange'"
      ]
     },
     "execution_count": 195,
     "metadata": {},
     "output_type": "execute_result"
    }
   ],
   "source": [
    "color"
   ]
  },
  {
   "cell_type": "code",
   "execution_count": null,
   "id": "889999d3-a733-45c5-8111-ecff0c6ae86d",
   "metadata": {},
   "outputs": [],
   "source": []
  },
  {
   "cell_type": "code",
   "execution_count": 197,
   "id": "69d257d4-c7dd-45c8-bf7e-f319939298c9",
   "metadata": {},
   "outputs": [],
   "source": [
    "let numm = [5,6,7,8];"
   ]
  },
  {
   "cell_type": "code",
   "execution_count": 199,
   "id": "8836a480-d640-4b7a-ad18-af891324bc47",
   "metadata": {},
   "outputs": [],
   "source": [
    "let otherNums = numm;"
   ]
  },
  {
   "cell_type": "code",
   "execution_count": 200,
   "id": "ce89048d-53c7-43f8-a44d-b486a93dd311",
   "metadata": {},
   "outputs": [
    {
     "data": {
      "text/plain": [
       "[ 5, 6, 7, 8 ]"
      ]
     },
     "execution_count": 200,
     "metadata": {},
     "output_type": "execute_result"
    }
   ],
   "source": [
    "otherNums"
   ]
  },
  {
   "cell_type": "code",
   "execution_count": 201,
   "id": "63c66f8c-698f-447e-b26c-29fb4db42117",
   "metadata": {},
   "outputs": [
    {
     "data": {
      "text/plain": [
       "5"
      ]
     },
     "execution_count": 201,
     "metadata": {},
     "output_type": "execute_result"
    }
   ],
   "source": [
    "otherNums.push(9)"
   ]
  },
  {
   "cell_type": "code",
   "execution_count": 202,
   "id": "360c3845-68cc-4cd2-bbde-7234fd4f0348",
   "metadata": {},
   "outputs": [
    {
     "data": {
      "text/plain": [
       "[ 5, 6, 7, 8, 9 ]"
      ]
     },
     "execution_count": 202,
     "metadata": {},
     "output_type": "execute_result"
    }
   ],
   "source": [
    "otherNums"
   ]
  },
  {
   "cell_type": "code",
   "execution_count": 203,
   "id": "06aa7e45-52f8-4024-a25d-5b5b19e780cd",
   "metadata": {},
   "outputs": [],
   "source": [
    "// it changes the values, since they point to the same reference"
   ]
  },
  {
   "cell_type": "code",
   "execution_count": null,
   "id": "a0b96184-d745-47c6-8d83-052173504130",
   "metadata": {},
   "outputs": [],
   "source": []
  },
  {
   "cell_type": "code",
   "execution_count": null,
   "id": "96b551ff-c153-4096-a96d-4e46385d84f2",
   "metadata": {},
   "outputs": [],
   "source": []
  },
  {
   "cell_type": "code",
   "execution_count": null,
   "id": "a673bb5f-4e7d-4ac5-8c09-935962c14774",
   "metadata": {},
   "outputs": [],
   "source": []
  },
  {
   "cell_type": "markdown",
   "id": "b0788fa4-59c7-458e-9ef4-72dda3cec4c2",
   "metadata": {},
   "source": [
    "## CONST & ARRAYS"
   ]
  },
  {
   "cell_type": "markdown",
   "id": "66b39e6a-e757-4a3c-b5b5-81d9973ea2dd",
   "metadata": {},
   "source": [
    "**USING** const in the array, enables you to change the values, as log as the reference remains the same"
   ]
  },
  {
   "cell_type": "code",
   "execution_count": 204,
   "id": "8cba8cc2-c0a3-4cf1-aef5-9fcdf065b569",
   "metadata": {},
   "outputs": [],
   "source": [
    "const myEggs = ['Brown','Brown']"
   ]
  },
  {
   "cell_type": "code",
   "execution_count": 205,
   "id": "68b4eaf3-4995-4577-9ed3-1ae9ebb0d8dc",
   "metadata": {},
   "outputs": [
    {
     "data": {
      "text/plain": [
       "3"
      ]
     },
     "execution_count": 205,
     "metadata": {},
     "output_type": "execute_result"
    }
   ],
   "source": [
    "myEggs.push('Pink')"
   ]
  },
  {
   "cell_type": "code",
   "execution_count": 206,
   "id": "0bf3b8e5-2b8b-43bd-b5d1-88502a872512",
   "metadata": {},
   "outputs": [
    {
     "data": {
      "text/plain": [
       "'Blue'"
      ]
     },
     "execution_count": 206,
     "metadata": {},
     "output_type": "execute_result"
    }
   ],
   "source": [
    "myEggs[0] = 'Blue'"
   ]
  },
  {
   "cell_type": "code",
   "execution_count": 207,
   "id": "32dc7290-acbd-4616-a685-47eac219f57f",
   "metadata": {},
   "outputs": [
    {
     "data": {
      "text/plain": [
       "[ 'Blue', 'Brown', 'Pink' ]"
      ]
     },
     "execution_count": 207,
     "metadata": {},
     "output_type": "execute_result"
    }
   ],
   "source": [
    "myEggs"
   ]
  },
  {
   "cell_type": "code",
   "execution_count": 208,
   "id": "a03cb0b7-ca7e-4228-bcfc-0e71dd4ef36e",
   "metadata": {},
   "outputs": [],
   "source": [
    "// the problem arises when you try to completely change the array"
   ]
  },
  {
   "cell_type": "code",
   "execution_count": 210,
   "id": "26f55deb-57f4-4027-bf75-9db926c6d155",
   "metadata": {},
   "outputs": [
    {
     "ename": "TypeError",
     "evalue": "Assignment to constant variable.",
     "execution_count": 210,
     "output_type": "error",
     "traceback": [
      "evalmachine.<anonymous>:2",
      "myEggs = ['Red','Purple']",
      "       ^",
      "",
      "TypeError: Assignment to constant variable.",
      "    at evalmachine.<anonymous>:2:8",
      "    at Script.runInThisContext (node:vm:129:12)",
      "    at Object.runInThisContext (node:vm:307:38)",
      "    at run ([eval]:1020:15)",
      "    at onRunRequest ([eval]:864:18)",
      "    at onMessage ([eval]:828:13)",
      "    at process.emit (node:events:513:28)",
      "    at emit (node:internal/child_process:937:14)",
      "    at process.processTicksAndRejections (node:internal/process/task_queues:83:21)"
     ]
    }
   ],
   "source": [
    "// here is an example\n",
    "myEggs = ['Red','Purple']"
   ]
  },
  {
   "cell_type": "code",
   "execution_count": 211,
   "id": "a23d14ab-1482-476e-807b-06073a2d98fe",
   "metadata": {},
   "outputs": [],
   "source": [
    "// see, you're not allowed to create a new reference to the array"
   ]
  },
  {
   "cell_type": "code",
   "execution_count": null,
   "id": "59312ee6-e3d3-4c4e-b3c1-c720352c2262",
   "metadata": {},
   "outputs": [],
   "source": []
  },
  {
   "cell_type": "code",
   "execution_count": null,
   "id": "1cbd8ef0-7729-43a3-84e6-c6dd6ad7f5c2",
   "metadata": {},
   "outputs": [],
   "source": []
  },
  {
   "cell_type": "markdown",
   "id": "cfd448eb-5492-4848-9287-f71ee9570540",
   "metadata": {},
   "source": [
    "### Working with **Nested Arrays**"
   ]
  },
  {
   "cell_type": "code",
   "execution_count": null,
   "id": "4c33dffc-01de-4e2a-8c22-e8bb79f22d42",
   "metadata": {},
   "outputs": [],
   "source": [
    "// we can store arrays inside other arrays!"
   ]
  },
  {
   "cell_type": "code",
   "execution_count": 213,
   "id": "255188a0-3b7b-4305-93ce-d80872253823",
   "metadata": {},
   "outputs": [],
   "source": [
    "// now consider the arrau of colors\n",
    "const colorList = [\n",
    "    ['red','crimson'],\n",
    "    ['orange','dark orange'],\n",
    "    ['yellow','golden rod'],\n",
    "    ['green','olive'],\n",
    "    ['blue','navy blue'],\n",
    "    ['purple','orchid']\n",
    "]"
   ]
  },
  {
   "cell_type": "code",
   "execution_count": 214,
   "id": "a9c34eec-1a38-480d-b161-064363e2869d",
   "metadata": {},
   "outputs": [
    {
     "data": {
      "text/plain": [
       "[\n",
       "  [ 'red', 'crimson' ],\n",
       "  [ 'orange', 'dark orange' ],\n",
       "  [ 'yellow', 'golden rod' ],\n",
       "  [ 'green', 'olive' ],\n",
       "  [ 'blue', 'navy blue' ],\n",
       "  [ 'purple', 'orchid' ]\n",
       "]"
      ]
     },
     "execution_count": 214,
     "metadata": {},
     "output_type": "execute_result"
    }
   ],
   "source": [
    "colorList"
   ]
  },
  {
   "cell_type": "code",
   "execution_count": 215,
   "id": "497bd90d-5c33-4f03-8c9b-eb3608979ac9",
   "metadata": {},
   "outputs": [],
   "source": [
    "// let's try to sort it"
   ]
  },
  {
   "cell_type": "code",
   "execution_count": 216,
   "id": "358370a0-2018-4386-98d0-3ad2f5418e56",
   "metadata": {},
   "outputs": [
    {
     "data": {
      "text/plain": [
       "[\n",
       "  [ 'blue', 'navy blue' ],\n",
       "  [ 'green', 'olive' ],\n",
       "  [ 'orange', 'dark orange' ],\n",
       "  [ 'purple', 'orchid' ],\n",
       "  [ 'red', 'crimson' ],\n",
       "  [ 'yellow', 'golden rod' ]\n",
       "]"
      ]
     },
     "execution_count": 216,
     "metadata": {},
     "output_type": "execute_result"
    }
   ],
   "source": [
    "colorList.sort();"
   ]
  },
  {
   "cell_type": "code",
   "execution_count": 217,
   "id": "a22f3168-e41e-4748-a2ce-d990cb50a881",
   "metadata": {},
   "outputs": [
    {
     "data": {
      "text/plain": [
       "'yellow'"
      ]
     },
     "execution_count": 217,
     "metadata": {},
     "output_type": "execute_result"
    }
   ],
   "source": [
    "// now, let's try to extract some data\n",
    "// let's get yellow.\n",
    "colorList[5][0]"
   ]
  },
  {
   "cell_type": "code",
   "execution_count": 218,
   "id": "fc8cc38f-b4c8-4a86-99e3-381652d9ecf0",
   "metadata": {},
   "outputs": [
    {
     "data": {
      "text/plain": [
       "'orchid'"
      ]
     },
     "execution_count": 218,
     "metadata": {},
     "output_type": "execute_result"
    }
   ],
   "source": [
    "// let's get orchid\n",
    "colorList[3][1]"
   ]
  },
  {
   "cell_type": "code",
   "execution_count": 220,
   "id": "38d3b4e5-536b-40fb-8023-8c6cf4b96ce9",
   "metadata": {},
   "outputs": [
    {
     "data": {
      "text/plain": [
       "'indigo'"
      ]
     },
     "execution_count": 220,
     "metadata": {},
     "output_type": "execute_result"
    }
   ],
   "source": [
    "// let's change Blue in indigo\n",
    "colorList[0][0] = 'indigo';"
   ]
  },
  {
   "cell_type": "code",
   "execution_count": 221,
   "id": "20390261-487a-4d33-84d1-277564ad9190",
   "metadata": {},
   "outputs": [
    {
     "data": {
      "text/plain": [
       "[\n",
       "  [ 'indigo', 'navy blue' ],\n",
       "  [ 'green', 'olive' ],\n",
       "  [ 'orange', 'dark orange' ],\n",
       "  [ 'purple', 'orchid' ],\n",
       "  [ 'red', 'crimson' ],\n",
       "  [ 'yellow', 'golden rod' ]\n",
       "]"
      ]
     },
     "execution_count": 221,
     "metadata": {},
     "output_type": "execute_result"
    }
   ],
   "source": [
    "colorList"
   ]
  },
  {
   "cell_type": "code",
   "execution_count": null,
   "id": "0c47626a-92dd-4a1e-a2c6-1b132d40661b",
   "metadata": {},
   "outputs": [],
   "source": []
  },
  {
   "cell_type": "code",
   "execution_count": 222,
   "id": "e7787b58-5f4a-4b19-85ed-8c2538fabac7",
   "metadata": {},
   "outputs": [],
   "source": [
    "// Example of Nested array\n",
    "// TicTacToe\n",
    "\n",
    "const board = [\n",
    "    ['O',null,'X'],\n",
    "    [null,'X','O'],\n",
    "    ['X','O',null]\n",
    "]"
   ]
  },
  {
   "cell_type": "code",
   "execution_count": 223,
   "id": "6b7641ea-3e1f-47eb-8e27-ae4aa08482ad",
   "metadata": {},
   "outputs": [
    {
     "data": {
      "text/plain": [
       "[ [ 'O', null, 'X' ], [ null, 'X', 'O' ], [ 'X', 'O', null ] ]"
      ]
     },
     "execution_count": 223,
     "metadata": {},
     "output_type": "execute_result"
    }
   ],
   "source": [
    "board"
   ]
  },
  {
   "cell_type": "code",
   "execution_count": null,
   "id": "4660ea52-3139-4520-abe0-cf21491bb081",
   "metadata": {},
   "outputs": [],
   "source": []
  }
 ],
 "metadata": {
  "kernelspec": {
   "display_name": "JavaScript (Node.js)",
   "language": "javascript",
   "name": "javascript"
  },
  "language_info": {
   "file_extension": ".js",
   "mimetype": "application/javascript",
   "name": "javascript",
   "version": "18.15.0"
  }
 },
 "nbformat": 4,
 "nbformat_minor": 5
}
