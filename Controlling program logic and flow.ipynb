{
 "cells": [
  {
   "cell_type": "markdown",
   "id": "f77b618b-55fc-4149-a233-b43082e52107",
   "metadata": {},
   "source": [
    "<center><h1><b>Controlling Program Flow and Logic</b></h1></center>"
   ]
  },
  {
   "cell_type": "markdown",
   "id": "ef91fb44-7b4b-4658-9438-7a24d090866c",
   "metadata": {},
   "source": [
    "## Goals\n",
    "* Understanding Comparison Operators\n",
    "* Write Conditionals\n",
    "* Work with Boolean Operations"
   ]
  },
  {
   "cell_type": "code",
   "execution_count": null,
   "id": "1a398f39-7f09-482c-b798-dbf72fa061e3",
   "metadata": {},
   "outputs": [],
   "source": []
  },
  {
   "cell_type": "markdown",
   "id": "ab196b5b-db52-4061-bff1-e356c1571e69",
   "metadata": {},
   "source": [
    "## **Comparisons**"
   ]
  },
  {
   "cell_type": "code",
   "execution_count": 1,
   "id": "1cb9fda0-a2a7-4f07-9d55-19abc6ff2e18",
   "metadata": {},
   "outputs": [],
   "source": [
    "// let's try something"
   ]
  },
  {
   "cell_type": "code",
   "execution_count": 2,
   "id": "7fbea5ed-1ca7-4d21-b9eb-ef5d3a67f3ad",
   "metadata": {},
   "outputs": [
    {
     "data": {
      "text/plain": [
       "false"
      ]
     },
     "execution_count": 2,
     "metadata": {},
     "output_type": "execute_result"
    }
   ],
   "source": [
    "-2 > 7"
   ]
  },
  {
   "cell_type": "code",
   "execution_count": 3,
   "id": "4d85e05e-b675-4edc-8f14-8dc8f774f4d0",
   "metadata": {},
   "outputs": [
    {
     "data": {
      "text/plain": [
       "true"
      ]
     },
     "execution_count": 3,
     "metadata": {},
     "output_type": "execute_result"
    }
   ],
   "source": [
    "8 < 20"
   ]
  },
  {
   "cell_type": "code",
   "execution_count": 4,
   "id": "0d74aed3-8f0b-4cc7-8e19-3910a863045b",
   "metadata": {},
   "outputs": [
    {
     "data": {
      "text/plain": [
       "true"
      ]
     },
     "execution_count": 4,
     "metadata": {},
     "output_type": "execute_result"
    }
   ],
   "source": [
    "2 >= 2"
   ]
  },
  {
   "cell_type": "code",
   "execution_count": 5,
   "id": "740e92c4-a19a-4c81-a3bd-4598e167fee1",
   "metadata": {},
   "outputs": [
    {
     "data": {
      "text/plain": [
       "false"
      ]
     },
     "execution_count": 5,
     "metadata": {},
     "output_type": "execute_result"
    }
   ],
   "source": [
    "2 >= 5"
   ]
  },
  {
   "cell_type": "code",
   "execution_count": 6,
   "id": "91368beb-721b-4c2e-89d5-9cc6445825ec",
   "metadata": {},
   "outputs": [
    {
     "data": {
      "text/plain": [
       "true"
      ]
     },
     "execution_count": 6,
     "metadata": {},
     "output_type": "execute_result"
    }
   ],
   "source": [
    "2 <= 5"
   ]
  },
  {
   "cell_type": "code",
   "execution_count": 9,
   "id": "6990a6ef-9b41-4e95-bffa-1edc96acfa91",
   "metadata": {},
   "outputs": [
    {
     "data": {
      "text/plain": [
       "false"
      ]
     },
     "execution_count": 9,
     "metadata": {},
     "output_type": "execute_result"
    }
   ],
   "source": [
    "'Hello'.length >= \"Hello!\".length"
   ]
  },
  {
   "cell_type": "code",
   "execution_count": null,
   "id": "ae45a715-6665-4277-a45c-70bb27faa997",
   "metadata": {},
   "outputs": [],
   "source": []
  },
  {
   "cell_type": "markdown",
   "id": "5bdcc0ef-3bb2-4ccd-9e18-63c665ab445e",
   "metadata": {},
   "source": [
    "### Double Equality ( == )\n",
    "* Checks for equality of value, but not equality of type.\n",
    "* It coerces both values to the same type and then compares them.\n",
    "* This can lead to some unexpected results"
   ]
  },
  {
   "cell_type": "code",
   "execution_count": 12,
   "id": "e29c8079-2cab-4e95-9492-9d9ea2b23e52",
   "metadata": {},
   "outputs": [
    {
     "data": {
      "text/plain": [
       "true"
      ]
     },
     "execution_count": 12,
     "metadata": {},
     "output_type": "execute_result"
    }
   ],
   "source": [
    "4 == 4"
   ]
  },
  {
   "cell_type": "code",
   "execution_count": 13,
   "id": "8b96309e-59f9-4ab5-8764-7801b02929d6",
   "metadata": {},
   "outputs": [
    {
     "data": {
      "text/plain": [
       "true"
      ]
     },
     "execution_count": 13,
     "metadata": {},
     "output_type": "execute_result"
    }
   ],
   "source": [
    "'a' == 'a'"
   ]
  },
  {
   "cell_type": "code",
   "execution_count": 14,
   "id": "62b41e14-6db3-4c5e-8e40-4faa42bddccf",
   "metadata": {},
   "outputs": [
    {
     "data": {
      "text/plain": [
       "true"
      ]
     },
     "execution_count": 14,
     "metadata": {},
     "output_type": "execute_result"
    }
   ],
   "source": [
    "false == false"
   ]
  },
  {
   "cell_type": "code",
   "execution_count": 16,
   "id": "4829e148-4de9-4846-b38a-55cc4e2d0e04",
   "metadata": {},
   "outputs": [
    {
     "data": {
      "text/plain": [
       "true"
      ]
     },
     "execution_count": 16,
     "metadata": {},
     "output_type": "execute_result"
    }
   ],
   "source": [
    "7 == '7' // converted it to the same type"
   ]
  },
  {
   "cell_type": "code",
   "execution_count": 17,
   "id": "7cd40754-2b2d-4c86-a7b0-e55e34fb3c37",
   "metadata": {},
   "outputs": [
    {
     "data": {
      "text/plain": [
       "true"
      ]
     },
     "execution_count": 17,
     "metadata": {},
     "output_type": "execute_result"
    }
   ],
   "source": [
    "0 == '';"
   ]
  },
  {
   "cell_type": "code",
   "execution_count": 18,
   "id": "0902e08e-4246-437e-841b-139e68aab368",
   "metadata": {},
   "outputs": [
    {
     "data": {
      "text/plain": [
       "true"
      ]
     },
     "execution_count": 18,
     "metadata": {},
     "output_type": "execute_result"
    }
   ],
   "source": [
    "0 == false;"
   ]
  },
  {
   "cell_type": "code",
   "execution_count": 19,
   "id": "bb8dc38a-0bd0-4944-bf65-dfb37183f2a2",
   "metadata": {},
   "outputs": [
    {
     "data": {
      "text/plain": [
       "true"
      ]
     },
     "execution_count": 19,
     "metadata": {},
     "output_type": "execute_result"
    }
   ],
   "source": [
    "null == undefined;"
   ]
  },
  {
   "cell_type": "code",
   "execution_count": null,
   "id": "79d2ef63-2f41-40d8-ab6a-8af9d9b48d77",
   "metadata": {},
   "outputs": [],
   "source": []
  },
  {
   "cell_type": "markdown",
   "id": "738c7ab6-5ec4-4315-bf57-70d118ef116c",
   "metadata": {},
   "source": [
    "### Triple Equality ( === )\n",
    "* Checks for equality of value, bAND type.\n",
    "* This can lead to some expected results"
   ]
  },
  {
   "cell_type": "code",
   "execution_count": 20,
   "id": "dbe58ae9-3651-4d07-8b68-7f829ae1cab2",
   "metadata": {},
   "outputs": [
    {
     "data": {
      "text/plain": [
       "false"
      ]
     },
     "execution_count": 20,
     "metadata": {},
     "output_type": "execute_result"
    }
   ],
   "source": [
    "2 === '2'"
   ]
  },
  {
   "cell_type": "code",
   "execution_count": 21,
   "id": "0b43dc97-38ff-4183-a8db-0ae16c0916f2",
   "metadata": {},
   "outputs": [
    {
     "data": {
      "text/plain": [
       "true"
      ]
     },
     "execution_count": 21,
     "metadata": {},
     "output_type": "execute_result"
    }
   ],
   "source": [
    "2 === 2"
   ]
  },
  {
   "cell_type": "code",
   "execution_count": 22,
   "id": "3a7b8dbc-98cd-4bd1-a7f7-35093d88d0ae",
   "metadata": {},
   "outputs": [
    {
     "data": {
      "text/plain": [
       "false"
      ]
     },
     "execution_count": 22,
     "metadata": {},
     "output_type": "execute_result"
    }
   ],
   "source": [
    "0 === false;"
   ]
  },
  {
   "cell_type": "code",
   "execution_count": 23,
   "id": "972e2dd3-00bb-45c9-b640-f1515b9d2cde",
   "metadata": {},
   "outputs": [
    {
     "data": {
      "text/plain": [
       "false"
      ]
     },
     "execution_count": 23,
     "metadata": {},
     "output_type": "execute_result"
    }
   ],
   "source": [
    "undefined === null;"
   ]
  },
  {
   "cell_type": "code",
   "execution_count": 24,
   "id": "89e41e29-8171-45e9-bf82-9b742347206a",
   "metadata": {},
   "outputs": [
    {
     "data": {
      "text/plain": [
       "true"
      ]
     },
     "execution_count": 24,
     "metadata": {},
     "output_type": "execute_result"
    }
   ],
   "source": [
    "3 === 3;"
   ]
  },
  {
   "cell_type": "code",
   "execution_count": 25,
   "id": "03012194-67fe-4fac-a46b-190dda9a5cd8",
   "metadata": {},
   "outputs": [
    {
     "data": {
      "text/plain": [
       "true"
      ]
     },
     "execution_count": 25,
     "metadata": {},
     "output_type": "execute_result"
    }
   ],
   "source": [
    "null === null;"
   ]
  },
  {
   "cell_type": "code",
   "execution_count": null,
   "id": "7decb58e-28d8-41c8-96aa-be8903b93c69",
   "metadata": {},
   "outputs": [],
   "source": []
  },
  {
   "cell_type": "code",
   "execution_count": null,
   "id": "7da2126b-92c8-44bf-afe6-9e877e0c761d",
   "metadata": {},
   "outputs": [],
   "source": [
    "// Single non equality"
   ]
  },
  {
   "cell_type": "code",
   "execution_count": 26,
   "id": "58d8a2ed-2cee-495d-b66a-fd6ce58cbe57",
   "metadata": {},
   "outputs": [
    {
     "data": {
      "text/plain": [
       "true"
      ]
     },
     "execution_count": 26,
     "metadata": {},
     "output_type": "execute_result"
    }
   ],
   "source": [
    "1 != 2"
   ]
  },
  {
   "cell_type": "code",
   "execution_count": 27,
   "id": "9d69c7f1-761b-4a31-bdd8-2ba92dc7b0c7",
   "metadata": {},
   "outputs": [
    {
     "data": {
      "text/plain": [
       "false"
      ]
     },
     "execution_count": 27,
     "metadata": {},
     "output_type": "execute_result"
    }
   ],
   "source": [
    "1 != '1'"
   ]
  },
  {
   "cell_type": "code",
   "execution_count": null,
   "id": "d3675e87-c3e9-44d9-9b31-3e5ebd8badd1",
   "metadata": {},
   "outputs": [],
   "source": [
    "// String non equality"
   ]
  },
  {
   "cell_type": "code",
   "execution_count": 28,
   "id": "d6a2470d-6cb6-495f-a19a-2412a9ea7b3a",
   "metadata": {},
   "outputs": [
    {
     "data": {
      "text/plain": [
       "true"
      ]
     },
     "execution_count": 28,
     "metadata": {},
     "output_type": "execute_result"
    }
   ],
   "source": [
    "1 !== '1'"
   ]
  },
  {
   "cell_type": "code",
   "execution_count": null,
   "id": "93c26f8b-68ab-4d53-87d8-346759198cd4",
   "metadata": {},
   "outputs": [],
   "source": []
  },
  {
   "cell_type": "markdown",
   "id": "1f26096c-4b9c-4bf9-b277-076946a1691e",
   "metadata": {},
   "source": [
    "## **Conditionals**"
   ]
  },
  {
   "cell_type": "code",
   "execution_count": 29,
   "id": "911089f6-5ba6-4a2a-a022-342a5b8c972d",
   "metadata": {},
   "outputs": [],
   "source": [
    "// let's start it our"
   ]
  },
  {
   "cell_type": "code",
   "execution_count": 30,
   "id": "eedcbe97-c3f4-4aa6-bcc0-ccb3d00d235d",
   "metadata": {},
   "outputs": [
    {
     "name": "stdout",
     "output_type": "stream",
     "text": [
      "It's true!\n"
     ]
    }
   ],
   "source": [
    "if (1==1){\n",
    "    console.log(\"It's true!\");\n",
    "}"
   ]
  },
  {
   "cell_type": "code",
   "execution_count": 31,
   "id": "c92ac639-5da8-4e0f-a038-a422f386a556",
   "metadata": {},
   "outputs": [],
   "source": [
    "if (1 != 1){\n",
    "    console.log(\"It wont display\");\n",
    "}"
   ]
  },
  {
   "cell_type": "code",
   "execution_count": 32,
   "id": "6cae432c-6c89-4d53-b163-cc1fdb199641",
   "metadata": {},
   "outputs": [],
   "source": [
    "// another example"
   ]
  },
  {
   "cell_type": "code",
   "execution_count": 33,
   "id": "d673df85-5e4a-4ea2-bd0c-81024ec2e81a",
   "metadata": {},
   "outputs": [
    {
     "name": "stdout",
     "output_type": "stream",
     "text": [
      "You are a super star\n"
     ]
    }
   ],
   "source": [
    "let rating = 3;\n",
    "\n",
    "if(rating  === 3){\n",
    "    console.log(\"You are a super star\");\n",
    "}"
   ]
  },
  {
   "cell_type": "code",
   "execution_count": 34,
   "id": "4a8eb214-ab0f-4f25-8ae4-24a5cdbe388c",
   "metadata": {},
   "outputs": [],
   "source": [
    "if (rating < 3){\n",
    "    console.log(\"You are not a super star\");\n",
    "}"
   ]
  },
  {
   "cell_type": "code",
   "execution_count": 35,
   "id": "95ac659a-45bd-49d9-92a0-de1fead4c2e3",
   "metadata": {},
   "outputs": [],
   "source": [
    "// example 3"
   ]
  },
  {
   "cell_type": "code",
   "execution_count": 36,
   "id": "1d73ec1d-ef44-4b5b-aeb5-4b763d9328a8",
   "metadata": {},
   "outputs": [],
   "source": [
    "let num = 37;\n",
    "\n",
    "if (num % 2 === 0){\n",
    "    console.log(\"It's an even number\");\n",
    "}"
   ]
  },
  {
   "cell_type": "code",
   "execution_count": null,
   "id": "765369a2-fae9-4e1d-9045-e02c145509cf",
   "metadata": {},
   "outputs": [],
   "source": []
  },
  {
   "cell_type": "markdown",
   "id": "abe95696-8f9f-4abc-aea3-cdaed4232b13",
   "metadata": {},
   "source": [
    "### Else If"
   ]
  },
  {
   "cell_type": "code",
   "execution_count": 38,
   "id": "5af75d68-fc05-46bf-9af1-00d91eec7d78",
   "metadata": {},
   "outputs": [],
   "source": [
    "// example 1"
   ]
  },
  {
   "cell_type": "code",
   "execution_count": 45,
   "id": "8e0f83fc-a987-4619-b218-9d744e05c5cf",
   "metadata": {},
   "outputs": [
    {
     "name": "stdout",
     "output_type": "stream",
     "text": [
      "It's True\n"
     ]
    }
   ],
   "source": [
    "if (1 === 1){\n",
    "    console.log(\"It's True\");\n",
    "}\n",
    "else if(1 !== 1){\n",
    "    console.log(\"It's False\");\n",
    "}"
   ]
  },
  {
   "cell_type": "code",
   "execution_count": 44,
   "id": "158fe6ed-c013-4a99-8e0f-403a2c679836",
   "metadata": {},
   "outputs": [
    {
     "name": "stdout",
     "output_type": "stream",
     "text": [
      "You are a supper star !\n"
     ]
    }
   ],
   "source": [
    "// Example 2\n",
    "\n",
    "if (rating >= 3){\n",
    "    console.log(\"You are a supper star !\");\n",
    "}\n",
    "else if(rating === 2){\n",
    "    console.log(\"Meets Expections\");\n",
    "}\n",
    "else if(rating < 2){\n",
    "    console.log(\"You really Suck. NEEDS IMPROVEMENT\");\n",
    "}"
   ]
  },
  {
   "cell_type": "code",
   "execution_count": 41,
   "id": "b591e3d2-fde7-431a-bfc0-8fed068a8c09",
   "metadata": {},
   "outputs": [
    {
     "name": "stdout",
     "output_type": "stream",
     "text": [
      "THe number is Odd\n"
     ]
    }
   ],
   "source": [
    "// Example 3\n",
    "\n",
    "if (num % 2 === 0){\n",
    "    console.log(\"THe number is Even\");\n",
    "}\n",
    "else if (num % 2 !== 0){\n",
    "    console.log(\"THe number is Odd\");\n",
    "}"
   ]
  },
  {
   "cell_type": "code",
   "execution_count": null,
   "id": "0bddb716-246f-47a3-b26d-62391e47d891",
   "metadata": {},
   "outputs": [],
   "source": []
  },
  {
   "cell_type": "markdown",
   "id": "2954c269-956f-418b-b07b-f223dd3e6378",
   "metadata": {},
   "source": [
    "### Else"
   ]
  },
  {
   "cell_type": "code",
   "execution_count": 46,
   "id": "79a8ce70-c14b-4b05-a161-c6e6d47cd779",
   "metadata": {},
   "outputs": [],
   "source": [
    "// example 1"
   ]
  },
  {
   "cell_type": "code",
   "execution_count": 47,
   "id": "4ac3d3a4-137f-404d-8cda-d7bac8ebe56a",
   "metadata": {},
   "outputs": [
    {
     "name": "stdout",
     "output_type": "stream",
     "text": [
      "It's True\n"
     ]
    }
   ],
   "source": [
    "if (1 === 1){\n",
    "    console.log(\"It's True\");\n",
    "}\n",
    "else if(1 !== 1){\n",
    "    console.log(\"It's False\");\n",
    "}\n",
    "else{\n",
    "    console.log(\"Kinda have a problem\");\n",
    "}"
   ]
  },
  {
   "cell_type": "code",
   "execution_count": 50,
   "id": "db7333a5-d81e-4187-b6a5-3d6eac8a7a72",
   "metadata": {},
   "outputs": [
    {
     "name": "stdout",
     "output_type": "stream",
     "text": [
      "Invalid Rating\n"
     ]
    }
   ],
   "source": [
    "// Example 2\n",
    "rating = \"hello\";\n",
    "\n",
    "if (rating >= 3){\n",
    "    console.log(\"You are a supper star !\");\n",
    "}\n",
    "else if(rating === 2){\n",
    "    console.log(\"Meets Expections\");\n",
    "}\n",
    "else if(rating < 2){\n",
    "    console.log(\"You really Suck. NEEDS IMPROVEMENT\");\n",
    "}\n",
    "else{\n",
    "    console.log(\"Invalid Rating\");\n",
    "}"
   ]
  },
  {
   "cell_type": "code",
   "execution_count": 51,
   "id": "2217a659-2ea4-4c06-b854-d399aef7b8cc",
   "metadata": {},
   "outputs": [],
   "source": [
    "// example 2"
   ]
  },
  {
   "cell_type": "code",
   "execution_count": 52,
   "id": "d1f4d0bd-183a-42f9-adc9-041f7b669a3f",
   "metadata": {},
   "outputs": [
    {
     "name": "stdout",
     "output_type": "stream",
     "text": [
      "You have a score of 1200. Work Hard\n"
     ]
    }
   ],
   "source": [
    "let highScore = 1430;\n",
    "let userScore = 1200;\n",
    "\n",
    "if(userScore >= highScore){\n",
    "    console.log(`Congrats, you have a high Score of ${userScore}. Wow!`);\n",
    "}\n",
    "else{\n",
    "    console.log(`You have a score of ${userScore}. Work Hard`);\n",
    "}"
   ]
  },
  {
   "cell_type": "code",
   "execution_count": 53,
   "id": "873d3b4a-6400-4364-bcb7-ab036ba75837",
   "metadata": {},
   "outputs": [
    {
     "name": "stdout",
     "output_type": "stream",
     "text": [
      "Congrats, you have a high Score of 1600. Wow!\n"
     ]
    },
    {
     "data": {
      "text/plain": [
       "1430"
      ]
     },
     "execution_count": 53,
     "metadata": {},
     "output_type": "execute_result"
    }
   ],
   "source": [
    "userScore = 1600;\n",
    "\n",
    "if(userScore >= highScore){\n",
    "    console.log(`Congrats, you have a high Score of ${userScore}. Wow!`);\n",
    "    userScore = highScore;\n",
    "}\n",
    "else{\n",
    "    console.log(`Good Game. You have a score of ${userScore}. Work Hard`);\n",
    "}"
   ]
  },
  {
   "cell_type": "code",
   "execution_count": null,
   "id": "c88971c5-c098-407b-b635-4d6c422e6dfd",
   "metadata": {},
   "outputs": [],
   "source": []
  },
  {
   "cell_type": "code",
   "execution_count": null,
   "id": "f00e9a08-2d78-461c-8442-b371f23f220c",
   "metadata": {},
   "outputs": [],
   "source": []
  },
  {
   "cell_type": "markdown",
   "id": "ad3bf9ca-91e3-4c6b-9864-c3e3444501d6",
   "metadata": {},
   "source": [
    "## Nesting Conditionals"
   ]
  },
  {
   "cell_type": "code",
   "execution_count": 54,
   "id": "66ac81d9-c0ce-4614-82b9-b40dbf2dbfa4",
   "metadata": {},
   "outputs": [],
   "source": [
    "// password example"
   ]
  },
  {
   "cell_type": "code",
   "execution_count": 1,
   "id": "0326ae56-2383-475d-a880-5c9207982bb6",
   "metadata": {},
   "outputs": [
    {
     "name": "stdout",
     "output_type": "stream",
     "text": [
      "Valid Password\n"
     ]
    }
   ],
   "source": [
    "let password = \"Helloss\"\n",
    "\n",
    "// we want the password to have a length of 6 or greater\n",
    "if (password.length >= 6){\n",
    "    if(password.indexOf(' ') === -1){\n",
    "        console.log(\"Valid Password\");\n",
    "    }\n",
    "    else{\n",
    "        console.log(\"Password is log enough, but cannot contain spaces\")\n",
    "    }\n",
    "}\n",
    "else{\n",
    "    console.log(\"Password must be longer!\");\n",
    "}\n",
    "        "
   ]
  },
  {
   "cell_type": "code",
   "execution_count": 2,
   "id": "5fe54770-4c5f-4535-b7cb-f859695ad853",
   "metadata": {},
   "outputs": [],
   "source": [
    "// version 2"
   ]
  },
  {
   "cell_type": "code",
   "execution_count": 1,
   "id": "de107414-36c4-463a-a20f-63c6f9e6e012",
   "metadata": {},
   "outputs": [
    {
     "name": "stdout",
     "output_type": "stream",
     "text": [
      "Password is log enough, but cannot contain spaces\n"
     ]
    }
   ],
   "source": [
    "let password = \"Hellos s\"\n",
    "\n",
    "// we want the password to have a length of 6 or greater\n",
    "if (password.length >= 6){\n",
    "    if(password.indexOf(' ') === -1){\n",
    "        console.log(\"Valid Password\");\n",
    "    }\n",
    "    else{\n",
    "        console.log(\"Password is log enough, but cannot contain spaces\")\n",
    "    }\n",
    "}\n",
    "else{\n",
    "    console.error(\"Password must be longer!\");\n",
    "}\n",
    "        "
   ]
  },
  {
   "cell_type": "code",
   "execution_count": 1,
   "id": "0b7651e2-f625-4f66-a25d-fca7e3021c60",
   "metadata": {},
   "outputs": [
    {
     "name": "stderr",
     "output_type": "stream",
     "text": [
      "Password must be longer!\n"
     ]
    }
   ],
   "source": [
    "let password = \"Hes\"\n",
    "\n",
    "// we want the password to have a length of 6 or greater\n",
    "if (password.length >= 6){\n",
    "    if(password.indexOf(' ') === -1){\n",
    "        console.log(\"Valid Password\");\n",
    "    }\n",
    "    else{\n",
    "        console.log(\"Password is log enough, but cannot contain spaces\")\n",
    "    }\n",
    "}\n",
    "else{\n",
    "    console.error(\"Password must be longer!\");\n",
    "}\n",
    "        "
   ]
  },
  {
   "cell_type": "code",
   "execution_count": null,
   "id": "f6566f91-e679-48d6-bf12-8073d48b8eef",
   "metadata": {},
   "outputs": [],
   "source": []
  },
  {
   "cell_type": "code",
   "execution_count": null,
   "id": "e6743470-040c-4b6d-8dfb-acd005e54692",
   "metadata": {},
   "outputs": [],
   "source": []
  },
  {
   "cell_type": "markdown",
   "id": "99e121b5-19b3-4119-8d19-b7028d49345d",
   "metadata": {},
   "source": [
    "## **Truthy & Falsy Values**\n",
    "* All values have an inherent truthy or falsy boolean value\n",
    "\n",
    "#### **Falsy values:**\n",
    "- False\n",
    "- 0\n",
    "- \" \" (empty string)\n",
    "- null \n",
    "- undefined\n",
    "- NaN\n",
    "\n",
    "#### **Everything else is truthy!**"
   ]
  },
  {
   "cell_type": "code",
   "execution_count": 3,
   "id": "19b7fec6-3e09-4ca5-a25c-504cd0d32a6a",
   "metadata": {},
   "outputs": [
    {
     "name": "stdout",
     "output_type": "stream",
     "text": [
      "Truthy\n"
     ]
    }
   ],
   "source": [
    "let mystery = 5;\n",
    "\n",
    "if(mystery){\n",
    "    console.log(\"Truthy\");\n",
    "}\n",
    "else {\n",
    "    console.log(\"Falsey\");\n",
    "}\n",
    "                "
   ]
  },
  {
   "cell_type": "code",
   "execution_count": 1,
   "id": "69b95afe-2af2-4084-9c5c-edeb4e525c10",
   "metadata": {},
   "outputs": [
    {
     "name": "stdout",
     "output_type": "stream",
     "text": [
      "Falsey\n"
     ]
    }
   ],
   "source": [
    "let mystery = 0;\n",
    "\n",
    "if(mystery){\n",
    "    console.log(\"Truthy\");\n",
    "}\n",
    "else {\n",
    "    console.log(\"Falsey\");\n",
    "}"
   ]
  },
  {
   "cell_type": "code",
   "execution_count": 1,
   "id": "229937aa-2934-4f25-8fd9-dd125a67a632",
   "metadata": {},
   "outputs": [
    {
     "name": "stdout",
     "output_type": "stream",
     "text": [
      "Falsey\n"
     ]
    }
   ],
   "source": [
    "let mystery = NaN;\n",
    "\n",
    "if(mystery){\n",
    "    console.log(\"Truthy\");\n",
    "}\n",
    "else {\n",
    "    console.log(\"Falsey\");\n",
    "}"
   ]
  },
  {
   "cell_type": "code",
   "execution_count": 2,
   "id": "b27d643e-2d5c-4fe1-9877-732e8024ebce",
   "metadata": {},
   "outputs": [
    {
     "name": "stdout",
     "output_type": "stream",
     "text": [
      "Truthy\n"
     ]
    }
   ],
   "source": [
    "let mystery = \" \";\n",
    "\n",
    "if(mystery){\n",
    "    console.log(\"Truthy\");\n",
    "}\n",
    "else {\n",
    "    console.log(\"Falsey\");\n",
    "}"
   ]
  },
  {
   "cell_type": "code",
   "execution_count": 1,
   "id": "58bc580f-6ad4-4c57-966d-8c57a0bd8577",
   "metadata": {},
   "outputs": [
    {
     "name": "stdout",
     "output_type": "stream",
     "text": [
      "Please LOG IN!\n"
     ]
    }
   ],
   "source": [
    "let loggedInUser;\n",
    "\n",
    "if(loggedInUser){\n",
    "    console.log(\"You are logged In!\");\n",
    "}\n",
    "else{\n",
    "    console.log('Please LOG IN!');\n",
    "}"
   ]
  },
  {
   "cell_type": "code",
   "execution_count": 1,
   "id": "33a37e45-788b-46cf-96a9-1f3b44b88d07",
   "metadata": {},
   "outputs": [
    {
     "name": "stdout",
     "output_type": "stream",
     "text": [
      "You are logged In!\n"
     ]
    }
   ],
   "source": [
    "let loggedInUser = 1;\n",
    "\n",
    "if(loggedInUser){\n",
    "    console.log(\"You are logged In!\");\n",
    "}\n",
    "else{\n",
    "    console.log('Please LOG IN!');\n",
    "}"
   ]
  },
  {
   "cell_type": "code",
   "execution_count": null,
   "id": "e3657526-ea85-4c0c-9306-850c3da7bfdb",
   "metadata": {},
   "outputs": [],
   "source": []
  },
  {
   "cell_type": "code",
   "execution_count": null,
   "id": "391235c1-0ea3-4def-9887-002d80d5a18c",
   "metadata": {},
   "outputs": [],
   "source": []
  },
  {
   "cell_type": "markdown",
   "id": "2cccd158-4802-4a5a-a192-814f9fc77d54",
   "metadata": {},
   "source": [
    "## Logical AND "
   ]
  },
  {
   "cell_type": "markdown",
   "id": "46ba8c84-f9fe-4a11-bee2-e6251cbea1ed",
   "metadata": {},
   "source": [
    "##### Both sides must be true in order for the whole thing to be true. "
   ]
  },
  {
   "cell_type": "code",
   "execution_count": 2,
   "id": "b5d6db8a-74e5-4217-920b-2201c3650111",
   "metadata": {},
   "outputs": [
    {
     "data": {
      "text/plain": [
       "true"
      ]
     },
     "execution_count": 2,
     "metadata": {},
     "output_type": "execute_result"
    }
   ],
   "source": [
    "1 <= 4 && 'a' === 'a'"
   ]
  },
  {
   "cell_type": "code",
   "execution_count": 3,
   "id": "6d32eb16-d9bf-4351-9f85-b22c8ab51085",
   "metadata": {},
   "outputs": [
    {
     "data": {
      "text/plain": [
       "true"
      ]
     },
     "execution_count": 3,
     "metadata": {},
     "output_type": "execute_result"
    }
   ],
   "source": [
    "true && true"
   ]
  },
  {
   "cell_type": "code",
   "execution_count": 4,
   "id": "6f52edc5-b60a-4a44-a5ff-35854251cf5e",
   "metadata": {},
   "outputs": [
    {
     "data": {
      "text/plain": [
       "false"
      ]
     },
     "execution_count": 4,
     "metadata": {},
     "output_type": "execute_result"
    }
   ],
   "source": [
    "true && false"
   ]
  },
  {
   "cell_type": "code",
   "execution_count": 5,
   "id": "a2f06fbe-3bd4-4243-9111-8d4040e8a6c9",
   "metadata": {},
   "outputs": [
    {
     "data": {
      "text/plain": [
       "false"
      ]
     },
     "execution_count": 5,
     "metadata": {},
     "output_type": "execute_result"
    }
   ],
   "source": [
    "false && false"
   ]
  },
  {
   "cell_type": "code",
   "execution_count": 6,
   "id": "a760dc6c-4bb9-4a16-9fd7-98c335c9f665",
   "metadata": {},
   "outputs": [
    {
     "data": {
      "text/plain": [
       "true"
      ]
     },
     "execution_count": 6,
     "metadata": {},
     "output_type": "execute_result"
    }
   ],
   "source": [
    "'abc'.length === 3 && 'def'.length === 3"
   ]
  },
  {
   "cell_type": "code",
   "execution_count": 7,
   "id": "67507b27-f9c6-4be0-8c85-21c6ec74747f",
   "metadata": {},
   "outputs": [],
   "source": [
    "// a better example"
   ]
  },
  {
   "cell_type": "code",
   "execution_count": 8,
   "id": "cc7b6c08-22f3-4fce-b45a-b27bae666e3b",
   "metadata": {},
   "outputs": [
    {
     "name": "stderr",
     "output_type": "stream",
     "text": [
      "Password must have 6 characters and no spaces within\n"
     ]
    }
   ],
   "source": [
    "let password = \"Cat and dog\";\n",
    "\n",
    "if(password.length >= 6 && password.indexOf(' ') == -1){\n",
    "    console.log(\"Password is Valid\");\n",
    "}\n",
    "else{\n",
    "    console.error(\"Password must have 6 characters and no spaces within\");\n",
    "}"
   ]
  },
  {
   "cell_type": "code",
   "execution_count": 9,
   "id": "f4455821-5cb3-4d91-9f41-128dc4e1a276",
   "metadata": {},
   "outputs": [],
   "source": [
    "// a better example v2"
   ]
  },
  {
   "cell_type": "code",
   "execution_count": 1,
   "id": "655d036a-8b95-4a5c-b5df-e4d7fb7b3fa7",
   "metadata": {},
   "outputs": [
    {
     "name": "stdout",
     "output_type": "stream",
     "text": [
      "Password is Valid\n"
     ]
    }
   ],
   "source": [
    "let password = \"Catanddog\";\n",
    "\n",
    "if(password.length >= 6 && password.indexOf(' ') == -1){\n",
    "    console.log(\"Password is Valid\");\n",
    "}\n",
    "else{\n",
    "    console.error(\"Password must have 6 characters and no spaces within\");\n",
    "}"
   ]
  },
  {
   "cell_type": "code",
   "execution_count": null,
   "id": "86681ee8-8ea6-47e0-b526-d72aaacc6e91",
   "metadata": {},
   "outputs": [],
   "source": []
  },
  {
   "cell_type": "markdown",
   "id": "5ae882b0-b2cf-4298-a0b8-6db2dfc9dc6a",
   "metadata": {},
   "source": [
    "## Logical OR || "
   ]
  },
  {
   "cell_type": "markdown",
   "id": "f585aaa8-13a7-461d-a2f1-417406fd066b",
   "metadata": {},
   "source": [
    "##### (Pipe character above the Enter key in the US Keyboard, and above the fn key in the UK variant)\n",
    "\n",
    "* If one side is true, then the whole thing is true"
   ]
  },
  {
   "cell_type": "code",
   "execution_count": null,
   "id": "924e68ff-037c-44cc-985f-91b6f1e9b284",
   "metadata": {},
   "outputs": [],
   "source": []
  },
  {
   "cell_type": "markdown",
   "id": "0bf3efba-5ee7-4a58-b6a4-632ff94cf961",
   "metadata": {},
   "source": [
    "## Logical NOT (!)\n",
    "* Returns true if the expression is false"
   ]
  },
  {
   "cell_type": "code",
   "execution_count": 2,
   "id": "223d8f53-0e9a-4105-88fc-419864344645",
   "metadata": {},
   "outputs": [
    {
     "data": {
      "text/plain": [
       "true"
      ]
     },
     "execution_count": 2,
     "metadata": {},
     "output_type": "execute_result"
    }
   ],
   "source": [
    "!null"
   ]
  },
  {
   "cell_type": "code",
   "execution_count": 4,
   "id": "fd551962-45a5-4de2-a9c8-3e2ea4bd18be",
   "metadata": {},
   "outputs": [
    {
     "data": {
      "text/plain": [
       "false"
      ]
     },
     "execution_count": 4,
     "metadata": {},
     "output_type": "execute_result"
    }
   ],
   "source": [
    "!(2 < 4)"
   ]
  },
  {
   "cell_type": "code",
   "execution_count": 5,
   "id": "bd700405-4e59-4bdf-a979-b4a126b9b42c",
   "metadata": {},
   "outputs": [
    {
     "data": {
      "text/plain": [
       "false"
      ]
     },
     "execution_count": 5,
     "metadata": {},
     "output_type": "execute_result"
    }
   ],
   "source": [
    "!(0 === 0 )"
   ]
  },
  {
   "cell_type": "code",
   "execution_count": null,
   "id": "42e575e2-984b-4d1e-88dd-8ef2d36270d7",
   "metadata": {},
   "outputs": [],
   "source": []
  },
  {
   "cell_type": "markdown",
   "id": "e0521b05-ba89-479e-9cf8-ae2d5146a65d",
   "metadata": {},
   "source": [
    "## Operator Precedence\n",
    "\n",
    "NOT (!) has higher precedence than && and || \n",
    "&& has a higher precedence than ||\n",
    "\n",
    "**Summary : **  !  >  &&  >  ||"
   ]
  },
  {
   "cell_type": "code",
   "execution_count": 6,
   "id": "195a03ea-e05b-4956-80dc-392da2fa6a86",
   "metadata": {},
   "outputs": [],
   "source": [
    "// check out this example"
   ]
  },
  {
   "cell_type": "code",
   "execution_count": 7,
   "id": "0b800498-ddad-450b-b20f-601fe91193e9",
   "metadata": {},
   "outputs": [],
   "source": [
    "let x = 7;"
   ]
  },
  {
   "cell_type": "code",
   "execution_count": 8,
   "id": "dcc456c6-00b1-4c82-beb1-7ba6a5942a68",
   "metadata": {},
   "outputs": [
    {
     "data": {
      "text/plain": [
       "true"
      ]
     },
     "execution_count": 8,
     "metadata": {},
     "output_type": "execute_result"
    }
   ],
   "source": [
    "x == 7 || x === 3 && x > 10;"
   ]
  },
  {
   "cell_type": "code",
   "execution_count": null,
   "id": "cd19ce37-bbae-40a5-823f-d91a9599bc09",
   "metadata": {},
   "outputs": [],
   "source": []
  },
  {
   "cell_type": "code",
   "execution_count": null,
   "id": "279c3f4d-2ba1-417e-8d7c-12afef0fce71",
   "metadata": {},
   "outputs": [],
   "source": []
  },
  {
   "cell_type": "markdown",
   "id": "0f1af17e-023e-4750-b581-d1dcdb95eb66",
   "metadata": {},
   "source": [
    "## **The Switch Statement**"
   ]
  },
  {
   "cell_type": "code",
   "execution_count": 10,
   "id": "7c65361b-05b2-454c-83a4-2655ce00880b",
   "metadata": {},
   "outputs": [],
   "source": [
    "// consider day of week program"
   ]
  },
  {
   "cell_type": "code",
   "execution_count": 11,
   "id": "d0390c7e-4dc2-4f8b-a683-3a903645dbce",
   "metadata": {},
   "outputs": [],
   "source": [
    "let day = 3"
   ]
  },
  {
   "cell_type": "code",
   "execution_count": 13,
   "id": "a1bffc37-15a6-4c9a-bb27-ed7bc7b793ba",
   "metadata": {},
   "outputs": [
    {
     "name": "stdout",
     "output_type": "stream",
     "text": [
      "Tuesday\n"
     ]
    }
   ],
   "source": [
    "switch(day){\n",
    "    case 1:\n",
    "        console.log(\"Sunday\");\n",
    "        break;\n",
    "    case 2:\n",
    "        console.log(\"Monday\");\n",
    "        break;\n",
    "    case 3: \n",
    "        console.log(\"Tuesday\");\n",
    "        break;\n",
    "    case 4:\n",
    "        console.log(\"Wednesday\");\n",
    "        break;\n",
    "    case 5:\n",
    "        console.log(\"Thursday\");\n",
    "        break;\n",
    "    case 6:\n",
    "        console.log(\"Friday\");\n",
    "        break;\n",
    "    case 7:\n",
    "        console.log(\"Saturday\");\n",
    "        break\n",
    "    default:\n",
    "        console.log(\"Not a day of the week\");\n",
    "}   "
   ]
  },
  {
   "cell_type": "code",
   "execution_count": 14,
   "id": "e3ac1fd4-8717-42a1-9aad-d7caa1e36499",
   "metadata": {},
   "outputs": [],
   "source": [
    "// example 2. Mixing the case statements"
   ]
  },
  {
   "cell_type": "code",
   "execution_count": 2,
   "id": "9bf113ce-d414-474c-87be-67e2eae8dac2",
   "metadata": {},
   "outputs": [],
   "source": [
    "let emoji = 'happy face'.toLowerCase();"
   ]
  },
  {
   "cell_type": "code",
   "execution_count": 3,
   "id": "8f82e97a-5186-4a57-b260-cbcc47bb2aab",
   "metadata": {},
   "outputs": [
    {
     "name": "stdout",
     "output_type": "stream",
     "text": [
      "Yellow\n"
     ]
    }
   ],
   "source": [
    "switch(emoji){\n",
    "    case 'happy face':\n",
    "    case 'sad face':\n",
    "        console.log(\"Yellow\");\n",
    "        break;\n",
    "    case 'eggplant':\n",
    "        console.log(\"purple\");\n",
    "    case 'heart':\n",
    "    case 'Lips':\n",
    "        console.log('red');\n",
    "        break;\n",
    "}\n",
    "        "
   ]
  },
  {
   "cell_type": "code",
   "execution_count": null,
   "id": "24ba033e-e386-499a-821f-bbd157cd80ab",
   "metadata": {},
   "outputs": [],
   "source": []
  },
  {
   "cell_type": "markdown",
   "id": "9bbc7b45-4a28-4442-819f-c247e9a33208",
   "metadata": {},
   "source": [
    "## **Ternary Operator**"
   ]
  },
  {
   "cell_type": "code",
   "execution_count": 1,
   "id": "f5f81d8c-6155-4c0f-8528-3f09131488e3",
   "metadata": {},
   "outputs": [],
   "source": [
    "// syntax condition ? expressionIfTrue : expressionIfFalse"
   ]
  },
  {
   "cell_type": "code",
   "execution_count": 2,
   "id": "add2732b-5fde-4be5-8656-c8584338c3a5",
   "metadata": {},
   "outputs": [],
   "source": [
    "let num = 7;"
   ]
  },
  {
   "cell_type": "code",
   "execution_count": 3,
   "id": "aae6e258-6efe-4486-9cac-ef701c6282cb",
   "metadata": {},
   "outputs": [
    {
     "name": "stdout",
     "output_type": "stream",
     "text": [
      "You got it right\n"
     ]
    }
   ],
   "source": [
    "num === 7 ? console.log(\"You got it right\"):console.log(\"YOu got it wrong\");"
   ]
  },
  {
   "cell_type": "code",
   "execution_count": 4,
   "id": "3d96bec5-64ff-469a-a310-fcc14ff688c1",
   "metadata": {},
   "outputs": [],
   "source": [
    "// let's use it to assign variable"
   ]
  },
  {
   "cell_type": "code",
   "execution_count": 6,
   "id": "eb06a789-f98e-4f9c-b492-6082c95f758c",
   "metadata": {},
   "outputs": [],
   "source": [
    "let status = 'offline';\n",
    "let color;"
   ]
  },
  {
   "cell_type": "code",
   "execution_count": 7,
   "id": "cc03bb26-a86d-420d-9909-e36338c5e311",
   "metadata": {},
   "outputs": [
    {
     "data": {
      "text/plain": [
       "'red'"
      ]
     },
     "execution_count": 7,
     "metadata": {},
     "output_type": "execute_result"
    }
   ],
   "source": [
    "status === 'offline'?color = 'red':color = 'green';"
   ]
  },
  {
   "cell_type": "code",
   "execution_count": null,
   "id": "8d47a2bb-e273-4bda-850f-371c83509bf1",
   "metadata": {},
   "outputs": [],
   "source": []
  }
 ],
 "metadata": {
  "kernelspec": {
   "display_name": "JavaScript (Node.js)",
   "language": "javascript",
   "name": "javascript"
  },
  "language_info": {
   "file_extension": ".js",
   "mimetype": "application/javascript",
   "name": "javascript",
   "version": "18.15.0"
  }
 },
 "nbformat": 4,
 "nbformat_minor": 5
}
