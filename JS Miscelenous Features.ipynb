{
 "cells": [
  {
   "cell_type": "markdown",
   "id": "0de64f7a-b7d8-4f44-94cd-a2dff7ee4990",
   "metadata": {},
   "source": [
    "<center><h1><b>A Few Miscellaneous Features</b></h1></center>"
   ]
  },
  {
   "cell_type": "markdown",
   "id": "7744028f-1bdf-4188-9659-aefe6cab2199",
   "metadata": {},
   "source": [
    "# **GOALS**\n",
    "* #### Work with rest & spread\n",
    "* #### Add default function parameters\n",
    "* #### Understand destructuring"
   ]
  },
  {
   "cell_type": "code",
   "execution_count": null,
   "id": "5d32d97d-4a9c-4772-b7fd-c22ac13f5490",
   "metadata": {},
   "outputs": [],
   "source": []
  },
  {
   "cell_type": "code",
   "execution_count": null,
   "id": "6c0a7bd1-36a1-4328-8e35-b5531da8bed2",
   "metadata": {},
   "outputs": [],
   "source": []
  },
  {
   "cell_type": "markdown",
   "id": "76201ce9-0ad2-4388-87ec-c25bc9e2ad60",
   "metadata": {},
   "source": [
    "## **Default Parameters**"
   ]
  },
  {
   "cell_type": "code",
   "execution_count": 1,
   "id": "75a4b337-be2a-4661-a53b-93e793eb0ec6",
   "metadata": {},
   "outputs": [],
   "source": [
    "function multiply(x,y){\n",
    "    return x*y;\n",
    "}"
   ]
  },
  {
   "cell_type": "code",
   "execution_count": 2,
   "id": "24e67c9c-583f-4f33-a776-2d54c3e3510b",
   "metadata": {},
   "outputs": [
    {
     "data": {
      "text/plain": [
       "30"
      ]
     },
     "execution_count": 2,
     "metadata": {},
     "output_type": "execute_result"
    }
   ],
   "source": [
    "multiply(5,6)"
   ]
  },
  {
   "cell_type": "code",
   "execution_count": 3,
   "id": "4174bffe-10c6-4674-a8e0-7808d57a192d",
   "metadata": {},
   "outputs": [
    {
     "data": {
      "text/plain": [
       "NaN"
      ]
     },
     "execution_count": 3,
     "metadata": {},
     "output_type": "execute_result"
    }
   ],
   "source": [
    "multiply(5)"
   ]
  },
  {
   "cell_type": "code",
   "execution_count": 4,
   "id": "209e82b3-dd77-4c64-999c-7dbe757dafe9",
   "metadata": {},
   "outputs": [],
   "source": [
    "// now we can fix this\n",
    "\n",
    "// older way\n",
    "function product(num1, num2){\n",
    "    if(typeof num2 === 'undefined'){\n",
    "        return num1 * 1\n",
    "    }\n",
    "    else{\n",
    "        return num1 * num2;\n",
    "    }\n",
    "    return num1*num2;\n",
    "}"
   ]
  },
  {
   "cell_type": "code",
   "execution_count": 5,
   "id": "1a49c6ba-236c-4920-8875-a3a5a126cd9b",
   "metadata": {},
   "outputs": [
    {
     "data": {
      "text/plain": [
       "28"
      ]
     },
     "execution_count": 5,
     "metadata": {},
     "output_type": "execute_result"
    }
   ],
   "source": [
    "product(7*4)"
   ]
  },
  {
   "cell_type": "code",
   "execution_count": 6,
   "id": "87cec700-6950-42cc-86fe-32a5343fb643",
   "metadata": {},
   "outputs": [],
   "source": [
    "// now we have a new way of doing it\n",
    "\n",
    "function multiply(a,b=1){\n",
    "    return a*b;\n",
    "}"
   ]
  },
  {
   "cell_type": "code",
   "execution_count": 7,
   "id": "638e901c-0fa7-4246-a479-247d594f7ec3",
   "metadata": {},
   "outputs": [
    {
     "data": {
      "text/plain": [
       "5"
      ]
     },
     "execution_count": 7,
     "metadata": {},
     "output_type": "execute_result"
    }
   ],
   "source": [
    "multiply(5)"
   ]
  },
  {
   "cell_type": "code",
   "execution_count": 8,
   "id": "65f5dc3c-ff1b-44ed-8a9f-e7904498a7f8",
   "metadata": {},
   "outputs": [
    {
     "data": {
      "text/plain": [
       "15"
      ]
     },
     "execution_count": 8,
     "metadata": {},
     "output_type": "execute_result"
    }
   ],
   "source": [
    "multiply(5,3)"
   ]
  },
  {
   "cell_type": "code",
   "execution_count": null,
   "id": "e373c9aa-a5b5-4a4a-9ff2-23517f25b9fa",
   "metadata": {},
   "outputs": [],
   "source": []
  },
  {
   "cell_type": "code",
   "execution_count": 9,
   "id": "4ed0fe1d-f21c-44ce-804e-4213beb647b3",
   "metadata": {},
   "outputs": [],
   "source": [
    "const greet = (person,greeting='Hi') => {\n",
    "    return `${greeting}, ${person}`;\n",
    "}"
   ]
  },
  {
   "cell_type": "code",
   "execution_count": 10,
   "id": "ba20a9e0-0842-47e4-b1bc-82c39c8ca9df",
   "metadata": {},
   "outputs": [
    {
     "data": {
      "text/plain": [
       "'Hi, James'"
      ]
     },
     "execution_count": 10,
     "metadata": {},
     "output_type": "execute_result"
    }
   ],
   "source": [
    "greet('James')"
   ]
  },
  {
   "cell_type": "code",
   "execution_count": null,
   "id": "56eae01f-28da-4279-9614-4b33ffe1450f",
   "metadata": {},
   "outputs": [],
   "source": []
  },
  {
   "cell_type": "code",
   "execution_count": null,
   "id": "9131691f-f6d4-4898-b572-6017300b766e",
   "metadata": {},
   "outputs": [],
   "source": []
  },
  {
   "cell_type": "markdown",
   "id": "50ab1528-94be-4ff1-9e8e-1d2c93f50e9d",
   "metadata": {},
   "source": [
    "## **SPREAD**\n",
    "Spread Syntax allow an iterable such as an array t be **expanded** in places where zero or more arguments (for function call) or elemets (for array literals) are expected, or an object expression to be expanded in places where zero or more key-value pairs (for object literals) are expected"
   ]
  },
  {
   "cell_type": "markdown",
   "id": "456d6059-4eb3-4f82-92eb-6ab075cb90ad",
   "metadata": {},
   "source": [
    "## SPREAD for Function Calls"
   ]
  },
  {
   "cell_type": "code",
   "execution_count": 11,
   "id": "838e2bf5-7eb9-4a8c-b79f-be7df8a41efd",
   "metadata": {},
   "outputs": [],
   "source": [
    "// consider the following"
   ]
  },
  {
   "cell_type": "code",
   "execution_count": 12,
   "id": "e47de635-2c04-4d2a-a743-36f4b03e6684",
   "metadata": {},
   "outputs": [
    {
     "data": {
      "text/plain": [
       "8"
      ]
     },
     "execution_count": 12,
     "metadata": {},
     "output_type": "execute_result"
    }
   ],
   "source": [
    "Math.max(3,4,5,6,7,8)"
   ]
  },
  {
   "cell_type": "code",
   "execution_count": 13,
   "id": "3daacb6f-3dd1-4ab2-befb-e58dba8d2ed8",
   "metadata": {},
   "outputs": [
    {
     "data": {
      "text/plain": [
       "2"
      ]
     },
     "execution_count": 13,
     "metadata": {},
     "output_type": "execute_result"
    }
   ],
   "source": [
    "Math.min(43,56,2,3,5,6)"
   ]
  },
  {
   "cell_type": "code",
   "execution_count": 14,
   "id": "c425bb3a-26c0-463d-ae16-e446e0b94d85",
   "metadata": {},
   "outputs": [
    {
     "data": {
      "text/plain": [
       "NaN"
      ]
     },
     "execution_count": 14,
     "metadata": {},
     "output_type": "execute_result"
    }
   ],
   "source": [
    "// for an array\n",
    "Math.max([23,4,65,1,23,5,6])"
   ]
  },
  {
   "cell_type": "code",
   "execution_count": 15,
   "id": "88ee6e70-ac84-4ac1-9346-ca9da0b9740e",
   "metadata": {},
   "outputs": [],
   "source": [
    "// now here is where spread comes in\n",
    "// consider\n",
    "\n",
    "const nums = [1,3,7,9,3,56,90,56,88];"
   ]
  },
  {
   "cell_type": "code",
   "execution_count": 16,
   "id": "2d7c2dce-644f-497b-83d3-b8aaaef36265",
   "metadata": {},
   "outputs": [
    {
     "data": {
      "text/plain": [
       "90"
      ]
     },
     "execution_count": 16,
     "metadata": {},
     "output_type": "execute_result"
    }
   ],
   "source": [
    "Math.max(...nums)"
   ]
  },
  {
   "cell_type": "code",
   "execution_count": 17,
   "id": "f7a22bde-0dbc-4a53-a29c-4e06a65b2a8f",
   "metadata": {},
   "outputs": [],
   "source": [
    "// another config\n",
    "\n",
    "function giveMeFour(a,b,c,d){\n",
    "    console.log('a',a);\n",
    "    console.log('b',b);\n",
    "    console.log('c',c);\n",
    "    console.log('d',d);\n",
    "}"
   ]
  },
  {
   "cell_type": "code",
   "execution_count": 18,
   "id": "0698dfa7-301d-4732-96f8-a019bc85cc65",
   "metadata": {},
   "outputs": [],
   "source": [
    "const colors = ['red','orange','yellow','green']"
   ]
  },
  {
   "cell_type": "code",
   "execution_count": 19,
   "id": "1c8909b7-9c05-4242-bf03-b3d5a0b0bfbe",
   "metadata": {},
   "outputs": [
    {
     "name": "stdout",
     "output_type": "stream",
     "text": [
      "a [ 'red', 'orange', 'yellow', 'green' ]\n",
      "b undefined\n",
      "c undefined\n",
      "d undefined\n"
     ]
    }
   ],
   "source": [
    "giveMeFour(colors)"
   ]
  },
  {
   "cell_type": "code",
   "execution_count": 20,
   "id": "69deba47-2bf9-4eb2-a4ef-cf941297ec09",
   "metadata": {},
   "outputs": [
    {
     "name": "stdout",
     "output_type": "stream",
     "text": [
      "a red\n",
      "b orange\n",
      "c yellow\n",
      "d green\n"
     ]
    }
   ],
   "source": [
    "// to fix this\n",
    "giveMeFour(...colors)"
   ]
  },
  {
   "cell_type": "code",
   "execution_count": null,
   "id": "0ea35678-ea0e-40a1-acd4-9802dbec6c62",
   "metadata": {},
   "outputs": [],
   "source": []
  },
  {
   "cell_type": "code",
   "execution_count": 21,
   "id": "1a4dbbdf-277f-427e-ba5c-192f28049a82",
   "metadata": {},
   "outputs": [
    {
     "name": "stdout",
     "output_type": "stream",
     "text": [
      "a G\n",
      "b O\n",
      "c A\n",
      "d T\n"
     ]
    }
   ],
   "source": [
    "const str = 'GOAT'\n",
    "giveMeFour(...str)"
   ]
  },
  {
   "cell_type": "code",
   "execution_count": null,
   "id": "1f55d49e-26cb-49d5-9152-74fa35b4a253",
   "metadata": {},
   "outputs": [],
   "source": []
  },
  {
   "cell_type": "code",
   "execution_count": null,
   "id": "f7149ecd-8a2c-497f-8e8b-e0d274c19b46",
   "metadata": {},
   "outputs": [],
   "source": []
  },
  {
   "cell_type": "markdown",
   "id": "9b8dfe85-d931-4520-bcd9-27d6ec90179b",
   "metadata": {},
   "source": [
    "## SPREAD In Array Literals\n",
    "Creates a new array using an existing array. Spreads the elements from one array into a new array"
   ]
  },
  {
   "cell_type": "code",
   "execution_count": 22,
   "id": "f4354b83-553e-4aaf-9087-52f65c119227",
   "metadata": {},
   "outputs": [],
   "source": [
    "const nums1 = [1,2,3];\n",
    "const nums2 = [4,5,6];"
   ]
  },
  {
   "cell_type": "code",
   "execution_count": 23,
   "id": "b5db745b-0762-4fed-9333-d2a49f541a58",
   "metadata": {},
   "outputs": [
    {
     "data": {
      "text/plain": [
       "[ 1, 2, 3, 4, 5, 6 ]"
      ]
     },
     "execution_count": 23,
     "metadata": {},
     "output_type": "execute_result"
    }
   ],
   "source": [
    "[...nums1,...nums2]"
   ]
  },
  {
   "cell_type": "code",
   "execution_count": 24,
   "id": "a08e7a47-836b-46e6-8da7-16c93a4770a4",
   "metadata": {},
   "outputs": [
    {
     "data": {
      "text/plain": [
       "[ 'a', 'b', 4, 5, 6 ]"
      ]
     },
     "execution_count": 24,
     "metadata": {},
     "output_type": "execute_result"
    }
   ],
   "source": [
    "['a','b',...nums2]"
   ]
  },
  {
   "cell_type": "code",
   "execution_count": 25,
   "id": "8ef9e882-8836-4b24-91cc-4b468a294cd4",
   "metadata": {},
   "outputs": [
    {
     "data": {
      "text/plain": [
       "[\n",
       "  1, 2, 3, 4, 5,\n",
       "  6, 7, 8, 9\n",
       "]"
      ]
     },
     "execution_count": 25,
     "metadata": {},
     "output_type": "execute_result"
    }
   ],
   "source": [
    "[...nums1,...nums2,7,8,9];"
   ]
  },
  {
   "cell_type": "code",
   "execution_count": null,
   "id": "63a65334-a593-42ec-9fcf-9d07188ace79",
   "metadata": {},
   "outputs": [],
   "source": [
    " "
   ]
  },
  {
   "cell_type": "code",
   "execution_count": 26,
   "id": "6606dea9-998c-4a51-b6be-482a19eda941",
   "metadata": {},
   "outputs": [
    {
     "data": {
      "text/plain": [
       "[ 'a', 'b', 'c', 'd', 'e' ]"
      ]
     },
     "execution_count": 26,
     "metadata": {},
     "output_type": "execute_result"
    }
   ],
   "source": [
    "// we can also sread a string into the array\n",
    "[...\"abcde\"]"
   ]
  },
  {
   "cell_type": "code",
   "execution_count": 27,
   "id": "37ac2806-02ad-4ae7-998b-5c72ac1e0b69",
   "metadata": {},
   "outputs": [
    {
     "data": {
      "text/plain": [
       "[ 'a', 'b', 'c', 'd', 'e' ]"
      ]
     },
     "execution_count": 27,
     "metadata": {},
     "output_type": "execute_result"
    }
   ],
   "source": [
    "// another trad way is to use split\n",
    "'abcde'.split('')"
   ]
  },
  {
   "cell_type": "code",
   "execution_count": null,
   "id": "e02c72ea-cf51-4b91-b7e6-99019143a8fa",
   "metadata": {},
   "outputs": [],
   "source": []
  },
  {
   "cell_type": "code",
   "execution_count": null,
   "id": "c283bafd-1a98-4246-aed3-e25d073a71ad",
   "metadata": {},
   "outputs": [],
   "source": []
  },
  {
   "cell_type": "markdown",
   "id": "48d74a4a-6fb6-4923-9f2e-feed86063754",
   "metadata": {},
   "source": [
    "## Spread In Object Literals\n",
    "Copies properties from one object into another object literal"
   ]
  },
  {
   "cell_type": "code",
   "execution_count": 28,
   "id": "5a752f81-33fc-4b47-99b0-3cf2495e1dd3",
   "metadata": {},
   "outputs": [],
   "source": [
    "// consider the following object\n",
    "\n",
    "const feline = {legs : 4, family : 'Felidae'};\n",
    "const canine = {family : 'Caninae', furry : true};"
   ]
  },
  {
   "cell_type": "code",
   "execution_count": 29,
   "id": "4a273852-ace9-44c1-9a69-3c5cc8207824",
   "metadata": {},
   "outputs": [],
   "source": [
    "const dog = {...canine, isPet : true};"
   ]
  },
  {
   "cell_type": "code",
   "execution_count": 30,
   "id": "f030f48a-a61f-47ef-b969-c2b4d038f269",
   "metadata": {},
   "outputs": [
    {
     "data": {
      "text/plain": [
       "{ family: 'Caninae', furry: true, isPet: true }"
      ]
     },
     "execution_count": 30,
     "metadata": {},
     "output_type": "execute_result"
    }
   ],
   "source": [
    "dog"
   ]
  },
  {
   "cell_type": "code",
   "execution_count": 31,
   "id": "294d133f-4577-4e2b-8a01-189a8af10dce",
   "metadata": {},
   "outputs": [],
   "source": [
    "const lion = {...feline, genus : 'Panthera'}"
   ]
  },
  {
   "cell_type": "code",
   "execution_count": 32,
   "id": "45d8fc4e-3454-4d99-92c5-fefdb0aa8924",
   "metadata": {},
   "outputs": [
    {
     "data": {
      "text/plain": [
       "{ legs: 4, family: 'Felidae', genus: 'Panthera' }"
      ]
     },
     "execution_count": 32,
     "metadata": {},
     "output_type": "execute_result"
    }
   ],
   "source": [
    "lion"
   ]
  },
  {
   "cell_type": "code",
   "execution_count": 33,
   "id": "d16c29f2-213c-42d0-9f51-198bcfca7ec8",
   "metadata": {},
   "outputs": [],
   "source": [
    "const catDog = {...dog,...lion}"
   ]
  },
  {
   "cell_type": "code",
   "execution_count": 34,
   "id": "cd682907-eb29-439d-9138-42ba09c9ccd5",
   "metadata": {},
   "outputs": [
    {
     "data": {
      "text/plain": [
       "{\n",
       "  family: 'Felidae',\n",
       "  furry: true,\n",
       "  isPet: true,\n",
       "  legs: 4,\n",
       "  genus: 'Panthera'\n",
       "}"
      ]
     },
     "execution_count": 34,
     "metadata": {},
     "output_type": "execute_result"
    }
   ],
   "source": [
    "catDog"
   ]
  },
  {
   "cell_type": "code",
   "execution_count": null,
   "id": "4ad85381-5b32-485f-b20d-eb1199fbdd3a",
   "metadata": {},
   "outputs": [],
   "source": []
  },
  {
   "cell_type": "code",
   "execution_count": null,
   "id": "a4db8065-c4a4-4a53-9a38-120f85c89e7d",
   "metadata": {},
   "outputs": [],
   "source": []
  },
  {
   "cell_type": "markdown",
   "id": "42d3ce3b-f1d6-4cc6-8904-5fb071e36dce",
   "metadata": {},
   "source": [
    "## **REST**\n",
    "Looks like spread, but it's not"
   ]
  },
  {
   "cell_type": "code",
   "execution_count": 35,
   "id": "92ad0eb9-8fcc-4d2b-b365-f5b932ded28d",
   "metadata": {},
   "outputs": [
    {
     "data": {
      "text/plain": [
       "6"
      ]
     },
     "execution_count": 35,
     "metadata": {},
     "output_type": "execute_result"
    }
   ],
   "source": [
    "// rememner\n",
    "Math.max(1,2,3,4,5,6)"
   ]
  },
  {
   "cell_type": "code",
   "execution_count": 36,
   "id": "2e887873-782c-434b-89e4-07e2e7584c7d",
   "metadata": {},
   "outputs": [],
   "source": [
    "// we want to support any number of parameters\n",
    "function sum(x,y){\n",
    "\n",
    "}"
   ]
  },
  {
   "cell_type": "markdown",
   "id": "95a957a1-83e7-4756-99fc-bbb4c105d10c",
   "metadata": {},
   "source": [
    "### **THE ARGUMENTS OBJECT**\n",
    "* Available inside every function\n",
    "* It's an array-like object\n",
    "* Contains all the arguments passed to the function\n",
    "* Not available inside of arrow functions"
   ]
  },
  {
   "cell_type": "code",
   "execution_count": 37,
   "id": "d595b336-5b31-42ad-8487-7d8aab7b3672",
   "metadata": {},
   "outputs": [],
   "source": [
    "function sum(){\n",
    "    console.log(arguments)\n",
    "}"
   ]
  },
  {
   "cell_type": "code",
   "execution_count": 38,
   "id": "4802b2f3-f249-434a-80d1-b39c2aea8d00",
   "metadata": {},
   "outputs": [
    {
     "name": "stdout",
     "output_type": "stream",
     "text": [
      "[Arguments] {}\n"
     ]
    }
   ],
   "source": [
    "sum()"
   ]
  },
  {
   "cell_type": "code",
   "execution_count": 39,
   "id": "b174425e-4b67-43b2-8835-e1dd99f94440",
   "metadata": {},
   "outputs": [
    {
     "name": "stdout",
     "output_type": "stream",
     "text": [
      "[Arguments] { '0': 2, '1': 3, '2': 4, '3': 5, '4': 6, '5': 7 }\n"
     ]
    }
   ],
   "source": [
    "sum(2,3,4,5,6,7)"
   ]
  },
  {
   "cell_type": "code",
   "execution_count": 40,
   "id": "05475848-8423-47ac-81bc-8b74f9c8d3bd",
   "metadata": {},
   "outputs": [],
   "source": [
    "function sum(){\n",
    "    arguments.reduce((total,currVal) => {\n",
    "        total + currVal\n",
    "    })\n",
    "}"
   ]
  },
  {
   "cell_type": "code",
   "execution_count": 41,
   "id": "4a20a729-b92c-4038-93a5-4264f539a50a",
   "metadata": {},
   "outputs": [
    {
     "ename": "TypeError",
     "evalue": "arguments.reduce is not a function",
     "execution_count": 41,
     "output_type": "error",
     "traceback": [
      "evalmachine.<anonymous>:2",
      "    arguments.reduce((total,currVal) => {",
      "              ^",
      "",
      "TypeError: arguments.reduce is not a function",
      "    at sum (evalmachine.<anonymous>:2:15)",
      "    at evalmachine.<anonymous>:1:1",
      "    at Script.runInThisContext (node:vm:129:12)",
      "    at Object.runInThisContext (node:vm:307:38)",
      "    at run ([eval]:1020:15)",
      "    at onRunRequest ([eval]:864:18)",
      "    at onMessage ([eval]:828:13)",
      "    at process.emit (node:events:513:28)",
      "    at emit (node:internal/child_process:937:14)",
      "    at process.processTicksAndRejections (node:internal/process/task_queues:83:21)"
     ]
    }
   ],
   "source": [
    "sum(6,7,5,6,4)"
   ]
  },
  {
   "cell_type": "code",
   "execution_count": 42,
   "id": "13d49b64-e72c-43f7-aaab-33215fcaab4a",
   "metadata": {},
   "outputs": [],
   "source": [
    "//  see, arguments is not actually an array, it's just an array like object\n",
    "// maybe, let's turn it to an array\n",
    "function sum(){\n",
    "    const argsArr = [...arguments]\n",
    "    console.log(arguments)\n",
    "}"
   ]
  },
  {
   "cell_type": "code",
   "execution_count": 43,
   "id": "cc613f09-ce09-4585-8904-a6b556a878df",
   "metadata": {},
   "outputs": [
    {
     "name": "stdout",
     "output_type": "stream",
     "text": [
      "[Arguments] { '0': 1, '1': 2, '2': 3 }\n"
     ]
    }
   ],
   "source": [
    "sum(1,2,3)"
   ]
  },
  {
   "cell_type": "code",
   "execution_count": 44,
   "id": "1f179c22-9430-46a8-9d20-ead4e122be5a",
   "metadata": {},
   "outputs": [],
   "source": [
    "// arguments object, dows not work with arrow functions"
   ]
  },
  {
   "cell_type": "code",
   "execution_count": null,
   "id": "cf765f80-6736-4d19-a3f1-885b5fe7349b",
   "metadata": {},
   "outputs": [],
   "source": []
  },
  {
   "cell_type": "markdown",
   "id": "bfa106d4-2db3-4139-a571-b6d80c008eed",
   "metadata": {},
   "source": [
    "### REST"
   ]
  },
  {
   "cell_type": "code",
   "execution_count": 45,
   "id": "f8226881-cc75-4dd2-b2d7-4233c78ef83a",
   "metadata": {},
   "outputs": [],
   "source": [
    "// we just put the dots into the parameter list of the function\n",
    "\n",
    "// consider\n",
    "function sum(...nums){\n",
    "    return nums.reduce((total,num) => total+num)\n",
    "}"
   ]
  },
  {
   "cell_type": "code",
   "execution_count": 46,
   "id": "a7a03de2-556d-4a5a-a720-e3cd3468dec3",
   "metadata": {},
   "outputs": [
    {
     "data": {
      "text/plain": [
       "28"
      ]
     },
     "execution_count": 46,
     "metadata": {},
     "output_type": "execute_result"
    }
   ],
   "source": [
    "sum(1,2,3,4,5,6,7)"
   ]
  },
  {
   "cell_type": "code",
   "execution_count": 47,
   "id": "94ed2b72-e40f-4c28-9920-12d878a24949",
   "metadata": {},
   "outputs": [],
   "source": [
    "// we can use it to collect the remaining arguments"
   ]
  },
  {
   "cell_type": "code",
   "execution_count": 48,
   "id": "3ea9637a-aa12-4bc1-89a9-66ae01f6233a",
   "metadata": {},
   "outputs": [],
   "source": [
    "function fullName(first, last, ...otherNames){\n",
    "    console.log('fist',first);\n",
    "    console.log('last',last);\n",
    "    console.log('Other',otherNames)\n",
    "}"
   ]
  },
  {
   "cell_type": "code",
   "execution_count": 49,
   "id": "d486f351-dea7-4f4a-9ceb-cf7ef34c6d77",
   "metadata": {},
   "outputs": [
    {
     "name": "stdout",
     "output_type": "stream",
     "text": [
      "fist Joseph\n",
      "last Gabriel\n",
      "Other [ 'Maneno' ]\n"
     ]
    }
   ],
   "source": [
    "fullName('Joseph','Gabriel','Maneno')"
   ]
  },
  {
   "cell_type": "code",
   "execution_count": 50,
   "id": "8b8c4b9d-72d8-4daa-af84-06fc1918d7aa",
   "metadata": {},
   "outputs": [],
   "source": [
    "const prodct = (...nums) => (nums.reduce((total,currValue) => total * currValue))"
   ]
  },
  {
   "cell_type": "code",
   "execution_count": 51,
   "id": "2c47f585-6f7f-443d-b592-b0f33784026e",
   "metadata": {},
   "outputs": [
    {
     "data": {
      "text/plain": [
       "60"
      ]
     },
     "execution_count": 51,
     "metadata": {},
     "output_type": "execute_result"
    }
   ],
   "source": [
    "prodct(3,4,5)"
   ]
  },
  {
   "cell_type": "code",
   "execution_count": null,
   "id": "d8766c5e-e871-48d0-9cff-a85b311778c8",
   "metadata": {},
   "outputs": [],
   "source": []
  },
  {
   "cell_type": "code",
   "execution_count": null,
   "id": "c58ed6e1-4eba-4098-9490-0098a8d1b815",
   "metadata": {},
   "outputs": [],
   "source": []
  },
  {
   "cell_type": "markdown",
   "id": "3e4fcc54-6e65-40ea-866a-ec5676231713",
   "metadata": {},
   "source": [
    "## **DESTRUCTURING**\n",
    "A short, clean syntax to 'unpack':\n",
    "* Values from arrays\n",
    "* Properties from objects\n",
    "Into distinct variables"
   ]
  },
  {
   "cell_type": "code",
   "execution_count": 52,
   "id": "c763e79e-f5dd-41f3-a12a-c599af23ed74",
   "metadata": {},
   "outputs": [],
   "source": [
    "// A nice way to upack values from data structure from into an a variable"
   ]
  },
  {
   "cell_type": "code",
   "execution_count": null,
   "id": "4dba7f64-94e0-4913-b3b4-b831aecaf0fb",
   "metadata": {},
   "outputs": [],
   "source": []
  },
  {
   "cell_type": "markdown",
   "id": "241edfd9-f9fa-46bc-b7c4-9bc5373835fe",
   "metadata": {},
   "source": [
    "### DESTRUCTURING ARRAY"
   ]
  },
  {
   "cell_type": "code",
   "execution_count": 53,
   "id": "58cce11e-31ef-4185-ae05-6393e004b7fb",
   "metadata": {},
   "outputs": [],
   "source": [
    "const raceResults = [\n",
    "    'Eliud Kipchoge',\n",
    "    'Feyisa Lelisa',\n",
    "    'Galen Rupp',\n",
    "    'Ghirmay Ghebreslassie',\n",
    "    'Alphonce Simbu',\n",
    "    'Jared Ward'\n",
    "];"
   ]
  },
  {
   "cell_type": "code",
   "execution_count": null,
   "id": "ac772fe5-932a-427c-a588-9128e4082300",
   "metadata": {},
   "outputs": [],
   "source": []
  },
  {
   "cell_type": "code",
   "execution_count": 54,
   "id": "05aa0a61-68bf-42c1-b252-247c2365b769",
   "metadata": {},
   "outputs": [],
   "source": [
    "const[silver,gold,bronze] = raceResults;"
   ]
  },
  {
   "cell_type": "code",
   "execution_count": 55,
   "id": "72754f7a-8454-4b9a-95c3-f1a985974235",
   "metadata": {},
   "outputs": [
    {
     "data": {
      "text/plain": [
       "'Eliud Kipchoge'"
      ]
     },
     "execution_count": 55,
     "metadata": {},
     "output_type": "execute_result"
    }
   ],
   "source": [
    "silver"
   ]
  },
  {
   "cell_type": "code",
   "execution_count": 56,
   "id": "1a225577-402a-47e8-b668-1fed3b290655",
   "metadata": {},
   "outputs": [
    {
     "data": {
      "text/plain": [
       "'Feyisa Lelisa'"
      ]
     },
     "execution_count": 56,
     "metadata": {},
     "output_type": "execute_result"
    }
   ],
   "source": [
    "gold"
   ]
  },
  {
   "cell_type": "code",
   "execution_count": 57,
   "id": "20303250-c22a-46fa-a366-92f07f386c06",
   "metadata": {},
   "outputs": [
    {
     "data": {
      "text/plain": [
       "'Galen Rupp'"
      ]
     },
     "execution_count": 57,
     "metadata": {},
     "output_type": "execute_result"
    }
   ],
   "source": [
    "bronze"
   ]
  },
  {
   "cell_type": "code",
   "execution_count": null,
   "id": "bc587d6f-10d1-48a7-a0a1-d5394c8f1292",
   "metadata": {},
   "outputs": [],
   "source": []
  },
  {
   "cell_type": "code",
   "execution_count": 58,
   "id": "1c7eb6b6-3b45-4a4a-b3f9-b151c99477a8",
   "metadata": {},
   "outputs": [],
   "source": [
    "const [first,,,,fourth] = raceResults;"
   ]
  },
  {
   "cell_type": "code",
   "execution_count": 59,
   "id": "6400ce0c-c1fc-489b-a9cd-a6b01fad74d5",
   "metadata": {},
   "outputs": [
    {
     "data": {
      "text/plain": [
       "'Eliud Kipchoge'"
      ]
     },
     "execution_count": 59,
     "metadata": {},
     "output_type": "execute_result"
    }
   ],
   "source": [
    "first"
   ]
  },
  {
   "cell_type": "code",
   "execution_count": 60,
   "id": "129c65bd-d8ec-4674-8d06-7f7c1dccacad",
   "metadata": {},
   "outputs": [
    {
     "data": {
      "text/plain": [
       "'Alphonce Simbu'"
      ]
     },
     "execution_count": 60,
     "metadata": {},
     "output_type": "execute_result"
    }
   ],
   "source": [
    "fourth"
   ]
  },
  {
   "cell_type": "code",
   "execution_count": 61,
   "id": "9a80368b-18b0-4da5-b6bb-54f7d6e929bc",
   "metadata": {},
   "outputs": [],
   "source": [
    "const [winner,...others] = raceResults;"
   ]
  },
  {
   "cell_type": "code",
   "execution_count": 62,
   "id": "c6b2ffae-155f-44b0-b9f9-56957f84efa1",
   "metadata": {},
   "outputs": [
    {
     "data": {
      "text/plain": [
       "'Eliud Kipchoge'"
      ]
     },
     "execution_count": 62,
     "metadata": {},
     "output_type": "execute_result"
    }
   ],
   "source": [
    "winner"
   ]
  },
  {
   "cell_type": "code",
   "execution_count": 63,
   "id": "19de303f-ae32-422f-85b0-06e7de594da5",
   "metadata": {},
   "outputs": [
    {
     "data": {
      "text/plain": [
       "[\n",
       "  'Feyisa Lelisa',\n",
       "  'Galen Rupp',\n",
       "  'Ghirmay Ghebreslassie',\n",
       "  'Alphonce Simbu',\n",
       "  'Jared Ward'\n",
       "]"
      ]
     },
     "execution_count": 63,
     "metadata": {},
     "output_type": "execute_result"
    }
   ],
   "source": [
    "others"
   ]
  },
  {
   "cell_type": "code",
   "execution_count": null,
   "id": "c6de1f19-e22f-4b5d-81cf-f6aa451c87bb",
   "metadata": {},
   "outputs": [],
   "source": []
  },
  {
   "cell_type": "code",
   "execution_count": null,
   "id": "cd89f3f3-54a7-4887-b234-b46bf77406e9",
   "metadata": {},
   "outputs": [],
   "source": []
  },
  {
   "cell_type": "markdown",
   "id": "bb266869-209c-426d-b1de-e38d0ea0cd8c",
   "metadata": {},
   "source": [
    "### **OBJECT DESTRUCTURING**"
   ]
  },
  {
   "cell_type": "code",
   "execution_count": 13,
   "id": "87835e15-1724-4677-84a6-8bc123c712a4",
   "metadata": {},
   "outputs": [],
   "source": [
    "const runner = {\n",
    "    first : 'Eliud',\n",
    "    last : 'Kipchoge',\n",
    "    country : 'Kenya',\n",
    "    title : 'Elder of the Order of the golden heart in kenya'\n",
    "}"
   ]
  },
  {
   "cell_type": "code",
   "execution_count": 65,
   "id": "ba5f1a9e-dbca-4929-921e-b3bdc7530d24",
   "metadata": {},
   "outputs": [],
   "source": [
    "const {fist,last,title} = runner;"
   ]
  },
  {
   "cell_type": "code",
   "execution_count": 66,
   "id": "73d10853-90cf-40f2-9085-a57a43b19591",
   "metadata": {},
   "outputs": [
    {
     "data": {
      "text/plain": [
       "'Eliud Kipchoge'"
      ]
     },
     "execution_count": 66,
     "metadata": {},
     "output_type": "execute_result"
    }
   ],
   "source": [
    "first"
   ]
  },
  {
   "cell_type": "code",
   "execution_count": 67,
   "id": "ba502f10-eff4-49a8-bf3c-df87090bca36",
   "metadata": {},
   "outputs": [
    {
     "data": {
      "text/plain": [
       "'Kipchoge'"
      ]
     },
     "execution_count": 67,
     "metadata": {},
     "output_type": "execute_result"
    }
   ],
   "source": [
    "last"
   ]
  },
  {
   "cell_type": "code",
   "execution_count": 68,
   "id": "3acaaca9-028e-45eb-afa9-87463e57d003",
   "metadata": {},
   "outputs": [
    {
     "data": {
      "text/plain": [
       "'Elder of the Order of the golden heart in kenya'"
      ]
     },
     "execution_count": 68,
     "metadata": {},
     "output_type": "execute_result"
    }
   ],
   "source": [
    "title"
   ]
  },
  {
   "cell_type": "code",
   "execution_count": null,
   "id": "bbc7cfda-f3ed-426a-9ee3-6ea4f0ce6daf",
   "metadata": {},
   "outputs": [],
   "source": [
    " "
   ]
  },
  {
   "cell_type": "code",
   "execution_count": 69,
   "id": "5cde3f9f-8d55-401e-b84a-16515fdcb0c8",
   "metadata": {},
   "outputs": [],
   "source": [
    "// we can give new names though\n",
    "const {country : nation} = runner;"
   ]
  },
  {
   "cell_type": "code",
   "execution_count": 70,
   "id": "c601bf1e-fbc4-481b-b6f7-c01591fe5c19",
   "metadata": {},
   "outputs": [
    {
     "data": {
      "text/plain": [
       "'Kenya'"
      ]
     },
     "execution_count": 70,
     "metadata": {},
     "output_type": "execute_result"
    }
   ],
   "source": [
    "nation"
   ]
  },
  {
   "cell_type": "code",
   "execution_count": 71,
   "id": "3eac947e-04b2-42a8-913e-dacc6553d7da",
   "metadata": {},
   "outputs": [],
   "source": [
    "const {title:honorific} = runner;"
   ]
  },
  {
   "cell_type": "code",
   "execution_count": 72,
   "id": "1292d770-5470-46e9-9db8-df62fd66c60e",
   "metadata": {},
   "outputs": [
    {
     "data": {
      "text/plain": [
       "'Elder of the Order of the golden heart in kenya'"
      ]
     },
     "execution_count": 72,
     "metadata": {},
     "output_type": "execute_result"
    }
   ],
   "source": [
    "honorific"
   ]
  },
  {
   "cell_type": "code",
   "execution_count": null,
   "id": "88187eb5-96f5-431d-8270-7cd76999674c",
   "metadata": {},
   "outputs": [],
   "source": []
  },
  {
   "cell_type": "code",
   "execution_count": null,
   "id": "247f07c4-2b5e-4795-a3cc-e0ebef244c64",
   "metadata": {},
   "outputs": [],
   "source": []
  },
  {
   "cell_type": "markdown",
   "id": "e3f883e7-23e5-45aa-a797-fd9cbcfb71ac",
   "metadata": {},
   "source": [
    "### NESTED DESTRUCTURING"
   ]
  },
  {
   "cell_type": "code",
   "execution_count": 2,
   "id": "a079da47-ce75-4d37-8e8c-475aeeaf9599",
   "metadata": {},
   "outputs": [],
   "source": [
    "const results = [\n",
    "    {\n",
    "        first : 'Eliud',\n",
    "        last : 'Kipchoge',\n",
    "        country : 'Kenya'\n",
    "    },\n",
    "    {\n",
    "        fist : 'Feyisa',\n",
    "        last : 'Lilesa',\n",
    "        country : 'Ethioppia'\n",
    "    },\n",
    "    {\n",
    "        first : 'Galen',\n",
    "        last : 'Rupp',\n",
    "        country : 'United States'\n",
    "    }\n",
    "]"
   ]
  },
  {
   "cell_type": "code",
   "execution_count": 3,
   "id": "4afd5512-5080-4d22-a977-6fbb2c6b3f9f",
   "metadata": {},
   "outputs": [],
   "source": [
    "const [,{country}] = results;"
   ]
  },
  {
   "cell_type": "code",
   "execution_count": 4,
   "id": "7a380c84-04cc-4fb5-9db1-7908fc027edb",
   "metadata": {},
   "outputs": [
    {
     "data": {
      "text/plain": [
       "'Ethioppia'"
      ]
     },
     "execution_count": 4,
     "metadata": {},
     "output_type": "execute_result"
    }
   ],
   "source": [
    "country"
   ]
  },
  {
   "cell_type": "code",
   "execution_count": 5,
   "id": "b22192ca-b399-4ee1-b9e9-ce36fdaa827c",
   "metadata": {},
   "outputs": [],
   "source": [
    "const [{first:goldWinner}] = results;"
   ]
  },
  {
   "cell_type": "code",
   "execution_count": 6,
   "id": "78064571-4754-4028-aa96-f1a618c986cb",
   "metadata": {},
   "outputs": [
    {
     "data": {
      "text/plain": [
       "'Eliud'"
      ]
     },
     "execution_count": 6,
     "metadata": {},
     "output_type": "execute_result"
    }
   ],
   "source": [
    "goldWinner"
   ]
  },
  {
   "cell_type": "code",
   "execution_count": null,
   "id": "e75dd41d-bc80-4515-ba58-4516fd7d1a8f",
   "metadata": {},
   "outputs": [],
   "source": []
  },
  {
   "cell_type": "code",
   "execution_count": null,
   "id": "e8b01a47-e76d-48b0-88a9-425c0344c567",
   "metadata": {},
   "outputs": [],
   "source": []
  },
  {
   "cell_type": "markdown",
   "id": "55cc8898-966b-4b7a-a2a9-a20cfc064c1e",
   "metadata": {},
   "source": [
    "### **Destructuring Parameters**"
   ]
  },
  {
   "cell_type": "code",
   "execution_count": 14,
   "id": "fc1a3223-9147-41c2-b339-1b9c3fabc906",
   "metadata": {},
   "outputs": [],
   "source": [
    "function print(person){\n",
    "    const {first, last, title} = person;\n",
    "    console.log(`${first} ${last} ${title}`)\n",
    "}"
   ]
  },
  {
   "cell_type": "code",
   "execution_count": 15,
   "id": "550d0abc-8c92-4748-8ed2-634003e70d10",
   "metadata": {},
   "outputs": [
    {
     "name": "stdout",
     "output_type": "stream",
     "text": [
      "Eliud Kipchoge Elder of the Order of the golden heart in kenya\n"
     ]
    }
   ],
   "source": [
    "print(runner)"
   ]
  },
  {
   "cell_type": "code",
   "execution_count": 16,
   "id": "f602e812-dd6b-4962-b932-22f1744da22e",
   "metadata": {},
   "outputs": [],
   "source": [
    "function print({first,last,title}){\n",
    "    console.log(`${first} ${last} ${title}`)\n",
    "}"
   ]
  },
  {
   "cell_type": "code",
   "execution_count": 17,
   "id": "72ec3b63-0e20-4e55-a80f-6c35812672c1",
   "metadata": {},
   "outputs": [
    {
     "name": "stdout",
     "output_type": "stream",
     "text": [
      "Eliud Kipchoge Elder of the Order of the golden heart in kenya\n"
     ]
    }
   ],
   "source": [
    "print(runner)"
   ]
  },
  {
   "cell_type": "code",
   "execution_count": null,
   "id": "1268a988-c318-4f4a-92a9-190d17605e4a",
   "metadata": {},
   "outputs": [],
   "source": []
  },
  {
   "cell_type": "code",
   "execution_count": 18,
   "id": "74cdf1bc-d0ae-4f5e-b256-6cb712b1f75d",
   "metadata": {},
   "outputs": [],
   "source": [
    "const response = [\n",
    "    'HTTP/1.1',\n",
    "    '200 OK',\n",
    "    'application/json',\n",
    "]"
   ]
  },
  {
   "cell_type": "code",
   "execution_count": 21,
   "id": "05ae61f3-c1ae-48e3-a171-3b39174ca7d9",
   "metadata": {},
   "outputs": [],
   "source": [
    "function parseResponse([protocal,statusCode,contentType]){\n",
    "    console.log('Protocal : ',protocal)\n",
    "    console.log('Status Code : ',statusCode)\n",
    "    console.log('Content Type : ',contentType)\n",
    "}"
   ]
  },
  {
   "cell_type": "code",
   "execution_count": 22,
   "id": "a8d1fd97-6213-4668-88ed-6f9cd1f08c77",
   "metadata": {},
   "outputs": [
    {
     "name": "stdout",
     "output_type": "stream",
     "text": [
      "Protocal :  HTTP/1.1\n",
      "Status Code :  200 OK\n",
      "Content Type :  application/json\n"
     ]
    }
   ],
   "source": [
    "parseResponse(response)"
   ]
  },
  {
   "cell_type": "code",
   "execution_count": null,
   "id": "5c6b553e-317e-44b9-a07e-de1975c65052",
   "metadata": {},
   "outputs": [],
   "source": []
  }
 ],
 "metadata": {
  "kernelspec": {
   "display_name": "JavaScript (Node.js)",
   "language": "javascript",
   "name": "javascript"
  },
  "language_info": {
   "file_extension": ".js",
   "mimetype": "application/javascript",
   "name": "javascript",
   "version": "18.15.0"
  }
 },
 "nbformat": 4,
 "nbformat_minor": 5
}
