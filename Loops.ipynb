{
 "cells": [
  {
   "cell_type": "markdown",
   "id": "1807fe6d-5e0b-4ddb-a468-ec18ecf54641",
   "metadata": {},
   "source": [
    "<center><h1><b>The World of Loops</b></h1></center>"
   ]
  },
  {
   "cell_type": "markdown",
   "id": "1616a88c-ce8e-4e4f-9b8e-6d3d82f1ecc5",
   "metadata": {},
   "source": [
    "# **Goals**\n",
    "- Write for loops\n",
    "- Write while loops\n",
    "- Avoid Infinite Loops\n",
    "- Iterate over arrays and objects"
   ]
  },
  {
   "cell_type": "markdown",
   "id": "b5ca1d51-e79a-4aca-b256-0eb9f825b44e",
   "metadata": {},
   "source": [
    "## **LOOPS**\n",
    "### **Doing things repeatedly**\n",
    "\n",
    "#### Loops allow us to repeat code\n",
    "- 'Pring 'hello' 10 times\n",
    "- Sum all numbers in an array\n",
    "#### There are multiple types of loop\n",
    "- for loop\n",
    "- while loop\n",
    "- for. . .of loop\n",
    "- for. . .in loop"
   ]
  },
  {
   "cell_type": "markdown",
   "id": "2d57e8ec-29d0-4836-be96-4c424dfe9135",
   "metadata": {},
   "source": []
  },
  {
   "cell_type": "markdown",
   "id": "97a3e7b2-fcac-4c6b-a827-5c9962c7a673",
   "metadata": {},
   "source": [
    "## **FOR LOOPS**"
   ]
  },
  {
   "cell_type": "code",
   "execution_count": 2,
   "id": "a8076bba-8f1f-4242-ba80-185afef2d84f",
   "metadata": {},
   "outputs": [],
   "source": [
    "/* syntax \n",
    "\n",
    "for(initialExpression;condition;incrementExpression){\n",
    "    block of code;\n",
    "}\n",
    "*/"
   ]
  },
  {
   "cell_type": "code",
   "execution_count": 3,
   "id": "e7d1e6b9-d850-4ebe-897f-69e5bb7e339f",
   "metadata": {},
   "outputs": [],
   "source": [
    "// now let's try something"
   ]
  },
  {
   "cell_type": "code",
   "execution_count": 6,
   "id": "bc2f608d-fe44-48f8-b4d0-7dd44f5aaf4f",
   "metadata": {},
   "outputs": [
    {
     "name": "stdout",
     "output_type": "stream",
     "text": [
      "Hello 1\n",
      "Hello 2\n",
      "Hello 3\n",
      "Hello 4\n",
      "Hello 5\n",
      "Hello 6\n",
      "Hello 7\n",
      "Hello 8\n",
      "Hello 9\n",
      "Hello 10\n"
     ]
    }
   ],
   "source": [
    "for(let i = 1; i<=10; i++){\n",
    "    console.log(`Hello ${i}`);\n",
    "}\n"
   ]
  },
  {
   "cell_type": "code",
   "execution_count": null,
   "id": "973c3dac-af86-4b86-9398-2864da349d3d",
   "metadata": {},
   "outputs": [],
   "source": []
  },
  {
   "cell_type": "code",
   "execution_count": 9,
   "id": "44a3b50c-9002-4b71-8179-877e246fe2ee",
   "metadata": {},
   "outputs": [
    {
     "name": "stdout",
     "output_type": "stream",
     "text": [
      "1 * 1 = 1\n",
      "2 * 2 = 4\n",
      "3 * 3 = 9\n",
      "4 * 4 = 16\n",
      "5 * 5 = 25\n",
      "6 * 6 = 36\n",
      "7 * 7 = 49\n",
      "8 * 8 = 64\n",
      "9 * 9 = 81\n",
      "10 * 10 = 100\n",
      "11 * 11 = 121\n",
      "12 * 12 = 144\n",
      "13 * 13 = 169\n",
      "14 * 14 = 196\n",
      "15 * 15 = 225\n",
      "16 * 16 = 256\n",
      "17 * 17 = 289\n",
      "18 * 18 = 324\n",
      "19 * 19 = 361\n",
      "20 * 20 = 400\n"
     ]
    }
   ],
   "source": [
    "for(let num = 1; num <= 20; num++){\n",
    "    console.log(`${num} * ${num} = ${num*num}`);\n",
    "}"
   ]
  },
  {
   "cell_type": "code",
   "execution_count": null,
   "id": "6c8fe21a-b838-4555-a4d6-c18a8bcbc11c",
   "metadata": {},
   "outputs": [],
   "source": []
  },
  {
   "cell_type": "code",
   "execution_count": 11,
   "id": "e59a3156-ff73-4b68-8635-5e13db69e0cb",
   "metadata": {},
   "outputs": [
    {
     "name": "stdout",
     "output_type": "stream",
     "text": [
      "10\n",
      "9\n",
      "8\n",
      "7\n",
      "6\n",
      "5\n",
      "4\n",
      "3\n",
      "2\n",
      "1\n",
      "0\n"
     ]
    }
   ],
   "source": [
    "// we can also go to an opposite direction\n",
    "for(let i = 10; i>=0; i--){\n",
    "    console.log(i);\n",
    "}"
   ]
  },
  {
   "cell_type": "code",
   "execution_count": null,
   "id": "38e12b1c-5d06-4f49-9dda-90393b29ebbe",
   "metadata": {},
   "outputs": [],
   "source": []
  },
  {
   "cell_type": "markdown",
   "id": "9b67334c-5df6-4dc1-8cf3-f6c38b8ca050",
   "metadata": {},
   "source": [
    "## **Infinite Loops!**"
   ]
  },
  {
   "cell_type": "code",
   "execution_count": 12,
   "id": "223511ba-fc8f-4097-b971-9a643d2096a5",
   "metadata": {},
   "outputs": [],
   "source": [
    "// An infinite loop is something you'd want to avoid\n",
    "// but let's try and create one an infinite loop"
   ]
  },
  {
   "cell_type": "code",
   "execution_count": null,
   "id": "8d834dd3-bea2-421e-9203-8abc85f88dfb",
   "metadata": {},
   "outputs": [],
   "source": [
    "for(let i = 0; ; i+=2){\n",
    "    console.log(i);\n",
    "}"
   ]
  },
  {
   "cell_type": "code",
   "execution_count": 1,
   "id": "9e231f57-efb0-457b-a4ca-44dd9b302e83",
   "metadata": {},
   "outputs": [],
   "source": [
    "//"
   ]
  },
  {
   "cell_type": "code",
   "execution_count": null,
   "id": "c4154362-096b-4295-9753-36ed2935a449",
   "metadata": {},
   "outputs": [],
   "source": [
    "for(let i = 100; i >= 0; i--){\n",
    "    console.log(i);\n",
    "}"
   ]
  },
  {
   "cell_type": "code",
   "execution_count": null,
   "id": "116e0488-abc8-45b9-a467-2182ee8ffed6",
   "metadata": {},
   "outputs": [],
   "source": []
  },
  {
   "cell_type": "code",
   "execution_count": null,
   "id": "15477ff6-a68d-46df-bbed-9e82af84504a",
   "metadata": {},
   "outputs": [],
   "source": []
  },
  {
   "cell_type": "markdown",
   "id": "eb2363ef-f9ce-42e6-8263-b70d870b57af",
   "metadata": {},
   "source": [
    "## **FOR LOOPS + ARRAYS**\n",
    "- To loop over an array, start at 0 and continue to the last index (length - 1)"
   ]
  },
  {
   "cell_type": "code",
   "execution_count": 2,
   "id": "5cdc8fb1-9d93-46bb-bdd7-3a36ab9e38ed",
   "metadata": {},
   "outputs": [
    {
     "name": "stdout",
     "output_type": "stream",
     "text": [
      "lions\n",
      "tigers\n",
      "bears\n"
     ]
    }
   ],
   "source": [
    "// consider this as an example\n",
    "\n",
    "const animals = ['lions','tigers','bears'];\n",
    "\n",
    "for(let i = 0; i < animals.length; i++){\n",
    "    console.log(animals[i]);\n",
    "}"
   ]
  },
  {
   "cell_type": "code",
   "execution_count": 5,
   "id": "f153799f-4a79-4270-aeea-6e5c8fea3bdb",
   "metadata": {},
   "outputs": [
    {
     "name": "stdout",
     "output_type": "stream",
     "text": [
      "0\n",
      "1\n",
      "2\n",
      "3\n",
      "4\n",
      "5\n"
     ]
    }
   ],
   "source": [
    "// another example\n",
    "const examScores = [98,77,84,91,57,66];\n",
    "\n",
    "for(let i=0; i< examScores.length; i++){\n",
    "    console.log(i);\n",
    "}"
   ]
  },
  {
   "cell_type": "code",
   "execution_count": null,
   "id": "5e87ad97-4073-4fe3-977e-6bb2608bb9fa",
   "metadata": {},
   "outputs": [],
   "source": []
  },
  {
   "cell_type": "code",
   "execution_count": 1,
   "id": "c8b49a47-f2cf-49cb-8d4f-25cf089e6d5a",
   "metadata": {},
   "outputs": [],
   "source": [
    "// let's try something more. An array of objects"
   ]
  },
  {
   "cell_type": "code",
   "execution_count": 1,
   "id": "f96f91f7-15a3-4379-bfb7-260e08f1dddb",
   "metadata": {},
   "outputs": [],
   "source": [
    "const myStudents = [\n",
    "    {\n",
    "        firstName : 'Zeus',\n",
    "        grade     : 86\n",
    "    },\n",
    "    {\n",
    "        firstName : 'Artemis',\n",
    "        grade     : 97\n",
    "    },\n",
    "    {\n",
    "        firstName : 'Hera',\n",
    "        grade     : 72\n",
    "    },\n",
    "    {\n",
    "        firstName : 'Appolo',\n",
    "        grade     : 90\n",
    "    }     \n",
    "];"
   ]
  },
  {
   "cell_type": "code",
   "execution_count": 3,
   "id": "424a9a4c-6fe9-4515-b60f-ab88e425e033",
   "metadata": {},
   "outputs": [
    {
     "data": {
      "text/plain": [
       "4"
      ]
     },
     "execution_count": 3,
     "metadata": {},
     "output_type": "execute_result"
    }
   ],
   "source": [
    "myStudents.length"
   ]
  },
  {
   "cell_type": "code",
   "execution_count": 4,
   "id": "692f719b-e296-4dc1-b860-c65532c48663",
   "metadata": {},
   "outputs": [
    {
     "name": "stdout",
     "output_type": "stream",
     "text": [
      "Zeus Scored 86\n",
      "Artemis Scored 97\n",
      "Hera Scored 72\n",
      "Appolo Scored 90\n"
     ]
    }
   ],
   "source": [
    "for(let i = 0; i < myStudents.length; i++){\n",
    "    console.log(`${myStudents[i].firstName} Scored ${myStudents[i].grade}`)\n",
    "}"
   ]
  },
  {
   "cell_type": "code",
   "execution_count": null,
   "id": "8b8946ff-c95a-4734-8390-deae4608da66",
   "metadata": {},
   "outputs": [],
   "source": []
  },
  {
   "cell_type": "code",
   "execution_count": 1,
   "id": "c3ff7c79-2ed8-412b-9dff-f8f49fbcc53f",
   "metadata": {},
   "outputs": [
    {
     "name": "stdout",
     "output_type": "stream",
     "text": [
      "d\n",
      "e\n",
      "s\n",
      "s\n",
      "e\n",
      "r\n",
      "t\n",
      "S\n"
     ]
    }
   ],
   "source": [
    "// consider another example of looping through string \n",
    "\n",
    "const word = 'Stressed';\n",
    "\n",
    "for(let i = word.length - 1; i>= 0; i--){\n",
    "    console.log(word[i])\n",
    "}"
   ]
  },
  {
   "cell_type": "code",
   "execution_count": 5,
   "id": "f05f3c2e-5617-4726-be14-2f5bd358f35d",
   "metadata": {},
   "outputs": [
    {
     "data": {
      "text/plain": [
       "'dessertS'"
      ]
     },
     "execution_count": 5,
     "metadata": {},
     "output_type": "execute_result"
    }
   ],
   "source": [
    "// let's store the reversed word\n",
    "const wd = 'Stressed';\n",
    "let reservedWord = '';\n",
    "\n",
    "for(let i = wd.length-1; i>=0; i--){\n",
    "    reservedWord += wd[i];\n",
    "}"
   ]
  },
  {
   "cell_type": "code",
   "execution_count": 6,
   "id": "ace8732a-77d0-4c75-a2bc-eab1902daba1",
   "metadata": {},
   "outputs": [
    {
     "name": "stdout",
     "output_type": "stream",
     "text": [
      "dessertS\n"
     ]
    }
   ],
   "source": [
    "console.log(reservedWord)"
   ]
  },
  {
   "cell_type": "code",
   "execution_count": null,
   "id": "fe65129d-1ad5-4091-8f94-2ee4f16db6fa",
   "metadata": {},
   "outputs": [],
   "source": []
  },
  {
   "cell_type": "code",
   "execution_count": 3,
   "id": "c2ac8d58-87db-457d-a755-65846e7b549d",
   "metadata": {},
   "outputs": [
    {
     "data": {
      "text/plain": [
       "[\n",
       "  { firstName: 'Zeus', grade: 86 },\n",
       "  { firstName: 'Artemis', grade: 97 },\n",
       "  { firstName: 'Hera', grade: 72 },\n",
       "  { firstName: 'Appolo', grade: 90 }\n",
       "]"
      ]
     },
     "execution_count": 3,
     "metadata": {},
     "output_type": "execute_result"
    }
   ],
   "source": [
    "// consider the student array\n",
    "myStudents"
   ]
  },
  {
   "cell_type": "code",
   "execution_count": 4,
   "id": "45534f19-90c9-4d47-81f5-e09a4b231da1",
   "metadata": {},
   "outputs": [],
   "source": [
    "// now let;s print all student infos, and at the end, we create a summary of the student scores"
   ]
  },
  {
   "cell_type": "code",
   "execution_count": 2,
   "id": "f0812cb3-2348-4012-b92e-e61e7b5aa3d3",
   "metadata": {},
   "outputs": [
    {
     "name": "stdout",
     "output_type": "stream",
     "text": [
      "Zeus Scored 86\n",
      "Artemis Scored 97\n",
      "Hera Scored 72\n",
      "Appolo Scored 90\n",
      "Total Sum : 345\n",
      "Grade Average : 86.25\n"
     ]
    }
   ],
   "source": [
    "let sum = 0;\n",
    "let avg = 0;\n",
    "\n",
    "for(let i = 0; i < myStudents.length; i++){\n",
    "    console.log(`${myStudents[i].firstName} Scored ${myStudents[i].grade}`)\n",
    "    sum += myStudents[i].grade;\n",
    "}\n",
    "\n",
    "console.log(`Total Sum : ${sum}`)\n",
    "console.log(`Grade Average : ${sum/myStudents.length}`)"
   ]
  },
  {
   "cell_type": "code",
   "execution_count": null,
   "id": "4e24d69a-e2fd-41a8-b9d8-662cbd71fb6b",
   "metadata": {},
   "outputs": [],
   "source": []
  },
  {
   "cell_type": "markdown",
   "id": "9809e662-3075-4248-95c4-3e88a604f7b5",
   "metadata": {},
   "source": [
    "## **NESTED FOR LOOPS**"
   ]
  },
  {
   "cell_type": "code",
   "execution_count": 3,
   "id": "cfd863b8-1ce2-4311-8b39-0496a52e3c6f",
   "metadata": {},
   "outputs": [],
   "source": [
    "// Here is an example"
   ]
  },
  {
   "cell_type": "code",
   "execution_count": 2,
   "id": "4e38ac16-1e04-4c4d-af9b-f5fae9b2d5d7",
   "metadata": {},
   "outputs": [
    {
     "name": "stdout",
     "output_type": "stream",
     "text": [
      "OUTER LOOP  1\n",
      "   INNER LOOP 1\n",
      "   INNER LOOP 2\n",
      "   INNER LOOP 3\n",
      "OUTER LOOP  2\n",
      "   INNER LOOP 1\n",
      "   INNER LOOP 2\n",
      "   INNER LOOP 3\n",
      "OUTER LOOP  3\n",
      "   INNER LOOP 1\n",
      "   INNER LOOP 2\n",
      "   INNER LOOP 3\n",
      "OUTER LOOP  4\n",
      "   INNER LOOP 1\n",
      "   INNER LOOP 2\n",
      "   INNER LOOP 3\n",
      "OUTER LOOP  5\n",
      "   INNER LOOP 1\n",
      "   INNER LOOP 2\n",
      "   INNER LOOP 3\n"
     ]
    }
   ],
   "source": [
    "for(let i=1; i <= 5; i++){\n",
    "    console.log('OUTER LOOP ',i);\n",
    "    for(let j=1; j <= 3; j++){\n",
    "        console.log('   INNER LOOP',j);\n",
    "    }\n",
    "}"
   ]
  },
  {
   "cell_type": "code",
   "execution_count": 3,
   "id": "7542ae9d-cb9a-484f-a005-1c042edbe0b5",
   "metadata": {},
   "outputs": [],
   "source": [
    "//  what about a multi-dimensional array, how do we itterate throught it"
   ]
  },
  {
   "cell_type": "code",
   "execution_count": 1,
   "id": "0768fedf-36a7-4921-8d6a-02646f8c7103",
   "metadata": {},
   "outputs": [],
   "source": [
    "const gameBoard = [\n",
    "    [4,32,8,4],\n",
    "    [64,8,32,2],\n",
    "    [8,32,15,4],\n",
    "    [2,8,4,2]\n",
    "];"
   ]
  },
  {
   "cell_type": "code",
   "execution_count": 2,
   "id": "6488d3e5-27e1-4fb9-b9d6-97f2c308022c",
   "metadata": {},
   "outputs": [
    {
     "name": "stdout",
     "output_type": "stream",
     "text": [
      "Total Score :  229\n"
     ]
    }
   ],
   "source": [
    "// let's write a for loop to implement that\n",
    "// let's get the total score\n",
    "let totalScore = 0;\n",
    "for(let i = 0; i< gameBoard.length; i++){\n",
    "    for(let j=0; j<gameBoard[i].length; j++){\n",
    "        totalScore += gameBoard[i][j];\n",
    "    }\n",
    "}\n",
    "console.log(\"Total Score : \",totalScore)"
   ]
  },
  {
   "cell_type": "code",
   "execution_count": null,
   "id": "0b66ec1b-e8d6-4977-942f-d89992455aa4",
   "metadata": {},
   "outputs": [],
   "source": []
  },
  {
   "cell_type": "code",
   "execution_count": null,
   "id": "b4cf6414-957d-4ae1-8c14-5e6e45fa86a4",
   "metadata": {},
   "outputs": [],
   "source": []
  },
  {
   "cell_type": "markdown",
   "id": "b0d2213e-7047-4e4c-acf1-838dbeb23c30",
   "metadata": {},
   "source": [
    "## **Intro to While Loop**\n",
    "- A while loop continues to run as long as it's test condition is true"
   ]
  },
  {
   "cell_type": "code",
   "execution_count": 3,
   "id": "c8682019-8645-4dc7-8197-a2cbec1972f2",
   "metadata": {},
   "outputs": [],
   "source": [
    "// here is an example"
   ]
  },
  {
   "cell_type": "code",
   "execution_count": 5,
   "id": "b6902832-c6a8-4905-8fd6-33a6f44eaba4",
   "metadata": {},
   "outputs": [
    {
     "name": "stdout",
     "output_type": "stream",
     "text": [
      "0\n",
      "1\n",
      "2\n",
      "3\n",
      "4\n"
     ]
    }
   ],
   "source": [
    "for (let i=0; i<5; i++){\n",
    "    console.log(i);\n",
    "}"
   ]
  },
  {
   "cell_type": "code",
   "execution_count": 6,
   "id": "42281295-47f8-44b0-863e-577bd818c8f6",
   "metadata": {},
   "outputs": [
    {
     "name": "stdout",
     "output_type": "stream",
     "text": [
      "0\n",
      "1\n",
      "2\n",
      "3\n",
      "4\n"
     ]
    }
   ],
   "source": [
    "// here is it's while loop equivalent\n",
    "let i = 0;\n",
    "while(true){\n",
    "    if(i === 5){\n",
    "        break;\n",
    "    }\n",
    "    console.log(i)\n",
    "    i++;\n",
    "}"
   ]
  },
  {
   "cell_type": "code",
   "execution_count": 7,
   "id": "aaaea6de-16fb-4d73-962c-dbfc02451d2f",
   "metadata": {},
   "outputs": [
    {
     "name": "stdout",
     "output_type": "stream",
     "text": [
      "0\n",
      "1\n",
      "2\n",
      "3\n",
      "4\n"
     ]
    },
    {
     "data": {
      "text/plain": [
       "4"
      ]
     },
     "execution_count": 7,
     "metadata": {},
     "output_type": "execute_result"
    }
   ],
   "source": [
    "// another simpler implementation without the break statement\n",
    "\n",
    "let count = 0;\n",
    "while(count < 5){\n",
    "    console.log(count)\n",
    "    count++;\n",
    "}"
   ]
  },
  {
   "cell_type": "markdown",
   "id": "12a22483-3899-4930-b264-d2be9f03334a",
   "metadata": {},
   "source": [
    "### More on While loops"
   ]
  },
  {
   "cell_type": "markdown",
   "id": "15c37b74-8458-4360-8885-d2581bad46e6",
   "metadata": {},
   "source": [
    "A while loop excells when you don't really know how much your loops has to run"
   ]
  },
  {
   "cell_type": "code",
   "execution_count": 1,
   "id": "87ba1e22-a38f-4a5c-a4fc-beaf880f253e",
   "metadata": {},
   "outputs": [],
   "source": [
    "// let's make a number guessing game\n",
    "const target = Math.floor(Math.random() * 10)"
   ]
  },
  {
   "cell_type": "code",
   "execution_count": 2,
   "id": "f1df04b6-78a3-497d-b2af-52f0dd92811d",
   "metadata": {},
   "outputs": [
    {
     "name": "stdout",
     "output_type": "stream",
     "text": [
      "Target : 6 Guess : 1\n",
      "Target : 6 Guess : 8\n",
      "Target : 6 Guess : 3\n",
      "Target : 6 Guess : 1\n",
      "Target : 6 Guess : 3\n",
      "Target : 6 Guess : 4\n",
      "Target : 6 Guess : 5\n",
      "Target : 6 Guess : 9\n",
      "Target : 6 Guess : 0\n",
      "Target : 6 Guess : 8\n",
      "Target : 6 Guess : 4\n",
      "Target : 6 Guess : 4\n",
      "Target : 6 Guess : 0\n",
      "Target : 6 Guess : 3\n",
      "\n",
      "CONGRATS, YOU WON!!\n",
      "Target : 6 Guess : 6\n"
     ]
    }
   ],
   "source": [
    "let guess = Math.floor(Math.random() * 10);\n",
    "\n",
    "while(guess !== target){\n",
    "    console.log(`Target : ${target} Guess : ${guess}`)\n",
    "    guess = Math.floor(Math.random() * 10);\n",
    "}\n",
    "console.log();\n",
    "console.log('CONGRATS, YOU WON!!');\n",
    "console.log(`Target : ${target} Guess : ${guess}`)"
   ]
  },
  {
   "cell_type": "code",
   "execution_count": null,
   "id": "46a9671e-e6af-41b0-9b0e-f55cd3ce4014",
   "metadata": {},
   "outputs": [],
   "source": []
  },
  {
   "cell_type": "code",
   "execution_count": null,
   "id": "42af4c54-1b51-40a0-bc83-857bdc48bc51",
   "metadata": {},
   "outputs": [],
   "source": []
  },
  {
   "cell_type": "markdown",
   "id": "42fe6406-1a53-4689-a406-f5d6821a90da",
   "metadata": {},
   "source": [
    "### **Break KEYWORD**"
   ]
  },
  {
   "cell_type": "code",
   "execution_count": 3,
   "id": "5a75721d-fea4-4e5c-9aa1-b46954d8e3ce",
   "metadata": {},
   "outputs": [],
   "source": [
    "// normally used on while loops more than for loops"
   ]
  },
  {
   "cell_type": "code",
   "execution_count": 4,
   "id": "87fad4ef-b4c6-4c46-b383-d507056a8d00",
   "metadata": {},
   "outputs": [
    {
     "name": "stdout",
     "output_type": "stream",
     "text": [
      "0\n",
      "1\n",
      "2\n",
      "3\n",
      "4\n"
     ]
    }
   ],
   "source": [
    "let i = 0;\n",
    "while(true){\n",
    "    if(i === 5){\n",
    "        break;\n",
    "    }\n",
    "    console.log(i)\n",
    "    i++;\n",
    "}"
   ]
  },
  {
   "cell_type": "code",
   "execution_count": 5,
   "id": "cc939c52-87a6-4201-a26e-3c00353485a8",
   "metadata": {},
   "outputs": [],
   "source": [
    "// we can also rewrite the guessing game using break in a while loop"
   ]
  },
  {
   "cell_type": "code",
   "execution_count": 10,
   "id": "2d6a05cf-42a8-4dbc-adaf-af2076d28db9",
   "metadata": {},
   "outputs": [
    {
     "name": "stdout",
     "output_type": "stream",
     "text": [
      "Target : 6 Guess : 3\n",
      "Target : 6 Guess : 1\n",
      "Target : 6 Guess : 7\n",
      "Target : 6 Guess : 6\n",
      "\n",
      "CONGRATS, YOU WON!!\n",
      "Target : 6 Guess : 6\n"
     ]
    }
   ],
   "source": [
    "guess = Math.floor(Math.random() * 10);\n",
    "while(true){\n",
    "    if(target === guess) break;\n",
    "    guess = Math.floor(Math.random() * 10);\n",
    "    console.log(`Target : ${target} Guess : ${guess}`)\n",
    "}\n",
    "\n",
    "console.log();\n",
    "console.log('CONGRATS, YOU WON!!');\n",
    "console.log(`Target : ${target} Guess : ${guess}`)"
   ]
  },
  {
   "cell_type": "code",
   "execution_count": null,
   "id": "1c8ab6a9-3bca-4bca-9648-e50355daaa1c",
   "metadata": {},
   "outputs": [],
   "source": []
  },
  {
   "cell_type": "code",
   "execution_count": null,
   "id": "b90c9694-64e1-4382-99d7-911615a9af79",
   "metadata": {},
   "outputs": [],
   "source": []
  },
  {
   "cell_type": "markdown",
   "id": "61442658-58ed-4583-ad53-275c4625e77d",
   "metadata": {},
   "source": [
    "## **FOR. . .OF**\n",
    "- A nice and easy way of iterating over arrays (OR other iterable objects)"
   ]
  },
  {
   "cell_type": "code",
   "execution_count": null,
   "id": "68517b2b-a1d7-4dd5-987e-860a0d26ed1a",
   "metadata": {},
   "outputs": [],
   "source": [
    "// syntax\n",
    "for(variable of iterable){\n",
    "    statement\n",
    "}"
   ]
  },
  {
   "cell_type": "code",
   "execution_count": 11,
   "id": "78f49dce-7b92-4e49-bdc7-693af2d5ba6d",
   "metadata": {},
   "outputs": [],
   "source": [
    "// consider an array of subredits\n",
    "let subredits = ['Soccer','popheads','cringe','books'];"
   ]
  },
  {
   "cell_type": "code",
   "execution_count": 13,
   "id": "334ed722-2068-4673-93a8-ef43e28a7fad",
   "metadata": {},
   "outputs": [
    {
     "name": "stdout",
     "output_type": "stream",
     "text": [
      "Soccer\n",
      "popheads\n",
      "cringe\n",
      "books\n"
     ]
    }
   ],
   "source": [
    "// here is our regular for\n",
    "for(let i = 0; i<subredits.length; i++){\n",
    "    console.log(subredits[i]);\n",
    "}"
   ]
  },
  {
   "cell_type": "code",
   "execution_count": 14,
   "id": "8b9d5296-4804-48ce-992a-88e192d7f083",
   "metadata": {},
   "outputs": [],
   "source": [
    "// now for the for. . .of"
   ]
  },
  {
   "cell_type": "code",
   "execution_count": 15,
   "id": "c5576469-12d7-41d5-80b4-5ebc5943c96e",
   "metadata": {},
   "outputs": [
    {
     "name": "stdout",
     "output_type": "stream",
     "text": [
      "Soccer\n",
      "popheads\n",
      "cringe\n",
      "books\n"
     ]
    }
   ],
   "source": [
    " for(let sub of subredits){\n",
    "     console.log(sub)\n",
    " }"
   ]
  },
  {
   "cell_type": "code",
   "execution_count": null,
   "id": "b93c2569-9f97-4007-a133-713087f56293",
   "metadata": {},
   "outputs": [],
   "source": []
  }
 ],
 "metadata": {
  "kernelspec": {
   "display_name": "JavaScript (Node.js)",
   "language": "javascript",
   "name": "javascript"
  },
  "language_info": {
   "file_extension": ".js",
   "mimetype": "application/javascript",
   "name": "javascript",
   "version": "18.15.0"
  }
 },
 "nbformat": 4,
 "nbformat_minor": 5
}
