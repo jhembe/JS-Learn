{
 "cells": [
  {
   "cell_type": "markdown",
   "id": "de3a5f01-09d2-4d3b-9850-ed8344188331",
   "metadata": {},
   "source": [
    "<center><h1><b>Apply Functions to Collections of Data</b><h1></center>"
   ]
  },
  {
   "cell_type": "markdown",
   "id": "1b5d42bf-2d46-4894-8af1-ea37a8653a25",
   "metadata": {},
   "source": [
    "## **ARRAY**\n",
    "### CALLBACK METHODS\n",
    "* Array come with many built-in methods that accept callback functions\n",
    "* Now that we've covered callbacks, we can learn these methods!\n",
    "* SUPER USEFUL!"
   ]
  },
  {
   "cell_type": "code",
   "execution_count": null,
   "id": "9d1837ed-f6c7-4161-84e4-9c2d46e8cd78",
   "metadata": {},
   "outputs": [],
   "source": [
    " "
   ]
  },
  {
   "cell_type": "markdown",
   "id": "ff421e7e-fe20-4c55-a7c3-f8777fdcf05e",
   "metadata": {},
   "source": [
    "## **GOALS**\n",
    "Use the new arrow function syntax\n",
    "Understand and use these methods:\n",
    "* forEach\n",
    "* map\n",
    "* filter\n",
    "* find\n",
    "* reduce\n",
    "* some\n",
    "* every"
   ]
  },
  {
   "cell_type": "code",
   "execution_count": null,
   "id": "3f3cac1a-5849-44f9-a05d-7f865828db76",
   "metadata": {},
   "outputs": [],
   "source": []
  },
  {
   "cell_type": "code",
   "execution_count": null,
   "id": "70b90a49-2a35-4a8b-b658-c1600bd0ba8d",
   "metadata": {},
   "outputs": [],
   "source": []
  },
  {
   "cell_type": "markdown",
   "id": "aa915498-0e36-494e-ab1f-30113771b44c",
   "metadata": {},
   "source": [
    "## **forEach**\n",
    "- Accepts a callback function. Calls the function onceper element in the array\n"
   ]
  },
  {
   "cell_type": "code",
   "execution_count": 1,
   "id": "ac2f898b-5f46-419e-a637-dbd1841dc79d",
   "metadata": {},
   "outputs": [
    {
     "name": "stdout",
     "output_type": "stream",
     "text": [
      "400\n",
      "441\n",
      "484\n",
      "529\n",
      "576\n",
      "625\n",
      "676\n",
      "729\n",
      "784\n"
     ]
    }
   ],
   "source": [
    "const numbers = [20,21,22,23,24,25,26,27,28];\n",
    "\n",
    "numbers.forEach(function(n){\n",
    "    console.log(n*n)\n",
    "})"
   ]
  },
  {
   "cell_type": "code",
   "execution_count": 2,
   "id": "ae4dabf5-72f7-4ee0-b533-79ced98598ec",
   "metadata": {},
   "outputs": [
    {
     "name": "stdout",
     "output_type": "stream",
     "text": [
      "20\n",
      "21\n",
      "22\n",
      "23\n",
      "24\n",
      "25\n",
      "26\n",
      "27\n",
      "28\n"
     ]
    }
   ],
   "source": [
    "numbers.forEach(function(n){\n",
    "    console.log(n)\n",
    "})"
   ]
  },
  {
   "cell_type": "code",
   "execution_count": 3,
   "id": "3fa59bd7-63b1-4855-86f0-594381463b2d",
   "metadata": {},
   "outputs": [
    {
     "ename": "ReferenceError",
     "evalue": "sum is not defined",
     "execution_count": 3,
     "output_type": "error",
     "traceback": [
      "evalmachine.<anonymous>:4",
      "    sum+=n;",
      "    ^",
      "",
      "ReferenceError: sum is not defined",
      "    at evalmachine.<anonymous>:4:5",
      "    at Array.forEach (<anonymous>)",
      "    at evalmachine.<anonymous>:3:9",
      "    at Script.runInThisContext (node:vm:129:12)",
      "    at Object.runInThisContext (node:vm:307:38)",
      "    at run ([eval]:1020:15)",
      "    at onRunRequest ([eval]:864:18)",
      "    at onMessage ([eval]:828:13)",
      "    at process.emit (node:events:513:28)",
      "    at emit (node:internal/child_process:937:14)"
     ]
    }
   ],
   "source": [
    "//  so to create a sum thingy\n",
    "let total = 0;\n",
    "numbers.forEach(function(n){\n",
    "    sum+=n;\n",
    "})\n",
    "console.log('The sum is : ',sum)"
   ]
  },
  {
   "cell_type": "code",
   "execution_count": null,
   "id": "b70b0548-2ddb-4e97-b204-d71e01a1740a",
   "metadata": {},
   "outputs": [],
   "source": []
  },
  {
   "cell_type": "code",
   "execution_count": null,
   "id": "06d63afa-1e72-4d8f-aa00-2900047a6118",
   "metadata": {},
   "outputs": [],
   "source": []
  },
  {
   "cell_type": "code",
   "execution_count": 4,
   "id": "8ba85359-3d2b-4f9d-be53-091de3151e53",
   "metadata": {},
   "outputs": [],
   "source": [
    "// now let's consider another example\n",
    "\n",
    "const books = [\n",
    "    {\n",
    "        title : 'Good Omens',\n",
    "        authors : ['Terry Pratchett','Neil Gaiman'],\n",
    "        ratings : 4.25\n",
    "    },\n",
    "    {\n",
    "        title : 'Bone: The Complete Edition',\n",
    "        authors : ['Jeff Smith'],\n",
    "        ratings : 4.42\n",
    "    },\n",
    "    {\n",
    "        title : 'American Gods',\n",
    "        authors : ['Neil Gaiman'],\n",
    "        ratings : 4.11\n",
    "    },\n",
    "    {\n",
    "        title : 'A Gentleman in Moscow',\n",
    "        authors : ['Amor Towles'],\n",
    "        ratings : 4.36\n",
    "    }\n",
    "]"
   ]
  },
  {
   "cell_type": "code",
   "execution_count": 5,
   "id": "db827678-8fa8-461a-9bb1-6a018fe41325",
   "metadata": {},
   "outputs": [
    {
     "name": "stdout",
     "output_type": "stream",
     "text": [
      "Good Omens\n",
      "Bone: The Complete Edition\n",
      "American Gods\n",
      "A Gentleman in Moscow\n"
     ]
    }
   ],
   "source": [
    "//  i want to print every title of a book\n",
    "books.forEach(function(book){\n",
    "    console.log(book.title)\n",
    "})"
   ]
  },
  {
   "cell_type": "code",
   "execution_count": 6,
   "id": "25c20b0c-9642-42e3-8935-c62930eeba82",
   "metadata": {},
   "outputs": [
    {
     "name": "stdout",
     "output_type": "stream",
     "text": [
      "1 Good Omens\n",
      "2 Bone: The Complete Edition\n",
      "3 American Gods\n",
      "4 A Gentleman in Moscow\n"
     ]
    }
   ],
   "source": [
    "// incase we need the index\n",
    "books.forEach(function(book,id){\n",
    "    console.log((id+1),book.title)\n",
    "})"
   ]
  },
  {
   "cell_type": "code",
   "execution_count": null,
   "id": "e46c0a44-9344-4e54-91cf-662a192f3e74",
   "metadata": {},
   "outputs": [],
   "source": []
  },
  {
   "cell_type": "code",
   "execution_count": null,
   "id": "72dbe6b7-3db5-40d8-817b-5194a04e3af0",
   "metadata": {},
   "outputs": [],
   "source": []
  },
  {
   "cell_type": "markdown",
   "id": "028df986-4a23-4f5b-b2a8-06946a1a1321",
   "metadata": {},
   "source": [
    "## **MAP**\n",
    "Creates a new Array with the results of calling a callback on every element in the array"
   ]
  },
  {
   "cell_type": "code",
   "execution_count": 7,
   "id": "efb5ed47-bf16-4535-ba50-12ad87233ea1",
   "metadata": {},
   "outputs": [],
   "source": [
    "const texts  = ['rofl','lol','omg','ttyl'];\n",
    "const caps = texts.map(function(t){\n",
    "    return t.toUpperCase();\n",
    "})"
   ]
  },
  {
   "cell_type": "code",
   "execution_count": 8,
   "id": "be71cb83-3ca9-4ffa-b695-f83c716392cc",
   "metadata": {},
   "outputs": [
    {
     "data": {
      "text/plain": [
       "[ 'rofl', 'lol', 'omg', 'ttyl' ]"
      ]
     },
     "execution_count": 8,
     "metadata": {},
     "output_type": "execute_result"
    }
   ],
   "source": [
    "texts"
   ]
  },
  {
   "cell_type": "code",
   "execution_count": 9,
   "id": "216f548c-b17b-420b-b104-c400b1412fec",
   "metadata": {},
   "outputs": [
    {
     "data": {
      "text/plain": [
       "[ 'ROFL', 'LOL', 'OMG', 'TTYL' ]"
      ]
     },
     "execution_count": 9,
     "metadata": {},
     "output_type": "execute_result"
    }
   ],
   "source": [
    "caps"
   ]
  },
  {
   "cell_type": "code",
   "execution_count": null,
   "id": "cb6280d7-9d03-4a2e-a0aa-d2aa3fce134e",
   "metadata": {},
   "outputs": [],
   "source": []
  },
  {
   "cell_type": "code",
   "execution_count": 10,
   "id": "db65a3ba-1b36-44eb-b6bf-e92d6126a76a",
   "metadata": {},
   "outputs": [
    {
     "data": {
      "text/plain": [
       "[\n",
       "  20, 21, 22, 23, 24,\n",
       "  25, 26, 27, 28\n",
       "]"
      ]
     },
     "execution_count": 10,
     "metadata": {},
     "output_type": "execute_result"
    }
   ],
   "source": [
    "numbers"
   ]
  },
  {
   "cell_type": "code",
   "execution_count": 11,
   "id": "6a836e3a-4b1f-4a81-b21e-90d86b63e5fb",
   "metadata": {},
   "outputs": [
    {
     "data": {
      "text/plain": [
       "[\n",
       "  40, 42, 44, 46, 48,\n",
       "  50, 52, 54, 56\n",
       "]"
      ]
     },
     "execution_count": 11,
     "metadata": {},
     "output_type": "execute_result"
    }
   ],
   "source": [
    "numbers.map(function(num){\n",
    "    return num*2;\n",
    "})"
   ]
  },
  {
   "cell_type": "code",
   "execution_count": null,
   "id": "4659142d-dabb-4816-be78-376397c6ded2",
   "metadata": {},
   "outputs": [],
   "source": [
    "  "
   ]
  },
  {
   "cell_type": "code",
   "execution_count": null,
   "id": "8d327c17-7aba-4602-92fa-ead96bfef5f8",
   "metadata": {},
   "outputs": [],
   "source": []
  },
  {
   "cell_type": "code",
   "execution_count": 12,
   "id": "f9ac1496-6a7d-416c-acaf-333499eb55ea",
   "metadata": {},
   "outputs": [
    {
     "data": {
      "text/plain": [
       "[\n",
       "  { Value: 20, isEven: true },\n",
       "  { Value: 21, isEven: false },\n",
       "  { Value: 22, isEven: true },\n",
       "  { Value: 23, isEven: false },\n",
       "  { Value: 24, isEven: true },\n",
       "  { Value: 25, isEven: false },\n",
       "  { Value: 26, isEven: true },\n",
       "  { Value: 27, isEven: false },\n",
       "  { Value: 28, isEven: true }\n",
       "]"
      ]
     },
     "execution_count": 12,
     "metadata": {},
     "output_type": "execute_result"
    }
   ],
   "source": [
    "// we want to check if the value is even, then return an object\n",
    "\n",
    "numbers.map(function(n){\n",
    "    return{\n",
    "        Value : n,\n",
    "        isEven: n % 2 === 0\n",
    "    }\n",
    "})"
   ]
  },
  {
   "cell_type": "code",
   "execution_count": null,
   "id": "7063e0f9-e674-4c6d-a26c-59303323e910",
   "metadata": {},
   "outputs": [],
   "source": []
  },
  {
   "cell_type": "code",
   "execution_count": 13,
   "id": "4940cc9c-979d-4b87-b93e-c2c020d152cb",
   "metadata": {},
   "outputs": [],
   "source": [
    "const words = ['asap','byob','rsvp','diy'];"
   ]
  },
  {
   "cell_type": "code",
   "execution_count": 14,
   "id": "d5fc484a-9729-48ca-8a50-f307c43b8656",
   "metadata": {},
   "outputs": [],
   "source": [
    "const abbrevs = words.map(function(word){\n",
    "    return word.toUpperCase().split('').join('.');\n",
    "})"
   ]
  },
  {
   "cell_type": "code",
   "execution_count": 15,
   "id": "92fda6b2-85c1-4177-800d-88ead38194f3",
   "metadata": {},
   "outputs": [
    {
     "data": {
      "text/plain": [
       "[ 'A.S.A.P', 'B.Y.O.B', 'R.S.V.P', 'D.I.Y' ]"
      ]
     },
     "execution_count": 15,
     "metadata": {},
     "output_type": "execute_result"
    }
   ],
   "source": [
    "abbrevs"
   ]
  },
  {
   "cell_type": "code",
   "execution_count": null,
   "id": "415fbe9b-0ba0-4f75-bead-8c33d8babaeb",
   "metadata": {},
   "outputs": [],
   "source": []
  },
  {
   "cell_type": "code",
   "execution_count": 16,
   "id": "4dd8bf64-9085-47ee-9da0-85bcd0b5a888",
   "metadata": {},
   "outputs": [],
   "source": [
    "// remember books"
   ]
  },
  {
   "cell_type": "code",
   "execution_count": 17,
   "id": "9241faf1-dd16-48fa-a0d6-5cddc420818e",
   "metadata": {},
   "outputs": [
    {
     "data": {
      "text/plain": [
       "[\n",
       "  {\n",
       "    title: 'Good Omens',\n",
       "    authors: [ 'Terry Pratchett', 'Neil Gaiman' ],\n",
       "    ratings: 4.25\n",
       "  },\n",
       "  {\n",
       "    title: 'Bone: The Complete Edition',\n",
       "    authors: [ 'Jeff Smith' ],\n",
       "    ratings: 4.42\n",
       "  },\n",
       "  { title: 'American Gods', authors: [ 'Neil Gaiman' ], ratings: 4.11 },\n",
       "  {\n",
       "    title: 'A Gentleman in Moscow',\n",
       "    authors: [ 'Amor Towles' ],\n",
       "    ratings: 4.36\n",
       "  }\n",
       "]"
      ]
     },
     "execution_count": 17,
     "metadata": {},
     "output_type": "execute_result"
    }
   ],
   "source": [
    "books"
   ]
  },
  {
   "cell_type": "code",
   "execution_count": 18,
   "id": "72913cfd-aba4-4766-9a66-320399f3cc6a",
   "metadata": {},
   "outputs": [],
   "source": [
    "// now, i want to store it to an array\n",
    "\n",
    "const bookTitles = books.map(function(book){\n",
    "    return book.title\n",
    "})"
   ]
  },
  {
   "cell_type": "code",
   "execution_count": 19,
   "id": "7c225089-8624-47e7-989a-c5c9f6c41e27",
   "metadata": {},
   "outputs": [
    {
     "data": {
      "text/plain": [
       "[\n",
       "  'Good Omens',\n",
       "  'Bone: The Complete Edition',\n",
       "  'American Gods',\n",
       "  'A Gentleman in Moscow'\n",
       "]"
      ]
     },
     "execution_count": 19,
     "metadata": {},
     "output_type": "execute_result"
    }
   ],
   "source": [
    "bookTitles"
   ]
  },
  {
   "cell_type": "code",
   "execution_count": null,
   "id": "d966c6ca-d117-4f52-b76b-d82087eab0e0",
   "metadata": {},
   "outputs": [],
   "source": []
  },
  {
   "cell_type": "code",
   "execution_count": null,
   "id": "752694fb-669e-4ed5-ada3-db80a5eaca42",
   "metadata": {},
   "outputs": [],
   "source": []
  },
  {
   "cell_type": "markdown",
   "id": "b7e79dfb-2fa7-494d-8768-8414980de01b",
   "metadata": {},
   "source": [
    "## **ARROW FUNCTIONS**\n",
    "They're new-ish syntactically compact alternative to a regular function expression"
   ]
  },
  {
   "cell_type": "code",
   "execution_count": 20,
   "id": "ecb037b2-3221-4ebb-8caf-b58a004602cc",
   "metadata": {},
   "outputs": [],
   "source": [
    "// consider with arrow functions\n",
    "const square = (x) => {\n",
    "    return x*x;\n",
    "}"
   ]
  },
  {
   "cell_type": "code",
   "execution_count": 21,
   "id": "f40283eb-f298-4ba3-9ab7-1594583e2872",
   "metadata": {},
   "outputs": [],
   "source": [
    "// let's try this"
   ]
  },
  {
   "cell_type": "code",
   "execution_count": 22,
   "id": "7850e4af-87a2-45ac-b93c-d0b43f484021",
   "metadata": {},
   "outputs": [
    {
     "ename": "SyntaxError",
     "evalue": "Identifier 'square' has already been declared",
     "execution_count": 22,
     "output_type": "error",
     "traceback": [
      "evalmachine.<anonymous>:1",
      "// without an arrow function",
      "^",
      "",
      "SyntaxError: Identifier 'square' has already been declared",
      "    at Script.runInThisContext (node:vm:129:12)",
      "    at Object.runInThisContext (node:vm:307:38)",
      "    at run ([eval]:1020:15)",
      "    at onRunRequest ([eval]:864:18)",
      "    at onMessage ([eval]:828:13)",
      "    at process.emit (node:events:513:28)",
      "    at emit (node:internal/child_process:937:14)",
      "    at process.processTicksAndRejections (node:internal/process/task_queues:83:21)"
     ]
    }
   ],
   "source": [
    "// without an arrow function\n",
    "const square = function(x){\n",
    "    return x * x;\n",
    "}"
   ]
  },
  {
   "cell_type": "code",
   "execution_count": 23,
   "id": "60e7d3a7-4d2e-4d6e-a363-fbce98729a4b",
   "metadata": {},
   "outputs": [
    {
     "data": {
      "text/plain": [
       "16"
      ]
     },
     "execution_count": 23,
     "metadata": {},
     "output_type": "execute_result"
    }
   ],
   "source": [
    "square(4)"
   ]
  },
  {
   "cell_type": "code",
   "execution_count": 24,
   "id": "1b659861-061c-4f0f-82fb-8632db43ae46",
   "metadata": {},
   "outputs": [],
   "source": [
    "const add = (x,y) => {return x+x;}"
   ]
  },
  {
   "cell_type": "code",
   "execution_count": 25,
   "id": "bba82dd5-def7-4add-a5ea-56ffe834b4f3",
   "metadata": {},
   "outputs": [
    {
     "data": {
      "text/plain": [
       "16"
      ]
     },
     "execution_count": 25,
     "metadata": {},
     "output_type": "execute_result"
    }
   ],
   "source": [
    "add(8,23)"
   ]
  },
  {
   "cell_type": "code",
   "execution_count": 26,
   "id": "82c6b557-8cab-4b78-885e-b010135c290c",
   "metadata": {},
   "outputs": [],
   "source": [
    "const isEven = (num) => {\n",
    "    return num % 2 === 0;\n",
    "}"
   ]
  },
  {
   "cell_type": "code",
   "execution_count": 27,
   "id": "073499f1-3cda-41ca-b7cb-f31af34d3bb2",
   "metadata": {},
   "outputs": [
    {
     "data": {
      "text/plain": [
       "false"
      ]
     },
     "execution_count": 27,
     "metadata": {},
     "output_type": "execute_result"
    }
   ],
   "source": [
    "isEven(5)"
   ]
  },
  {
   "cell_type": "code",
   "execution_count": 28,
   "id": "ea05591f-f68e-4a2c-9c3b-2bb108935e36",
   "metadata": {},
   "outputs": [
    {
     "data": {
      "text/plain": [
       "true"
      ]
     },
     "execution_count": 28,
     "metadata": {},
     "output_type": "execute_result"
    }
   ],
   "source": [
    "isEven(6)"
   ]
  },
  {
   "cell_type": "code",
   "execution_count": 29,
   "id": "1e6d6694-9a83-48d8-aa0b-a9bca1c6fb8c",
   "metadata": {},
   "outputs": [],
   "source": [
    "const isOdd = num => {\n",
    "    return num % 2 !== 0;\n",
    "}"
   ]
  },
  {
   "cell_type": "code",
   "execution_count": 30,
   "id": "a9770e1d-a6a8-4f0d-970d-a5dad73ba18f",
   "metadata": {},
   "outputs": [
    {
     "data": {
      "text/plain": [
       "true"
      ]
     },
     "execution_count": 30,
     "metadata": {},
     "output_type": "execute_result"
    }
   ],
   "source": [
    "isOdd(7)"
   ]
  },
  {
   "cell_type": "code",
   "execution_count": 31,
   "id": "5366748e-bc7c-41ec-aeb8-339624d54bba",
   "metadata": {},
   "outputs": [],
   "source": [
    "const greet = () => {\n",
    "    console.log(\"Hello\");\n",
    "}"
   ]
  },
  {
   "cell_type": "code",
   "execution_count": 32,
   "id": "6bb70178-7dac-4a48-9246-c3816117f81c",
   "metadata": {},
   "outputs": [
    {
     "name": "stdout",
     "output_type": "stream",
     "text": [
      "Hello\n"
     ]
    }
   ],
   "source": [
    "greet()"
   ]
  },
  {
   "cell_type": "code",
   "execution_count": null,
   "id": "ba4c95f6-4d7b-4cee-89a2-278720c59836",
   "metadata": {},
   "outputs": [],
   "source": []
  },
  {
   "cell_type": "markdown",
   "id": "56b25cb4-2cf4-4dcf-887e-9bd860ae05ad",
   "metadata": {},
   "source": [
    "## **Arrow Functions Implicit Returns**"
   ]
  },
  {
   "cell_type": "code",
   "execution_count": 33,
   "id": "56deee2c-36e2-40c6-97a9-ced18f968054",
   "metadata": {},
   "outputs": [],
   "source": [
    "const hate = () => 'I hate you'"
   ]
  },
  {
   "cell_type": "code",
   "execution_count": 34,
   "id": "e0b4ede4-a5f0-427f-ab3b-e5e5d5dddd96",
   "metadata": {},
   "outputs": [
    {
     "data": {
      "text/plain": [
       "'I hate you'"
      ]
     },
     "execution_count": 34,
     "metadata": {},
     "output_type": "execute_result"
    }
   ],
   "source": [
    "hate()"
   ]
  },
  {
   "cell_type": "code",
   "execution_count": 35,
   "id": "f1184693-bb8d-409f-b9d2-bb72326440d6",
   "metadata": {},
   "outputs": [],
   "source": [
    "const testNum = (a,b) => (a*b)"
   ]
  },
  {
   "cell_type": "code",
   "execution_count": 36,
   "id": "a5d62844-98db-4e0e-a8fb-37ea13944cdd",
   "metadata": {},
   "outputs": [
    {
     "data": {
      "text/plain": [
       "20"
      ]
     },
     "execution_count": 36,
     "metadata": {},
     "output_type": "execute_result"
    }
   ],
   "source": [
    "testNum(4,5)"
   ]
  },
  {
   "cell_type": "code",
   "execution_count": null,
   "id": "38fd607e-df1b-496c-bfa1-db473598d1ef",
   "metadata": {},
   "outputs": [],
   "source": []
  },
  {
   "cell_type": "code",
   "execution_count": 37,
   "id": "357234a5-6e11-4ba4-b54e-438654feedcc",
   "metadata": {},
   "outputs": [],
   "source": [
    "// now let's apply it.."
   ]
  },
  {
   "cell_type": "code",
   "execution_count": 38,
   "id": "bf7dd01d-fa1d-447e-82ae-769e7e463151",
   "metadata": {},
   "outputs": [
    {
     "data": {
      "text/plain": [
       "[\n",
       "  20, 21, 22, 23, 24,\n",
       "  25, 26, 27, 28\n",
       "]"
      ]
     },
     "execution_count": 38,
     "metadata": {},
     "output_type": "execute_result"
    }
   ],
   "source": [
    "numbers"
   ]
  },
  {
   "cell_type": "code",
   "execution_count": 39,
   "id": "6fb58c6a-9a9c-4d0b-acb5-0eb9a3caa85d",
   "metadata": {},
   "outputs": [
    {
     "data": {
      "text/plain": [
       "[\n",
       "  40, 42, 44, 46, 48,\n",
       "  50, 52, 54, 56\n",
       "]"
      ]
     },
     "execution_count": 39,
     "metadata": {},
     "output_type": "execute_result"
    }
   ],
   "source": [
    "// i want to double all the numbers and map them to a new array\n",
    "\n",
    "numbers.map(n => 2*n)"
   ]
  },
  {
   "cell_type": "code",
   "execution_count": 40,
   "id": "4af86879-8930-4997-9600-4b2bb5b663c9",
   "metadata": {},
   "outputs": [],
   "source": [
    "// without arrow function"
   ]
  },
  {
   "cell_type": "code",
   "execution_count": 41,
   "id": "6207c19b-df38-4913-9098-7f8a7c634868",
   "metadata": {},
   "outputs": [
    {
     "data": {
      "text/plain": [
       "[\n",
       "  40, 42, 44, 46, 48,\n",
       "  50, 52, 54, 56\n",
       "]"
      ]
     },
     "execution_count": 41,
     "metadata": {},
     "output_type": "execute_result"
    }
   ],
   "source": [
    "numbers.map(function(n) {\n",
    "    return n*2\n",
    "})"
   ]
  },
  {
   "cell_type": "code",
   "execution_count": 42,
   "id": "865b0069-f5dd-45a5-baa9-dd2e9f117df6",
   "metadata": {},
   "outputs": [
    {
     "data": {
      "text/plain": [
       "[\n",
       "  40, 42, 44, 46, 48,\n",
       "  50, 52, 54, 56\n",
       "]"
      ]
     },
     "execution_count": 42,
     "metadata": {},
     "output_type": "execute_result"
    }
   ],
   "source": [
    "// for a non-implicit function\n",
    "\n",
    "numbers.map((n) => {\n",
    "    return n*2;\n",
    "})"
   ]
  },
  {
   "cell_type": "code",
   "execution_count": null,
   "id": "cc2d9a78-7beb-47e0-96f4-b1584f53bdf3",
   "metadata": {},
   "outputs": [],
   "source": []
  },
  {
   "cell_type": "code",
   "execution_count": 43,
   "id": "2be3433d-d24b-4978-9a25-db32d713f081",
   "metadata": {},
   "outputs": [],
   "source": [
    "// Another example\n",
    "\n",
    "const parityList = numbers.map((n) => {\n",
    "    if(n % 2 === 0){\n",
    "        return 'Odd';\n",
    "    }\n",
    "})"
   ]
  },
  {
   "cell_type": "code",
   "execution_count": 44,
   "id": "929696f8-3ea4-4fd3-87c7-9034c7bcf3ff",
   "metadata": {},
   "outputs": [
    {
     "data": {
      "text/plain": [
       "[\n",
       "  'Odd', 'Even',\n",
       "  'Odd', 'Even',\n",
       "  'Odd', 'Even',\n",
       "  'Odd', 'Even',\n",
       "  'Odd'\n",
       "]"
      ]
     },
     "execution_count": 44,
     "metadata": {},
     "output_type": "execute_result"
    }
   ],
   "source": [
    "numbers.map((n) => {\n",
    "    if(n % 2 === 0){\n",
    "        return 'Odd';\n",
    "    }\n",
    "    else{\n",
    "        return 'Even'\n",
    "    }\n",
    "})"
   ]
  },
  {
   "cell_type": "code",
   "execution_count": 45,
   "id": "dca05e9e-223a-4d52-8fbd-aadf2b6c2627",
   "metadata": {},
   "outputs": [
    {
     "data": {
      "text/plain": [
       "[\n",
       "  'Even', 'Odd',\n",
       "  'Even', 'Odd',\n",
       "  'Even', 'Odd',\n",
       "  'Even', 'Odd',\n",
       "  'Even'\n",
       "]"
      ]
     },
     "execution_count": 45,
     "metadata": {},
     "output_type": "execute_result"
    }
   ],
   "source": [
    "// let's try to write it implicitly\n",
    "\n",
    "numbers.map(n => n%2 === 0?'Even':'Odd')"
   ]
  },
  {
   "cell_type": "code",
   "execution_count": null,
   "id": "ab34fae3-c565-495b-84ac-b392be13e8a4",
   "metadata": {},
   "outputs": [],
   "source": []
  },
  {
   "cell_type": "code",
   "execution_count": null,
   "id": "b1ddd6d2-cc31-4ced-ab30-c9d3e6f4843e",
   "metadata": {},
   "outputs": [],
   "source": []
  },
  {
   "cell_type": "markdown",
   "id": "fc2afcd9-d2c5-4236-a87c-a69f50f4f4a8",
   "metadata": {},
   "source": [
    "## **FIND**\n",
    "returns the value of the first element in the array that satisfies the provided testing function"
   ]
  },
  {
   "cell_type": "code",
   "execution_count": 46,
   "id": "a67d6bc5-c908-404a-8c18-e47cb992496f",
   "metadata": {},
   "outputs": [],
   "source": [
    "const movies = [\n",
    "    \"The Fantastic Mr. Fox\",\n",
    "    \"Mr. and Mrs. Smith\",\n",
    "    \"Mrs. Doubtfire\",\n",
    "    \"Mr. Deeds\"\n",
    "]"
   ]
  },
  {
   "cell_type": "code",
   "execution_count": 47,
   "id": "cb5d3cdf-7d59-40a7-b5c9-38abca1e8da4",
   "metadata": {},
   "outputs": [
    {
     "data": {
      "text/plain": [
       "'Mr. and Mrs. Smith'"
      ]
     },
     "execution_count": 47,
     "metadata": {},
     "output_type": "execute_result"
    }
   ],
   "source": [
    "movies.find(movie => {\n",
    "    return movie.includes('Mrs')\n",
    "})"
   ]
  },
  {
   "cell_type": "code",
   "execution_count": 48,
   "id": "cc3de0fe-5fda-4811-9971-6f3da6a7eca5",
   "metadata": {},
   "outputs": [
    {
     "data": {
      "text/plain": [
       "'The Fantastic Mr. Fox'"
      ]
     },
     "execution_count": 48,
     "metadata": {},
     "output_type": "execute_result"
    }
   ],
   "source": [
    "movies.find(movie => movie.lastIndexOf('Mrs'))"
   ]
  },
  {
   "cell_type": "code",
   "execution_count": 49,
   "id": "07bf281d-3d05-40dc-9920-fe3a771ff139",
   "metadata": {},
   "outputs": [
    {
     "data": {
      "text/plain": [
       "'Mrs. Doubtfire'"
      ]
     },
     "execution_count": 49,
     "metadata": {},
     "output_type": "execute_result"
    }
   ],
   "source": [
    "movies.find(movie => movie.indexOf('Mrs') === 0)"
   ]
  },
  {
   "cell_type": "code",
   "execution_count": null,
   "id": "80fead06-5989-40d0-a178-a56540d7d376",
   "metadata": {},
   "outputs": [],
   "source": []
  },
  {
   "cell_type": "code",
   "execution_count": null,
   "id": "dde0155e-5799-4cff-bd35-f71613aefedd",
   "metadata": {},
   "outputs": [],
   "source": []
  },
  {
   "cell_type": "code",
   "execution_count": 50,
   "id": "497d29bd-49af-4659-8e8a-f559fafb38e3",
   "metadata": {},
   "outputs": [],
   "source": [
    "// now let's try with something different"
   ]
  },
  {
   "cell_type": "code",
   "execution_count": 51,
   "id": "442878cf-f096-45a8-b22d-17625a61a83b",
   "metadata": {},
   "outputs": [
    {
     "data": {
      "text/plain": [
       "[\n",
       "  {\n",
       "    title: 'Good Omens',\n",
       "    authors: [ 'Terry Pratchett', 'Neil Gaiman' ],\n",
       "    ratings: 4.25\n",
       "  },\n",
       "  {\n",
       "    title: 'Bone: The Complete Edition',\n",
       "    authors: [ 'Jeff Smith' ],\n",
       "    ratings: 4.42\n",
       "  },\n",
       "  { title: 'American Gods', authors: [ 'Neil Gaiman' ], ratings: 4.11 },\n",
       "  {\n",
       "    title: 'A Gentleman in Moscow',\n",
       "    authors: [ 'Amor Towles' ],\n",
       "    ratings: 4.36\n",
       "  }\n",
       "]"
      ]
     },
     "execution_count": 51,
     "metadata": {},
     "output_type": "execute_result"
    }
   ],
   "source": [
    "books"
   ]
  },
  {
   "cell_type": "code",
   "execution_count": 52,
   "id": "e4652be4-2a1c-4be8-8303-33f0ca5b97b4",
   "metadata": {},
   "outputs": [
    {
     "data": {
      "text/plain": [
       "{\n",
       "  title: 'Bone: The Complete Edition',\n",
       "  authors: [ 'Jeff Smith' ],\n",
       "  ratings: 4.42\n",
       "}"
      ]
     },
     "execution_count": 52,
     "metadata": {},
     "output_type": "execute_result"
    }
   ],
   "source": [
    "// now i want to find a single book, with a rating of 4.3 and above\n",
    "\n",
    "books.find(book => book.ratings >= 4.3)"
   ]
  },
  {
   "cell_type": "code",
   "execution_count": 53,
   "id": "1a0d39a8-898f-45fb-b2a0-adc3bd50e434",
   "metadata": {},
   "outputs": [
    {
     "data": {
      "text/plain": [
       "{\n",
       "  title: 'Good Omens',\n",
       "  authors: [ 'Terry Pratchett', 'Neil Gaiman' ],\n",
       "  ratings: 4.25\n",
       "}"
      ]
     },
     "execution_count": 53,
     "metadata": {},
     "output_type": "execute_result"
    }
   ],
   "source": [
    "books.find(book => book.authors.includes('Neil Gaiman'))"
   ]
  },
  {
   "cell_type": "code",
   "execution_count": null,
   "id": "1607809b-9a3d-4aad-8df0-81f1ed2e1ff5",
   "metadata": {},
   "outputs": [],
   "source": []
  },
  {
   "cell_type": "code",
   "execution_count": 54,
   "id": "5fdc3bed-35cd-4542-956a-2be0f5546760",
   "metadata": {},
   "outputs": [
    {
     "data": {
      "text/plain": [
       "[ 'Neil', index: 0, input: 'Neil Gaiman', groups: undefined ]"
      ]
     },
     "execution_count": 54,
     "metadata": {},
     "output_type": "execute_result"
    }
   ],
   "source": [
    "'Neil Gaiman'.match('Neil')"
   ]
  },
  {
   "cell_type": "code",
   "execution_count": null,
   "id": "e28e005a-ce22-48cd-8b75-bfa99f6ae1d5",
   "metadata": {},
   "outputs": [],
   "source": []
  },
  {
   "cell_type": "code",
   "execution_count": null,
   "id": "72e43fc5-eaf7-417d-be72-569ad0c97ce3",
   "metadata": {},
   "outputs": [],
   "source": []
  },
  {
   "cell_type": "markdown",
   "id": "b88be8c3-5b43-4ed3-8bb4-fa3ab54993cb",
   "metadata": {},
   "source": [
    "## **FILTER**\n",
    "\n",
    "Creates a new array with all elements that pass the test implemented by the provided function"
   ]
  },
  {
   "cell_type": "code",
   "execution_count": 55,
   "id": "5cbe658e-8ccf-4224-8707-482302aecf3f",
   "metadata": {},
   "outputs": [],
   "source": [
    "// example, le's filter our all elements from the numbers\n",
    "// array that are even"
   ]
  },
  {
   "cell_type": "code",
   "execution_count": 56,
   "id": "a0f3186b-1e7e-4b63-85de-b44a0277cd21",
   "metadata": {},
   "outputs": [
    {
     "data": {
      "text/plain": [
       "[\n",
       "  20, 21, 22, 23, 24,\n",
       "  25, 26, 27, 28\n",
       "]"
      ]
     },
     "execution_count": 56,
     "metadata": {},
     "output_type": "execute_result"
    }
   ],
   "source": [
    "numbers"
   ]
  },
  {
   "cell_type": "code",
   "execution_count": 57,
   "id": "dbf8d279-4a8c-4521-87d2-983347166fd5",
   "metadata": {},
   "outputs": [
    {
     "data": {
      "text/plain": [
       "[ 20, 22, 24, 26, 28 ]"
      ]
     },
     "execution_count": 57,
     "metadata": {},
     "output_type": "execute_result"
    }
   ],
   "source": [
    "numbers.filter((x) => x % 2 === 0)"
   ]
  },
  {
   "cell_type": "code",
   "execution_count": 58,
   "id": "7da6f9b1-9151-4327-b570-775f050364c0",
   "metadata": {},
   "outputs": [],
   "source": [
    "// now, you can store this array filtered in another array"
   ]
  },
  {
   "cell_type": "code",
   "execution_count": 59,
   "id": "1837626a-f52e-4a1c-9a4d-85bda0594e21",
   "metadata": {},
   "outputs": [
    {
     "data": {
      "text/plain": [
       "[ 20, 22, 24, 26, 28 ]"
      ]
     },
     "execution_count": 59,
     "metadata": {},
     "output_type": "execute_result"
    }
   ],
   "source": [
    "evenNums = numbers.filter((x) => x % 2 === 0)"
   ]
  },
  {
   "cell_type": "code",
   "execution_count": 60,
   "id": "a67dab96-288f-4d24-ad20-1e3630570135",
   "metadata": {},
   "outputs": [
    {
     "data": {
      "text/plain": [
       "[ 20, 22, 24, 26, 28 ]"
      ]
     },
     "execution_count": 60,
     "metadata": {},
     "output_type": "execute_result"
    }
   ],
   "source": [
    "evenNums"
   ]
  },
  {
   "cell_type": "code",
   "execution_count": null,
   "id": "8830798d-fad2-4d66-af98-86f6dc39f741",
   "metadata": {},
   "outputs": [],
   "source": []
  },
  {
   "cell_type": "code",
   "execution_count": null,
   "id": "c03cbf41-b3d2-4d12-a558-588946fff5d0",
   "metadata": {},
   "outputs": [],
   "source": []
  },
  {
   "cell_type": "code",
   "execution_count": 61,
   "id": "f933832f-bc9a-43c0-813b-a4509cb72d2f",
   "metadata": {},
   "outputs": [
    {
     "data": {
      "text/plain": [
       "[\n",
       "  20, 21, 22, 23, 24,\n",
       "  25, 26, 27, 28\n",
       "]"
      ]
     },
     "execution_count": 61,
     "metadata": {},
     "output_type": "execute_result"
    }
   ],
   "source": [
    "numbers"
   ]
  },
  {
   "cell_type": "code",
   "execution_count": 62,
   "id": "cc036ac0-abee-46d7-b514-49957c83834f",
   "metadata": {},
   "outputs": [
    {
     "data": {
      "text/plain": [
       "[ 20, 21, 22, 23, 24 ]"
      ]
     },
     "execution_count": 62,
     "metadata": {},
     "output_type": "execute_result"
    }
   ],
   "source": [
    "// now let's filter the numbers less than 25\n",
    "\n",
    "numbers.filter((x) => x < 25)"
   ]
  },
  {
   "cell_type": "code",
   "execution_count": 63,
   "id": "3421e216-6f11-4e60-a76c-8f11c1fa1067",
   "metadata": {},
   "outputs": [
    {
     "data": {
      "text/plain": [
       "[ 21, 23, 25, 27 ]"
      ]
     },
     "execution_count": 63,
     "metadata": {},
     "output_type": "execute_result"
    }
   ],
   "source": [
    "// for odd numebers\n",
    "numbers.filter(x => x%2 === 1)"
   ]
  },
  {
   "cell_type": "code",
   "execution_count": null,
   "id": "2638bab9-48fd-4c56-9fb6-aef082f1bfcd",
   "metadata": {},
   "outputs": [],
   "source": []
  },
  {
   "cell_type": "code",
   "execution_count": null,
   "id": "fdf4677e-2e0c-41a4-956a-31facf0395ef",
   "metadata": {},
   "outputs": [],
   "source": []
  },
  {
   "cell_type": "code",
   "execution_count": null,
   "id": "977b258d-b659-44bd-90ac-f60ca53bb441",
   "metadata": {},
   "outputs": [],
   "source": []
  },
  {
   "cell_type": "code",
   "execution_count": 64,
   "id": "25b25a41-632f-408d-b779-842b3f395ab7",
   "metadata": {},
   "outputs": [
    {
     "data": {
      "text/plain": [
       "[\n",
       "  {\n",
       "    title: 'Good Omens',\n",
       "    authors: [ 'Terry Pratchett', 'Neil Gaiman' ],\n",
       "    ratings: 4.25\n",
       "  },\n",
       "  {\n",
       "    title: 'Bone: The Complete Edition',\n",
       "    authors: [ 'Jeff Smith' ],\n",
       "    ratings: 4.42\n",
       "  },\n",
       "  { title: 'American Gods', authors: [ 'Neil Gaiman' ], ratings: 4.11 },\n",
       "  {\n",
       "    title: 'A Gentleman in Moscow',\n",
       "    authors: [ 'Amor Towles' ],\n",
       "    ratings: 4.36\n",
       "  }\n",
       "]"
      ]
     },
     "execution_count": 64,
     "metadata": {},
     "output_type": "execute_result"
    }
   ],
   "source": [
    "books"
   ]
  },
  {
   "cell_type": "code",
   "execution_count": 65,
   "id": "5b19a654-0499-4f92-b93e-5c297fc3d437",
   "metadata": {},
   "outputs": [
    {
     "data": {
      "text/plain": [
       "[ 'fiction', 'fantasy' ]"
      ]
     },
     "execution_count": 65,
     "metadata": {},
     "output_type": "execute_result"
    }
   ],
   "source": [
    "books[0]['genres'] = ['fiction','fantasy']"
   ]
  },
  {
   "cell_type": "code",
   "execution_count": 66,
   "id": "f72997e6-4660-40b1-8d1f-e33b646813a9",
   "metadata": {},
   "outputs": [
    {
     "data": {
      "text/plain": [
       "[ 'fiction', 'graphic novel', 'function' ]"
      ]
     },
     "execution_count": 66,
     "metadata": {},
     "output_type": "execute_result"
    }
   ],
   "source": [
    "books[1].title = 'The Name of the WInd';\n",
    "books[1].authors = ['Patrick Rothfuss'];\n",
    "books[1].authors = 4.54;\n",
    "books[1].genres = ['nonfiction','essays']\n",
    "books[2].genres = ['fiction','graphic novel','function']\n"
   ]
  },
  {
   "cell_type": "code",
   "execution_count": 67,
   "id": "885ba8ca-d9e3-4079-a608-babcb18d0d40",
   "metadata": {},
   "outputs": [
    {
     "data": {
      "text/plain": [
       "[\n",
       "  {\n",
       "    title: 'Good Omens',\n",
       "    authors: [ 'Terry Pratchett', 'Neil Gaiman' ],\n",
       "    ratings: 4.25,\n",
       "    genres: [ 'fiction', 'fantasy' ]\n",
       "  },\n",
       "  {\n",
       "    title: 'The Name of the WInd',\n",
       "    authors: 4.54,\n",
       "    ratings: 4.42,\n",
       "    genres: [ 'nonfiction', 'essays' ]\n",
       "  },\n",
       "  {\n",
       "    title: 'American Gods',\n",
       "    authors: [ 'Neil Gaiman' ],\n",
       "    ratings: 4.11,\n",
       "    genres: [ 'fiction', 'graphic novel', 'function' ]\n",
       "  },\n",
       "  {\n",
       "    title: 'A Gentleman in Moscow',\n",
       "    authors: [ 'Amor Towles' ],\n",
       "    ratings: 4.36\n",
       "  }\n",
       "]"
      ]
     },
     "execution_count": 67,
     "metadata": {},
     "output_type": "execute_result"
    }
   ],
   "source": [
    "books"
   ]
  },
  {
   "cell_type": "code",
   "execution_count": null,
   "id": "9870c7f8-e7c3-464b-b070-8450b98b1e49",
   "metadata": {},
   "outputs": [],
   "source": []
  },
  {
   "cell_type": "code",
   "execution_count": 68,
   "id": "998dc0f4-0090-449f-ae76-1fc570cf40d4",
   "metadata": {},
   "outputs": [
    {
     "data": {
      "text/plain": [
       "[\n",
       "  {\n",
       "    title: 'The Name of the WInd',\n",
       "    authors: 4.54,\n",
       "    ratings: 4.42,\n",
       "    genres: [ 'nonfiction', 'essays' ]\n",
       "  },\n",
       "  {\n",
       "    title: 'A Gentleman in Moscow',\n",
       "    authors: [ 'Amor Towles' ],\n",
       "    ratings: 4.36\n",
       "  }\n",
       "]"
      ]
     },
     "execution_count": 68,
     "metadata": {},
     "output_type": "execute_result"
    }
   ],
   "source": [
    "//maybe we're creating an ecomerce books store\n",
    "books.filter((book) => book.ratings > 4.3)"
   ]
  },
  {
   "cell_type": "code",
   "execution_count": 69,
   "id": "f1b8de4f-6728-429a-8407-dcb861235237",
   "metadata": {},
   "outputs": [
    {
     "data": {
      "text/plain": [
       "true"
      ]
     },
     "execution_count": 69,
     "metadata": {},
     "output_type": "execute_result"
    }
   ],
   "source": [
    "books[0].genres.includes('fantasy')"
   ]
  },
  {
   "cell_type": "code",
   "execution_count": 70,
   "id": "8ffdaf99-0128-4431-8dab-b1b6521cd0ac",
   "metadata": {},
   "outputs": [],
   "source": [
    "const fantasyBooks = books.filter((book) => book.genres && book.genres.includes('fantasy'));"
   ]
  },
  {
   "cell_type": "code",
   "execution_count": 71,
   "id": "06d8a22a-2724-4934-82c6-6de56255aaea",
   "metadata": {},
   "outputs": [
    {
     "data": {
      "text/plain": [
       "[\n",
       "  {\n",
       "    title: 'Good Omens',\n",
       "    authors: [ 'Terry Pratchett', 'Neil Gaiman' ],\n",
       "    ratings: 4.25,\n",
       "    genres: [ 'fiction', 'fantasy' ]\n",
       "  }\n",
       "]"
      ]
     },
     "execution_count": 71,
     "metadata": {},
     "output_type": "execute_result"
    }
   ],
   "source": [
    "fantasyBooks"
   ]
  },
  {
   "cell_type": "code",
   "execution_count": null,
   "id": "41ac8218-7e73-406e-b968-16c1a16856cb",
   "metadata": {},
   "outputs": [],
   "source": []
  },
  {
   "cell_type": "code",
   "execution_count": null,
   "id": "cf609484-8319-4e03-b912-9a93582bd83d",
   "metadata": {},
   "outputs": [],
   "source": []
  },
  {
   "cell_type": "code",
   "execution_count": 72,
   "id": "64cb309f-f7d1-4d68-b5a6-d546b6e1b975",
   "metadata": {},
   "outputs": [
    {
     "data": {
      "text/plain": [
       "[\n",
       "  {\n",
       "    title: 'Good Omens',\n",
       "    authors: [ 'Terry Pratchett', 'Neil Gaiman' ],\n",
       "    ratings: 4.25,\n",
       "    genres: [ 'fiction', 'fantasy' ]\n",
       "  },\n",
       "  {\n",
       "    title: 'The Name of the WInd',\n",
       "    authors: 4.54,\n",
       "    ratings: 4.42,\n",
       "    genres: [ 'nonfiction', 'essays' ]\n",
       "  },\n",
       "  {\n",
       "    title: 'American Gods',\n",
       "    authors: [ 'Neil Gaiman' ],\n",
       "    ratings: 4.11,\n",
       "    genres: [ 'fiction', 'graphic novel', 'function' ]\n",
       "  },\n",
       "  {\n",
       "    title: 'A Gentleman in Moscow',\n",
       "    authors: [ 'Amor Towles' ],\n",
       "    ratings: 4.36\n",
       "  }\n",
       "]"
      ]
     },
     "execution_count": 72,
     "metadata": {},
     "output_type": "execute_result"
    }
   ],
   "source": [
    "books"
   ]
  },
  {
   "cell_type": "code",
   "execution_count": null,
   "id": "d139dac8-7d23-4064-b408-c3e625b2632a",
   "metadata": {},
   "outputs": [],
   "source": []
  },
  {
   "cell_type": "code",
   "execution_count": null,
   "id": "c304ff63-d376-41dd-a4c2-48c1c0475f41",
   "metadata": {},
   "outputs": [],
   "source": []
  },
  {
   "cell_type": "code",
   "execution_count": 73,
   "id": "969d8115-f40e-4802-806d-ba7c7c3539a1",
   "metadata": {},
   "outputs": [
    {
     "data": {
      "text/plain": [
       "[\n",
       "  {\n",
       "    title: 'The Name of the WInd',\n",
       "    authors: 4.54,\n",
       "    ratings: 4.42,\n",
       "    genres: [ 'nonfiction', 'essays' ]\n",
       "  }\n",
       "]"
      ]
     },
     "execution_count": 73,
     "metadata": {},
     "output_type": "execute_result"
    }
   ],
   "source": [
    "books.filter((x) => (x.genres && x.genres.includes('essays')));"
   ]
  },
  {
   "cell_type": "code",
   "execution_count": null,
   "id": "7b231705-b9c9-4ea6-9dc6-831ea0b9d41e",
   "metadata": {},
   "outputs": [],
   "source": []
  },
  {
   "cell_type": "code",
   "execution_count": null,
   "id": "8c20733b-e018-4a17-a978-f7f71297e11e",
   "metadata": {},
   "outputs": [],
   "source": []
  },
  {
   "cell_type": "code",
   "execution_count": 74,
   "id": "c0716f8b-5962-4059-bb9d-369aedb31761",
   "metadata": {},
   "outputs": [],
   "source": [
    "// let's mimic a search box"
   ]
  },
  {
   "cell_type": "code",
   "execution_count": 75,
   "id": "7ad13e84-53f7-4e16-bac5-952bb777ac95",
   "metadata": {},
   "outputs": [],
   "source": [
    "const query = 'The';\n",
    "const result = books.filter((book) => {\n",
    "    const title = book.title.toLowerCase();\n",
    "    return title.includes(query.toLowerCase());\n",
    "})"
   ]
  },
  {
   "cell_type": "code",
   "execution_count": 76,
   "id": "2be9e4ab-ae99-4233-be9c-ec2a054b1540",
   "metadata": {},
   "outputs": [
    {
     "data": {
      "text/plain": [
       "[\n",
       "  {\n",
       "    title: 'The Name of the WInd',\n",
       "    authors: 4.54,\n",
       "    ratings: 4.42,\n",
       "    genres: [ 'nonfiction', 'essays' ]\n",
       "  }\n",
       "]"
      ]
     },
     "execution_count": 76,
     "metadata": {},
     "output_type": "execute_result"
    }
   ],
   "source": [
    "result"
   ]
  },
  {
   "cell_type": "code",
   "execution_count": null,
   "id": "5d150766-16dc-4fa8-8d22-07144d623680",
   "metadata": {},
   "outputs": [],
   "source": []
  },
  {
   "cell_type": "code",
   "execution_count": null,
   "id": "d70232bc-eb24-4a32-a7e7-4d841402a48f",
   "metadata": {},
   "outputs": [],
   "source": []
  },
  {
   "cell_type": "markdown",
   "id": "da18e91c-a4c7-4293-a4d0-0a797b8899cd",
   "metadata": {},
   "source": [
    "## **Some & Every**"
   ]
  },
  {
   "cell_type": "markdown",
   "id": "10a0cc05-9527-45d7-8915-4fa120c8bb15",
   "metadata": {},
   "source": [
    "## Some\n",
    "- Similar to every, but returns true if ANY of the array elements pass the test function\n",
    "\n",
    "## Every\n",
    "- tests whether all elements in the array pass the provided function. It returns a boolean value."
   ]
  },
  {
   "cell_type": "code",
   "execution_count": 80,
   "id": "e6a4fece-fa2d-4ba2-8de7-3553eabfe1a1",
   "metadata": {},
   "outputs": [
    {
     "data": {
      "text/plain": [
       "[ 'asap', 'byob', 'rsvp', 'diy' ]"
      ]
     },
     "execution_count": 80,
     "metadata": {},
     "output_type": "execute_result"
    }
   ],
   "source": [
    "words"
   ]
  },
  {
   "cell_type": "code",
   "execution_count": 81,
   "id": "aab78adb-aa1b-4fc2-b4da-ec3445788ff2",
   "metadata": {},
   "outputs": [
    {
     "data": {
      "text/plain": [
       "true"
      ]
     },
     "execution_count": 81,
     "metadata": {},
     "output_type": "execute_result"
    }
   ],
   "source": [
    "// now let's implement this :\n",
    "\n",
    "words.some((word) => word.length > 3)"
   ]
  },
  {
   "cell_type": "code",
   "execution_count": null,
   "id": "68fec054-2950-4b70-9218-ff501f7edfed",
   "metadata": {},
   "outputs": [],
   "source": []
  },
  {
   "cell_type": "code",
   "execution_count": 82,
   "id": "588aa693-45ed-47e0-8368-56489ecc1847",
   "metadata": {},
   "outputs": [
    {
     "data": {
      "text/plain": [
       "false"
      ]
     },
     "execution_count": 82,
     "metadata": {},
     "output_type": "execute_result"
    }
   ],
   "source": [
    "words.every((word) => word.length > 3)"
   ]
  },
  {
   "cell_type": "code",
   "execution_count": null,
   "id": "bbe7a4da-6207-42fa-9a65-8ab2899f003d",
   "metadata": {},
   "outputs": [],
   "source": []
  },
  {
   "cell_type": "code",
   "execution_count": 83,
   "id": "16b6479d-7cb5-4ec7-96b6-32019a6e0ecb",
   "metadata": {},
   "outputs": [
    {
     "data": {
      "text/plain": [
       "true"
      ]
     },
     "execution_count": 83,
     "metadata": {},
     "output_type": "execute_result"
    }
   ],
   "source": [
    "words.every((word) => word === word.toLowerCase())"
   ]
  },
  {
   "cell_type": "code",
   "execution_count": null,
   "id": "7596d6c5-3bc7-4890-abd9-10e709e607f6",
   "metadata": {},
   "outputs": [],
   "source": []
  },
  {
   "cell_type": "code",
   "execution_count": null,
   "id": "0d55a436-4189-4e96-bb4c-4b0ea4fe86ff",
   "metadata": {},
   "outputs": [],
   "source": []
  },
  {
   "cell_type": "markdown",
   "id": "967adfc7-6f0c-45b9-95c8-09316c3cebb0",
   "metadata": {},
   "source": [
    "## **Revisiting Sort!**"
   ]
  },
  {
   "cell_type": "code",
   "execution_count": 84,
   "id": "8d6cf558-a615-4702-b08a-743f8933c38b",
   "metadata": {},
   "outputs": [],
   "source": [
    "// now, let's recap on the last sort we used\n",
    "\n",
    "const prices = [400.50,3000,99.99,35.99,12.00,9500];"
   ]
  },
  {
   "cell_type": "code",
   "execution_count": 85,
   "id": "a412e4e2-c82b-43d8-a5e0-c2c4f55a737d",
   "metadata": {},
   "outputs": [
    {
     "data": {
      "text/plain": [
       "[ 12, 3000, 35.99, 400.5, 9500, 99.99 ]"
      ]
     },
     "execution_count": 85,
     "metadata": {},
     "output_type": "execute_result"
    }
   ],
   "source": [
    "prices.sort();"
   ]
  },
  {
   "cell_type": "code",
   "execution_count": 86,
   "id": "e6955136-eabe-4469-a8a8-742e1e3a3906",
   "metadata": {},
   "outputs": [],
   "source": [
    "// it didn't behave the way it's supposed to"
   ]
  },
  {
   "cell_type": "code",
   "execution_count": null,
   "id": "15ec44b0-b7fd-450a-a5ec-9e03891420a8",
   "metadata": {},
   "outputs": [],
   "source": []
  },
  {
   "cell_type": "code",
   "execution_count": 87,
   "id": "cb5649bd-4780-4b9a-bd59-9643b37fa3b5",
   "metadata": {},
   "outputs": [],
   "source": [
    "// now that we have callback methods, we can do it this way :"
   ]
  },
  {
   "cell_type": "markdown",
   "id": "347d08a1-977d-4cf0-a475-3e3e21409568",
   "metadata": {},
   "source": [
    "#### **SORT PT. 2\n",
    "##### **arr.sort(compareFunc(a,b))\n",
    "* If compareFunc(a,b) returns less than 0 : Sort a before b\n",
    "* If compareFunc(a,b) return 0 : Leave a and b unchanged with respect to each other\n",
    "* If compareFunc(a,b) returns greater than 0 : Sort b before a"
   ]
  },
  {
   "cell_type": "code",
   "execution_count": 88,
   "id": "a75febf0-efc1-46c6-8a80-0cfe6ceb0366",
   "metadata": {},
   "outputs": [
    {
     "data": {
      "text/plain": [
       "[ 12, 3000, 35.99, 400.5, 9500, 99.99 ]"
      ]
     },
     "execution_count": 88,
     "metadata": {},
     "output_type": "execute_result"
    }
   ],
   "source": [
    "prices"
   ]
  },
  {
   "cell_type": "code",
   "execution_count": 89,
   "id": "fbb2ba53-bdba-41ee-b78a-dbf32eb53eae",
   "metadata": {},
   "outputs": [
    {
     "data": {
      "text/plain": [
       "[ 12, 35.99, 99.99, 400.5, 3000, 9500 ]"
      ]
     },
     "execution_count": 89,
     "metadata": {},
     "output_type": "execute_result"
    }
   ],
   "source": [
    "prices.sort((a,b) => a - b)"
   ]
  },
  {
   "cell_type": "code",
   "execution_count": 90,
   "id": "efd45aab-e771-46fc-80d6-be941fc38e7c",
   "metadata": {},
   "outputs": [
    {
     "data": {
      "text/plain": [
       "[ 9500, 3000, 400.5, 99.99, 35.99, 12 ]"
      ]
     },
     "execution_count": 90,
     "metadata": {},
     "output_type": "execute_result"
    }
   ],
   "source": [
    "prices.sort((a,b) => b - a)"
   ]
  },
  {
   "cell_type": "code",
   "execution_count": 92,
   "id": "bfffa26c-38d6-4d07-9ee5-258ef33f3138",
   "metadata": {},
   "outputs": [
    {
     "data": {
      "text/plain": [
       "[ 12, 35.99, 99.99, 400.5, 3000, 9500 ]"
      ]
     },
     "execution_count": 92,
     "metadata": {},
     "output_type": "execute_result"
    }
   ],
   "source": [
    "prices.sort(function(a,b){\n",
    "    return a - b;\n",
    "})"
   ]
  },
  {
   "cell_type": "code",
   "execution_count": null,
   "id": "71562f57-a73e-4e9b-8f3e-47a78f5cca4e",
   "metadata": {},
   "outputs": [],
   "source": []
  },
  {
   "cell_type": "code",
   "execution_count": 93,
   "id": "325bff10-a979-4af7-8237-22ba6e4547aa",
   "metadata": {},
   "outputs": [],
   "source": [
    " // now let's create the three sorts\n",
    "\n",
    "const badSort = prices.slice().sort();\n",
    "const ascSort = prices.slice().sort((x,y) => x-y);\n",
    "const descSort = prices.slice().sort((x,y) => y-x);"
   ]
  },
  {
   "cell_type": "code",
   "execution_count": 94,
   "id": "de690cd5-ef7f-464f-b1d7-91ac18ad8011",
   "metadata": {},
   "outputs": [
    {
     "data": {
      "text/plain": [
       "[ 12, 3000, 35.99, 400.5, 9500, 99.99 ]"
      ]
     },
     "execution_count": 94,
     "metadata": {},
     "output_type": "execute_result"
    }
   ],
   "source": [
    "badSort"
   ]
  },
  {
   "cell_type": "code",
   "execution_count": 95,
   "id": "2e56eca0-991e-45bd-9a02-e6b67d9a70a7",
   "metadata": {},
   "outputs": [
    {
     "data": {
      "text/plain": [
       "[ 12, 35.99, 99.99, 400.5, 3000, 9500 ]"
      ]
     },
     "execution_count": 95,
     "metadata": {},
     "output_type": "execute_result"
    }
   ],
   "source": [
    "ascSort"
   ]
  },
  {
   "cell_type": "code",
   "execution_count": 96,
   "id": "568b43c8-24ea-4f5b-b600-0f87952dc647",
   "metadata": {},
   "outputs": [
    {
     "data": {
      "text/plain": [
       "[ 9500, 3000, 400.5, 99.99, 35.99, 12 ]"
      ]
     },
     "execution_count": 96,
     "metadata": {},
     "output_type": "execute_result"
    }
   ],
   "source": [
    "descSort"
   ]
  },
  {
   "cell_type": "code",
   "execution_count": null,
   "id": "66ace4f0-d8c0-4a3a-88fe-13fa5c326cbb",
   "metadata": {},
   "outputs": [],
   "source": []
  },
  {
   "cell_type": "code",
   "execution_count": null,
   "id": "388be61c-af36-499c-8a83-43b7825a9bc2",
   "metadata": {},
   "outputs": [],
   "source": []
  },
  {
   "cell_type": "code",
   "execution_count": 101,
   "id": "29cce418-3ed7-469a-81ab-01bf0c5aa8c9",
   "metadata": {},
   "outputs": [
    {
     "data": {
      "text/plain": [
       "[\n",
       "  {\n",
       "    title: 'The Name of the WInd',\n",
       "    authors: 4.54,\n",
       "    ratings: 4.42,\n",
       "    genres: [ 'nonfiction', 'essays' ]\n",
       "  },\n",
       "  {\n",
       "    title: 'A Gentleman in Moscow',\n",
       "    authors: [ 'Amor Towles' ],\n",
       "    ratings: 4.36\n",
       "  },\n",
       "  {\n",
       "    title: 'Good Omens',\n",
       "    authors: [ 'Terry Pratchett', 'Neil Gaiman' ],\n",
       "    ratings: 4.25,\n",
       "    genres: [ 'fiction', 'fantasy' ]\n",
       "  },\n",
       "  {\n",
       "    title: 'American Gods',\n",
       "    authors: [ 'Neil Gaiman' ],\n",
       "    ratings: 4.11,\n",
       "    genres: [ 'fiction', 'graphic novel', 'function' ]\n",
       "  }\n",
       "]"
      ]
     },
     "execution_count": 101,
     "metadata": {},
     "output_type": "execute_result"
    }
   ],
   "source": [
    "books.sort((book1,book2) => book2.ratings - book1.ratings)"
   ]
  },
  {
   "cell_type": "code",
   "execution_count": null,
   "id": "49e3f6f8-597b-47b8-81bb-23e4d65eebda",
   "metadata": {},
   "outputs": [],
   "source": []
  },
  {
   "cell_type": "code",
   "execution_count": null,
   "id": "3937a7e0-284f-46cb-8f8a-580394b11595",
   "metadata": {},
   "outputs": [],
   "source": []
  },
  {
   "cell_type": "code",
   "execution_count": null,
   "id": "2ec24895-c574-4a1a-a945-3af13be2a5e1",
   "metadata": {},
   "outputs": [],
   "source": []
  },
  {
   "cell_type": "markdown",
   "id": "f25a667b-63b4-423f-a392-613e5bbdc2a9",
   "metadata": {},
   "source": [
    "## **REDUCE**\n",
    "* Executes a reduce function on each element, resulting in a single value"
   ]
  },
  {
   "cell_type": "code",
   "execution_count": 104,
   "id": "e8ab6651-c0c5-41cb-8b14-cdd6682687cb",
   "metadata": {},
   "outputs": [],
   "source": [
    "// APPLICATIONS OF SUMMING\n",
    "// -- Summing Data"
   ]
  },
  {
   "cell_type": "code",
   "execution_count": 105,
   "id": "85ff106b-e96f-4da2-9278-fa498b93f87e",
   "metadata": {},
   "outputs": [],
   "source": [
    " // now the reduce function, needs a callback that has\n",
    "// atleast 2 parameters, that are accumulator and currentValue"
   ]
  },
  {
   "cell_type": "code",
   "execution_count": 106,
   "id": "2ab9918b-8acb-40e2-a6ba-2040453e1573",
   "metadata": {},
   "outputs": [
    {
     "data": {
      "text/plain": [
       "40"
      ]
     },
     "execution_count": 106,
     "metadata": {},
     "output_type": "execute_result"
    }
   ],
   "source": [
    "[3,4,5,6,7,4,3,5,3].reduce((total,current) => {\n",
    "    return total + current;\n",
    "})"
   ]
  },
  {
   "cell_type": "code",
   "execution_count": 107,
   "id": "cd54d810-ba0f-487c-952a-54e4185780cc",
   "metadata": {},
   "outputs": [],
   "source": [
    "// now, let's create another that comes with a product\n",
    "const nums = [3,4,5,6,7];"
   ]
  },
  {
   "cell_type": "code",
   "execution_count": 109,
   "id": "73fa7509-376e-455d-a2e5-f6d81225b3b8",
   "metadata": {},
   "outputs": [],
   "source": [
    "let product = nums.reduce((result,num) => result * num )"
   ]
  },
  {
   "cell_type": "code",
   "execution_count": 110,
   "id": "5a6d3786-0753-4cda-8602-2dd9b8a2fc37",
   "metadata": {},
   "outputs": [
    {
     "data": {
      "text/plain": [
       "2520"
      ]
     },
     "execution_count": 110,
     "metadata": {},
     "output_type": "execute_result"
    }
   ],
   "source": [
    "product"
   ]
  },
  {
   "cell_type": "code",
   "execution_count": null,
   "id": "ca714f2f-d250-4bec-ab12-04f3035d2c18",
   "metadata": {},
   "outputs": [],
   "source": []
  },
  {
   "cell_type": "code",
   "execution_count": null,
   "id": "624bb77c-7e25-4349-b0ad-de7039b10b7b",
   "metadata": {},
   "outputs": [],
   "source": []
  },
  {
   "cell_type": "markdown",
   "id": "81d67d49-1631-41fd-a83c-465fdaf16fa1",
   "metadata": {},
   "source": [
    "## **REDUCE**"
   ]
  },
  {
   "cell_type": "code",
   "execution_count": 111,
   "id": "39e220ce-9434-41ac-a775-94b98015bc3a",
   "metadata": {},
   "outputs": [],
   "source": [
    "// Let's find the max value in the nums array"
   ]
  },
  {
   "cell_type": "code",
   "execution_count": 112,
   "id": "1fcb3892-9231-421b-b498-def5678227bb",
   "metadata": {},
   "outputs": [
    {
     "data": {
      "text/plain": [
       "[ 3, 4, 5, 6, 7 ]"
      ]
     },
     "execution_count": 112,
     "metadata": {},
     "output_type": "execute_result"
    }
   ],
   "source": [
    "nums"
   ]
  },
  {
   "cell_type": "code",
   "execution_count": 113,
   "id": "42a5066c-1a84-478a-b901-189cde88a9dc",
   "metadata": {},
   "outputs": [
    {
     "data": {
      "text/plain": [
       "7"
      ]
     },
     "execution_count": 113,
     "metadata": {},
     "output_type": "execute_result"
    }
   ],
   "source": [
    "nums.reduce((max,currVal) => {\n",
    "    if(currVal > max) return currVal;\n",
    "    return max;\n",
    "})"
   ]
  },
  {
   "cell_type": "code",
   "execution_count": 114,
   "id": "78aad3c4-5e80-4261-aa2d-9ec92de88062",
   "metadata": {},
   "outputs": [
    {
     "data": {
      "text/plain": [
       "7"
      ]
     },
     "execution_count": 114,
     "metadata": {},
     "output_type": "execute_result"
    }
   ],
   "source": [
    "// second approach\n",
    "\n",
    "nums.reduce((max,currVal) => {\n",
    "    return Math.max(max,currVal)\n",
    "})"
   ]
  },
  {
   "cell_type": "code",
   "execution_count": null,
   "id": "9f032b4c-3b02-48c8-9927-90a9541907be",
   "metadata": {},
   "outputs": [],
   "source": []
  },
  {
   "cell_type": "code",
   "execution_count": null,
   "id": "0ee0df58-b86b-4e01-bcf6-3ee5aca669cd",
   "metadata": {},
   "outputs": [],
   "source": []
  },
  {
   "cell_type": "markdown",
   "id": "506901d3-d699-4213-bf2c-860cc5d6bd18",
   "metadata": {},
   "source": [
    "## **EVEN MORE REDUCE**"
   ]
  },
  {
   "cell_type": "code",
   "execution_count": 115,
   "id": "9fc04eeb-53ba-4214-858a-3bd9ef9153fe",
   "metadata": {},
   "outputs": [],
   "source": [
    "const votes = ['y','y','n','y','n','y','y','n','y','n','n','n'];"
   ]
  },
  {
   "cell_type": "code",
   "execution_count": 117,
   "id": "88a52422-180a-4d2b-b916-2d5cbf127e02",
   "metadata": {},
   "outputs": [
    {
     "data": {
      "text/plain": [
       "{ y: 6, n: 6 }"
      ]
     },
     "execution_count": 117,
     "metadata": {},
     "output_type": "execute_result"
    }
   ],
   "source": [
    "// we want to create an object\n",
    "\n",
    "votes.reduce((tally,val) => {\n",
    "     if(tally[val]){\n",
    "         tally[val]++; \n",
    "     }\n",
    "    else{ \n",
    "        tally[val] = 1;\n",
    "    }\n",
    "    return tally;\n",
    "},{})"
   ]
  },
  {
   "cell_type": "code",
   "execution_count": null,
   "id": "7aa56652-3090-458c-8f58-7361d636d9c1",
   "metadata": {},
   "outputs": [],
   "source": []
  }
 ],
 "metadata": {
  "kernelspec": {
   "display_name": "JavaScript (Node.js)",
   "language": "javascript",
   "name": "javascript"
  },
  "language_info": {
   "file_extension": ".js",
   "mimetype": "application/javascript",
   "name": "javascript",
   "version": "18.15.0"
  }
 },
 "nbformat": 4,
 "nbformat_minor": 5
}
