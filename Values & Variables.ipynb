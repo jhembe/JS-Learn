{
 "cells": [
  {
   "cell_type": "markdown",
   "id": "69498e4b-c48a-416a-aa2c-c14ca5f0bf46",
   "metadata": {
    "tags": []
   },
   "source": [
    "<center><bold><h1>Values & Variables</h1></bold></center>"
   ]
  },
  {
   "cell_type": "markdown",
   "id": "09823180-9a47-432e-af30-9a36ba881771",
   "metadata": {},
   "source": [
    "## Goal & Primitives"
   ]
  },
  {
   "cell_type": "markdown",
   "id": "f09b5ce1-c766-4bc6-be4c-04356f8676ff",
   "metadata": {},
   "source": [
    "### By the end of the section, we'll understand :\n",
    "* Working\twith primitive types\n",
    "* understand let & constant\n",
    "* use string template literals\n",
    "* work with common operators/methods"
   ]
  },
  {
   "cell_type": "markdown",
   "id": "5fc44403-b7d3-4f9d-949e-75c771d09511",
   "metadata": {},
   "source": [
    "#### PRIMITIVE TYPEs : \n",
    "* Number\n",
    "* String\n",
    "* Boolean\n",
    "* Null\n",
    "* Undefined\n",
    "* Symbol\n",
    "* BigInt"
   ]
  },
  {
   "cell_type": "code",
   "execution_count": null,
   "id": "7cd1ef71-da85-4437-9867-3432ea069d46",
   "metadata": {},
   "outputs": [],
   "source": []
  },
  {
   "cell_type": "markdown",
   "id": "ecdbbdc8-342b-4c8f-baac-0ad3d5652a68",
   "metadata": {},
   "source": [
    "#### **Number**"
   ]
  },
  {
   "cell_type": "code",
   "execution_count": 2,
   "id": "ecb5244c-7c5b-4dfb-84db-ea984588fda0",
   "metadata": {},
   "outputs": [
    {
     "data": {
      "text/plain": [
       "13"
      ]
     },
     "execution_count": 2,
     "metadata": {},
     "output_type": "execute_result"
    }
   ],
   "source": [
    "13"
   ]
  },
  {
   "cell_type": "code",
   "execution_count": 3,
   "id": "7b14ebfa-cc07-4792-85ad-e45a6b67b5b4",
   "metadata": {},
   "outputs": [
    {
     "data": {
      "text/plain": [
       "-34"
      ]
     },
     "execution_count": 3,
     "metadata": {},
     "output_type": "execute_result"
    }
   ],
   "source": [
    "-34"
   ]
  },
  {
   "cell_type": "code",
   "execution_count": 4,
   "id": "c3c05848-6a87-4843-b730-5099497692ca",
   "metadata": {},
   "outputs": [
    {
     "data": {
      "text/plain": [
       "34.78"
      ]
     },
     "execution_count": 4,
     "metadata": {},
     "output_type": "execute_result"
    }
   ],
   "source": [
    "34.78"
   ]
  },
  {
   "cell_type": "code",
   "execution_count": 5,
   "id": "7c84b240-88c2-4a44-a3f7-27aaa26f9fe3",
   "metadata": {},
   "outputs": [],
   "source": [
    "// when using developer console, you can clear your console using clear() method"
   ]
  },
  {
   "cell_type": "markdown",
   "id": "c5752285-3151-4be3-a420-88556674837f",
   "metadata": {},
   "source": [
    "##### **Simple Operations**"
   ]
  },
  {
   "cell_type": "code",
   "execution_count": 6,
   "id": "5b50e253-2358-4702-9fec-5f0e234fd0f2",
   "metadata": {},
   "outputs": [
    {
     "data": {
      "text/plain": [
       "55"
      ]
     },
     "execution_count": 6,
     "metadata": {},
     "output_type": "execute_result"
    }
   ],
   "source": [
    "50 + 5"
   ]
  },
  {
   "cell_type": "code",
   "execution_count": 7,
   "id": "61e3ebf1-16ef-4783-b402-da409ff96008",
   "metadata": {},
   "outputs": [
    {
     "data": {
      "text/plain": [
       "89"
      ]
     },
     "execution_count": 7,
     "metadata": {},
     "output_type": "execute_result"
    }
   ],
   "source": [
    "90 - 1"
   ]
  },
  {
   "cell_type": "code",
   "execution_count": 8,
   "id": "4ece1a09-539d-43e3-bed1-a612f5825647",
   "metadata": {},
   "outputs": [
    {
     "data": {
      "text/plain": [
       "9.5"
      ]
     },
     "execution_count": 8,
     "metadata": {},
     "output_type": "execute_result"
    }
   ],
   "source": [
    "1.5 + 8"
   ]
  },
  {
   "cell_type": "code",
   "execution_count": 9,
   "id": "fa38592b-2c45-45b0-975a-9de9fc251163",
   "metadata": {},
   "outputs": [
    {
     "data": {
      "text/plain": [
       "-33.678"
      ]
     },
     "execution_count": 9,
     "metadata": {},
     "output_type": "execute_result"
    }
   ],
   "source": [
    "12 - 45.678"
   ]
  },
  {
   "cell_type": "code",
   "execution_count": 10,
   "id": "635a8694-c1b3-44d5-9756-e039ac545a3d",
   "metadata": {},
   "outputs": [
    {
     "data": {
      "text/plain": [
       "7.2"
      ]
     },
     "execution_count": 10,
     "metadata": {},
     "output_type": "execute_result"
    }
   ],
   "source": [
    "4 * 1.8"
   ]
  },
  {
   "cell_type": "code",
   "execution_count": 11,
   "id": "47597c78-222d-4ed6-9fc7-abc13aebdb77",
   "metadata": {},
   "outputs": [],
   "source": [
    "// # modulo"
   ]
  },
  {
   "cell_type": "code",
   "execution_count": 12,
   "id": "a0788cb1-034b-436c-aedc-bf7156ba385e",
   "metadata": {},
   "outputs": [
    {
     "data": {
      "text/plain": [
       "1"
      ]
     },
     "execution_count": 12,
     "metadata": {},
     "output_type": "execute_result"
    }
   ],
   "source": [
    "56 % 5"
   ]
  },
  {
   "cell_type": "code",
   "execution_count": 13,
   "id": "e259edd0-f52d-4240-a167-a406f73d4195",
   "metadata": {},
   "outputs": [
    {
     "data": {
      "text/plain": [
       "0"
      ]
     },
     "execution_count": 13,
     "metadata": {},
     "output_type": "execute_result"
    }
   ],
   "source": [
    "20 % 2"
   ]
  },
  {
   "cell_type": "code",
   "execution_count": 14,
   "id": "3d7d564e-3e94-4019-bd65-519616581064",
   "metadata": {},
   "outputs": [],
   "source": [
    "// # Exponent"
   ]
  },
  {
   "cell_type": "code",
   "execution_count": 15,
   "id": "2f3eae78-41fc-486e-bdf9-c58dbbe7b052",
   "metadata": {},
   "outputs": [
    {
     "data": {
      "text/plain": [
       "9"
      ]
     },
     "execution_count": 15,
     "metadata": {},
     "output_type": "execute_result"
    }
   ],
   "source": [
    "3 ** 2"
   ]
  },
  {
   "cell_type": "code",
   "execution_count": 16,
   "id": "54036991-78ff-4d76-b005-210c1ae00fa9",
   "metadata": {},
   "outputs": [
    {
     "data": {
      "text/plain": [
       "3125"
      ]
     },
     "execution_count": 16,
     "metadata": {},
     "output_type": "execute_result"
    }
   ],
   "source": [
    "5 ** 5"
   ]
  },
  {
   "cell_type": "code",
   "execution_count": null,
   "id": "aece4b25-3522-4620-ac75-843325461298",
   "metadata": {},
   "outputs": [],
   "source": []
  },
  {
   "cell_type": "code",
   "execution_count": null,
   "id": "ffe0360d-864b-45a9-a5d1-a039a1080ca7",
   "metadata": {},
   "outputs": [],
   "source": []
  },
  {
   "cell_type": "markdown",
   "id": "cd8ab594-a863-41ab-a5c5-38284040381a",
   "metadata": {},
   "source": [
    "#### **NaN & Infinity**"
   ]
  },
  {
   "cell_type": "markdown",
   "id": "d53dc4a8-f397-4ab6-acac-8c880f5c3bf6",
   "metadata": {},
   "source": [
    "NaN is a numeric value, that represents something that is not a number"
   ]
  },
  {
   "cell_type": "code",
   "execution_count": 25,
   "id": "a617995b-94b7-4b15-bac0-700bb8fc8460",
   "metadata": {},
   "outputs": [
    {
     "data": {
      "text/plain": [
       "NaN"
      ]
     },
     "execution_count": 25,
     "metadata": {},
     "output_type": "execute_result"
    }
   ],
   "source": [
    "NaN"
   ]
  },
  {
   "cell_type": "code",
   "execution_count": 17,
   "id": "f276652c-7e40-452d-be7e-37f21672d0e0",
   "metadata": {},
   "outputs": [
    {
     "data": {
      "text/plain": [
       "NaN"
      ]
     },
     "execution_count": 17,
     "metadata": {},
     "output_type": "execute_result"
    }
   ],
   "source": [
    "0/0"
   ]
  },
  {
   "cell_type": "code",
   "execution_count": 23,
   "id": "f1a37a53-b0b5-42c0-903d-a675ee043f70",
   "metadata": {},
   "outputs": [
    {
     "data": {
      "text/plain": [
       "NaN"
      ]
     },
     "execution_count": 23,
     "metadata": {},
     "output_type": "execute_result"
    }
   ],
   "source": [
    "1 + 0/0"
   ]
  },
  {
   "cell_type": "code",
   "execution_count": 24,
   "id": "098666b9-4578-4e3d-b825-00f8d83a576c",
   "metadata": {},
   "outputs": [
    {
     "data": {
      "text/plain": [
       "NaN"
      ]
     },
     "execution_count": 24,
     "metadata": {},
     "output_type": "execute_result"
    }
   ],
   "source": [
    "1 + NaN"
   ]
  },
  {
   "cell_type": "code",
   "execution_count": 21,
   "id": "70f067cc-edad-4303-a4d0-9df2fbfa0d9c",
   "metadata": {},
   "outputs": [],
   "source": [
    "// Infinity"
   ]
  },
  {
   "cell_type": "code",
   "execution_count": 26,
   "id": "6c9bdc77-d304-4e11-a569-82eede475071",
   "metadata": {},
   "outputs": [
    {
     "data": {
      "text/plain": [
       "Infinity"
      ]
     },
     "execution_count": 26,
     "metadata": {},
     "output_type": "execute_result"
    }
   ],
   "source": [
    "1/0"
   ]
  },
  {
   "cell_type": "code",
   "execution_count": 27,
   "id": "fbd0b08f-9cd8-4529-a4a5-2586f903029f",
   "metadata": {},
   "outputs": [
    {
     "data": {
      "text/plain": [
       "Infinity"
      ]
     },
     "execution_count": 27,
     "metadata": {},
     "output_type": "execute_result"
    }
   ],
   "source": [
    "Infinity"
   ]
  },
  {
   "cell_type": "code",
   "execution_count": 28,
   "id": "9929ad95-a3ad-4125-a5d3-7b3bcf233825",
   "metadata": {},
   "outputs": [
    {
     "data": {
      "text/plain": [
       "-Infinity"
      ]
     },
     "execution_count": 28,
     "metadata": {},
     "output_type": "execute_result"
    }
   ],
   "source": [
    "-Infinity"
   ]
  },
  {
   "cell_type": "code",
   "execution_count": null,
   "id": "38d96df0-3e31-4d12-8fac-f24514132e47",
   "metadata": {},
   "outputs": [],
   "source": []
  },
  {
   "cell_type": "markdown",
   "id": "6421fc94-b540-4916-88e1-db6e0672f3ea",
   "metadata": {},
   "source": [
    "### **Variables & Let**"
   ]
  },
  {
   "cell_type": "markdown",
   "id": "c3069c07-a07f-4347-b085-bc12887872a8",
   "metadata": {},
   "source": [
    "Variables are like labeled cans for a value in JavaScript. We can store a value and give it a name, so that we can : recall it, use it or change it later."
   ]
  },
  {
   "cell_type": "markdown",
   "id": "2e926259-9c05-4699-a60b-ac01fd93eadf",
   "metadata": {},
   "source": [
    "*We use let & Const to create variables*"
   ]
  },
  {
   "cell_type": "code",
   "execution_count": 31,
   "id": "accc6007-8cc6-4a3d-b7d1-b4c254891989",
   "metadata": {},
   "outputs": [],
   "source": [
    "// let someName = value;  <- That's the format"
   ]
  },
  {
   "cell_type": "code",
   "execution_count": 40,
   "id": "9f0b7a39-8846-481c-94b3-6feac1bf44fc",
   "metadata": {},
   "outputs": [],
   "source": [
    "let myAge = 72;"
   ]
  },
  {
   "cell_type": "code",
   "execution_count": 41,
   "id": "b72b07dd-e192-4f4c-b455-fe84781d9e31",
   "metadata": {},
   "outputs": [],
   "source": [
    "let herAge = 68;"
   ]
  },
  {
   "cell_type": "code",
   "execution_count": 43,
   "id": "2ee5480d-dca0-4cd7-80a2-c3cead1286d1",
   "metadata": {},
   "outputs": [
    {
     "data": {
      "text/plain": [
       "140"
      ]
     },
     "execution_count": 43,
     "metadata": {},
     "output_type": "execute_result"
    }
   ],
   "source": [
    "myAge + herAge;"
   ]
  },
  {
   "cell_type": "code",
   "execution_count": 44,
   "id": "d6278add-63f1-49de-a0b5-ec6c52ed72bb",
   "metadata": {},
   "outputs": [
    {
     "data": {
      "text/plain": [
       "73"
      ]
     },
     "execution_count": 44,
     "metadata": {},
     "output_type": "execute_result"
    }
   ],
   "source": [
    "myAge++;\n",
    "myAge"
   ]
  },
  {
   "cell_type": "code",
   "execution_count": 45,
   "id": "f9326494-5dc1-4a39-baa6-e72db28e25f9",
   "metadata": {},
   "outputs": [
    {
     "data": {
      "text/plain": [
       "69"
      ]
     },
     "execution_count": 45,
     "metadata": {},
     "output_type": "execute_result"
    }
   ],
   "source": [
    "herAge = herAge+1;"
   ]
  },
  {
   "cell_type": "code",
   "execution_count": 46,
   "id": "206cbfd1-8b8b-4199-92a0-7c687c89036c",
   "metadata": {},
   "outputs": [
    {
     "data": {
      "text/plain": [
       "18"
      ]
     },
     "execution_count": 46,
     "metadata": {},
     "output_type": "execute_result"
    }
   ],
   "source": [
    "herAge = 18;"
   ]
  },
  {
   "cell_type": "code",
   "execution_count": 47,
   "id": "e3ba0b6b-d29e-46e9-b220-9791504cdfe6",
   "metadata": {},
   "outputs": [],
   "source": [
    "// Cammel Case"
   ]
  },
  {
   "cell_type": "code",
   "execution_count": 48,
   "id": "d9543ccd-4014-498f-91c1-fec328eea536",
   "metadata": {},
   "outputs": [],
   "source": [
    "let avgRatings = 78;"
   ]
  },
  {
   "cell_type": "code",
   "execution_count": null,
   "id": "e2978e62-2af3-4b64-ab31-d538396b0ef8",
   "metadata": {},
   "outputs": [],
   "source": []
  },
  {
   "cell_type": "markdown",
   "id": "42955595-f0a3-4d55-b2e6-a1a7102ed459",
   "metadata": {},
   "source": [
    "### **Unary Operator**"
   ]
  },
  {
   "cell_type": "code",
   "execution_count": 50,
   "id": "4280de2b-cba9-42af-be40-ce6a6dfdaaf3",
   "metadata": {},
   "outputs": [],
   "source": [
    "let score = 0;"
   ]
  },
  {
   "cell_type": "code",
   "execution_count": 51,
   "id": "40a93b67-1e06-4e1c-9212-9dde959341c8",
   "metadata": {},
   "outputs": [
    {
     "data": {
      "text/plain": [
       "10"
      ]
     },
     "execution_count": 51,
     "metadata": {},
     "output_type": "execute_result"
    }
   ],
   "source": [
    "score = score + 10;"
   ]
  },
  {
   "cell_type": "code",
   "execution_count": 52,
   "id": "ba335f90-cac0-4fec-8950-1c596d8d2589",
   "metadata": {},
   "outputs": [],
   "source": [
    "// or"
   ]
  },
  {
   "cell_type": "code",
   "execution_count": 53,
   "id": "9a00d553-4f32-453d-afb2-db675a0fa9fe",
   "metadata": {},
   "outputs": [
    {
     "data": {
      "text/plain": [
       "11"
      ]
     },
     "execution_count": 53,
     "metadata": {},
     "output_type": "execute_result"
    }
   ],
   "source": [
    "score += 1"
   ]
  },
  {
   "cell_type": "code",
   "execution_count": 54,
   "id": "04a6feca-7149-437a-a97d-cf96c139b3b4",
   "metadata": {},
   "outputs": [
    {
     "data": {
      "text/plain": [
       "10"
      ]
     },
     "execution_count": 54,
     "metadata": {},
     "output_type": "execute_result"
    }
   ],
   "source": [
    "score -= 1;"
   ]
  },
  {
   "cell_type": "code",
   "execution_count": 58,
   "id": "173db6ba-9698-4cd4-8758-90d6e2c49b3b",
   "metadata": {},
   "outputs": [
    {
     "data": {
      "text/plain": [
       "26"
      ]
     },
     "execution_count": 58,
     "metadata": {},
     "output_type": "execute_result"
    }
   ],
   "source": [
    "score--;  // <- Now that's a unary operator \n",
    "score;"
   ]
  },
  {
   "cell_type": "code",
   "execution_count": 56,
   "id": "569bedd9-1f01-40f7-9fe1-9d9244f1faef",
   "metadata": {},
   "outputs": [],
   "source": [
    "let bonusMultiplier = 3;"
   ]
  },
  {
   "cell_type": "code",
   "execution_count": 57,
   "id": "5cb14118-a62a-4914-90c4-d24a16375177",
   "metadata": {},
   "outputs": [
    {
     "data": {
      "text/plain": [
       "27"
      ]
     },
     "execution_count": 57,
     "metadata": {},
     "output_type": "execute_result"
    }
   ],
   "source": [
    "score *= bonusMultiplier;"
   ]
  },
  {
   "cell_type": "code",
   "execution_count": 59,
   "id": "4495379a-cc12-4d57-bb94-b3ad3865d5b8",
   "metadata": {},
   "outputs": [
    {
     "data": {
      "text/plain": [
       "5"
      ]
     },
     "execution_count": 59,
     "metadata": {},
     "output_type": "execute_result"
    }
   ],
   "source": [
    "counter = 6;\n",
    "counter--;  // <- This is the unary operator\n",
    "counter"
   ]
  },
  {
   "cell_type": "code",
   "execution_count": null,
   "id": "b045a315-5890-4ab8-9ba2-1c5a940e58cf",
   "metadata": {},
   "outputs": [],
   "source": []
  },
  {
   "cell_type": "markdown",
   "id": "9610fb8e-10c9-4447-a1e7-b57d25871a84",
   "metadata": {},
   "source": [
    "### **Introducing Const**"
   ]
  },
  {
   "cell_type": "code",
   "execution_count": 61,
   "id": "f8cd9241-ccec-449e-8814-48714dd07345",
   "metadata": {},
   "outputs": [],
   "source": [
    "const year = 1973;"
   ]
  },
  {
   "cell_type": "code",
   "execution_count": 63,
   "id": "82b1cdfd-5614-41a8-9d20-5cb4853e83c9",
   "metadata": {},
   "outputs": [],
   "source": [
    "// year+=1;   <- You cant do this, constant value should't change"
   ]
  },
  {
   "cell_type": "code",
   "execution_count": 68,
   "id": "d61e2066-7df6-4de3-bda5-d188c6e08f07",
   "metadata": {},
   "outputs": [
    {
     "data": {
      "text/plain": [
       "3.14159"
      ]
     },
     "execution_count": 68,
     "metadata": {},
     "output_type": "execute_result"
    }
   ],
   "source": [
    "const PI = 3.14159;\n",
    "PI;"
   ]
  },
  {
   "cell_type": "code",
   "execution_count": 69,
   "id": "386131b3-92a3-489d-9304-fb7e214e2b05",
   "metadata": {},
   "outputs": [],
   "source": [
    "const dayInWeek = 7;"
   ]
  },
  {
   "cell_type": "code",
   "execution_count": 70,
   "id": "a929d9d4-9251-4b96-95a1-82801172f9e7",
   "metadata": {},
   "outputs": [
    {
     "data": {
      "text/plain": [
       "7"
      ]
     },
     "execution_count": 70,
     "metadata": {},
     "output_type": "execute_result"
    }
   ],
   "source": [
    "dayInWeek"
   ]
  },
  {
   "cell_type": "code",
   "execution_count": null,
   "id": "ce8f7a5d-fff2-4186-94a2-6a2aef3518ce",
   "metadata": {},
   "outputs": [],
   "source": []
  }
 ],
 "metadata": {
  "kernelspec": {
   "display_name": "JavaScript (Node.js)",
   "language": "javascript",
   "name": "javascript"
  },
  "language_info": {
   "file_extension": ".js",
   "mimetype": "application/javascript",
   "name": "javascript",
   "version": "18.15.0"
  }
 },
 "nbformat": 4,
 "nbformat_minor": 5
}
