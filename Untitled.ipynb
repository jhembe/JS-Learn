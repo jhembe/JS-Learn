{
 "cells": [
  {
   "cell_type": "markdown",
   "id": "ad0c5ef1-56fb-448a-b5f6-92aafdbac03c",
   "metadata": {},
   "source": [
    "<center><h1><b>Functions In Details</b></h1></center>"
   ]
  },
  {
   "cell_type": "markdown",
   "id": "6f20f415-abc5-434f-bc81-cdb085f70e0b",
   "metadata": {},
   "source": [
    "* Here we'll deal with all the important functions you should know about functions"
   ]
  },
  {
   "cell_type": "markdown",
   "id": "0cce3aa1-4250-4af5-ac59-684a529554b6",
   "metadata": {},
   "source": [
    "## **GOALS** \n",
    "* Understand Scope\n",
    "* Write Higher Order Functions\n",
    "* Pass Functions as callbacks"
   ]
  },
  {
   "cell_type": "code",
   "execution_count": null,
   "id": "31d610e7-4167-4a68-99ab-85d9975d5efa",
   "metadata": {},
   "outputs": [],
   "source": []
  },
  {
   "cell_type": "markdown",
   "id": "5ac7e631-c17e-4429-86eb-75ea5cd2df5f",
   "metadata": {},
   "source": [
    "### **SCOPE**\n",
    "#### **Variable \"Visibility\"**\n",
    "* The location where a variable is defined dictates *where we hava access to that variable*"
   ]
  },
  {
   "cell_type": "markdown",
   "id": "eabbb7f4-a8d4-493f-935b-3d22276f24ee",
   "metadata": {},
   "source": [
    "### **Types of Scopes**"
   ]
  },
  {
   "cell_type": "markdown",
   "id": "02a1f6f4-c836-4df5-90ff-d955f47f0afb",
   "metadata": {},
   "source": [
    "#### - **Function Scope**"
   ]
  },
  {
   "cell_type": "code",
   "execution_count": 2,
   "id": "510c1579-1658-48d8-a25e-07ddbcd84440",
   "metadata": {},
   "outputs": [
    {
     "ename": "ReferenceError",
     "evalue": "msg is not defined",
     "execution_count": 2,
     "output_type": "error",
     "traceback": [
      "evalmachine.<anonymous>:8",
      "console.log(msg);",
      "            ^",
      "",
      "ReferenceError: msg is not defined",
      "    at evalmachine.<anonymous>:8:13",
      "    at Script.runInThisContext (node:vm:129:12)",
      "    at Object.runInThisContext (node:vm:307:38)",
      "    at run ([eval]:1020:15)",
      "    at onRunRequest ([eval]:864:18)",
      "    at onMessage ([eval]:828:13)",
      "    at process.emit (node:events:513:28)",
      "    at emit (node:internal/child_process:937:14)",
      "    at process.processTicksAndRejections (node:internal/process/task_queues:83:21)"
     ]
    }
   ],
   "source": [
    "// this is where variables made inside the function are not known\n",
    "let sms = \"I'm comming home\";\n",
    "function helpMe(){\n",
    "    let msg = \"I'm on fire\";\n",
    "    var color = 'red';\n",
    "}\n",
    "\n",
    "console.log(msg);\n",
    "console.log(color);\n",
    "console.log(sms);"
   ]
  },
  {
   "cell_type": "code",
   "execution_count": null,
   "id": "1e63bfdb-f5f8-42aa-a0ac-3e08098b4cdb",
   "metadata": {},
   "outputs": [],
   "source": [
    "// see, it's considered not defined"
   ]
  },
  {
   "cell_type": "code",
   "execution_count": null,
   "id": "35ab208a-0ba1-47c7-b7e4-9fe0ca6221c9",
   "metadata": {},
   "outputs": [],
   "source": []
  },
  {
   "cell_type": "code",
   "execution_count": 3,
   "id": "8444b7cd-d738-4453-9bde-fcf4f8ffe6d4",
   "metadata": {},
   "outputs": [
    {
     "name": "stdout",
     "output_type": "stream",
     "text": [
      "Golden Pheasant\n",
      "Mandarin Duck\n"
     ]
    }
   ],
   "source": [
    "// Example 2\n",
    "\n",
    "let bird = 'Mandarin Duck';\n",
    "\n",
    "function birdWatch(){\n",
    "    let bird = 'Golden Pheasant';\n",
    "    console.log(bird);\n",
    "}\n",
    "\n",
    "birdWatch();\n",
    "console.log(bird);\n"
   ]
  },
  {
   "cell_type": "code",
   "execution_count": 4,
   "id": "fef94c37-b81e-4ee2-adbd-5ea837f38e62",
   "metadata": {},
   "outputs": [],
   "source": [
    "// so, the two variables bird, refere to different contexts"
   ]
  },
  {
   "cell_type": "code",
   "execution_count": null,
   "id": "33c49093-a0ad-4361-9400-1ed0c71c410c",
   "metadata": {},
   "outputs": [],
   "source": []
  },
  {
   "cell_type": "code",
   "execution_count": null,
   "id": "95256202-1f86-46e3-bd7f-c5b04ddfcc1e",
   "metadata": {},
   "outputs": [],
   "source": []
  },
  {
   "cell_type": "markdown",
   "id": "69493513-7df7-4679-ba9d-8cbbff992878",
   "metadata": {},
   "source": [
    "## **BLOCK SCOPE**"
   ]
  },
  {
   "cell_type": "code",
   "execution_count": 23,
   "id": "50b5441e-294f-43eb-8a16-e305f0367fde",
   "metadata": {},
   "outputs": [
    {
     "name": "stdout",
     "output_type": "stream",
     "text": [
      "eel\n"
     ]
    }
   ],
   "source": [
    "// let's start with a simple example\n",
    "if(true){\n",
    "    let animal = 'eel';\n",
    "    console.log(animal)\n",
    "}"
   ]
  },
  {
   "cell_type": "code",
   "execution_count": 1,
   "id": "2250bf1f-e84c-428f-a8fb-1d7a6698f44a",
   "metadata": {},
   "outputs": [
    {
     "ename": "ReferenceError",
     "evalue": "animal is not defined",
     "execution_count": 1,
     "output_type": "error",
     "traceback": [
      "evalmachine.<anonymous>:1",
      "console.log(animal)",
      "            ^",
      "",
      "ReferenceError: animal is not defined",
      "    at evalmachine.<anonymous>:1:13",
      "    at Script.runInThisContext (node:vm:129:12)",
      "    at Object.runInThisContext (node:vm:307:38)",
      "    at run ([eval]:1020:15)",
      "    at onRunRequest ([eval]:864:18)",
      "    at onMessage ([eval]:828:13)",
      "    at process.emit (node:events:513:28)",
      "    at emit (node:internal/child_process:937:14)",
      "    at process.processTicksAndRejections (node:internal/process/task_queues:83:21)"
     ]
    }
   ],
   "source": [
    "console.log(animal)"
   ]
  },
  {
   "cell_type": "code",
   "execution_count": 2,
   "id": "dd38fd1e-4bc2-49dc-9754-b5de8c540ee9",
   "metadata": {},
   "outputs": [],
   "source": [
    "// see the error. it appears that animal is still scoped to \n",
    "// that block;"
   ]
  },
  {
   "cell_type": "code",
   "execution_count": null,
   "id": "df5735fe-8f0d-413b-8a44-051326cdad3d",
   "metadata": {},
   "outputs": [],
   "source": []
  },
  {
   "cell_type": "code",
   "execution_count": 3,
   "id": "3d825f9f-0d42-43ce-ab5e-8abb50615ca9",
   "metadata": {},
   "outputs": [
    {
     "name": "stdout",
     "output_type": "stream",
     "text": [
      "eel\n"
     ]
    }
   ],
   "source": [
    "// now example 2, with const\n",
    "if(true){\n",
    "    const animal = 'eel';\n",
    "    console.log(animal)\n",
    "}"
   ]
  },
  {
   "cell_type": "code",
   "execution_count": 4,
   "id": "0b5f845f-1e4f-4996-9c66-38dcb0f3de01",
   "metadata": {},
   "outputs": [
    {
     "ename": "ReferenceError",
     "evalue": "animal is not defined",
     "execution_count": 4,
     "output_type": "error",
     "traceback": [
      "evalmachine.<anonymous>:1",
      "console.log(animal)",
      "            ^",
      "",
      "ReferenceError: animal is not defined",
      "    at evalmachine.<anonymous>:1:13",
      "    at Script.runInThisContext (node:vm:129:12)",
      "    at Object.runInThisContext (node:vm:307:38)",
      "    at run ([eval]:1020:15)",
      "    at onRunRequest ([eval]:864:18)",
      "    at onMessage ([eval]:828:13)",
      "    at process.emit (node:events:513:28)",
      "    at emit (node:internal/child_process:937:14)",
      "    at process.processTicksAndRejections (node:internal/process/task_queues:83:21)"
     ]
    }
   ],
   "source": [
    "console.log(animal)"
   ]
  },
  {
   "cell_type": "code",
   "execution_count": 5,
   "id": "5c83d9af-6ed9-4f57-89c2-bf0450f39d32",
   "metadata": {},
   "outputs": [],
   "source": [
    "// oops, they seem to behave the same."
   ]
  },
  {
   "cell_type": "code",
   "execution_count": null,
   "id": "85ad88b2-9e8b-4700-8114-b18028be8b03",
   "metadata": {},
   "outputs": [],
   "source": []
  },
  {
   "cell_type": "code",
   "execution_count": 6,
   "id": "7f624c70-b498-4e75-aca0-e49599acba21",
   "metadata": {},
   "outputs": [
    {
     "name": "stdout",
     "output_type": "stream",
     "text": [
      "eel\n"
     ]
    }
   ],
   "source": [
    "// now let's try wit var\n",
    "if(true){\n",
    "    var animal = 'eel';\n",
    "    console.log(animal)\n",
    "}"
   ]
  },
  {
   "cell_type": "code",
   "execution_count": 7,
   "id": "2e9aa00c-eef0-40cc-962a-e7e2ff8bc241",
   "metadata": {},
   "outputs": [
    {
     "name": "stdout",
     "output_type": "stream",
     "text": [
      "eel\n"
     ]
    }
   ],
   "source": [
    "console.log(animal);"
   ]
  },
  {
   "cell_type": "code",
   "execution_count": null,
   "id": "9d45eb12-0581-4833-a6eb-50ddca4d5f06",
   "metadata": {},
   "outputs": [],
   "source": []
  },
  {
   "cell_type": "code",
   "execution_count": null,
   "id": "febf7817-f78b-459e-b77d-3cb544a8868a",
   "metadata": {},
   "outputs": [],
   "source": []
  },
  {
   "cell_type": "code",
   "execution_count": 8,
   "id": "38bd6f82-91c6-43eb-b79d-86de13cfe8cd",
   "metadata": {},
   "outputs": [
    {
     "name": "stdout",
     "output_type": "stream",
     "text": [
      "0 panda bear\n",
      "1 spectacled bear\n",
      "2 Grizzly Bear\n"
     ]
    }
   ],
   "source": [
    "// now there was a problem that used to come up\n",
    "\n",
    "let animals = ['panda bear','spectacled bear','Grizzly Bear'];\n",
    "\n",
    "for(var i =0; i < animals.length; i++){\n",
    "    console.log(i, animals[i]);\n",
    "}"
   ]
  },
  {
   "cell_type": "code",
   "execution_count": 9,
   "id": "6b167ace-c7dc-402a-a046-019fd606dde9",
   "metadata": {},
   "outputs": [
    {
     "name": "stdout",
     "output_type": "stream",
     "text": [
      "3\n"
     ]
    }
   ],
   "source": [
    "// and still, outside of this loop if i print i, it still exists\n",
    "console.log(i)"
   ]
  },
  {
   "cell_type": "code",
   "execution_count": null,
   "id": "79ed8b1c-c473-4991-87e3-20c365dff379",
   "metadata": {},
   "outputs": [],
   "source": []
  },
  {
   "cell_type": "code",
   "execution_count": null,
   "id": "38126158-58b5-4eaa-a0fe-4bb04e7956a1",
   "metadata": {},
   "outputs": [],
   "source": []
  },
  {
   "cell_type": "code",
   "execution_count": 16,
   "id": "86dfb0cb-819a-4fce-a665-8b79e763d836",
   "metadata": {},
   "outputs": [],
   "source": [
    "// now let's create a function called doubleArr() that doubles the array\n",
    "\n",
    "function doubleArr(arr){\n",
    "    const result = [];\n",
    "    for(let num of arr){\n",
    "        var double = num * 2;\n",
    "        result.push(double);\n",
    "    }\n",
    "    console.log(double)\n",
    "    return result;\n",
    "}"
   ]
  },
  {
   "cell_type": "code",
   "execution_count": 17,
   "id": "0deb9af9-8949-46b4-a10d-c326d24eed55",
   "metadata": {},
   "outputs": [
    {
     "name": "stdout",
     "output_type": "stream",
     "text": [
      "10\n"
     ]
    },
    {
     "data": {
      "text/plain": [
       "[ 2, 4, 6, 8, 10 ]"
      ]
     },
     "execution_count": 17,
     "metadata": {},
     "output_type": "execute_result"
    }
   ],
   "source": [
    "doubleArr([1,2,3,4,5])"
   ]
  },
  {
   "cell_type": "code",
   "execution_count": 24,
   "id": "bd676d62-c2f0-466d-a4c6-e4eddcffc970",
   "metadata": {},
   "outputs": [],
   "source": [
    "// now let's create a function called doubleArr() that doubles the array\n",
    "\n",
    "function doubleArr(arr){\n",
    "    const result = [];\n",
    "    let double;\n",
    "    for(let num of arr){\n",
    "        double = num * 2;\n",
    "        result.push(double);\n",
    "    }\n",
    "    console.log(double)\n",
    "    return result;\n",
    "}"
   ]
  },
  {
   "cell_type": "code",
   "execution_count": 25,
   "id": "7bc0e252-512a-43f5-aef7-59e56f4dfc82",
   "metadata": {},
   "outputs": [
    {
     "name": "stdout",
     "output_type": "stream",
     "text": [
      "10\n"
     ]
    },
    {
     "data": {
      "text/plain": [
       "[ 2, 4, 6, 8, 10 ]"
      ]
     },
     "execution_count": 25,
     "metadata": {},
     "output_type": "execute_result"
    }
   ],
   "source": [
    "doubleArr([1,2,3,4,5]);"
   ]
  },
  {
   "cell_type": "code",
   "execution_count": null,
   "id": "7b461620-004a-4955-81d1-c8903e871689",
   "metadata": {},
   "outputs": [],
   "source": [
    "// now let's create a function called doubleArr() that doubles the array\n",
    "\n",
    "function doubleArr(arr){\n",
    "    // now let's try doubling it\n",
    "    for(let ar in arr){\n",
    "        arr[ar] *= 2;\n",
    "    }\n",
    "    \n",
    "    return arr;\n",
    "}"
   ]
  },
  {
   "cell_type": "code",
   "execution_count": 13,
   "id": "6be5f2dc-f286-4ea2-929c-7ae79905eb77",
   "metadata": {},
   "outputs": [
    {
     "data": {
      "text/plain": [
       "[ 2, 4, 6, 8 ]"
      ]
     },
     "execution_count": 13,
     "metadata": {},
     "output_type": "execute_result"
    }
   ],
   "source": [
    "doubleArr([1,2,3,4])"
   ]
  },
  {
   "cell_type": "code",
   "execution_count": null,
   "id": "f8d9adb7-f8fd-4136-908e-d90431daeffe",
   "metadata": {},
   "outputs": [],
   "source": []
  },
  {
   "cell_type": "code",
   "execution_count": null,
   "id": "cac2b79e-9aa0-48e9-9fc0-e5f3d08a7090",
   "metadata": {},
   "outputs": [],
   "source": []
  },
  {
   "cell_type": "markdown",
   "id": "8966bf84-2c73-47c3-9445-bcdc5a46a06b",
   "metadata": {},
   "source": [
    "## **LEXICAL SCOPE**"
   ]
  },
  {
   "cell_type": "code",
   "execution_count": 26,
   "id": "b04d5549-38a9-4239-8843-f3dbd1dbe71f",
   "metadata": {},
   "outputs": [],
   "source": [
    "// consider this function \n",
    "\n",
    "function outer(){\n",
    "    let hero = 'Black Panther';\n",
    "    \n",
    "    function inner(){\n",
    "        let cryForHelp = `${hero}, please save me!`;\n",
    "        console.log(cryForHelp);\n",
    "    }\n",
    "    \n",
    "    inner();\n",
    "}"
   ]
  },
  {
   "cell_type": "code",
   "execution_count": 27,
   "id": "f6fddc2f-5865-4e84-a9d3-adbfb9c0b5d4",
   "metadata": {},
   "outputs": [
    {
     "name": "stdout",
     "output_type": "stream",
     "text": [
      "Black Panther, please save me!\n"
     ]
    }
   ],
   "source": [
    " outer();"
   ]
  },
  {
   "cell_type": "code",
   "execution_count": 28,
   "id": "85ee80e3-6ac4-4d89-b3fc-26bfdeda97de",
   "metadata": {},
   "outputs": [],
   "source": [
    "// nested function are bound to the scope of their parents.\n",
    "// it's a 1-way relationship, the mother doesn't have access to \n",
    "// the child's resources.. "
   ]
  },
  {
   "cell_type": "code",
   "execution_count": null,
   "id": "e502449f-9dff-42ad-b578-94761ac4dc4a",
   "metadata": {},
   "outputs": [],
   "source": []
  },
  {
   "cell_type": "code",
   "execution_count": null,
   "id": "125a77ff-6586-45ab-8bf0-3fadfbe42908",
   "metadata": {},
   "outputs": [],
   "source": []
  },
  {
   "cell_type": "markdown",
   "id": "3f626c8b-6f52-4cb2-84b5-f3a894a466a5",
   "metadata": {},
   "source": [
    "## **FUNCTON EXPRESSIONS**\n",
    "* There's aother synta we can use to defne functions:"
   ]
  },
  {
   "cell_type": "code",
   "execution_count": 29,
   "id": "0f8118bd-8498-4ba4-abac-a8ae3a30b8d9",
   "metadata": {},
   "outputs": [],
   "source": [
    "// here is an example\n",
    "\n",
    "const square = function (num){\n",
    "    return num * num;\n",
    "}"
   ]
  },
  {
   "cell_type": "code",
   "execution_count": 30,
   "id": "a29657bf-45d9-4b64-b059-2d9220013ad1",
   "metadata": {},
   "outputs": [
    {
     "data": {
      "text/plain": [
       "49"
      ]
     },
     "execution_count": 30,
     "metadata": {},
     "output_type": "execute_result"
    }
   ],
   "source": [
    "square(7)"
   ]
  },
  {
   "cell_type": "code",
   "execution_count": 31,
   "id": "bfc55e71-d31f-4fa4-83ed-651551fa568f",
   "metadata": {},
   "outputs": [],
   "source": [
    "// let's try again"
   ]
  },
  {
   "cell_type": "code",
   "execution_count": 32,
   "id": "e05359c3-9e26-44a6-9b34-185291e46768",
   "metadata": {},
   "outputs": [],
   "source": [
    "function add(x,y){\n",
    "    return x + y;\n",
    "}"
   ]
  },
  {
   "cell_type": "code",
   "execution_count": null,
   "id": "e0c384a9-3258-4bce-90da-ba26e0bb9146",
   "metadata": {},
   "outputs": [],
   "source": [
    "// the following is what we call an annonymous funciton"
   ]
  },
  {
   "cell_type": "code",
   "execution_count": 33,
   "id": "ceb7d478-576c-4cbf-989d-66d57b99a001",
   "metadata": {},
   "outputs": [],
   "source": [
    "const sum = function (x,y){\n",
    "    return x + y;\n",
    "}"
   ]
  },
  {
   "cell_type": "code",
   "execution_count": 34,
   "id": "b96c3ee9-1889-4aeb-8e81-9903d08cc297",
   "metadata": {},
   "outputs": [
    {
     "data": {
      "text/plain": [
       "11"
      ]
     },
     "execution_count": 34,
     "metadata": {},
     "output_type": "execute_result"
    }
   ],
   "source": [
    "add(5,6)"
   ]
  },
  {
   "cell_type": "code",
   "execution_count": 36,
   "id": "26b4e2e8-256c-4349-9123-fcea1f89ee49",
   "metadata": {},
   "outputs": [
    {
     "data": {
      "text/plain": [
       "9"
      ]
     },
     "execution_count": 36,
     "metadata": {},
     "output_type": "execute_result"
    }
   ],
   "source": [
    "sum(4,5)"
   ]
  },
  {
   "cell_type": "code",
   "execution_count": 37,
   "id": "217acb98-ae65-4468-acef-6bb4c17b8a2a",
   "metadata": {},
   "outputs": [],
   "source": [
    "// here is another function\n",
    "const product = function multiply(x,y){\n",
    "    return x * y;\n",
    "}"
   ]
  },
  {
   "cell_type": "code",
   "execution_count": 38,
   "id": "b36259f6-7f83-46af-a127-d6166a3bf3e1",
   "metadata": {},
   "outputs": [
    {
     "data": {
      "text/plain": [
       "42"
      ]
     },
     "execution_count": 38,
     "metadata": {},
     "output_type": "execute_result"
    }
   ],
   "source": [
    "product(6,7)"
   ]
  },
  {
   "cell_type": "code",
   "execution_count": null,
   "id": "9cc71ccf-eda4-47fd-8870-205b0b1847de",
   "metadata": {},
   "outputs": [],
   "source": []
  },
  {
   "cell_type": "code",
   "execution_count": null,
   "id": "10aae67a-7839-4d4b-920f-08707e1f5220",
   "metadata": {},
   "outputs": [],
   "source": []
  },
  {
   "cell_type": "markdown",
   "id": "1d79cb4e-3854-4f1f-a909-b532e7510f06",
   "metadata": {},
   "source": [
    "## **Higher Order Functions**"
   ]
  },
  {
   "cell_type": "code",
   "execution_count": 1,
   "id": "74db36d5-64fc-4c6c-a59e-0a3a811b83ef",
   "metadata": {},
   "outputs": [],
   "source": [
    "// i'll define 4 simple functions\n",
    "\n",
    "function add(x,y){\n",
    "    return x+y;\n",
    "}\n",
    "\n",
    "const subtract = function(x,y){\n",
    "    return x-y;\n",
    "}\n",
    "\n",
    "function multiply(x,y){\n",
    "    return x*y;\n",
    "}\n",
    "\n",
    "const divide = function divide(x,y){\n",
    "    return x/y;\n",
    "}"
   ]
  },
  {
   "cell_type": "code",
   "execution_count": 2,
   "id": "b95f696e-15ee-4864-a14f-16f6f87f01ac",
   "metadata": {},
   "outputs": [],
   "source": [
    "// now, we'll add these into an array\n",
    "const operations = [add, subtract, multiply, divide];"
   ]
  },
  {
   "cell_type": "code",
   "execution_count": 3,
   "id": "79677af6-6442-4f36-9e8a-f5287078e59f",
   "metadata": {},
   "outputs": [
    {
     "data": {
      "text/plain": [
       "[Function: subtract]"
      ]
     },
     "execution_count": 3,
     "metadata": {},
     "output_type": "execute_result"
    }
   ],
   "source": [
    "operations[1]"
   ]
  },
  {
   "cell_type": "code",
   "execution_count": 4,
   "id": "60004e45-fdf8-41c2-820e-ba19c6c4b2b9",
   "metadata": {},
   "outputs": [
    {
     "data": {
      "text/plain": [
       "[Function: subtract]"
      ]
     },
     "execution_count": 4,
     "metadata": {},
     "output_type": "execute_result"
    }
   ],
   "source": [
    "subtract"
   ]
  },
  {
   "cell_type": "code",
   "execution_count": 6,
   "id": "50dbcbbc-9f2f-411a-9286-953c2473c3f1",
   "metadata": {},
   "outputs": [
    {
     "data": {
      "text/plain": [
       "-1"
      ]
     },
     "execution_count": 6,
     "metadata": {},
     "output_type": "execute_result"
    }
   ],
   "source": [
    "// to run it\n",
    "operations[1](5,6);"
   ]
  },
  {
   "cell_type": "code",
   "execution_count": 7,
   "id": "9f2da2f1-1714-41db-b0a9-a7d1726aac4a",
   "metadata": {},
   "outputs": [
    {
     "data": {
      "text/plain": [
       "0.6666666666666666"
      ]
     },
     "execution_count": 7,
     "metadata": {},
     "output_type": "execute_result"
    }
   ],
   "source": [
    "operations[3](4,6);"
   ]
  },
  {
   "cell_type": "code",
   "execution_count": null,
   "id": "966ca75b-c5b1-4034-916d-c47480d693bb",
   "metadata": {},
   "outputs": [],
   "source": []
  },
  {
   "cell_type": "code",
   "execution_count": 9,
   "id": "12b39094-e396-4626-8f60-810c3db889b5",
   "metadata": {},
   "outputs": [
    {
     "name": "stdout",
     "output_type": "stream",
     "text": [
      "11\n",
      "-1\n",
      "30\n",
      "0.8333333333333334\n"
     ]
    }
   ],
   "source": [
    "// we can loop throught the array and call the functions\n",
    "\n",
    "for(let func of operations){\n",
    "    console.log(func(5,6));\n",
    "}"
   ]
  },
  {
   "cell_type": "code",
   "execution_count": null,
   "id": "edad4bba-4fea-4986-8f10-58c16faefdd0",
   "metadata": {},
   "outputs": [],
   "source": []
  },
  {
   "cell_type": "code",
   "execution_count": 10,
   "id": "417fc5b3-4607-4fbd-96ad-6d41ec81fa74",
   "metadata": {},
   "outputs": [],
   "source": [
    "const thing = {\n",
    "    doSomething : multiply\n",
    "}"
   ]
  },
  {
   "cell_type": "code",
   "execution_count": 11,
   "id": "8fe3d1bc-830d-42be-9720-90fd4a54c510",
   "metadata": {},
   "outputs": [
    {
     "data": {
      "text/plain": [
       "{ doSomething: [Function: multiply] }"
      ]
     },
     "execution_count": 11,
     "metadata": {},
     "output_type": "execute_result"
    }
   ],
   "source": [
    "thing"
   ]
  },
  {
   "cell_type": "code",
   "execution_count": 12,
   "id": "2d135af9-c554-4c0b-a4ef-422d681be369",
   "metadata": {},
   "outputs": [
    {
     "data": {
      "text/plain": [
       "30"
      ]
     },
     "execution_count": 12,
     "metadata": {},
     "output_type": "execute_result"
    }
   ],
   "source": [
    "thing.doSomething(5,6)"
   ]
  },
  {
   "cell_type": "code",
   "execution_count": null,
   "id": "bf07daee-1ec5-4724-b49d-55585cb6f342",
   "metadata": {},
   "outputs": [],
   "source": []
  },
  {
   "cell_type": "code",
   "execution_count": null,
   "id": "b0078781-b312-4dfc-9feb-b917fc69b43d",
   "metadata": {},
   "outputs": [],
   "source": []
  },
  {
   "cell_type": "markdown",
   "id": "96b3517d-9ea4-4d18-9d95-ddd3eaf1f97a",
   "metadata": {},
   "source": [
    "## **HIGHER ORDER FUNCTIONS**\n",
    "Functions that operate on/with other functions. They can :\n",
    "- ##### **Functions as Arguments**\n",
    "- ##### **Return a function**"
   ]
  },
  {
   "cell_type": "code",
   "execution_count": 20,
   "id": "65a6e962-106e-4360-9cb9-6a3f1ae2d8c1",
   "metadata": {},
   "outputs": [],
   "source": [
    "// let's start by defining our own\n",
    "\n",
    "function callTwice(func){\n",
    "    func();\n",
    "}\n",
    "\n",
    "function laugh(){\n",
    "    console.log('HAHAHAHAHAAAAA!!! HAHAHAAAA!!');\n",
    "}\n",
    "\n",
    "function rage(){\n",
    "    console.log('I HATE EVERYTHING');\n",
    "}"
   ]
  },
  {
   "cell_type": "code",
   "execution_count": 21,
   "id": "775e11e5-86cb-40d1-85e9-f1c07bd33bd8",
   "metadata": {},
   "outputs": [
    {
     "name": "stdout",
     "output_type": "stream",
     "text": [
      "HAHAHAHAHAAAAA!!! HAHAHAAAA!!\n"
     ]
    }
   ],
   "source": [
    "callTwice(laugh)"
   ]
  },
  {
   "cell_type": "code",
   "execution_count": null,
   "id": "f5803b5f-b657-4afe-84cb-8ecbf6603b43",
   "metadata": {},
   "outputs": [],
   "source": []
  },
  {
   "cell_type": "code",
   "execution_count": 22,
   "id": "bc8d2dc8-0ce9-4eb6-8a0d-87e05e0ccd31",
   "metadata": {},
   "outputs": [],
   "source": [
    "function repeatNTimes(action, num){\n",
    "    for(let i=0; i<num; i++){\n",
    "        action();\n",
    "    }\n",
    "}"
   ]
  },
  {
   "cell_type": "code",
   "execution_count": 24,
   "id": "f59ff133-7854-4700-976a-f26335c51727",
   "metadata": {},
   "outputs": [
    {
     "name": "stdout",
     "output_type": "stream",
     "text": [
      "I HATE EVERYTHING\n",
      "I HATE EVERYTHING\n",
      "I HATE EVERYTHING\n",
      "I HATE EVERYTHING\n",
      "I HATE EVERYTHING\n"
     ]
    }
   ],
   "source": [
    "repeatNTimes(rage,5);"
   ]
  },
  {
   "cell_type": "code",
   "execution_count": null,
   "id": "b6655006-5384-4e7d-b6ca-76e5c9af7349",
   "metadata": {},
   "outputs": [],
   "source": []
  },
  {
   "cell_type": "code",
   "execution_count": 28,
   "id": "8b5082a6-45d2-4ea9-957c-8492e33a7fc7",
   "metadata": {},
   "outputs": [],
   "source": [
    "// another example. Random pick\n",
    "\n",
    "function pickOne(func1,func2){\n",
    "    let rand = Math.random();\n",
    "    console.log(rand);\n",
    "    if (rand < 0.5){\n",
    "        func1();\n",
    "    }\n",
    "    else{\n",
    "        func2();\n",
    "    }\n",
    "}"
   ]
  },
  {
   "cell_type": "code",
   "execution_count": 29,
   "id": "0de0092f-4b3e-47c7-a0ec-cbe51d64870d",
   "metadata": {},
   "outputs": [
    {
     "name": "stdout",
     "output_type": "stream",
     "text": [
      "0.20513236055553197\n",
      "HAHAHAHAHAAAAA!!! HAHAHAAAA!!\n"
     ]
    }
   ],
   "source": [
    "pickOne(laugh, rage)"
   ]
  },
  {
   "cell_type": "code",
   "execution_count": null,
   "id": "8173aa95-0968-40ea-9023-94876e6fbbb7",
   "metadata": {},
   "outputs": [],
   "source": []
  },
  {
   "cell_type": "code",
   "execution_count": null,
   "id": "0daf3420-9aa6-47cd-9322-412e1786015b",
   "metadata": {},
   "outputs": [],
   "source": []
  },
  {
   "cell_type": "markdown",
   "id": "1eb82a6a-dd7d-4ca1-92b4-7d81a3cbf49f",
   "metadata": {},
   "source": [
    "### **Function as Return Values**"
   ]
  },
  {
   "cell_type": "code",
   "execution_count": 32,
   "id": "0ecc2da4-1e27-4e14-bf68-a26256097bbe",
   "metadata": {},
   "outputs": [],
   "source": [
    "// here is a simple example\n",
    "\n",
    "function multiplyBy(num){\n",
    "    return function(x){\n",
    "        console.log('Hi!');\n",
    "        return x*num;\n",
    "    }\n",
    "}\n",
    "\n",
    "const trupple = multiplyBy(3)"
   ]
  },
  {
   "cell_type": "code",
   "execution_count": 33,
   "id": "fcc94f3e-3046-4eed-bba2-8554ae2459e1",
   "metadata": {},
   "outputs": [
    {
     "name": "stdout",
     "output_type": "stream",
     "text": [
      "Hi!\n"
     ]
    },
    {
     "data": {
      "text/plain": [
       "9"
      ]
     },
     "execution_count": 33,
     "metadata": {},
     "output_type": "execute_result"
    }
   ],
   "source": [
    "trupple(3)"
   ]
  },
  {
   "cell_type": "code",
   "execution_count": 34,
   "id": "83123f02-01cd-4cc6-8d8c-08343a81f749",
   "metadata": {},
   "outputs": [],
   "source": [
    "const double = multiplyBy(2)"
   ]
  },
  {
   "cell_type": "code",
   "execution_count": 35,
   "id": "9cbab377-c181-4931-a015-ed669bb3a75a",
   "metadata": {},
   "outputs": [
    {
     "name": "stdout",
     "output_type": "stream",
     "text": [
      "Hi!\n"
     ]
    },
    {
     "data": {
      "text/plain": [
       "8"
      ]
     },
     "execution_count": 35,
     "metadata": {},
     "output_type": "execute_result"
    }
   ],
   "source": [
    "double(4)"
   ]
  },
  {
   "cell_type": "code",
   "execution_count": 36,
   "id": "7e42ffd1-e940-4ad5-b46a-3005c107dbe4",
   "metadata": {},
   "outputs": [],
   "source": [
    "const halve = multiplyBy(0.5)"
   ]
  },
  {
   "cell_type": "code",
   "execution_count": 37,
   "id": "44d9780e-4d67-43ef-ae38-6994a4861bb6",
   "metadata": {},
   "outputs": [
    {
     "name": "stdout",
     "output_type": "stream",
     "text": [
      "Hi!\n"
     ]
    },
    {
     "data": {
      "text/plain": [
       "2.5"
      ]
     },
     "execution_count": 37,
     "metadata": {},
     "output_type": "execute_result"
    }
   ],
   "source": [
    "halve(5)"
   ]
  },
  {
   "cell_type": "code",
   "execution_count": null,
   "id": "98479902-14c7-42d0-a6f1-386c3aae3757",
   "metadata": {},
   "outputs": [],
   "source": [
    " "
   ]
  },
  {
   "cell_type": "code",
   "execution_count": 38,
   "id": "89f13797-1ead-49e7-b235-266b10603ddb",
   "metadata": {},
   "outputs": [],
   "source": [
    "function makeBetweenFunc(min,max){\n",
    "    return function(age){\n",
    "        if(age >= min && age <= max){\n",
    "            return true;\n",
    "        }\n",
    "        return false;\n",
    "    }\n",
    "}"
   ]
  },
  {
   "cell_type": "code",
   "execution_count": 41,
   "id": "8f2d2783-1b86-4607-8f7e-ebfae98a9d70",
   "metadata": {},
   "outputs": [],
   "source": [
    "const isChildd = makeBetweenFunc(0,18);"
   ]
  },
  {
   "cell_type": "code",
   "execution_count": 42,
   "id": "2bf8e471-a28f-4d56-89e3-26fae0152fc1",
   "metadata": {},
   "outputs": [
    {
     "data": {
      "text/plain": [
       "true"
      ]
     },
     "execution_count": 42,
     "metadata": {},
     "output_type": "execute_result"
    }
   ],
   "source": [
    "isChildd(5);"
   ]
  },
  {
   "cell_type": "code",
   "execution_count": 44,
   "id": "ce64b637-7045-4ace-89ab-e1cf22a1088d",
   "metadata": {},
   "outputs": [
    {
     "data": {
      "text/plain": [
       "false"
      ]
     },
     "execution_count": 44,
     "metadata": {},
     "output_type": "execute_result"
    }
   ],
   "source": [
    "isChildd(56)"
   ]
  },
  {
   "cell_type": "code",
   "execution_count": 45,
   "id": "072fd0f4-f7d3-45fc-a482-8df2dfb7adcd",
   "metadata": {},
   "outputs": [],
   "source": [
    "const isInNinties = makeBetweenFunc(1990,2000);"
   ]
  },
  {
   "cell_type": "code",
   "execution_count": 47,
   "id": "e2e47f75-556e-48cf-bd86-292ff2dff801",
   "metadata": {},
   "outputs": [
    {
     "data": {
      "text/plain": [
       "true"
      ]
     },
     "execution_count": 47,
     "metadata": {},
     "output_type": "execute_result"
    }
   ],
   "source": [
    "isInNinties(1998)"
   ]
  },
  {
   "cell_type": "code",
   "execution_count": 48,
   "id": "433c2170-fdf2-437a-a244-8bdfd80e83d4",
   "metadata": {},
   "outputs": [
    {
     "data": {
      "text/plain": [
       "false"
      ]
     },
     "execution_count": 48,
     "metadata": {},
     "output_type": "execute_result"
    }
   ],
   "source": [
    "isInNinties(2020)"
   ]
  },
  {
   "cell_type": "code",
   "execution_count": 49,
   "id": "72f9f706-25dd-436f-ad52-08d05e200e02",
   "metadata": {},
   "outputs": [],
   "source": [
    "const isNiceWeather = makeBetweenFunc(21,28);"
   ]
  },
  {
   "cell_type": "code",
   "execution_count": 50,
   "id": "4128621e-afeb-4fac-9322-1ed9a6995857",
   "metadata": {},
   "outputs": [
    {
     "data": {
      "text/plain": [
       "false"
      ]
     },
     "execution_count": 50,
     "metadata": {},
     "output_type": "execute_result"
    }
   ],
   "source": [
    "isNiceWeather(30)"
   ]
  },
  {
   "cell_type": "code",
   "execution_count": 51,
   "id": "57452d5e-f64f-480d-ba5d-dd589ecb45d4",
   "metadata": {},
   "outputs": [
    {
     "data": {
      "text/plain": [
       "true"
      ]
     },
     "execution_count": 51,
     "metadata": {},
     "output_type": "execute_result"
    }
   ],
   "source": [
    "isNiceWeather(22)"
   ]
  },
  {
   "cell_type": "code",
   "execution_count": null,
   "id": "75117ed7-b534-4d9e-8b3b-37086c6c7b90",
   "metadata": {},
   "outputs": [],
   "source": []
  },
  {
   "cell_type": "code",
   "execution_count": null,
   "id": "e8fee459-e8bd-42cb-9d4b-28444d3e7bef",
   "metadata": {},
   "outputs": [],
   "source": []
  },
  {
   "cell_type": "markdown",
   "id": "90d29fee-5a5b-4b74-86cc-e0aedc66b1c3",
   "metadata": {},
   "source": [
    "## **CALLBACK FUNCTIONS**\n",
    "A callback function is a function passed into another function as an argument, which is then invoked inside the outer function"
   ]
  },
  {
   "cell_type": "code",
   "execution_count": 52,
   "id": "034ad841-091a-4f78-a02f-2a242bbe0b22",
   "metadata": {},
   "outputs": [],
   "source": [
    "// A function called outside the function, but from within another function's body"
   ]
  },
  {
   "cell_type": "code",
   "execution_count": 53,
   "id": "af558e8b-a111-4df9-a6e7-472768da7c7b",
   "metadata": {},
   "outputs": [
    {
     "name": "stdout",
     "output_type": "stream",
     "text": [
      "HAHAHAHHHHHHAHAHHAHAHHAHAHAHA\n",
      "HAHAHAHHHHHHAHAHHAHAHHAHAHAHA\n"
     ]
    }
   ],
   "source": [
    "// remember this\n",
    "function callThrice(func){\n",
    "    func();\n",
    "    func();\n",
    "}\n",
    "\n",
    "function laugh(){\n",
    "    console.log('HAHAHAHHHHHHAHAHHAHAHHAHAHAHA');\n",
    "}\n",
    "callThrice(laugh);"
   ]
  },
  {
   "cell_type": "markdown",
   "id": "05798db2-57e4-4306-8f2f-2744a7fe6034",
   "metadata": {},
   "source": [
    "* now, the **laugh Function** is a **callback Function** to the **callThrice Function**"
   ]
  },
  {
   "cell_type": "code",
   "execution_count": null,
   "id": "b27d6b6b-d34a-4dd1-8482-5ffaf7295022",
   "metadata": {},
   "outputs": [],
   "source": []
  },
  {
   "cell_type": "code",
   "execution_count": 55,
   "id": "cef1f6cc-ade6-4fb6-8de3-48269b9be553",
   "metadata": {},
   "outputs": [
    {
     "data": {
      "text/plain": [
       "Timeout {\n",
       "  _idleTimeout: 5000,\n",
       "  _idlePrev: [TimersList],\n",
       "  _idleNext: [Timeout],\n",
       "  _idleStart: 4637287,\n",
       "  _onTimeout: [Function (anonymous)],\n",
       "  _timerArgs: undefined,\n",
       "  _repeat: null,\n",
       "  _destroyed: false,\n",
       "  [Symbol(refed)]: true,\n",
       "  [Symbol(kHasPrimitive)]: false,\n",
       "  [Symbol(asyncId)]: 223,\n",
       "  [Symbol(triggerId)]: 219\n",
       "}"
      ]
     },
     "execution_count": 55,
     "metadata": {},
     "output_type": "execute_result"
    },
    {
     "name": "stderr",
     "output_type": "stream",
     "text": [
      "ReferenceError: alert is not defined\n",
      "    at Timeout.grumpus [as _onTimeout] (evalmachine.<anonymous>:4:5)\n",
      "    at listOnTimeout (node:internal/timers:569:17)\n",
      "    at process.processTimers (node:internal/timers:512:7)ReferenceError: alert is not defined\n",
      "    at Timeout._onTimeout (evalmachine.<anonymous>:11:23)\n",
      "    at listOnTimeout (node:internal/timers:569:17)\n",
      "    at process.processTimers (node:internal/timers:512:7)"
     ]
    }
   ],
   "source": [
    "// normally, we pass an anonymous function as a callback function\n",
    "\n",
    "function grumpus(){\n",
    "    alert('Heyyy');\n",
    "}\n",
    "\n",
    "// example\n",
    "setTimeout(grumpus, 5000);\n",
    "\n",
    "// it can also be done inline, as an annonymous function\n",
    "setTimeout(function(){alert('Welcome')}, 5000)"
   ]
  },
  {
   "cell_type": "code",
   "execution_count": null,
   "id": "c27b4397-bc9d-408a-bf7b-6e070e972109",
   "metadata": {},
   "outputs": [],
   "source": []
  },
  {
   "cell_type": "code",
   "execution_count": null,
   "id": "73285a1e-db10-4e76-afb4-266ccd0867e0",
   "metadata": {},
   "outputs": [],
   "source": []
  },
  {
   "cell_type": "markdown",
   "id": "9bac27da-2981-4153-8c7f-81b54627fe2f",
   "metadata": {},
   "source": [
    "## **HOISTING**"
   ]
  },
  {
   "cell_type": "code",
   "execution_count": 56,
   "id": "86f81411-842d-444e-8c28-e9329dcfffce",
   "metadata": {},
   "outputs": [
    {
     "name": "stdout",
     "output_type": "stream",
     "text": [
      "Elephant\n"
     ]
    }
   ],
   "source": [
    "// Consider\n",
    "\n",
    "var animal = 'Elephant';\n",
    "console.log(animal);"
   ]
  },
  {
   "cell_type": "code",
   "execution_count": 57,
   "id": "75c8feb0-3d8c-4eb9-be0a-2db7386ec909",
   "metadata": {},
   "outputs": [
    {
     "name": "stdout",
     "output_type": "stream",
     "text": [
      "undefined\n"
     ]
    }
   ],
   "source": [
    "console.log(car);\n",
    "var car = 'Subaru';"
   ]
  },
  {
   "cell_type": "code",
   "execution_count": 58,
   "id": "1afaf743-465e-4a0d-b5ac-7470cb988a32",
   "metadata": {},
   "outputs": [],
   "source": [
    "// declare and initialize the values before using them"
   ]
  },
  {
   "cell_type": "code",
   "execution_count": 59,
   "id": "1452ba21-a3dc-4676-8102-4edf482732ba",
   "metadata": {},
   "outputs": [
    {
     "name": "stdout",
     "output_type": "stream",
     "text": [
      "Harlequin Shrimp\n"
     ]
    }
   ],
   "source": [
    "let shrimp = 'Harlequin Shrimp';\n",
    "console.log(shrimp)"
   ]
  },
  {
   "cell_type": "code",
   "execution_count": 60,
   "id": "a74c7aec-c852-46cc-991f-0ab6964f7254",
   "metadata": {},
   "outputs": [
    {
     "ename": "ReferenceError",
     "evalue": "Cannot access 'fish' before initialization",
     "execution_count": 60,
     "output_type": "error",
     "traceback": [
      "evalmachine.<anonymous>:1",
      "console.log(fish);",
      "            ^",
      "",
      "ReferenceError: Cannot access 'fish' before initialization",
      "    at evalmachine.<anonymous>:1:13",
      "    at Script.runInThisContext (node:vm:129:12)",
      "    at Object.runInThisContext (node:vm:307:38)",
      "    at run ([eval]:1020:15)",
      "    at onRunRequest ([eval]:864:18)",
      "    at onMessage ([eval]:828:13)",
      "    at process.emit (node:events:513:28)",
      "    at emit (node:internal/child_process:937:14)",
      "    at process.processTicksAndRejections (node:internal/process/task_queues:83:21)"
     ]
    }
   ],
   "source": [
    "console.log(fish);\n",
    "let fish = 'Sangara';"
   ]
  },
  {
   "cell_type": "code",
   "execution_count": null,
   "id": "8768252d-6c41-4ff7-95c9-c2d29db7b091",
   "metadata": {},
   "outputs": [],
   "source": []
  },
  {
   "cell_type": "code",
   "execution_count": null,
   "id": "824fa048-1e0f-4245-a807-893cc32d3ac5",
   "metadata": {},
   "outputs": [],
   "source": []
  },
  {
   "cell_type": "code",
   "execution_count": 61,
   "id": "db3957d0-33bd-421c-9bc8-99b81b10f0b1",
   "metadata": {},
   "outputs": [],
   "source": [
    "// Now with functions"
   ]
  },
  {
   "cell_type": "code",
   "execution_count": 63,
   "id": "968eed39-329b-41de-9ebb-a17094b05e45",
   "metadata": {},
   "outputs": [
    {
     "name": "stdout",
     "output_type": "stream",
     "text": [
      "AWOOOOOOOO\n"
     ]
    }
   ],
   "source": [
    "howl(); \n",
    "\n",
    "function howl(){\n",
    "    console.log('AWOOOOOOOO')\n",
    "}"
   ]
  },
  {
   "cell_type": "code",
   "execution_count": 64,
   "id": "c3d2b45b-daba-4bbc-8716-cc8df50eedd4",
   "metadata": {},
   "outputs": [
    {
     "name": "stdout",
     "output_type": "stream",
     "text": [
      "AWOOOOOOOO\n"
     ]
    }
   ],
   "source": [
    "// also runs\n",
    "function howl(){\n",
    "    console.log('AWOOOOOOOO')\n",
    "}\n",
    "\n",
    "howl(); "
   ]
  },
  {
   "cell_type": "code",
   "execution_count": null,
   "id": "d99a156d-f1e9-4c53-9e8b-99a371e3b3b2",
   "metadata": {},
   "outputs": [],
   "source": [
    "// but if we use a function expression,\n",
    "// it works different, and acts as variables \n",
    "\n",
    "// the variable will be hoisted, but the value of the function\n",
    "// will not be. That's for var.."
   ]
  }
 ],
 "metadata": {
  "kernelspec": {
   "display_name": "JavaScript (Node.js)",
   "language": "javascript",
   "name": "javascript"
  },
  "language_info": {
   "file_extension": ".js",
   "mimetype": "application/javascript",
   "name": "javascript",
   "version": "18.15.0"
  }
 },
 "nbformat": 4,
 "nbformat_minor": 5
}
