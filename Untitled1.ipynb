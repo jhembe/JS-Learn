{
 "cells": [
  {
   "cell_type": "markdown",
   "id": "de3a5f01-09d2-4d3b-9850-ed8344188331",
   "metadata": {},
   "source": [
    "<center><h1><b>Apply Functions to Collections of Data</b><h1></center>"
   ]
  },
  {
   "cell_type": "markdown",
   "id": "1b5d42bf-2d46-4894-8af1-ea37a8653a25",
   "metadata": {},
   "source": [
    "## **ARRAY**\n",
    "### CALLBACK METHODS\n",
    "* Array come with many built-in methods that accept callback functions\n",
    "* Now that we've covered callbacks, we can learn these methods!\n",
    "* SUPER USEFUL!"
   ]
  },
  {
   "cell_type": "code",
   "execution_count": null,
   "id": "9d1837ed-f6c7-4161-84e4-9c2d46e8cd78",
   "metadata": {},
   "outputs": [],
   "source": [
    " "
   ]
  },
  {
   "cell_type": "markdown",
   "id": "ff421e7e-fe20-4c55-a7c3-f8777fdcf05e",
   "metadata": {},
   "source": [
    "## **GOALS**\n",
    "Use the new arrow function syntax\n",
    "Understand and use these methods:\n",
    "* forEach\n",
    "* map\n",
    "* filter\n",
    "* find\n",
    "* reduce\n",
    "* some\n",
    "* every"
   ]
  },
  {
   "cell_type": "code",
   "execution_count": null,
   "id": "3f3cac1a-5849-44f9-a05d-7f865828db76",
   "metadata": {},
   "outputs": [],
   "source": []
  },
  {
   "cell_type": "code",
   "execution_count": null,
   "id": "70b90a49-2a35-4a8b-b658-c1600bd0ba8d",
   "metadata": {},
   "outputs": [],
   "source": []
  },
  {
   "cell_type": "markdown",
   "id": "aa915498-0e36-494e-ab1f-30113771b44c",
   "metadata": {},
   "source": [
    "## **forEach**\n",
    "- Accepts a callback function. Calls the function onceper element in the array\n"
   ]
  },
  {
   "cell_type": "code",
   "execution_count": 1,
   "id": "ac2f898b-5f46-419e-a637-dbd1841dc79d",
   "metadata": {},
   "outputs": [
    {
     "name": "stdout",
     "output_type": "stream",
     "text": [
      "400\n",
      "441\n",
      "484\n",
      "529\n",
      "576\n",
      "625\n",
      "676\n",
      "729\n",
      "784\n"
     ]
    }
   ],
   "source": [
    "const numbers = [20,21,22,23,24,25,26,27,28];\n",
    "\n",
    "numbers.forEach(function(n){\n",
    "    console.log(n*n)\n",
    "})"
   ]
  },
  {
   "cell_type": "code",
   "execution_count": 2,
   "id": "ae4dabf5-72f7-4ee0-b533-79ced98598ec",
   "metadata": {},
   "outputs": [
    {
     "name": "stdout",
     "output_type": "stream",
     "text": [
      "20\n",
      "21\n",
      "22\n",
      "23\n",
      "24\n",
      "25\n",
      "26\n",
      "27\n",
      "28\n"
     ]
    }
   ],
   "source": [
    "numbers.forEach(function(n){\n",
    "    console.log(n)\n",
    "})"
   ]
  },
  {
   "cell_type": "code",
   "execution_count": 3,
   "id": "3fa59bd7-63b1-4855-86f0-594381463b2d",
   "metadata": {},
   "outputs": [
    {
     "ename": "ReferenceError",
     "evalue": "sum is not defined",
     "execution_count": 3,
     "output_type": "error",
     "traceback": [
      "evalmachine.<anonymous>:4",
      "    sum+=n;",
      "    ^",
      "",
      "ReferenceError: sum is not defined",
      "    at evalmachine.<anonymous>:4:5",
      "    at Array.forEach (<anonymous>)",
      "    at evalmachine.<anonymous>:3:9",
      "    at Script.runInThisContext (node:vm:129:12)",
      "    at Object.runInThisContext (node:vm:307:38)",
      "    at run ([eval]:1020:15)",
      "    at onRunRequest ([eval]:864:18)",
      "    at onMessage ([eval]:828:13)",
      "    at process.emit (node:events:513:28)",
      "    at emit (node:internal/child_process:937:14)"
     ]
    }
   ],
   "source": [
    "//  so to create a sum thingy\n",
    "let total = 0;\n",
    "numbers.forEach(function(n){\n",
    "    sum+=n;\n",
    "})\n",
    "console.log('The sum is : ',sum)"
   ]
  },
  {
   "cell_type": "code",
   "execution_count": null,
   "id": "b70b0548-2ddb-4e97-b204-d71e01a1740a",
   "metadata": {},
   "outputs": [],
   "source": []
  },
  {
   "cell_type": "code",
   "execution_count": null,
   "id": "06d63afa-1e72-4d8f-aa00-2900047a6118",
   "metadata": {},
   "outputs": [],
   "source": []
  },
  {
   "cell_type": "code",
   "execution_count": 4,
   "id": "8ba85359-3d2b-4f9d-be53-091de3151e53",
   "metadata": {},
   "outputs": [],
   "source": [
    "// now let's consider another example\n",
    "\n",
    "const books = [\n",
    "    {\n",
    "        title : 'Good Omens',\n",
    "        authors : ['Terry Pratchett','Neil Gaiman'],\n",
    "        ratings : 4.25\n",
    "    },\n",
    "    {\n",
    "        title : 'Bone: The Complete Edition',\n",
    "        authors : ['Jeff Smith'],\n",
    "        ratings : 4.42\n",
    "    },\n",
    "    {\n",
    "        title : 'American Gods',\n",
    "        authors : ['Neil Gaiman'],\n",
    "        ratings : 4.11\n",
    "    },\n",
    "    {\n",
    "        title : 'A Gentleman in Moscow',\n",
    "        authors : ['Amor Towles'],\n",
    "        ratings : 4.36\n",
    "    }\n",
    "]"
   ]
  },
  {
   "cell_type": "code",
   "execution_count": 5,
   "id": "db827678-8fa8-461a-9bb1-6a018fe41325",
   "metadata": {},
   "outputs": [
    {
     "name": "stdout",
     "output_type": "stream",
     "text": [
      "Good Omens\n",
      "Bone: The Complete Edition\n",
      "American Gods\n",
      "A Gentleman in Moscow\n"
     ]
    }
   ],
   "source": [
    "//  i want to print every title of a book\n",
    "books.forEach(function(book){\n",
    "    console.log(book.title)\n",
    "})"
   ]
  },
  {
   "cell_type": "code",
   "execution_count": 6,
   "id": "25c20b0c-9642-42e3-8935-c62930eeba82",
   "metadata": {},
   "outputs": [
    {
     "name": "stdout",
     "output_type": "stream",
     "text": [
      "1 Good Omens\n",
      "2 Bone: The Complete Edition\n",
      "3 American Gods\n",
      "4 A Gentleman in Moscow\n"
     ]
    }
   ],
   "source": [
    "// incase we need the index\n",
    "books.forEach(function(book,id){\n",
    "    console.log((id+1),book.title)\n",
    "})"
   ]
  },
  {
   "cell_type": "code",
   "execution_count": null,
   "id": "e46c0a44-9344-4e54-91cf-662a192f3e74",
   "metadata": {},
   "outputs": [],
   "source": []
  },
  {
   "cell_type": "code",
   "execution_count": null,
   "id": "72dbe6b7-3db5-40d8-817b-5194a04e3af0",
   "metadata": {},
   "outputs": [],
   "source": []
  },
  {
   "cell_type": "markdown",
   "id": "028df986-4a23-4f5b-b2a8-06946a1a1321",
   "metadata": {},
   "source": [
    "## **MAP**\n",
    "Creates a new Array with the results of calling a callback on every element in the array"
   ]
  },
  {
   "cell_type": "code",
   "execution_count": 7,
   "id": "efb5ed47-bf16-4535-ba50-12ad87233ea1",
   "metadata": {},
   "outputs": [],
   "source": [
    "const texts  = ['rofl','lol','omg','ttyl'];\n",
    "const caps = texts.map(function(t){\n",
    "    return t.toUpperCase();\n",
    "})"
   ]
  },
  {
   "cell_type": "code",
   "execution_count": 8,
   "id": "be71cb83-3ca9-4ffa-b695-f83c716392cc",
   "metadata": {},
   "outputs": [
    {
     "data": {
      "text/plain": [
       "[ 'rofl', 'lol', 'omg', 'ttyl' ]"
      ]
     },
     "execution_count": 8,
     "metadata": {},
     "output_type": "execute_result"
    }
   ],
   "source": [
    "texts"
   ]
  },
  {
   "cell_type": "code",
   "execution_count": 9,
   "id": "216f548c-b17b-420b-b104-c400b1412fec",
   "metadata": {},
   "outputs": [
    {
     "data": {
      "text/plain": [
       "[ 'ROFL', 'LOL', 'OMG', 'TTYL' ]"
      ]
     },
     "execution_count": 9,
     "metadata": {},
     "output_type": "execute_result"
    }
   ],
   "source": [
    "caps"
   ]
  },
  {
   "cell_type": "code",
   "execution_count": null,
   "id": "cb6280d7-9d03-4a2e-a0aa-d2aa3fce134e",
   "metadata": {},
   "outputs": [],
   "source": []
  },
  {
   "cell_type": "code",
   "execution_count": 10,
   "id": "db65a3ba-1b36-44eb-b6bf-e92d6126a76a",
   "metadata": {},
   "outputs": [
    {
     "data": {
      "text/plain": [
       "[\n",
       "  20, 21, 22, 23, 24,\n",
       "  25, 26, 27, 28\n",
       "]"
      ]
     },
     "execution_count": 10,
     "metadata": {},
     "output_type": "execute_result"
    }
   ],
   "source": [
    "numbers"
   ]
  },
  {
   "cell_type": "code",
   "execution_count": 11,
   "id": "6a836e3a-4b1f-4a81-b21e-90d86b63e5fb",
   "metadata": {},
   "outputs": [
    {
     "data": {
      "text/plain": [
       "[\n",
       "  40, 42, 44, 46, 48,\n",
       "  50, 52, 54, 56\n",
       "]"
      ]
     },
     "execution_count": 11,
     "metadata": {},
     "output_type": "execute_result"
    }
   ],
   "source": [
    "numbers.map(function(num){\n",
    "    return num*2;\n",
    "})"
   ]
  },
  {
   "cell_type": "code",
   "execution_count": null,
   "id": "4659142d-dabb-4816-be78-376397c6ded2",
   "metadata": {},
   "outputs": [],
   "source": [
    "  "
   ]
  },
  {
   "cell_type": "code",
   "execution_count": null,
   "id": "8d327c17-7aba-4602-92fa-ead96bfef5f8",
   "metadata": {},
   "outputs": [],
   "source": []
  },
  {
   "cell_type": "code",
   "execution_count": 12,
   "id": "f9ac1496-6a7d-416c-acaf-333499eb55ea",
   "metadata": {},
   "outputs": [
    {
     "data": {
      "text/plain": [
       "[\n",
       "  { Value: 20, isEven: true },\n",
       "  { Value: 21, isEven: false },\n",
       "  { Value: 22, isEven: true },\n",
       "  { Value: 23, isEven: false },\n",
       "  { Value: 24, isEven: true },\n",
       "  { Value: 25, isEven: false },\n",
       "  { Value: 26, isEven: true },\n",
       "  { Value: 27, isEven: false },\n",
       "  { Value: 28, isEven: true }\n",
       "]"
      ]
     },
     "execution_count": 12,
     "metadata": {},
     "output_type": "execute_result"
    }
   ],
   "source": [
    "// we want to check if the value is even, then return an object\n",
    "\n",
    "numbers.map(function(n){\n",
    "    return{\n",
    "        Value : n,\n",
    "        isEven: n % 2 === 0\n",
    "    }\n",
    "})"
   ]
  },
  {
   "cell_type": "code",
   "execution_count": null,
   "id": "7063e0f9-e674-4c6d-a26c-59303323e910",
   "metadata": {},
   "outputs": [],
   "source": []
  },
  {
   "cell_type": "code",
   "execution_count": 13,
   "id": "4940cc9c-979d-4b87-b93e-c2c020d152cb",
   "metadata": {},
   "outputs": [],
   "source": [
    "const words = ['asap','byob','rsvp','diy'];"
   ]
  },
  {
   "cell_type": "code",
   "execution_count": 14,
   "id": "d5fc484a-9729-48ca-8a50-f307c43b8656",
   "metadata": {},
   "outputs": [],
   "source": [
    "const abbrevs = words.map(function(word){\n",
    "    return word.toUpperCase().split('').join('.');\n",
    "})"
   ]
  },
  {
   "cell_type": "code",
   "execution_count": 15,
   "id": "92fda6b2-85c1-4177-800d-88ead38194f3",
   "metadata": {},
   "outputs": [
    {
     "data": {
      "text/plain": [
       "[ 'A.S.A.P', 'B.Y.O.B', 'R.S.V.P', 'D.I.Y' ]"
      ]
     },
     "execution_count": 15,
     "metadata": {},
     "output_type": "execute_result"
    }
   ],
   "source": [
    "abbrevs"
   ]
  },
  {
   "cell_type": "code",
   "execution_count": null,
   "id": "415fbe9b-0ba0-4f75-bead-8c33d8babaeb",
   "metadata": {},
   "outputs": [],
   "source": []
  },
  {
   "cell_type": "code",
   "execution_count": 16,
   "id": "4dd8bf64-9085-47ee-9da0-85bcd0b5a888",
   "metadata": {},
   "outputs": [],
   "source": [
    "// remember books"
   ]
  },
  {
   "cell_type": "code",
   "execution_count": 17,
   "id": "9241faf1-dd16-48fa-a0d6-5cddc420818e",
   "metadata": {},
   "outputs": [
    {
     "data": {
      "text/plain": [
       "[\n",
       "  {\n",
       "    title: 'Good Omens',\n",
       "    authors: [ 'Terry Pratchett', 'Neil Gaiman' ],\n",
       "    ratings: 4.25\n",
       "  },\n",
       "  {\n",
       "    title: 'Bone: The Complete Edition',\n",
       "    authors: [ 'Jeff Smith' ],\n",
       "    ratings: 4.42\n",
       "  },\n",
       "  { title: 'American Gods', authors: [ 'Neil Gaiman' ], ratings: 4.11 },\n",
       "  {\n",
       "    title: 'A Gentleman in Moscow',\n",
       "    authors: [ 'Amor Towles' ],\n",
       "    ratings: 4.36\n",
       "  }\n",
       "]"
      ]
     },
     "execution_count": 17,
     "metadata": {},
     "output_type": "execute_result"
    }
   ],
   "source": [
    "books"
   ]
  },
  {
   "cell_type": "code",
   "execution_count": 18,
   "id": "72913cfd-aba4-4766-9a66-320399f3cc6a",
   "metadata": {},
   "outputs": [],
   "source": [
    "// now, i want to store it to an array\n",
    "\n",
    "const bookTitles = books.map(function(book){\n",
    "    return book.title\n",
    "})"
   ]
  },
  {
   "cell_type": "code",
   "execution_count": 19,
   "id": "7c225089-8624-47e7-989a-c5c9f6c41e27",
   "metadata": {},
   "outputs": [
    {
     "data": {
      "text/plain": [
       "[\n",
       "  'Good Omens',\n",
       "  'Bone: The Complete Edition',\n",
       "  'American Gods',\n",
       "  'A Gentleman in Moscow'\n",
       "]"
      ]
     },
     "execution_count": 19,
     "metadata": {},
     "output_type": "execute_result"
    }
   ],
   "source": [
    "bookTitles"
   ]
  },
  {
   "cell_type": "code",
   "execution_count": null,
   "id": "d966c6ca-d117-4f52-b76b-d82087eab0e0",
   "metadata": {},
   "outputs": [],
   "source": []
  },
  {
   "cell_type": "code",
   "execution_count": null,
   "id": "752694fb-669e-4ed5-ada3-db80a5eaca42",
   "metadata": {},
   "outputs": [],
   "source": []
  },
  {
   "cell_type": "markdown",
   "id": "b7e79dfb-2fa7-494d-8768-8414980de01b",
   "metadata": {},
   "source": [
    "## **ARROW FUNCTIONS**\n",
    "They're new-ish syntactically compact alternative to a regular function expression"
   ]
  },
  {
   "cell_type": "code",
   "execution_count": 20,
   "id": "ecb037b2-3221-4ebb-8caf-b58a004602cc",
   "metadata": {},
   "outputs": [],
   "source": [
    "// consider with arrow functions\n",
    "const square = (x) => {\n",
    "    return x*x;\n",
    "}"
   ]
  },
  {
   "cell_type": "code",
   "execution_count": 21,
   "id": "f40283eb-f298-4ba3-9ab7-1594583e2872",
   "metadata": {},
   "outputs": [],
   "source": [
    "// let's try this"
   ]
  },
  {
   "cell_type": "code",
   "execution_count": 22,
   "id": "7850e4af-87a2-45ac-b93c-d0b43f484021",
   "metadata": {},
   "outputs": [
    {
     "ename": "SyntaxError",
     "evalue": "Identifier 'square' has already been declared",
     "execution_count": 22,
     "output_type": "error",
     "traceback": [
      "evalmachine.<anonymous>:1",
      "// without an arrow function",
      "^",
      "",
      "SyntaxError: Identifier 'square' has already been declared",
      "    at Script.runInThisContext (node:vm:129:12)",
      "    at Object.runInThisContext (node:vm:307:38)",
      "    at run ([eval]:1020:15)",
      "    at onRunRequest ([eval]:864:18)",
      "    at onMessage ([eval]:828:13)",
      "    at process.emit (node:events:513:28)",
      "    at emit (node:internal/child_process:937:14)",
      "    at process.processTicksAndRejections (node:internal/process/task_queues:83:21)"
     ]
    }
   ],
   "source": [
    "// without an arrow function\n",
    "const square = function(x){\n",
    "    return x * x;\n",
    "}"
   ]
  },
  {
   "cell_type": "code",
   "execution_count": 23,
   "id": "60e7d3a7-4d2e-4d6e-a363-fbce98729a4b",
   "metadata": {},
   "outputs": [
    {
     "data": {
      "text/plain": [
       "16"
      ]
     },
     "execution_count": 23,
     "metadata": {},
     "output_type": "execute_result"
    }
   ],
   "source": [
    "square(4)"
   ]
  },
  {
   "cell_type": "code",
   "execution_count": 24,
   "id": "1b659861-061c-4f0f-82fb-8632db43ae46",
   "metadata": {},
   "outputs": [],
   "source": [
    "const add = (x,y) => {return x+x;}"
   ]
  },
  {
   "cell_type": "code",
   "execution_count": 25,
   "id": "bba82dd5-def7-4add-a5ea-56ffe834b4f3",
   "metadata": {},
   "outputs": [
    {
     "data": {
      "text/plain": [
       "16"
      ]
     },
     "execution_count": 25,
     "metadata": {},
     "output_type": "execute_result"
    }
   ],
   "source": [
    "add(8,23)"
   ]
  },
  {
   "cell_type": "code",
   "execution_count": 26,
   "id": "82c6b557-8cab-4b78-885e-b010135c290c",
   "metadata": {},
   "outputs": [],
   "source": [
    "const isEven = (num) => {\n",
    "    return num % 2 === 0;\n",
    "}"
   ]
  },
  {
   "cell_type": "code",
   "execution_count": 27,
   "id": "073499f1-3cda-41ca-b7cb-f31af34d3bb2",
   "metadata": {},
   "outputs": [
    {
     "data": {
      "text/plain": [
       "false"
      ]
     },
     "execution_count": 27,
     "metadata": {},
     "output_type": "execute_result"
    }
   ],
   "source": [
    "isEven(5)"
   ]
  },
  {
   "cell_type": "code",
   "execution_count": 28,
   "id": "ea05591f-f68e-4a2c-9c3b-2bb108935e36",
   "metadata": {},
   "outputs": [
    {
     "data": {
      "text/plain": [
       "true"
      ]
     },
     "execution_count": 28,
     "metadata": {},
     "output_type": "execute_result"
    }
   ],
   "source": [
    "isEven(6)"
   ]
  },
  {
   "cell_type": "code",
   "execution_count": 29,
   "id": "1e6d6694-9a83-48d8-aa0b-a9bca1c6fb8c",
   "metadata": {},
   "outputs": [],
   "source": [
    "const isOdd = num => {\n",
    "    return num % 2 !== 0;\n",
    "}"
   ]
  },
  {
   "cell_type": "code",
   "execution_count": 30,
   "id": "a9770e1d-a6a8-4f0d-970d-a5dad73ba18f",
   "metadata": {},
   "outputs": [
    {
     "data": {
      "text/plain": [
       "true"
      ]
     },
     "execution_count": 30,
     "metadata": {},
     "output_type": "execute_result"
    }
   ],
   "source": [
    "isOdd(7)"
   ]
  },
  {
   "cell_type": "code",
   "execution_count": 31,
   "id": "5366748e-bc7c-41ec-aeb8-339624d54bba",
   "metadata": {},
   "outputs": [],
   "source": [
    "const greet = () => {\n",
    "    console.log(\"Hello\");\n",
    "}"
   ]
  },
  {
   "cell_type": "code",
   "execution_count": 32,
   "id": "6bb70178-7dac-4a48-9246-c3816117f81c",
   "metadata": {},
   "outputs": [
    {
     "name": "stdout",
     "output_type": "stream",
     "text": [
      "Hello\n"
     ]
    }
   ],
   "source": [
    "greet()"
   ]
  },
  {
   "cell_type": "code",
   "execution_count": null,
   "id": "ba4c95f6-4d7b-4cee-89a2-278720c59836",
   "metadata": {},
   "outputs": [],
   "source": []
  },
  {
   "cell_type": "markdown",
   "id": "56b25cb4-2cf4-4dcf-887e-9bd860ae05ad",
   "metadata": {},
   "source": [
    "## **Arrow Functions Implicit Returns**"
   ]
  },
  {
   "cell_type": "code",
   "execution_count": 33,
   "id": "56deee2c-36e2-40c6-97a9-ced18f968054",
   "metadata": {},
   "outputs": [],
   "source": [
    "const hate = () => 'I hate you'"
   ]
  },
  {
   "cell_type": "code",
   "execution_count": 34,
   "id": "e0b4ede4-a5f0-427f-ab3b-e5e5d5dddd96",
   "metadata": {},
   "outputs": [
    {
     "data": {
      "text/plain": [
       "'I hate you'"
      ]
     },
     "execution_count": 34,
     "metadata": {},
     "output_type": "execute_result"
    }
   ],
   "source": [
    "hate()"
   ]
  },
  {
   "cell_type": "code",
   "execution_count": 35,
   "id": "f1184693-bb8d-409f-b9d2-bb72326440d6",
   "metadata": {},
   "outputs": [],
   "source": [
    "const testNum = (a,b) => (a*b)"
   ]
  },
  {
   "cell_type": "code",
   "execution_count": 36,
   "id": "a5d62844-98db-4e0e-a8fb-37ea13944cdd",
   "metadata": {},
   "outputs": [
    {
     "data": {
      "text/plain": [
       "20"
      ]
     },
     "execution_count": 36,
     "metadata": {},
     "output_type": "execute_result"
    }
   ],
   "source": [
    "testNum(4,5)"
   ]
  },
  {
   "cell_type": "code",
   "execution_count": null,
   "id": "38fd607e-df1b-496c-bfa1-db473598d1ef",
   "metadata": {},
   "outputs": [],
   "source": []
  },
  {
   "cell_type": "code",
   "execution_count": 37,
   "id": "357234a5-6e11-4ba4-b54e-438654feedcc",
   "metadata": {},
   "outputs": [],
   "source": [
    "// now let's apply it.."
   ]
  },
  {
   "cell_type": "code",
   "execution_count": 38,
   "id": "bf7dd01d-fa1d-447e-82ae-769e7e463151",
   "metadata": {},
   "outputs": [
    {
     "data": {
      "text/plain": [
       "[\n",
       "  20, 21, 22, 23, 24,\n",
       "  25, 26, 27, 28\n",
       "]"
      ]
     },
     "execution_count": 38,
     "metadata": {},
     "output_type": "execute_result"
    }
   ],
   "source": [
    "numbers"
   ]
  },
  {
   "cell_type": "code",
   "execution_count": 39,
   "id": "6fb58c6a-9a9c-4d0b-acb5-0eb9a3caa85d",
   "metadata": {},
   "outputs": [
    {
     "data": {
      "text/plain": [
       "[\n",
       "  40, 42, 44, 46, 48,\n",
       "  50, 52, 54, 56\n",
       "]"
      ]
     },
     "execution_count": 39,
     "metadata": {},
     "output_type": "execute_result"
    }
   ],
   "source": [
    "// i want to double all the numbers and map them to a new array\n",
    "\n",
    "numbers.map(n => 2*n)"
   ]
  },
  {
   "cell_type": "code",
   "execution_count": 40,
   "id": "4af86879-8930-4997-9600-4b2bb5b663c9",
   "metadata": {},
   "outputs": [],
   "source": [
    "// without arrow function"
   ]
  },
  {
   "cell_type": "code",
   "execution_count": 41,
   "id": "6207c19b-df38-4913-9098-7f8a7c634868",
   "metadata": {},
   "outputs": [
    {
     "data": {
      "text/plain": [
       "[\n",
       "  40, 42, 44, 46, 48,\n",
       "  50, 52, 54, 56\n",
       "]"
      ]
     },
     "execution_count": 41,
     "metadata": {},
     "output_type": "execute_result"
    }
   ],
   "source": [
    "numbers.map(function(n) {\n",
    "    return n*2\n",
    "})"
   ]
  },
  {
   "cell_type": "code",
   "execution_count": 42,
   "id": "865b0069-f5dd-45a5-baa9-dd2e9f117df6",
   "metadata": {},
   "outputs": [
    {
     "data": {
      "text/plain": [
       "[\n",
       "  40, 42, 44, 46, 48,\n",
       "  50, 52, 54, 56\n",
       "]"
      ]
     },
     "execution_count": 42,
     "metadata": {},
     "output_type": "execute_result"
    }
   ],
   "source": [
    "// for a non-implicit function\n",
    "\n",
    "numbers.map((n) => {\n",
    "    return n*2;\n",
    "})"
   ]
  },
  {
   "cell_type": "code",
   "execution_count": null,
   "id": "cc2d9a78-7beb-47e0-96f4-b1584f53bdf3",
   "metadata": {},
   "outputs": [],
   "source": []
  },
  {
   "cell_type": "code",
   "execution_count": 43,
   "id": "2be3433d-d24b-4978-9a25-db32d713f081",
   "metadata": {},
   "outputs": [],
   "source": [
    "// Another example\n",
    "\n",
    "const parityList = numbers.map((n) => {\n",
    "    if(n % 2 === 0){\n",
    "        return 'Odd';\n",
    "    }\n",
    "})"
   ]
  },
  {
   "cell_type": "code",
   "execution_count": 47,
   "id": "929696f8-3ea4-4fd3-87c7-9034c7bcf3ff",
   "metadata": {},
   "outputs": [
    {
     "data": {
      "text/plain": [
       "[\n",
       "  'Odd', 'Even',\n",
       "  'Odd', 'Even',\n",
       "  'Odd', 'Even',\n",
       "  'Odd', 'Even',\n",
       "  'Odd'\n",
       "]"
      ]
     },
     "execution_count": 47,
     "metadata": {},
     "output_type": "execute_result"
    }
   ],
   "source": [
    "numbers.map((n) => {\n",
    "    if(n % 2 === 0){\n",
    "        return 'Odd';\n",
    "    }\n",
    "    else{\n",
    "        return 'Even'\n",
    "    }\n",
    "})"
   ]
  },
  {
   "cell_type": "code",
   "execution_count": 49,
   "id": "dca05e9e-223a-4d52-8fbd-aadf2b6c2627",
   "metadata": {},
   "outputs": [
    {
     "data": {
      "text/plain": [
       "[\n",
       "  'Even', 'Odd',\n",
       "  'Even', 'Odd',\n",
       "  'Even', 'Odd',\n",
       "  'Even', 'Odd',\n",
       "  'Even'\n",
       "]"
      ]
     },
     "execution_count": 49,
     "metadata": {},
     "output_type": "execute_result"
    }
   ],
   "source": [
    "// let's try to write it implicitly\n",
    "\n",
    "numbers.map(n => n%2 === 0?'Even':'Odd')"
   ]
  },
  {
   "cell_type": "code",
   "execution_count": null,
   "id": "ab34fae3-c565-495b-84ac-b392be13e8a4",
   "metadata": {},
   "outputs": [],
   "source": []
  },
  {
   "cell_type": "code",
   "execution_count": null,
   "id": "b1ddd6d2-cc31-4ced-ab30-c9d3e6f4843e",
   "metadata": {},
   "outputs": [],
   "source": []
  },
  {
   "cell_type": "markdown",
   "id": "fc2afcd9-d2c5-4236-a87c-a69f50f4f4a8",
   "metadata": {},
   "source": [
    "## **FIND**\n",
    "returns the value of the first element in the array that satisfies the provided testing function"
   ]
  },
  {
   "cell_type": "code",
   "execution_count": 50,
   "id": "a67d6bc5-c908-404a-8c18-e47cb992496f",
   "metadata": {},
   "outputs": [],
   "source": [
    "const movies = [\n",
    "    \"The Fantastic Mr. Fox\",\n",
    "    \"Mr. and Mrs. Smith\",\n",
    "    \"Mrs. Doubtfire\",\n",
    "    \"Mr. Deeds\"\n",
    "]"
   ]
  },
  {
   "cell_type": "code",
   "execution_count": 54,
   "id": "cb5d3cdf-7d59-40a7-b5c9-38abca1e8da4",
   "metadata": {},
   "outputs": [
    {
     "data": {
      "text/plain": [
       "'Mr. and Mrs. Smith'"
      ]
     },
     "execution_count": 54,
     "metadata": {},
     "output_type": "execute_result"
    }
   ],
   "source": [
    "movies.find(movie => {\n",
    "    return movie.includes('Mrs')\n",
    "})"
   ]
  },
  {
   "cell_type": "code",
   "execution_count": 56,
   "id": "cc3de0fe-5fda-4811-9971-6f3da6a7eca5",
   "metadata": {},
   "outputs": [
    {
     "data": {
      "text/plain": [
       "'The Fantastic Mr. Fox'"
      ]
     },
     "execution_count": 56,
     "metadata": {},
     "output_type": "execute_result"
    }
   ],
   "source": [
    "movies.find(movie => movie.lastIndexOf('Mrs'))"
   ]
  },
  {
   "cell_type": "code",
   "execution_count": 66,
   "id": "07bf281d-3d05-40dc-9920-fe3a771ff139",
   "metadata": {},
   "outputs": [
    {
     "data": {
      "text/plain": [
       "'Mrs. Doubtfire'"
      ]
     },
     "execution_count": 66,
     "metadata": {},
     "output_type": "execute_result"
    }
   ],
   "source": [
    "movies.find(movie => movie.indexOf('Mrs') === 0)"
   ]
  },
  {
   "cell_type": "code",
   "execution_count": null,
   "id": "80fead06-5989-40d0-a178-a56540d7d376",
   "metadata": {},
   "outputs": [],
   "source": []
  },
  {
   "cell_type": "code",
   "execution_count": null,
   "id": "dde0155e-5799-4cff-bd35-f71613aefedd",
   "metadata": {},
   "outputs": [],
   "source": []
  },
  {
   "cell_type": "code",
   "execution_count": 58,
   "id": "497d29bd-49af-4659-8e8a-f559fafb38e3",
   "metadata": {},
   "outputs": [],
   "source": [
    "// now let's try with something different"
   ]
  },
  {
   "cell_type": "code",
   "execution_count": 59,
   "id": "442878cf-f096-45a8-b22d-17625a61a83b",
   "metadata": {},
   "outputs": [
    {
     "data": {
      "text/plain": [
       "[\n",
       "  {\n",
       "    title: 'Good Omens',\n",
       "    authors: [ 'Terry Pratchett', 'Neil Gaiman' ],\n",
       "    ratings: 4.25\n",
       "  },\n",
       "  {\n",
       "    title: 'Bone: The Complete Edition',\n",
       "    authors: [ 'Jeff Smith' ],\n",
       "    ratings: 4.42\n",
       "  },\n",
       "  { title: 'American Gods', authors: [ 'Neil Gaiman' ], ratings: 4.11 },\n",
       "  {\n",
       "    title: 'A Gentleman in Moscow',\n",
       "    authors: [ 'Amor Towles' ],\n",
       "    ratings: 4.36\n",
       "  }\n",
       "]"
      ]
     },
     "execution_count": 59,
     "metadata": {},
     "output_type": "execute_result"
    }
   ],
   "source": [
    "books"
   ]
  },
  {
   "cell_type": "code",
   "execution_count": 60,
   "id": "e4652be4-2a1c-4be8-8303-33f0ca5b97b4",
   "metadata": {},
   "outputs": [
    {
     "data": {
      "text/plain": [
       "{\n",
       "  title: 'Bone: The Complete Edition',\n",
       "  authors: [ 'Jeff Smith' ],\n",
       "  ratings: 4.42\n",
       "}"
      ]
     },
     "execution_count": 60,
     "metadata": {},
     "output_type": "execute_result"
    }
   ],
   "source": [
    "// now i want to find a single book, with a rating of 4.3 and above\n",
    "\n",
    "books.find(book => book.ratings >= 4.3)"
   ]
  },
  {
   "cell_type": "code",
   "execution_count": 68,
   "id": "1a0d39a8-898f-45fb-b2a0-adc3bd50e434",
   "metadata": {},
   "outputs": [
    {
     "data": {
      "text/plain": [
       "{\n",
       "  title: 'Good Omens',\n",
       "  authors: [ 'Terry Pratchett', 'Neil Gaiman' ],\n",
       "  ratings: 4.25\n",
       "}"
      ]
     },
     "execution_count": 68,
     "metadata": {},
     "output_type": "execute_result"
    }
   ],
   "source": [
    "books.find(book => book.authors.includes('Neil Gaiman'))"
   ]
  },
  {
   "cell_type": "code",
   "execution_count": null,
   "id": "1607809b-9a3d-4aad-8df0-81f1ed2e1ff5",
   "metadata": {},
   "outputs": [],
   "source": []
  },
  {
   "cell_type": "code",
   "execution_count": 70,
   "id": "5fdc3bed-35cd-4542-956a-2be0f5546760",
   "metadata": {},
   "outputs": [
    {
     "data": {
      "text/plain": [
       "[ 'Neil', index: 0, input: 'Neil Gaiman', groups: undefined ]"
      ]
     },
     "execution_count": 70,
     "metadata": {},
     "output_type": "execute_result"
    }
   ],
   "source": [
    "'Neil Gaiman'.match('Neil')"
   ]
  },
  {
   "cell_type": "code",
   "execution_count": null,
   "id": "e28e005a-ce22-48cd-8b75-bfa99f6ae1d5",
   "metadata": {},
   "outputs": [],
   "source": []
  },
  {
   "cell_type": "code",
   "execution_count": null,
   "id": "72e43fc5-eaf7-417d-be72-569ad0c97ce3",
   "metadata": {},
   "outputs": [],
   "source": []
  }
 ],
 "metadata": {
  "kernelspec": {
   "display_name": "JavaScript (Node.js)",
   "language": "javascript",
   "name": "javascript"
  },
  "language_info": {
   "file_extension": ".js",
   "mimetype": "application/javascript",
   "name": "javascript",
   "version": "18.15.0"
  }
 },
 "nbformat": 4,
 "nbformat_minor": 5
}
