{
 "cells": [
  {
   "cell_type": "markdown",
   "id": "1b0fd992-6800-49b8-8319-c57d347c7e46",
   "metadata": {},
   "source": [
    "<center><h1><b>Continuation of Primitive Types</b></h1></center>"
   ]
  },
  {
   "cell_type": "markdown",
   "id": "d5d3073f-663d-411d-865d-42b0d2fb6412",
   "metadata": {},
   "source": [
    "## **Booleans**"
   ]
  },
  {
   "cell_type": "markdown",
   "id": "3967d17d-eebf-416c-974b-34338a27d8c8",
   "metadata": {},
   "source": [
    "Booleans are either True or false values"
   ]
  },
  {
   "cell_type": "code",
   "execution_count": 4,
   "id": "089c1efa-54dd-4ab7-9dc7-984cdd81a008",
   "metadata": {
    "tags": []
   },
   "outputs": [
    {
     "data": {
      "text/plain": [
       "true"
      ]
     },
     "execution_count": 4,
     "metadata": {},
     "output_type": "execute_result"
    }
   ],
   "source": [
    "let isLoginHere = true;\n",
    "isLoginHere;"
   ]
  },
  {
   "cell_type": "code",
   "execution_count": 5,
   "id": "10943130-8aef-4336-992c-c2b687497fe8",
   "metadata": {},
   "outputs": [
    {
     "name": "stdout",
     "output_type": "stream",
     "text": [
      "true\n"
     ]
    }
   ],
   "source": [
    "console.log(isLoginHere)"
   ]
  },
  {
   "cell_type": "code",
   "execution_count": 6,
   "id": "45cd45ed-0ca4-446d-b62c-f10a23f7fe73",
   "metadata": {},
   "outputs": [
    {
     "data": {
      "text/plain": [
       "false"
      ]
     },
     "execution_count": 6,
     "metadata": {},
     "output_type": "execute_result"
    }
   ],
   "source": [
    "'Here' === 'there'"
   ]
  },
  {
   "cell_type": "code",
   "execution_count": 7,
   "id": "2de56b23-63a5-40f5-a898-a4265a5f3e7b",
   "metadata": {},
   "outputs": [
    {
     "data": {
      "text/plain": [
       "false"
      ]
     },
     "execution_count": 7,
     "metadata": {},
     "output_type": "execute_result"
    }
   ],
   "source": [
    "5 === 7"
   ]
  },
  {
   "cell_type": "code",
   "execution_count": 8,
   "id": "712b0939-f5e1-48ff-a378-6ce6c1f6fcb4",
   "metadata": {},
   "outputs": [
    {
     "data": {
      "text/plain": [
       "true"
      ]
     },
     "execution_count": 8,
     "metadata": {},
     "output_type": "execute_result"
    }
   ],
   "source": [
    "76 == 76;"
   ]
  },
  {
   "cell_type": "code",
   "execution_count": 9,
   "id": "570dfa19-9072-4433-87cc-b6928345c551",
   "metadata": {},
   "outputs": [],
   "source": [
    "let isHungry = true;"
   ]
  },
  {
   "cell_type": "code",
   "execution_count": 10,
   "id": "fbfd934c-be23-4231-a9b5-358c2896f0b9",
   "metadata": {},
   "outputs": [
    {
     "data": {
      "text/plain": [
       "false"
      ]
     },
     "execution_count": 10,
     "metadata": {},
     "output_type": "execute_result"
    }
   ],
   "source": [
    "isHungry = false;"
   ]
  },
  {
   "cell_type": "code",
   "execution_count": null,
   "id": "8aa77f8d-715d-47b3-9604-619813a29c66",
   "metadata": {},
   "outputs": [],
   "source": []
  },
  {
   "cell_type": "markdown",
   "id": "ccb22b0a-a453-4645-98f3-7d0c39c2ffc6",
   "metadata": {},
   "source": [
    "## **Strings**"
   ]
  },
  {
   "cell_type": "code",
   "execution_count": 11,
   "id": "ede2dca1-c96d-42fc-8cf6-2cab55596a33",
   "metadata": {},
   "outputs": [],
   "source": [
    "let firstName = \"Joseph\";"
   ]
  },
  {
   "cell_type": "code",
   "execution_count": 12,
   "id": "396f6e06-3153-45b6-882b-95dfb54a2be3",
   "metadata": {},
   "outputs": [
    {
     "data": {
      "text/plain": [
       "'Joseph'"
      ]
     },
     "execution_count": 12,
     "metadata": {},
     "output_type": "execute_result"
    }
   ],
   "source": [
    "firstName;"
   ]
  },
  {
   "cell_type": "code",
   "execution_count": 13,
   "id": "7b03c544-b0b8-49b1-b2fb-57d4ea11f9c5",
   "metadata": {},
   "outputs": [],
   "source": [
    "let lastName = 'Mahembega';"
   ]
  },
  {
   "cell_type": "code",
   "execution_count": 14,
   "id": "2bb06ba1-3095-45cd-868d-e2fbce22e7d8",
   "metadata": {},
   "outputs": [
    {
     "data": {
      "text/plain": [
       "'Mahembega'"
      ]
     },
     "execution_count": 14,
     "metadata": {},
     "output_type": "execute_result"
    }
   ],
   "source": [
    "lastName;"
   ]
  },
  {
   "cell_type": "code",
   "execution_count": 15,
   "id": "aeeba30c-dc72-4204-bdc8-2cb6c789a75d",
   "metadata": {},
   "outputs": [],
   "source": [
    "// using typof(); -- it shows the type of data"
   ]
  },
  {
   "cell_type": "code",
   "execution_count": 16,
   "id": "a4275034-9e04-4c74-a765-9c0b2b116cfe",
   "metadata": {},
   "outputs": [
    {
     "data": {
      "text/plain": [
       "'string'"
      ]
     },
     "execution_count": 16,
     "metadata": {},
     "output_type": "execute_result"
    }
   ],
   "source": [
    "typeof(lastName);"
   ]
  },
  {
   "cell_type": "code",
   "execution_count": 17,
   "id": "51a110cb-ed33-479d-b377-a3ee7832d529",
   "metadata": {},
   "outputs": [
    {
     "data": {
      "text/plain": [
       "\"He's not here\""
      ]
     },
     "execution_count": 17,
     "metadata": {},
     "output_type": "execute_result"
    }
   ],
   "source": [
    "\"He's not here\""
   ]
  },
  {
   "cell_type": "code",
   "execution_count": 18,
   "id": "67293496-a1f3-4794-a158-1e61caccb4c8",
   "metadata": {},
   "outputs": [
    {
     "data": {
      "text/plain": [
       "'She said \"Hahahaha\"'"
      ]
     },
     "execution_count": 18,
     "metadata": {},
     "output_type": "execute_result"
    }
   ],
   "source": [
    "'She said \"Hahahaha\"'"
   ]
  },
  {
   "cell_type": "code",
   "execution_count": null,
   "id": "4a72253f-0cbf-4088-ab8f-8d7d67cde9d5",
   "metadata": {},
   "outputs": [],
   "source": []
  },
  {
   "cell_type": "markdown",
   "id": "b244c476-3938-4341-b12f-f5ae322088b9",
   "metadata": {},
   "source": [
    "#### Some operations with Strings"
   ]
  },
  {
   "cell_type": "code",
   "execution_count": 20,
   "id": "f2058957-e1dd-49f7-9da0-faa19593c0f2",
   "metadata": {},
   "outputs": [
    {
     "data": {
      "text/plain": [
       "'JosephMahembega'"
      ]
     },
     "execution_count": 20,
     "metadata": {},
     "output_type": "execute_result"
    }
   ],
   "source": [
    "firstName + lastName"
   ]
  },
  {
   "cell_type": "code",
   "execution_count": 21,
   "id": "6d3c7c07-0742-4043-bc4c-505b08a59283",
   "metadata": {},
   "outputs": [
    {
     "data": {
      "text/plain": [
       "'Joseph Mahembega'"
      ]
     },
     "execution_count": 21,
     "metadata": {},
     "output_type": "execute_result"
    }
   ],
   "source": [
    "firstName + \" \" + lastName"
   ]
  },
  {
   "cell_type": "code",
   "execution_count": 22,
   "id": "5ab3b8af-6c89-4eb9-ba1f-2feb6059c84b",
   "metadata": {},
   "outputs": [],
   "source": [
    "let fullName = firstName + \" \" + lastName"
   ]
  },
  {
   "cell_type": "code",
   "execution_count": 23,
   "id": "714fc6e9-48b5-467c-9d1f-b2b22eccceec",
   "metadata": {},
   "outputs": [
    {
     "data": {
      "text/plain": [
       "'Joseph Mahembega'"
      ]
     },
     "execution_count": 23,
     "metadata": {},
     "output_type": "execute_result"
    }
   ],
   "source": [
    "fullName;"
   ]
  },
  {
   "cell_type": "markdown",
   "id": "696352a8-6adc-4868-b93d-6a492acf0362",
   "metadata": {},
   "source": [
    "### **String Indices**"
   ]
  },
  {
   "cell_type": "markdown",
   "id": "4afac64b-b1e9-424b-822b-331db55ed9f6",
   "metadata": {},
   "source": [
    "Each character in a string is assigned a corresponding number, starting from 0 to length of the string minus 1"
   ]
  },
  {
   "cell_type": "code",
   "execution_count": 25,
   "id": "77ad346a-498c-4868-bc9b-a05c6207eff2",
   "metadata": {},
   "outputs": [
    {
     "data": {
      "text/plain": [
       "5"
      ]
     },
     "execution_count": 25,
     "metadata": {},
     "output_type": "execute_result"
    }
   ],
   "source": [
    "'hello'.length"
   ]
  },
  {
   "cell_type": "code",
   "execution_count": 26,
   "id": "ac8ab4d6-9f48-41e0-93d4-ee8a682e2453",
   "metadata": {},
   "outputs": [],
   "source": [
    "// let's store some string values in a variable"
   ]
  },
  {
   "cell_type": "code",
   "execution_count": 27,
   "id": "fa1423b1-c537-49c5-a118-94369bd3ee56",
   "metadata": {},
   "outputs": [],
   "source": [
    "let greeting = \"Hello\";"
   ]
  },
  {
   "cell_type": "code",
   "execution_count": 28,
   "id": "e56a52d7-9ae5-4859-821b-d0b979c1e61b",
   "metadata": {},
   "outputs": [
    {
     "data": {
      "text/plain": [
       "5"
      ]
     },
     "execution_count": 28,
     "metadata": {},
     "output_type": "execute_result"
    }
   ],
   "source": [
    "greeting.length"
   ]
  },
  {
   "cell_type": "code",
   "execution_count": null,
   "id": "910b2925-4b40-4e6d-93eb-4f7739c1cc93",
   "metadata": {},
   "outputs": [],
   "source": [
    "// so for the indices"
   ]
  },
  {
   "cell_type": "code",
   "execution_count": 29,
   "id": "727259f9-9df7-4111-967b-dfda0f21a1f5",
   "metadata": {},
   "outputs": [
    {
     "data": {
      "text/plain": [
       "'H'"
      ]
     },
     "execution_count": 29,
     "metadata": {},
     "output_type": "execute_result"
    }
   ],
   "source": [
    "greeting[0]"
   ]
  },
  {
   "cell_type": "code",
   "execution_count": 30,
   "id": "bb4990f2-86f9-426c-baa6-e67d111f4465",
   "metadata": {},
   "outputs": [],
   "source": [
    "let mySong = \"After a while\";"
   ]
  },
  {
   "cell_type": "code",
   "execution_count": 31,
   "id": "91684c63-0660-4580-be11-c82a2017ee76",
   "metadata": {},
   "outputs": [
    {
     "data": {
      "text/plain": [
       "13"
      ]
     },
     "execution_count": 31,
     "metadata": {},
     "output_type": "execute_result"
    }
   ],
   "source": [
    "mySong.length"
   ]
  },
  {
   "cell_type": "code",
   "execution_count": 32,
   "id": "2f0ba582-c1f8-4ccd-aec8-18a5c4f6a554",
   "metadata": {},
   "outputs": [],
   "source": [
    "// for the first character of the string"
   ]
  },
  {
   "cell_type": "code",
   "execution_count": 33,
   "id": "03bff08c-c0a5-4e95-a10a-19a078b44a38",
   "metadata": {},
   "outputs": [
    {
     "data": {
      "text/plain": [
       "'A'"
      ]
     },
     "execution_count": 33,
     "metadata": {},
     "output_type": "execute_result"
    }
   ],
   "source": [
    "mySong[0]"
   ]
  },
  {
   "cell_type": "code",
   "execution_count": 34,
   "id": "1c910ce2-618a-4807-8b99-583a39932094",
   "metadata": {},
   "outputs": [
    {
     "data": {
      "text/plain": [
       "'f'"
      ]
     },
     "execution_count": 34,
     "metadata": {},
     "output_type": "execute_result"
    }
   ],
   "source": [
    "mySong[1]"
   ]
  },
  {
   "cell_type": "code",
   "execution_count": 35,
   "id": "c4786c40-a754-4180-8f87-5e3b7e45952f",
   "metadata": {},
   "outputs": [
    {
     "data": {
      "text/plain": [
       "'e'"
      ]
     },
     "execution_count": 35,
     "metadata": {},
     "output_type": "execute_result"
    }
   ],
   "source": [
    "mySong[3]"
   ]
  },
  {
   "cell_type": "code",
   "execution_count": 36,
   "id": "758e3d0f-fcef-442a-a525-3ec7bfe5c57c",
   "metadata": {},
   "outputs": [
    {
     "data": {
      "text/plain": [
       "'r'"
      ]
     },
     "execution_count": 36,
     "metadata": {},
     "output_type": "execute_result"
    }
   ],
   "source": [
    "mySong[4]"
   ]
  },
  {
   "cell_type": "code",
   "execution_count": 37,
   "id": "87952c79-3b60-4249-947a-34271c3ad345",
   "metadata": {},
   "outputs": [
    {
     "data": {
      "text/plain": [
       "'e'"
      ]
     },
     "execution_count": 37,
     "metadata": {},
     "output_type": "execute_result"
    }
   ],
   "source": [
    "mySong[12]"
   ]
  },
  {
   "cell_type": "code",
   "execution_count": 38,
   "id": "5bbdddbe-aeef-420e-b9f7-e0b480d17537",
   "metadata": {},
   "outputs": [],
   "source": [
    "// We can't change string variables characters using string indices"
   ]
  },
  {
   "cell_type": "code",
   "execution_count": null,
   "id": "2bb08c66-5458-4173-b95f-1b331bc101d9",
   "metadata": {},
   "outputs": [],
   "source": []
  },
  {
   "cell_type": "markdown",
   "id": "2de6b0c2-f376-474a-9e81-120c017546cf",
   "metadata": {},
   "source": [
    "### **String Methods**"
   ]
  },
  {
   "cell_type": "markdown",
   "id": "28794ac6-41c7-4720-a6cb-fa030a56abfe",
   "metadata": {},
   "source": [
    "Strings come wth a set of built-in methods, which are **actions** that can be performed on or with that particular string"
   ]
  },
  {
   "cell_type": "markdown",
   "id": "4e4a468c-4012-4258-9c1b-75af5c89e08e",
   "metadata": {},
   "source": [
    "We can do things like.....\n",
    "* Searching within a string\n",
    "* Replacing parts of a string\n",
    "* Changing case (UPPER / lowercase)"
   ]
  },
  {
   "cell_type": "code",
   "execution_count": 48,
   "id": "b25d0d05-5ea1-4208-bfc6-1fafaf077f41",
   "metadata": {},
   "outputs": [],
   "source": [
    "// Changing cases"
   ]
  },
  {
   "cell_type": "code",
   "execution_count": 40,
   "id": "7aa1cf5e-89f8-45f3-b04a-2befe8cf86a8",
   "metadata": {},
   "outputs": [],
   "source": [
    "let msg = \"You must be responsible for your actions\";"
   ]
  },
  {
   "cell_type": "code",
   "execution_count": 41,
   "id": "6021c596-0a5b-47c4-8128-02baaa0b4ab6",
   "metadata": {},
   "outputs": [
    {
     "data": {
      "text/plain": [
       "'YOU MUST BE RESPONSIBLE FOR YOUR ACTIONS'"
      ]
     },
     "execution_count": 41,
     "metadata": {},
     "output_type": "execute_result"
    }
   ],
   "source": [
    "msg.toUpperCase()"
   ]
  },
  {
   "cell_type": "code",
   "execution_count": 42,
   "id": "14a094f7-66d5-49a3-84af-8b94af04215b",
   "metadata": {},
   "outputs": [
    {
     "data": {
      "text/plain": [
       "'you must be responsible for your actions'"
      ]
     },
     "execution_count": 42,
     "metadata": {},
     "output_type": "execute_result"
    }
   ],
   "source": [
    "msg.toLowerCase()"
   ]
  },
  {
   "cell_type": "code",
   "execution_count": 43,
   "id": "04690916-487b-4e34-a285-68e8218436d4",
   "metadata": {},
   "outputs": [
    {
     "data": {
      "text/plain": [
       "'You must be responsible for your actions'"
      ]
     },
     "execution_count": 43,
     "metadata": {},
     "output_type": "execute_result"
    }
   ],
   "source": [
    "msg"
   ]
  },
  {
   "cell_type": "code",
   "execution_count": 46,
   "id": "a08ef3e5-ded8-473d-90ac-3c6791c07dba",
   "metadata": {},
   "outputs": [],
   "source": [
    "let uppercaseMsg = msg.toUpperCase();"
   ]
  },
  {
   "cell_type": "code",
   "execution_count": 47,
   "id": "578daa44-3ce2-464a-8da1-e6f71947ed47",
   "metadata": {},
   "outputs": [
    {
     "data": {
      "text/plain": [
       "'YOU MUST BE RESPONSIBLE FOR YOUR ACTIONS'"
      ]
     },
     "execution_count": 47,
     "metadata": {},
     "output_type": "execute_result"
    }
   ],
   "source": [
    "uppercaseMsg"
   ]
  },
  {
   "cell_type": "code",
   "execution_count": null,
   "id": "f31e4844-1d0e-4c46-a9fe-b1d52661aa45",
   "metadata": {},
   "outputs": [],
   "source": []
  },
  {
   "cell_type": "code",
   "execution_count": 56,
   "id": "b3c56c7c-cb43-43c8-a121-3f03c0f4bcd4",
   "metadata": {},
   "outputs": [],
   "source": [
    "// Trim -- removes leading and trailing methods"
   ]
  },
  {
   "cell_type": "code",
   "execution_count": 50,
   "id": "9cf8b8b6-b50a-48e1-bbc4-cf08b6e10b73",
   "metadata": {},
   "outputs": [],
   "source": [
    "let color = \"pu  rple\";"
   ]
  },
  {
   "cell_type": "code",
   "execution_count": 51,
   "id": "5c6a262f-727a-4da3-b608-5d83677c4d18",
   "metadata": {},
   "outputs": [
    {
     "data": {
      "text/plain": [
       "'pu  rple'"
      ]
     },
     "execution_count": 51,
     "metadata": {},
     "output_type": "execute_result"
    }
   ],
   "source": [
    "color.trim();"
   ]
  },
  {
   "cell_type": "code",
   "execution_count": 52,
   "id": "45d7cb2a-cbd2-40d9-8c5f-72a3acfaf21d",
   "metadata": {},
   "outputs": [
    {
     "data": {
      "text/plain": [
       "'   purple  '"
      ]
     },
     "execution_count": 52,
     "metadata": {},
     "output_type": "execute_result"
    }
   ],
   "source": [
    "color = \"   purple  \";"
   ]
  },
  {
   "cell_type": "code",
   "execution_count": 53,
   "id": "7d98b32d-8ae1-4ed7-ba2d-590615563cf3",
   "metadata": {},
   "outputs": [
    {
     "data": {
      "text/plain": [
       "'purple'"
      ]
     },
     "execution_count": 53,
     "metadata": {},
     "output_type": "execute_result"
    }
   ],
   "source": [
    "color.trim();"
   ]
  },
  {
   "cell_type": "code",
   "execution_count": 54,
   "id": "dc3bc428-f3df-4ed9-91a5-bb534275a7e6",
   "metadata": {},
   "outputs": [],
   "source": [
    "// you can chain methods. like this"
   ]
  },
  {
   "cell_type": "code",
   "execution_count": 55,
   "id": "ca63553e-b0c7-4d6e-944e-1c698b90ccd7",
   "metadata": {},
   "outputs": [
    {
     "data": {
      "text/plain": [
       "'PURPLE'"
      ]
     },
     "execution_count": 55,
     "metadata": {},
     "output_type": "execute_result"
    }
   ],
   "source": [
    "color.trim().toUpperCase();"
   ]
  },
  {
   "cell_type": "code",
   "execution_count": null,
   "id": "df613158-326c-4c6b-b190-ca17453a31c7",
   "metadata": {},
   "outputs": [],
   "source": []
  },
  {
   "cell_type": "markdown",
   "id": "a7baea7c-1031-4081-8170-7fe3635849df",
   "metadata": {},
   "source": [
    "#### More String Methods\n",
    "thing.method(args)\n",
    "\n",
    "* Some methods accept arguments that modufy their behaviour. We pass these arguments inside of the parentheses."
   ]
  },
  {
   "cell_type": "code",
   "execution_count": 57,
   "id": "3a09a0ef-dfe9-42b8-a667-5cdd15bcc3c2",
   "metadata": {},
   "outputs": [],
   "source": [
    "// indexOf();"
   ]
  },
  {
   "cell_type": "code",
   "execution_count": 70,
   "id": "b8b7cd8d-fe41-4602-949e-d1b9481dfe54",
   "metadata": {},
   "outputs": [
    {
     "data": {
      "text/plain": [
       "4"
      ]
     },
     "execution_count": 70,
     "metadata": {},
     "output_type": "execute_result"
    }
   ],
   "source": [
    "\"baseball\".indexOf(\"ball\");"
   ]
  },
  {
   "cell_type": "code",
   "execution_count": 71,
   "id": "d6ab726f-8d08-478d-927c-841f9ab52000",
   "metadata": {},
   "outputs": [
    {
     "data": {
      "text/plain": [
       "4"
      ]
     },
     "execution_count": 71,
     "metadata": {},
     "output_type": "execute_result"
    }
   ],
   "source": [
    "\"Baseball\".indexOf(\"ball\"); "
   ]
  },
  {
   "cell_type": "code",
   "execution_count": 72,
   "id": "dceec62a-f6d2-434c-af45-fd31821d6cae",
   "metadata": {},
   "outputs": [
    {
     "data": {
      "text/plain": [
       "0"
      ]
     },
     "execution_count": 72,
     "metadata": {},
     "output_type": "execute_result"
    }
   ],
   "source": [
    "\"baseball\".indexOf('b');\n"
   ]
  },
  {
   "cell_type": "code",
   "execution_count": 73,
   "id": "9c506947-d368-4017-84be-13c6acc15968",
   "metadata": {},
   "outputs": [
    {
     "data": {
      "text/plain": [
       "4"
      ]
     },
     "execution_count": 73,
     "metadata": {},
     "output_type": "execute_result"
    }
   ],
   "source": [
    "\"baseball\".lastIndexOf('b')"
   ]
  },
  {
   "cell_type": "code",
   "execution_count": 74,
   "id": "305cd176-2852-41f6-97ab-b39af29b2858",
   "metadata": {},
   "outputs": [
    {
     "data": {
      "text/plain": [
       "4"
      ]
     },
     "execution_count": 74,
     "metadata": {},
     "output_type": "execute_result"
    }
   ],
   "source": [
    "\"Baseball\".indexOf('b'); // it's case sensitive"
   ]
  },
  {
   "cell_type": "code",
   "execution_count": 75,
   "id": "7005a9cf-b470-48ff-bfb0-9db09bb4b71a",
   "metadata": {},
   "outputs": [
    {
     "data": {
      "text/plain": [
       "-1"
      ]
     },
     "execution_count": 75,
     "metadata": {},
     "output_type": "execute_result"
    }
   ],
   "source": [
    "\"School\".indexOf(\"enter\");"
   ]
  },
  {
   "cell_type": "code",
   "execution_count": null,
   "id": "7c7df940-cbc4-4941-aa0a-807625fdb98c",
   "metadata": {},
   "outputs": [],
   "source": []
  },
  {
   "cell_type": "code",
   "execution_count": 76,
   "id": "1f244c77-c5b1-4bb8-a80b-5da094cea2c8",
   "metadata": {},
   "outputs": [],
   "source": [
    "// slice();"
   ]
  },
  {
   "cell_type": "code",
   "execution_count": 79,
   "id": "5fb84b08-4115-42f0-a598-d723596a4ac3",
   "metadata": {},
   "outputs": [
    {
     "data": {
      "text/plain": [
       "'base'"
      ]
     },
     "execution_count": 79,
     "metadata": {},
     "output_type": "execute_result"
    }
   ],
   "source": [
    "\"baseball\".slice(0,4)"
   ]
  },
  {
   "cell_type": "code",
   "execution_count": 81,
   "id": "59d1cf37-4536-4d5d-9863-2417caf130ae",
   "metadata": {},
   "outputs": [
    {
     "data": {
      "text/plain": [
       "'ball'"
      ]
     },
     "execution_count": 81,
     "metadata": {},
     "output_type": "execute_result"
    }
   ],
   "source": [
    "\"baseball\".slice(4,\"baseball\".length)"
   ]
  },
  {
   "cell_type": "code",
   "execution_count": 82,
   "id": "f427d191-87ab-45d1-85f9-a37cdccbba0d",
   "metadata": {},
   "outputs": [
    {
     "data": {
      "text/plain": [
       "'12.76'"
      ]
     },
     "execution_count": 82,
     "metadata": {},
     "output_type": "execute_result"
    }
   ],
   "source": [
    "\"$12.76\".slice(1) // i wanted to remove the dollar sign"
   ]
  },
  {
   "cell_type": "code",
   "execution_count": null,
   "id": "43ff7ab3-7b70-415e-ad65-3ce884838d34",
   "metadata": {},
   "outputs": [],
   "source": []
  },
  {
   "cell_type": "code",
   "execution_count": 83,
   "id": "e65905ff-6f1d-4eaf-afcd-82a7e9ee4ff2",
   "metadata": {},
   "outputs": [],
   "source": [
    "// replace()"
   ]
  },
  {
   "cell_type": "code",
   "execution_count": 84,
   "id": "91b2a935-af85-4e0f-98ee-8820be0d6daf",
   "metadata": {},
   "outputs": [],
   "source": [
    "let sport = \"football is boring\";"
   ]
  },
  {
   "cell_type": "code",
   "execution_count": 85,
   "id": "58cdb885-d230-4e28-8230-5e30dd5db08c",
   "metadata": {},
   "outputs": [
    {
     "data": {
      "text/plain": [
       "'football is entertaining'"
      ]
     },
     "execution_count": 85,
     "metadata": {},
     "output_type": "execute_result"
    }
   ],
   "source": [
    "sport.replace(\"boring\",\"entertaining\")"
   ]
  },
  {
   "cell_type": "code",
   "execution_count": null,
   "id": "8b949520-abe7-41bf-8908-3327171df0a4",
   "metadata": {},
   "outputs": [],
   "source": []
  },
  {
   "cell_type": "code",
   "execution_count": null,
   "id": "51f9d951-055e-47e7-b687-b85042dd8900",
   "metadata": {},
   "outputs": [],
   "source": []
  },
  {
   "cell_type": "markdown",
   "id": "c9377356-9265-4f99-9202-1da57208c6b6",
   "metadata": {},
   "source": [
    "### **String Escape Characters**"
   ]
  },
  {
   "cell_type": "code",
   "execution_count": 89,
   "id": "24635c6e-fe59-4fda-a7a8-d32253f1ce82",
   "metadata": {},
   "outputs": [],
   "source": [
    "// consider, we want to wrinte something that quotes\n",
    "// He said \"hahaha\""
   ]
  },
  {
   "cell_type": "code",
   "execution_count": 90,
   "id": "3c45b0ae-f323-4407-9e57-c1e69239dd08",
   "metadata": {},
   "outputs": [
    {
     "data": {
      "text/plain": [
       "'He said \"hahaha\"'"
      ]
     },
     "execution_count": 90,
     "metadata": {},
     "output_type": "execute_result"
    }
   ],
   "source": [
    "// soln 1\n",
    "'He said \"hahaha\"'"
   ]
  },
  {
   "cell_type": "code",
   "execution_count": 91,
   "id": "0101d7be-62a3-4916-a479-b1249d7f0c15",
   "metadata": {},
   "outputs": [],
   "source": [
    "// soln 2 --> using escape characters"
   ]
  },
  {
   "cell_type": "code",
   "execution_count": 96,
   "id": "b33d796a-0435-4a59-b63b-a85c98a30c3c",
   "metadata": {},
   "outputs": [
    {
     "data": {
      "text/plain": [
       "'he said \"hahaha\"'"
      ]
     },
     "execution_count": 96,
     "metadata": {},
     "output_type": "execute_result"
    }
   ],
   "source": [
    "\"he said \\\"hahaha\\\"\""
   ]
  },
  {
   "cell_type": "code",
   "execution_count": 97,
   "id": "dcebb99a-2e2a-471d-84ad-83f4a05e2931",
   "metadata": {},
   "outputs": [
    {
     "data": {
      "text/plain": [
       "\"i ain't happy\""
      ]
     },
     "execution_count": 97,
     "metadata": {},
     "output_type": "execute_result"
    }
   ],
   "source": [
    "'i ain\\'t happy'"
   ]
  },
  {
   "cell_type": "code",
   "execution_count": 100,
   "id": "3b9807c2-5d90-45e5-ada0-eb7930fe6783",
   "metadata": {},
   "outputs": [
    {
     "data": {
      "text/plain": [
       "`he said \"I ain't happy\"`"
      ]
     },
     "execution_count": 100,
     "metadata": {},
     "output_type": "execute_result"
    }
   ],
   "source": [
    "\"he said \\\"I ain\\'t happy\\\"\""
   ]
  },
  {
   "cell_type": "code",
   "execution_count": null,
   "id": "fe822a5f-4162-462e-a747-fc4a78659eac",
   "metadata": {},
   "outputs": [],
   "source": []
  },
  {
   "cell_type": "code",
   "execution_count": null,
   "id": "daf65df2-0ad2-4673-9782-0ded9ef2447b",
   "metadata": {},
   "outputs": [],
   "source": []
  },
  {
   "cell_type": "markdown",
   "id": "066eb098-416f-4196-9281-e942cba76f6a",
   "metadata": {},
   "source": [
    "### **String Template Literals**"
   ]
  },
  {
   "cell_type": "code",
   "execution_count": 1,
   "id": "6a14e820-361f-4e52-84fc-b34aba71ef51",
   "metadata": {},
   "outputs": [
    {
     "data": {
      "text/plain": [
       "'hello'"
      ]
     },
     "execution_count": 1,
     "metadata": {},
     "output_type": "execute_result"
    }
   ],
   "source": [
    "`hello`"
   ]
  },
  {
   "cell_type": "code",
   "execution_count": 6,
   "id": "a5c74598-b139-457c-b67f-b9acd718c54a",
   "metadata": {},
   "outputs": [
    {
     "data": {
      "text/plain": [
       "'28'"
      ]
     },
     "execution_count": 6,
     "metadata": {},
     "output_type": "execute_result"
    }
   ],
   "source": [
    "`${23 + 5}`"
   ]
  },
  {
   "cell_type": "code",
   "execution_count": 7,
   "id": "8a6bccea-f167-436d-874e-72b7a20a3756",
   "metadata": {},
   "outputs": [],
   "source": [
    "let animal = \"Pig\""
   ]
  },
  {
   "cell_type": "code",
   "execution_count": 8,
   "id": "38e0c5fe-e8a0-4d77-980c-97d007fbd8ad",
   "metadata": {},
   "outputs": [],
   "source": [
    "let sound = \"oink\""
   ]
  },
  {
   "cell_type": "code",
   "execution_count": 9,
   "id": "2bb2ed2f-8dd1-4f44-bc17-8d3788a571e6",
   "metadata": {},
   "outputs": [
    {
     "data": {
      "text/plain": [
       "\"Pig oink's\""
      ]
     },
     "execution_count": 9,
     "metadata": {},
     "output_type": "execute_result"
    }
   ],
   "source": [
    "`${animal} ${sound}'s`"
   ]
  },
  {
   "cell_type": "code",
   "execution_count": 12,
   "id": "1c9a356a-3afa-4681-bc0e-06286c16e924",
   "metadata": {},
   "outputs": [
    {
     "data": {
      "text/plain": [
       "'Pig says OINK'"
      ]
     },
     "execution_count": 12,
     "metadata": {},
     "output_type": "execute_result"
    }
   ],
   "source": [
    "`Pig says ${sound.toUpperCase()}`"
   ]
  },
  {
   "cell_type": "code",
   "execution_count": 1,
   "id": "3f2ff61d-cfe7-447e-b0a2-e82fc5af3231",
   "metadata": {},
   "outputs": [
    {
     "data": {
      "text/plain": [
       "'You just baught 40 Bananas, that costs $79.6'"
      ]
     },
     "execution_count": 1,
     "metadata": {},
     "output_type": "execute_result"
    }
   ],
   "source": [
    "// consider this example of string literals\n",
    "let item = \"Bananas\";\n",
    "let price = 1.99;\n",
    "let quantity = 40;\n",
    "\n",
    "`You just baught ${quantity} ${item}, that costs $${price * quantity}`"
   ]
  },
  {
   "cell_type": "code",
   "execution_count": null,
   "id": "7ccb5193-7305-40be-8891-fa2c4d9a5482",
   "metadata": {},
   "outputs": [],
   "source": []
  },
  {
   "cell_type": "code",
   "execution_count": 2,
   "id": "35f4fbf0-3293-48c6-b6ed-11ef7360decf",
   "metadata": {},
   "outputs": [
    {
     "data": {
      "text/plain": [
       "\"You must be 21 to enter, and you're currently 19. come back in 2 years\""
      ]
     },
     "execution_count": 2,
     "metadata": {},
     "output_type": "execute_result"
    }
   ],
   "source": [
    "// consider another example\n",
    "const minAge = 21;\n",
    "let yourAge = 19;\n",
    "\n",
    "`You must be ${minAge} to enter, and you're currently ${yourAge}. come back in ${minAge-yourAge} years`"
   ]
  },
  {
   "cell_type": "code",
   "execution_count": null,
   "id": "55404ea6-7027-4121-949f-b22c39d5f24d",
   "metadata": {},
   "outputs": [],
   "source": []
  },
  {
   "cell_type": "code",
   "execution_count": null,
   "id": "ae76fb50-e214-4e62-988d-f5b5ad46a957",
   "metadata": {},
   "outputs": [],
   "source": []
  },
  {
   "cell_type": "code",
   "execution_count": null,
   "id": "50867dfd-d3e3-48a5-98e6-036a85977857",
   "metadata": {},
   "outputs": [],
   "source": []
  },
  {
   "cell_type": "markdown",
   "id": "6723e4bf-2eeb-4620-9311-5d34dd91d0e6",
   "metadata": {},
   "source": [
    "## **null & undefined**"
   ]
  },
  {
   "cell_type": "markdown",
   "id": "297fe194-cf63-4a64-a4ce-08be6808819c",
   "metadata": {},
   "source": [
    "**Null**\n",
    "* Intentional absense of any value\n",
    "* Must be assigned\n",
    "\n",
    "**Undefined**\n",
    "* Variables that do not have an assigned value"
   ]
  },
  {
   "cell_type": "code",
   "execution_count": 4,
   "id": "7289f18f-725f-46b8-8190-a42cb74af9bb",
   "metadata": {},
   "outputs": [
    {
     "data": {
      "text/plain": [
       "null"
      ]
     },
     "execution_count": 4,
     "metadata": {},
     "output_type": "execute_result"
    }
   ],
   "source": [
    "null"
   ]
  },
  {
   "cell_type": "code",
   "execution_count": 6,
   "id": "9d493fc8-e90c-4e5b-845f-f67e602dc354",
   "metadata": {},
   "outputs": [],
   "source": [
    "undefined"
   ]
  },
  {
   "cell_type": "code",
   "execution_count": 7,
   "id": "6e7cc685-0e93-439d-87aa-581700277610",
   "metadata": {},
   "outputs": [],
   "source": [
    "let loggedInUser = null;"
   ]
  },
  {
   "cell_type": "code",
   "execution_count": 8,
   "id": "9c979cc2-eb4c-46ba-a3dc-752e63b3a664",
   "metadata": {},
   "outputs": [
    {
     "data": {
      "text/plain": [
       "null"
      ]
     },
     "execution_count": 8,
     "metadata": {},
     "output_type": "execute_result"
    }
   ],
   "source": [
    "loggedInUser;"
   ]
  },
  {
   "cell_type": "code",
   "execution_count": 12,
   "id": "c94d9fd2-dc7f-409d-96bf-a8efb754586c",
   "metadata": {},
   "outputs": [],
   "source": [
    "let blockedName; // --> this results to undefined"
   ]
  },
  {
   "cell_type": "code",
   "execution_count": null,
   "id": "53f80a49-1747-4b6e-9ef6-a907006f9ad8",
   "metadata": {},
   "outputs": [],
   "source": []
  },
  {
   "cell_type": "code",
   "execution_count": null,
   "id": "adf72370-77b7-4a12-88a3-11aa473bbb71",
   "metadata": {},
   "outputs": [],
   "source": []
  },
  {
   "cell_type": "code",
   "execution_count": null,
   "id": "917c5162-dff4-450f-8b0c-2449c512f135",
   "metadata": {},
   "outputs": [],
   "source": []
  },
  {
   "cell_type": "code",
   "execution_count": null,
   "id": "4f11e3dc-43d5-418d-8609-d366ac42b03c",
   "metadata": {},
   "outputs": [],
   "source": []
  },
  {
   "cell_type": "markdown",
   "id": "73ee07fb-12f8-44a7-8820-5095c68ae996",
   "metadata": {},
   "source": [
    "## **The Math Object & Random Numbers**"
   ]
  },
  {
   "cell_type": "markdown",
   "id": "827331c6-46b0-48ab-83c5-36bab60f147c",
   "metadata": {},
   "source": [
    "Contains properties and methods for mathematical constants and functions"
   ]
  },
  {
   "cell_type": "code",
   "execution_count": 13,
   "id": "0ef020e1-bc25-47de-85ae-db43285a665b",
   "metadata": {},
   "outputs": [
    {
     "data": {
      "text/plain": [
       "Object [Math] {}"
      ]
     },
     "execution_count": 13,
     "metadata": {},
     "output_type": "execute_result"
    }
   ],
   "source": [
    "Math"
   ]
  },
  {
   "cell_type": "code",
   "execution_count": 14,
   "id": "87be3500-c8aa-4909-83a5-aa8fbe64f376",
   "metadata": {},
   "outputs": [
    {
     "data": {
      "text/plain": [
       "3.141592653589793"
      ]
     },
     "execution_count": 14,
     "metadata": {},
     "output_type": "execute_result"
    }
   ],
   "source": [
    "Math.PI"
   ]
  },
  {
   "cell_type": "code",
   "execution_count": 15,
   "id": "b0408a71-7584-4efa-8365-b4e527c21e82",
   "metadata": {},
   "outputs": [
    {
     "data": {
      "text/plain": [
       "3"
      ]
     },
     "execution_count": 15,
     "metadata": {},
     "output_type": "execute_result"
    }
   ],
   "source": [
    "Math.floor(3.654)"
   ]
  },
  {
   "cell_type": "code",
   "execution_count": 16,
   "id": "7576acdf-cfbb-44c3-91bf-523d45548854",
   "metadata": {},
   "outputs": [
    {
     "data": {
      "text/plain": [
       "4"
      ]
     },
     "execution_count": 16,
     "metadata": {},
     "output_type": "execute_result"
    }
   ],
   "source": [
    "Math.round(3.654)"
   ]
  },
  {
   "cell_type": "code",
   "execution_count": 17,
   "id": "49cbb964-7716-40c3-8228-f0dce1eaaafc",
   "metadata": {},
   "outputs": [
    {
     "data": {
      "text/plain": [
       "49"
      ]
     },
     "execution_count": 17,
     "metadata": {},
     "output_type": "execute_result"
    }
   ],
   "source": [
    "Math.pow(7,2)"
   ]
  },
  {
   "cell_type": "code",
   "execution_count": 19,
   "id": "adbe99b9-27c1-499d-bbe3-ae32fb74ffe4",
   "metadata": {},
   "outputs": [],
   "source": [
    "// Math Random"
   ]
  },
  {
   "cell_type": "code",
   "execution_count": 20,
   "id": "87d3199d-a47a-4cdf-a1f9-8d547f7652ff",
   "metadata": {},
   "outputs": [
    {
     "data": {
      "text/plain": [
       "0.5684130147501361"
      ]
     },
     "execution_count": 20,
     "metadata": {},
     "output_type": "execute_result"
    }
   ],
   "source": [
    "Math.random();"
   ]
  },
  {
   "cell_type": "code",
   "execution_count": 49,
   "id": "5669cc8b-3050-4f95-b203-1ae87730f59f",
   "metadata": {},
   "outputs": [
    {
     "data": {
      "text/plain": [
       "5"
      ]
     },
     "execution_count": 49,
     "metadata": {},
     "output_type": "execute_result"
    }
   ],
   "source": [
    "Math.floor(Math.random()*10+1)"
   ]
  },
  {
   "cell_type": "code",
   "execution_count": null,
   "id": "417d1f3c-dbc5-48a7-85e5-918b2f780363",
   "metadata": {},
   "outputs": [],
   "source": [
    "// for dice roll"
   ]
  },
  {
   "cell_type": "code",
   "execution_count": 56,
   "id": "fd902c2d-378e-42be-85b6-fa9ddb38af6c",
   "metadata": {},
   "outputs": [
    {
     "data": {
      "text/plain": [
       "2"
      ]
     },
     "execution_count": 56,
     "metadata": {},
     "output_type": "execute_result"
    }
   ],
   "source": [
    "Math.floor(Math.random()*6+1)"
   ]
  },
  {
   "cell_type": "code",
   "execution_count": null,
   "id": "73003f12-fd1e-41f9-b78b-4f7eb9f5b7cc",
   "metadata": {},
   "outputs": [],
   "source": []
  },
  {
   "cell_type": "code",
   "execution_count": null,
   "id": "458afb4b-a733-470c-93a9-b5efb58d71e8",
   "metadata": {},
   "outputs": [],
   "source": []
  },
  {
   "cell_type": "markdown",
   "id": "0f271409-16c2-497d-86e3-cbd2e7fc6454",
   "metadata": {},
   "source": [
    "### **The typeof operator**"
   ]
  },
  {
   "cell_type": "code",
   "execution_count": 57,
   "id": "13507242-d274-4234-8e66-1c7d3f4da30d",
   "metadata": {},
   "outputs": [
    {
     "data": {
      "text/plain": [
       "'string'"
      ]
     },
     "execution_count": 57,
     "metadata": {},
     "output_type": "execute_result"
    }
   ],
   "source": [
    "typeof \"hello\""
   ]
  },
  {
   "cell_type": "code",
   "execution_count": 58,
   "id": "00faa534-98f2-43f1-a2df-15ae4c0feab4",
   "metadata": {},
   "outputs": [
    {
     "data": {
      "text/plain": [
       "'number'"
      ]
     },
     "execution_count": 58,
     "metadata": {},
     "output_type": "execute_result"
    }
   ],
   "source": [
    "typeof 45.98"
   ]
  },
  {
   "cell_type": "code",
   "execution_count": 59,
   "id": "b2fdd0d2-0d65-4705-9a60-6e17f06dbd16",
   "metadata": {},
   "outputs": [
    {
     "data": {
      "text/plain": [
       "'boolean'"
      ]
     },
     "execution_count": 59,
     "metadata": {},
     "output_type": "execute_result"
    }
   ],
   "source": [
    "typeof true"
   ]
  },
  {
   "cell_type": "code",
   "execution_count": 60,
   "id": "bc5364b1-833a-4ca5-b961-d2e08b3bc0a2",
   "metadata": {},
   "outputs": [
    {
     "data": {
      "text/plain": [
       "'undefined'"
      ]
     },
     "execution_count": 60,
     "metadata": {},
     "output_type": "execute_result"
    }
   ],
   "source": [
    "typeof undefined"
   ]
  },
  {
   "cell_type": "code",
   "execution_count": 61,
   "id": "65e2a5e0-dc5e-4e9b-8d84-3c7f39b33583",
   "metadata": {},
   "outputs": [
    {
     "data": {
      "text/plain": [
       "'object'"
      ]
     },
     "execution_count": 61,
     "metadata": {},
     "output_type": "execute_result"
    }
   ],
   "source": [
    "typeof null"
   ]
  },
  {
   "cell_type": "code",
   "execution_count": 62,
   "id": "224bdda4-cebb-40bc-8e74-5d8902dd0562",
   "metadata": {},
   "outputs": [
    {
     "data": {
      "text/plain": [
       "'boolean'"
      ]
     },
     "execution_count": 62,
     "metadata": {},
     "output_type": "execute_result"
    }
   ],
   "source": [
    "typeof(true)"
   ]
  },
  {
   "cell_type": "code",
   "execution_count": null,
   "id": "f7d37936-c37f-4a44-9fdf-7b7cccab98ae",
   "metadata": {},
   "outputs": [],
   "source": []
  },
  {
   "cell_type": "code",
   "execution_count": null,
   "id": "c5ac4908-d3b5-4232-90b8-be1cce5b0fca",
   "metadata": {},
   "outputs": [],
   "source": []
  },
  {
   "cell_type": "markdown",
   "id": "2cd94275-8f6a-46c8-b0b9-c37fd4594ee4",
   "metadata": {},
   "source": [
    "### **parseInt & parseFloat**"
   ]
  },
  {
   "cell_type": "markdown",
   "id": "4f26280f-4918-4ac2-abc2-da997af6b1d2",
   "metadata": {},
   "source": [
    "used to parse out strings to numbers, but be careful with NaN"
   ]
  },
  {
   "cell_type": "code",
   "execution_count": 66,
   "id": "1691c3e5-7d72-48cf-b0a2-b135b6fd3990",
   "metadata": {},
   "outputs": [
    {
     "data": {
      "text/plain": [
       "24"
      ]
     },
     "execution_count": 66,
     "metadata": {},
     "output_type": "execute_result"
    }
   ],
   "source": [
    "parseInt('24')"
   ]
  },
  {
   "cell_type": "code",
   "execution_count": 67,
   "id": "98ecbda8-ef40-4b03-a334-7ca0dfa84c5a",
   "metadata": {},
   "outputs": [
    {
     "data": {
      "text/plain": [
       "24"
      ]
     },
     "execution_count": 67,
     "metadata": {},
     "output_type": "execute_result"
    }
   ],
   "source": [
    "parseInt('24.987')"
   ]
  },
  {
   "cell_type": "code",
   "execution_count": 73,
   "id": "4af6a0de-dc07-4e3d-a7f8-b37e88647a76",
   "metadata": {},
   "outputs": [
    {
     "data": {
      "text/plain": [
       "28"
      ]
     },
     "execution_count": 73,
     "metadata": {},
     "output_type": "execute_result"
    }
   ],
   "source": [
    "parseInt('28dayslater1')"
   ]
  },
  {
   "cell_type": "code",
   "execution_count": 69,
   "id": "6acbf750-02fe-4140-ad26-e445f1a211f9",
   "metadata": {},
   "outputs": [],
   "source": [
    "// for parseFloat"
   ]
  },
  {
   "cell_type": "code",
   "execution_count": 70,
   "id": "52fb0763-4188-41ac-83f9-19f86cbcdf61",
   "metadata": {},
   "outputs": [
    {
     "data": {
      "text/plain": [
       "24.987"
      ]
     },
     "execution_count": 70,
     "metadata": {},
     "output_type": "execute_result"
    }
   ],
   "source": [
    "parseFloat('24.987')"
   ]
  },
  {
   "cell_type": "code",
   "execution_count": 71,
   "id": "9d3d9b6d-06d7-4805-a034-5cccfc6319e1",
   "metadata": {},
   "outputs": [
    {
     "data": {
      "text/plain": [
       "7"
      ]
     },
     "execution_count": 71,
     "metadata": {},
     "output_type": "execute_result"
    }
   ],
   "source": [
    "parseFloat('7')"
   ]
  },
  {
   "cell_type": "code",
   "execution_count": 72,
   "id": "656ffd2e-9bd2-42a2-a0ab-f43ab16b15c8",
   "metadata": {},
   "outputs": [
    {
     "data": {
      "text/plain": [
       "NaN"
      ]
     },
     "execution_count": 72,
     "metadata": {},
     "output_type": "execute_result"
    }
   ],
   "source": [
    "parseFloat('i ate 3 shrimps')"
   ]
  },
  {
   "cell_type": "code",
   "execution_count": null,
   "id": "8f4bd142-79dc-468e-aa4d-05ac31636218",
   "metadata": {},
   "outputs": [],
   "source": []
  }
 ],
 "metadata": {
  "kernelspec": {
   "display_name": "JavaScript (Node.js)",
   "language": "javascript",
   "name": "javascript"
  },
  "language_info": {
   "file_extension": ".js",
   "mimetype": "application/javascript",
   "name": "javascript",
   "version": "18.15.0"
  }
 },
 "nbformat": 4,
 "nbformat_minor": 5
}
