{
 "cells": [
  {
   "cell_type": "markdown",
   "id": "071bce83-5e03-45a2-8e74-5778fca39202",
   "metadata": {},
   "source": [
    "<center><h1><b>OBJECTS - The core of JavaScript</b></h1></center>"
   ]
  },
  {
   "cell_type": "code",
   "execution_count": 1,
   "id": "83b025a8-e951-4d4c-b1f0-a0ecc4862b2f",
   "metadata": {},
   "outputs": [],
   "source": [
    "// How would you store more complex data that arrays cant store.Here are where objects come in. Think of things like\n",
    "// health data or just something complex to store"
   ]
  },
  {
   "cell_type": "markdown",
   "id": "509d8d95-5f15-4bef-a501-c645c7cccdb0",
   "metadata": {},
   "source": [
    "An object allows us to store data where we can associate things and group pieces of data together"
   ]
  },
  {
   "cell_type": "markdown",
   "id": "3f756800-fe3a-4d8b-9549-73a3f21463aa",
   "metadata": {},
   "source": [
    "Here  we can specify labels, not just integer index, which is easier to deal with"
   ]
  },
  {
   "cell_type": "markdown",
   "id": "b0e7c725-c130-47a5-b799-791abf46a988",
   "metadata": {},
   "source": [
    "## OBJECTS\n",
    "\n",
    "- Objects are collections of properties\n",
    "- Properties are a key-value pair\n",
    "- Rather than accessing data using an index, we use cutom keys."
   ]
  },
  {
   "cell_type": "markdown",
   "id": "a3b693a3-6e7b-4161-845d-eb8b7ec9b9f6",
   "metadata": {},
   "source": [
    "#### **Examples of Key-Value Pair**"
   ]
  },
  {
   "cell_type": "markdown",
   "id": "2b764a98-7ad5-4e90-bdc7-46744364f811",
   "metadata": {},
   "source": [
    "* username -> 'crazCatLady'\n",
    "* upvotes -> 7\n",
    "* text -> 'great post'"
   ]
  },
  {
   "cell_type": "code",
   "execution_count": null,
   "id": "660fb12a-b1b0-4643-98d9-17e40a042992",
   "metadata": {},
   "outputs": [],
   "source": []
  },
  {
   "cell_type": "markdown",
   "id": "436c7fba-940d-4c58-aa4a-72b7cadda6af",
   "metadata": {},
   "source": [
    "## **Creating Object Literals**"
   ]
  },
  {
   "cell_type": "code",
   "execution_count": 2,
   "id": "6eee3dea-d070-4654-8fa0-17b1c1de4f48",
   "metadata": {},
   "outputs": [],
   "source": [
    "// here is how we do this\n",
    "// we'll use object literal syntax"
   ]
  },
  {
   "cell_type": "code",
   "execution_count": 4,
   "id": "3f78afce-3a83-43e9-9388-1463c0b257a7",
   "metadata": {},
   "outputs": [],
   "source": [
    "const fitBitData = {\n",
    "    totalSteps : 30454,\n",
    "    totalMiles: 60,\n",
    "    avgCaloriesBurn :  5755,\n",
    "    avgGoodSleep : '2:13',\n",
    "    workoutsThisWeek : '5 of 7'\n",
    "};    "
   ]
  },
  {
   "cell_type": "code",
   "execution_count": 5,
   "id": "bb8a5fc9-1bfa-497c-aeac-39c5609a8bfb",
   "metadata": {},
   "outputs": [
    {
     "data": {
      "text/plain": [
       "{\n",
       "  totalSteps: 30454,\n",
       "  totalMiles: 60,\n",
       "  avgCaloriesBurn: 5755,\n",
       "  avgGoodSleep: '2:13',\n",
       "  workoutsThisWeek: '5 of 7'\n",
       "}"
      ]
     },
     "execution_count": 5,
     "metadata": {},
     "output_type": "execute_result"
    }
   ],
   "source": [
    "fitBitData"
   ]
  },
  {
   "cell_type": "code",
   "execution_count": 9,
   "id": "09c8239e-5d8b-468f-91de-7d80a53aa49a",
   "metadata": {},
   "outputs": [],
   "source": [
    "// now, let's try accessing the values using the key\n",
    "// We access information using a dot syntax."
   ]
  },
  {
   "cell_type": "code",
   "execution_count": 10,
   "id": "083fc54f-8e3f-4914-a426-a5a857222a2a",
   "metadata": {},
   "outputs": [
    {
     "data": {
      "text/plain": [
       "30454"
      ]
     },
     "execution_count": 10,
     "metadata": {},
     "output_type": "execute_result"
    }
   ],
   "source": [
    "fitBitData.totalSteps"
   ]
  },
  {
   "cell_type": "code",
   "execution_count": 11,
   "id": "a0b9994b-5ff5-4606-ab7b-c377c56243cc",
   "metadata": {},
   "outputs": [
    {
     "data": {
      "text/plain": [
       "60"
      ]
     },
     "execution_count": 11,
     "metadata": {},
     "output_type": "execute_result"
    }
   ],
   "source": [
    "fitBitData.totalMiles"
   ]
  },
  {
   "cell_type": "code",
   "execution_count": 12,
   "id": "70565c08-a651-46ac-8667-44046b8040d9",
   "metadata": {},
   "outputs": [
    {
     "data": {
      "text/plain": [
       "'5 of 7'"
      ]
     },
     "execution_count": 12,
     "metadata": {},
     "output_type": "execute_result"
    }
   ],
   "source": [
    "fitBitData.workoutsThisWeek"
   ]
  },
  {
   "cell_type": "code",
   "execution_count": null,
   "id": "0596f62a-50ea-4180-b70a-e81be7e7862b",
   "metadata": {},
   "outputs": [],
   "source": []
  },
  {
   "cell_type": "code",
   "execution_count": 13,
   "id": "b7622acb-dc51-457a-9835-8aa2c48e3eeb",
   "metadata": {},
   "outputs": [],
   "source": [
    "// when definig an 0bject with 1 property, you dont really need a comma\n",
    "// But it works just fine, so it doesn't matter"
   ]
  },
  {
   "cell_type": "code",
   "execution_count": null,
   "id": "7b54dbb2-4cf4-4bf8-83eb-95638d1e4cad",
   "metadata": {},
   "outputs": [],
   "source": []
  },
  {
   "cell_type": "code",
   "execution_count": 14,
   "id": "e52f77c7-b5ce-4501-9166-1ec76b2c5a0e",
   "metadata": {},
   "outputs": [],
   "source": [
    "// let's create another object"
   ]
  },
  {
   "cell_type": "code",
   "execution_count": 15,
   "id": "5d23c3d8-1ff2-4c15-a611-80148c60635a",
   "metadata": {},
   "outputs": [],
   "source": [
    "const numbers = {\n",
    "    100 : 'One Hundred',\n",
    "    16 : 'Sixteen',\n",
    "}"
   ]
  },
  {
   "cell_type": "code",
   "execution_count": 16,
   "id": "18b6dbb6-6b2b-49f3-b090-2318e631c3a2",
   "metadata": {},
   "outputs": [],
   "source": [
    "// here we cant use the normal dot method"
   ]
  },
  {
   "cell_type": "code",
   "execution_count": 17,
   "id": "d4fa8731-1e8a-4a74-bbe8-38f66edbcf5e",
   "metadata": {},
   "outputs": [
    {
     "ename": "SyntaxError",
     "evalue": "Unexpected number",
     "execution_count": 17,
     "output_type": "error",
     "traceback": [
      "evalmachine.<anonymous>:1",
      "numbers.100",
      "       ^^^^",
      "",
      "SyntaxError: Unexpected number",
      "    at new Script (node:vm:100:7)",
      "    at createScript (node:vm:259:10)",
      "    at Object.runInThisContext (node:vm:307:10)",
      "    at run ([eval]:1020:15)",
      "    at onRunRequest ([eval]:864:18)",
      "    at onMessage ([eval]:828:13)",
      "    at process.emit (node:events:513:28)",
      "    at emit (node:internal/child_process:937:14)",
      "    at process.processTicksAndRejections (node:internal/process/task_queues:83:21)"
     ]
    }
   ],
   "source": [
    "numbers.100"
   ]
  },
  {
   "cell_type": "code",
   "execution_count": 18,
   "id": "55e7c080-393b-4e7a-80f9-f08ebe4be791",
   "metadata": {},
   "outputs": [],
   "source": [
    "//  we fix this by doing the following"
   ]
  },
  {
   "cell_type": "code",
   "execution_count": 20,
   "id": "1e0301c7-2634-4fa5-908a-47228cba264c",
   "metadata": {},
   "outputs": [
    {
     "data": {
      "text/plain": [
       "'One Hundred'"
      ]
     },
     "execution_count": 20,
     "metadata": {},
     "output_type": "execute_result"
    }
   ],
   "source": [
    "numbers['100'];"
   ]
  },
  {
   "cell_type": "code",
   "execution_count": 21,
   "id": "95ba6b20-29c2-4abd-929e-fd32bcd5bff9",
   "metadata": {},
   "outputs": [
    {
     "data": {
      "text/plain": [
       "'Sixteen'"
      ]
     },
     "execution_count": 21,
     "metadata": {},
     "output_type": "execute_result"
    }
   ],
   "source": [
    "numbers['16']"
   ]
  },
  {
   "cell_type": "code",
   "execution_count": 22,
   "id": "f30597bc-1ba2-4903-98ab-3e15fa9baf92",
   "metadata": {},
   "outputs": [],
   "source": [
    "// another object example"
   ]
  },
  {
   "cell_type": "code",
   "execution_count": 24,
   "id": "8b36d6b4-1c67-47af-9399-dab084d09d51",
   "metadata": {},
   "outputs": [],
   "source": [
    "const palette = {\n",
    "    red    : '#eb4d4b',\n",
    "    yellow : '#f9ca24',\n",
    "    blue   : '#30336b'\n",
    "}"
   ]
  },
  {
   "cell_type": "code",
   "execution_count": 25,
   "id": "3e77cd5b-9b29-4bbd-a85d-e3af15ed28e0",
   "metadata": {},
   "outputs": [
    {
     "data": {
      "text/plain": [
       "'#eb4d4b'"
      ]
     },
     "execution_count": 25,
     "metadata": {},
     "output_type": "execute_result"
    }
   ],
   "source": [
    "palette.red"
   ]
  },
  {
   "cell_type": "code",
   "execution_count": 27,
   "id": "30afd9ac-e150-40e4-847b-29f6f127f86c",
   "metadata": {},
   "outputs": [
    {
     "data": {
      "text/plain": [
       "'#f9ca24'"
      ]
     },
     "execution_count": 27,
     "metadata": {},
     "output_type": "execute_result"
    }
   ],
   "source": [
    "palette['yellow']"
   ]
  },
  {
   "cell_type": "code",
   "execution_count": 29,
   "id": "e257b3f0-a4ae-4eeb-b94e-9f1402f1760d",
   "metadata": {},
   "outputs": [],
   "source": [
    "// we can also use a variable\n",
    "let mysteryColor = 'yellow';"
   ]
  },
  {
   "cell_type": "code",
   "execution_count": 30,
   "id": "6e7cc601-fae9-4cad-ba03-f3f32342560c",
   "metadata": {},
   "outputs": [
    {
     "data": {
      "text/plain": [
       "'#f9ca24'"
      ]
     },
     "execution_count": 30,
     "metadata": {},
     "output_type": "execute_result"
    }
   ],
   "source": [
    "paletter[mysteryColor]"
   ]
  },
  {
   "cell_type": "code",
   "execution_count": null,
   "id": "016ccb2c-9986-4757-af88-a8129aab5ef7",
   "metadata": {},
   "outputs": [],
   "source": []
  },
  {
   "cell_type": "code",
   "execution_count": null,
   "id": "043ea197-2820-47f7-a601-55dfaaab0eb0",
   "metadata": {},
   "outputs": [],
   "source": []
  },
  {
   "cell_type": "markdown",
   "id": "85a6f138-6e76-4866-a8cf-1c9ac6c26541",
   "metadata": {},
   "source": [
    "## **Adding and Updating Properties**"
   ]
  },
  {
   "cell_type": "code",
   "execution_count": 31,
   "id": "1b86f80f-5081-4345-9b26-ad9ea2b830ee",
   "metadata": {},
   "outputs": [],
   "source": [
    "// consider the object below"
   ]
  },
  {
   "cell_type": "code",
   "execution_count": 32,
   "id": "1c16306c-434f-4403-8809-33e48a2fbd58",
   "metadata": {},
   "outputs": [],
   "source": [
    "const userReviews = [];"
   ]
  },
  {
   "cell_type": "code",
   "execution_count": 33,
   "id": "c26f75b2-f619-4b9b-b511-2f0d8f780d96",
   "metadata": {},
   "outputs": [
    {
     "data": {
      "text/plain": [
       "4"
      ]
     },
     "execution_count": 33,
     "metadata": {},
     "output_type": "execute_result"
    }
   ],
   "source": [
    "// here is how we add :\n",
    "\n",
    "userReviews['queenBee49'] = 4.0;"
   ]
  },
  {
   "cell_type": "code",
   "execution_count": 34,
   "id": "2f5169de-7203-4524-addf-273ac3d40a6e",
   "metadata": {},
   "outputs": [
    {
     "data": {
      "text/plain": [
       "4"
      ]
     },
     "execution_count": 34,
     "metadata": {},
     "output_type": "execute_result"
    }
   ],
   "source": [
    "userReviews.queenBee49"
   ]
  },
  {
   "cell_type": "code",
   "execution_count": 35,
   "id": "50531230-91af-4bdd-a2d1-260ad08e2d7a",
   "metadata": {},
   "outputs": [
    {
     "data": {
      "text/plain": [
       "3.8"
      ]
     },
     "execution_count": 35,
     "metadata": {},
     "output_type": "execute_result"
    }
   ],
   "source": [
    "userReviews.mrSmith78 = 3.8;"
   ]
  },
  {
   "cell_type": "code",
   "execution_count": 36,
   "id": "c0138c96-0195-4fec-9349-82b080e07ba7",
   "metadata": {},
   "outputs": [
    {
     "data": {
      "text/plain": [
       "[ queenBee49: 4, mrSmith78: 3.8 ]"
      ]
     },
     "execution_count": 36,
     "metadata": {},
     "output_type": "execute_result"
    }
   ],
   "source": [
    "userReviews"
   ]
  },
  {
   "cell_type": "code",
   "execution_count": 37,
   "id": "bbf387a0-4104-40ad-ae72-d800e901b850",
   "metadata": {},
   "outputs": [],
   "source": [
    "// same goes on how to modify the boject property too."
   ]
  },
  {
   "cell_type": "code",
   "execution_count": null,
   "id": "e1d16b43-63de-419b-9576-0af5d9f826ee",
   "metadata": {},
   "outputs": [],
   "source": []
  },
  {
   "cell_type": "markdown",
   "id": "b3659cba-7d90-4b82-ac09-1ba638d09b89",
   "metadata": {},
   "source": [
    "## **Nested Arrays & Objects**"
   ]
  },
  {
   "cell_type": "code",
   "execution_count": null,
   "id": "4bc02874-b969-4cdc-ab86-0b1f8b9fea8f",
   "metadata": {},
   "outputs": [],
   "source": [
    "// just like how we created nested arra"
   ]
  },
  {
   "cell_type": "code",
   "execution_count": 38,
   "id": "60eeb432-705d-4940-be31-bc30454f2478",
   "metadata": {},
   "outputs": [],
   "source": [
    "// consider the following object\n",
    "\n",
    "const student = {\n",
    "    firstName : 'David',\n",
    "    lastName  : 'Jones',\n",
    "    strengths : ['Music','Art'],\n",
    "    exams     : {\n",
    "        midterm : 42,\n",
    "        final   : 88\n",
    "    }\n",
    "};"
   ]
  },
  {
   "cell_type": "code",
   "execution_count": 39,
   "id": "02105bf4-1b61-411e-9cc3-d5e1ae1d2dc7",
   "metadata": {},
   "outputs": [],
   "source": [
    "// let's extract midterm"
   ]
  },
  {
   "cell_type": "code",
   "execution_count": 40,
   "id": "fed7ec61-2072-4026-a280-49a88817e2e4",
   "metadata": {},
   "outputs": [
    {
     "data": {
      "text/plain": [
       "42"
      ]
     },
     "execution_count": 40,
     "metadata": {},
     "output_type": "execute_result"
    }
   ],
   "source": [
    "student.exams.midterm"
   ]
  },
  {
   "cell_type": "code",
   "execution_count": 43,
   "id": "034edd2d-8c7f-46f4-bc79-d4c563be1561",
   "metadata": {},
   "outputs": [],
   "source": [
    "// let find the average of exams\n",
    "\n",
    "const avg = (student.exams.midterm + student.exams.final)/2"
   ]
  },
  {
   "cell_type": "code",
   "execution_count": 44,
   "id": "472dbc66-cb01-4174-855a-f0c8fb63d7b9",
   "metadata": {},
   "outputs": [
    {
     "data": {
      "text/plain": [
       "65"
      ]
     },
     "execution_count": 44,
     "metadata": {},
     "output_type": "execute_result"
    }
   ],
   "source": [
    "avg"
   ]
  },
  {
   "cell_type": "code",
   "execution_count": null,
   "id": "50b92708-1d8f-4c23-a581-369337a56175",
   "metadata": {},
   "outputs": [],
   "source": []
  },
  {
   "cell_type": "code",
   "execution_count": 45,
   "id": "fb803c2e-ddc4-4b0d-b308-4af92744cf63",
   "metadata": {},
   "outputs": [
    {
     "data": {
      "text/plain": [
       "{\n",
       "  firstName: 'David',\n",
       "  lastName: 'Jones',\n",
       "  strengths: [ 'Music', 'Art' ],\n",
       "  exams: { midterm: 42, final: 88 }\n",
       "}"
      ]
     },
     "execution_count": 45,
     "metadata": {},
     "output_type": "execute_result"
    }
   ],
   "source": [
    "// we can try accessing the array :\n",
    "student"
   ]
  },
  {
   "cell_type": "code",
   "execution_count": 46,
   "id": "036741d8-1bf6-49da-9722-c36177021ccb",
   "metadata": {},
   "outputs": [
    {
     "data": {
      "text/plain": [
       "'Art'"
      ]
     },
     "execution_count": 46,
     "metadata": {},
     "output_type": "execute_result"
    }
   ],
   "source": [
    "student.strengths[1]"
   ]
  },
  {
   "cell_type": "code",
   "execution_count": null,
   "id": "18976aa6-b437-49c2-984c-9ac4233c2358",
   "metadata": {},
   "outputs": [],
   "source": []
  },
  {
   "cell_type": "code",
   "execution_count": null,
   "id": "de2fb17e-0579-46bf-bea9-7dec6608cb67",
   "metadata": {},
   "outputs": [],
   "source": []
  },
  {
   "cell_type": "code",
   "execution_count": 48,
   "id": "ec05fd94-e086-4ffa-94a3-39495d2dcdb2",
   "metadata": {},
   "outputs": [],
   "source": [
    "// this is a common practice in object definition\n",
    "\n",
    "const shoppingCart = [\n",
    "    {\n",
    "        product  : 'Jenga Classic',\n",
    "        price    : 6.08,\n",
    "        quantity : 1\n",
    "    },\n",
    "    {\n",
    "        product : 'Echo Dot',\n",
    "        price   : 29.99,\n",
    "        quantity : 3\n",
    "    }\n",
    "];\n",
    "          "
   ]
  },
  {
   "cell_type": "code",
   "execution_count": 49,
   "id": "09116eb5-5f86-429f-99a8-500daf7edf24",
   "metadata": {},
   "outputs": [],
   "source": [
    "// so it becomes an array of objects"
   ]
  },
  {
   "cell_type": "code",
   "execution_count": 50,
   "id": "b9574d37-f4d8-44fd-9ebf-a0adc17a9b4e",
   "metadata": {},
   "outputs": [
    {
     "data": {
      "text/plain": [
       "'object'"
      ]
     },
     "execution_count": 50,
     "metadata": {},
     "output_type": "execute_result"
    }
   ],
   "source": [
    "typeof(shoppingCart)"
   ]
  },
  {
   "cell_type": "code",
   "execution_count": 53,
   "id": "21267ea7-f5e7-496f-81a7-66eea5b2d31d",
   "metadata": {},
   "outputs": [],
   "source": [
    "// this is how you access it"
   ]
  },
  {
   "cell_type": "code",
   "execution_count": 54,
   "id": "89d1ea79-77d1-40ab-afec-c826062b4410",
   "metadata": {},
   "outputs": [
    {
     "data": {
      "text/plain": [
       "'Jenga Classic'"
      ]
     },
     "execution_count": 54,
     "metadata": {},
     "output_type": "execute_result"
    }
   ],
   "source": [
    "shoppingCart[0].product"
   ]
  },
  {
   "cell_type": "code",
   "execution_count": 55,
   "id": "639473d5-e51c-4708-a735-72f341b5d763",
   "metadata": {},
   "outputs": [
    {
     "data": {
      "text/plain": [
       "3"
      ]
     },
     "execution_count": 55,
     "metadata": {},
     "output_type": "execute_result"
    }
   ],
   "source": [
    "shoppingCart[1].quantity"
   ]
  },
  {
   "cell_type": "code",
   "execution_count": 57,
   "id": "cab04558-3461-4048-a6fa-f0114f0eb53d",
   "metadata": {},
   "outputs": [],
   "source": [
    "// consider another object\n",
    "\n",
    "const xo = {\n",
    "    player1 : {\n",
    "        username  : 'Blue',\n",
    "        playingAs : 'X'\n",
    "    },\n",
    "    player2 : {\n",
    "        username  : 'Muffins',\n",
    "        platingAs : 'O'\n",
    "    },\n",
    "    board : [['O',null,'X'],['X','O','X'],[null,'O','X']]\n",
    "};\n"
   ]
  },
  {
   "cell_type": "code",
   "execution_count": null,
   "id": "fd1db850-c260-447c-b4d0-7f09c8aa03af",
   "metadata": {},
   "outputs": [],
   "source": []
  },
  {
   "cell_type": "markdown",
   "id": "fc973c69-cf48-4fd2-84ad-ac5c438209b6",
   "metadata": {},
   "source": [
    "## **Array Object Equality**"
   ]
  },
  {
   "cell_type": "code",
   "execution_count": 58,
   "id": "0a932b77-9b2b-4970-bbb5-cffee37c1bd0",
   "metadata": {},
   "outputs": [],
   "source": [
    "// let's create some variables\n",
    "\n",
    "let nums = [1,2,3];\n",
    "let mystery = [1,2,3];"
   ]
  },
  {
   "cell_type": "code",
   "execution_count": 59,
   "id": "c2856309-63bb-4803-953f-7f518ce5427a",
   "metadata": {},
   "outputs": [
    {
     "data": {
      "text/plain": [
       "false"
      ]
     },
     "execution_count": 59,
     "metadata": {},
     "output_type": "execute_result"
    }
   ],
   "source": [
    "nums === mystery"
   ]
  },
  {
   "cell_type": "code",
   "execution_count": 61,
   "id": "4b6c7202-f69d-439a-93f3-1cc152a8b009",
   "metadata": {},
   "outputs": [
    {
     "data": {
      "text/plain": [
       "false"
      ]
     },
     "execution_count": 61,
     "metadata": {},
     "output_type": "execute_result"
    }
   ],
   "source": [
    "nums == mystery"
   ]
  },
  {
   "cell_type": "markdown",
   "id": "38f92269-856e-42ea-949f-6d9609851713",
   "metadata": {},
   "source": [
    "why ?? beacuse, they point to different addresses, and objects are't stored in the variables"
   ]
  },
  {
   "cell_type": "code",
   "execution_count": 62,
   "id": "f5f0c8d8-ea04-4335-a91f-dea6a89eb909",
   "metadata": {},
   "outputs": [],
   "source": [
    "let moreNums = nums"
   ]
  },
  {
   "cell_type": "code",
   "execution_count": 63,
   "id": "b5e1d2d5-0e29-467c-a0d4-8df5516b6aa4",
   "metadata": {},
   "outputs": [
    {
     "data": {
      "text/plain": [
       "true"
      ]
     },
     "execution_count": 63,
     "metadata": {},
     "output_type": "execute_result"
    }
   ],
   "source": [
    "nums === moreNums"
   ]
  },
  {
   "cell_type": "code",
   "execution_count": null,
   "id": "bdfbe7e9-bc88-4c5f-9bc9-16edf71648f7",
   "metadata": {},
   "outputs": [],
   "source": []
  }
 ],
 "metadata": {
  "kernelspec": {
   "display_name": "JavaScript (Node.js)",
   "language": "javascript",
   "name": "javascript"
  },
  "language_info": {
   "file_extension": ".js",
   "mimetype": "application/javascript",
   "name": "javascript",
   "version": "18.15.0"
  }
 },
 "nbformat": 4,
 "nbformat_minor": 5
}
