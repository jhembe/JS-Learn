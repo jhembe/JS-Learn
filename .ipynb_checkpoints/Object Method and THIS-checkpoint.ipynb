{
 "cells": [
  {
   "cell_type": "markdown",
   "id": "b1e591b3-d637-493e-9f29-b9c43f6aa260",
   "metadata": {},
   "source": [
    "<center><h1><b>Object Methods and 'This' keyword</b></h1></center>\n",
    "\n",
    "### **Objects Pt. 2**"
   ]
  },
  {
   "cell_type": "code",
   "execution_count": null,
   "id": "181a9e28-e13b-4333-a597-f92f95651fcc",
   "metadata": {},
   "outputs": [],
   "source": []
  },
  {
   "cell_type": "markdown",
   "id": "3910d975-38e6-4879-8342-3740f8780095",
   "metadata": {},
   "source": [
    "### The secret life of \n",
    "## **OBJECTS**\n",
    "* We've seen the basics of object literals, but there is so much more to talk about with **OBJECTS!**"
   ]
  },
  {
   "cell_type": "code",
   "execution_count": null,
   "id": "392e6a07-3a12-43e4-a159-ad60c481cec6",
   "metadata": {},
   "outputs": [],
   "source": []
  },
  {
   "cell_type": "markdown",
   "id": "d6645cbc-a447-4373-9869-6779b580d6b0",
   "metadata": {},
   "source": [
    "# **GOALS**\n",
    "* Add methods to objects\n",
    "* Use new objects shorthand syntax\n",
    "* Use computed properties\n",
    "* Understand prototypes\n",
    "* Explain how the %$@# this works"
   ]
  },
  {
   "cell_type": "code",
   "execution_count": null,
   "id": "9926dd82-0e2c-464e-995e-bee770d5dd91",
   "metadata": {},
   "outputs": [],
   "source": []
  },
  {
   "cell_type": "code",
   "execution_count": null,
   "id": "7a6e0989-46c8-4e30-91eb-ba2c458ae86e",
   "metadata": {},
   "outputs": [],
   "source": []
  },
  {
   "cell_type": "markdown",
   "id": "1c2a9640-3240-496b-86e2-6ea01604d56b",
   "metadata": {},
   "source": [
    "## Shorthand Object Properties"
   ]
  },
  {
   "cell_type": "code",
   "execution_count": 2,
   "id": "de86412b-e8f7-450f-8fce-c29ed579b8c9",
   "metadata": {},
   "outputs": [],
   "source": [
    "const getStats = (arr) => {\n",
    "    const max = Math.max(...arr);\n",
    "    const min = Math.min(...arr);\n",
    "    const sum = arr.reduce((sum,rv) => sum + rv);\n",
    "    const avg = sum / arr.length;\n",
    "    return {\n",
    "        max : max,\n",
    "        min : min,\n",
    "        sum : sum,\n",
    "        avg : avg\n",
    "    }\n",
    "}"
   ]
  },
  {
   "cell_type": "code",
   "execution_count": 3,
   "id": "d18ac136-384b-4c18-bffe-49f105283a77",
   "metadata": {},
   "outputs": [],
   "source": [
    "const reviews = [4.5,5.0,3.44,2.8,3.5,4.0,3.5];"
   ]
  },
  {
   "cell_type": "code",
   "execution_count": 4,
   "id": "0cdad278-c2ff-4b42-86b5-c2c40033fbf2",
   "metadata": {},
   "outputs": [],
   "source": [
    "let stats = getStats(reviews);"
   ]
  },
  {
   "cell_type": "code",
   "execution_count": 5,
   "id": "c00ee314-04e3-4abd-ad86-7334345f9083",
   "metadata": {},
   "outputs": [
    {
     "data": {
      "text/plain": [
       "{ max: 5, min: 2.8, sum: 26.74, avg: 3.82 }"
      ]
     },
     "execution_count": 5,
     "metadata": {},
     "output_type": "execute_result"
    }
   ],
   "source": [
    "stats"
   ]
  },
  {
   "cell_type": "code",
   "execution_count": 6,
   "id": "735875bb-6096-4662-a30c-090491c69bed",
   "metadata": {},
   "outputs": [],
   "source": [
    "// now, that's the old way of doing it. There is a shorthand"
   ]
  },
  {
   "cell_type": "code",
   "execution_count": null,
   "id": "65e2c76f-5fe9-4f31-b9ba-33260cb625c7",
   "metadata": {},
   "outputs": [],
   "source": []
  },
  {
   "cell_type": "code",
   "execution_count": 8,
   "id": "c7018178-c9b8-4415-81a4-7d5a48ea8d89",
   "metadata": {},
   "outputs": [],
   "source": [
    "const gstats = (arr) => {\n",
    "    const max = Math.max(...arr);\n",
    "    const min = Math.min(...arr);\n",
    "    const sum = arr.reduce((sum,rv) => sum + rv);\n",
    "    const avg = sum / arr.length;\n",
    "    return {\n",
    "        max,\n",
    "        min,\n",
    "        sum,\n",
    "        avg\n",
    "    }\n",
    "}"
   ]
  },
  {
   "cell_type": "code",
   "execution_count": null,
   "id": "149e8031-c344-48f4-9bf6-65cf15864ffd",
   "metadata": {},
   "outputs": [],
   "source": []
  },
  {
   "cell_type": "code",
   "execution_count": null,
   "id": "02a6a293-4cfa-4f9e-bb1d-4c5b4d8fa1b0",
   "metadata": {},
   "outputs": [],
   "source": []
  },
  {
   "cell_type": "markdown",
   "id": "2f0b4df2-ff1c-4909-876d-c12d6eb3794a",
   "metadata": {},
   "source": [
    "## **Computed Properties**"
   ]
  },
  {
   "cell_type": "code",
   "execution_count": 9,
   "id": "a5a82fa2-4d27-4a32-a019-05b46c71d443",
   "metadata": {},
   "outputs": [],
   "source": [
    "// improvement of object litterals syntax"
   ]
  },
  {
   "cell_type": "code",
   "execution_count": 10,
   "id": "0b7028ba-c45e-4e84-9c22-2791d8875f93",
   "metadata": {},
   "outputs": [],
   "source": [
    "const role = 'host';\n",
    "const person = 'Jools Holland';"
   ]
  },
  {
   "cell_type": "code",
   "execution_count": 11,
   "id": "799d7583-f6b0-4518-a821-c35db1ba6db0",
   "metadata": {},
   "outputs": [],
   "source": [
    "const ream = {\n",
    "    role : person\n",
    "}"
   ]
  },
  {
   "cell_type": "code",
   "execution_count": 12,
   "id": "b05f73a4-9086-4289-9227-f6ac1f99cccd",
   "metadata": {},
   "outputs": [
    {
     "data": {
      "text/plain": [
       "{ role: 'Jools Holland' }"
      ]
     },
     "execution_count": 12,
     "metadata": {},
     "output_type": "execute_result"
    }
   ],
   "source": [
    "ream"
   ]
  },
  {
   "cell_type": "markdown",
   "id": "ce6ffc6b-7639-432f-8959-201700050279",
   "metadata": {},
   "source": [
    "but, i want the role to be computed to it's value, which is host"
   ]
  },
  {
   "cell_type": "code",
   "execution_count": 13,
   "id": "17de4b88-0f5f-44cc-91fa-52ab57544f51",
   "metadata": {},
   "outputs": [],
   "source": [
    "// this is the old way to do it\n",
    "const team = {};"
   ]
  },
  {
   "cell_type": "code",
   "execution_count": 14,
   "id": "c4d7f3c9-bd06-431a-915f-335b3e46df51",
   "metadata": {},
   "outputs": [
    {
     "data": {
      "text/plain": [
       "'Jools Holland'"
      ]
     },
     "execution_count": 14,
     "metadata": {},
     "output_type": "execute_result"
    }
   ],
   "source": [
    "team[role] = person;"
   ]
  },
  {
   "cell_type": "code",
   "execution_count": 15,
   "id": "49b5e43f-9fe6-400f-be89-6ed0cceb44ef",
   "metadata": {},
   "outputs": [
    {
     "data": {
      "text/plain": [
       "{ host: 'Jools Holland' }"
      ]
     },
     "execution_count": 15,
     "metadata": {},
     "output_type": "execute_result"
    }
   ],
   "source": [
    "team"
   ]
  },
  {
   "cell_type": "code",
   "execution_count": 16,
   "id": "92a7c085-cce8-4b0b-99ba-2585439cf572",
   "metadata": {},
   "outputs": [],
   "source": [
    "// that's right, that's what we wanted, a computed key"
   ]
  },
  {
   "cell_type": "code",
   "execution_count": null,
   "id": "1cca8a40-d8a4-448d-810c-351af569c822",
   "metadata": {},
   "outputs": [],
   "source": []
  },
  {
   "cell_type": "code",
   "execution_count": 17,
   "id": "d6a7367b-641f-422c-bd9a-494718d96447",
   "metadata": {},
   "outputs": [],
   "source": [
    "const role2 = 'Director'\n",
    "const person2 = 'James Cameron';"
   ]
  },
  {
   "cell_type": "code",
   "execution_count": 18,
   "id": "8019f148-daf8-4228-9809-e742d4192adc",
   "metadata": {},
   "outputs": [],
   "source": [
    "// now i want to add this data using new syntax"
   ]
  },
  {
   "cell_type": "code",
   "execution_count": 20,
   "id": "f72eebd8-a944-4735-86ca-919c3739aba5",
   "metadata": {},
   "outputs": [],
   "source": [
    "const myTeam = {\n",
    "    [role] : person,\n",
    "    [role2] : person2\n",
    "}"
   ]
  },
  {
   "cell_type": "code",
   "execution_count": 21,
   "id": "51fbb851-d38a-44e9-9bcf-46abbbc4c444",
   "metadata": {},
   "outputs": [
    {
     "data": {
      "text/plain": [
       "{ host: 'Jools Holland', Director: 'James Cameron' }"
      ]
     },
     "execution_count": 21,
     "metadata": {},
     "output_type": "execute_result"
    }
   ],
   "source": [
    "myTeam"
   ]
  },
  {
   "cell_type": "code",
   "execution_count": null,
   "id": "1d0ed190-e323-46dd-b226-763c302dbd81",
   "metadata": {},
   "outputs": [],
   "source": []
  },
  {
   "cell_type": "code",
   "execution_count": 24,
   "id": "72e66b10-f062-4313-9e2e-7990255a4de5",
   "metadata": {},
   "outputs": [],
   "source": [
    "function addProp(obj,key,value){\n",
    "    const copy = {...obj};\n",
    "    copy[key] = value;\n",
    "    return copy;\n",
    "}"
   ]
  },
  {
   "cell_type": "code",
   "execution_count": 25,
   "id": "0f9d592a-0e60-4c34-9ab9-a9001b36bf77",
   "metadata": {},
   "outputs": [
    {
     "data": {
      "text/plain": [
       "{ host: 'Jools Holland', Director: 'James Cameron', happy: ':)' }"
      ]
     },
     "execution_count": 25,
     "metadata": {},
     "output_type": "execute_result"
    }
   ],
   "source": [
    "addProp(myTeam,'happy',':)')"
   ]
  },
  {
   "cell_type": "code",
   "execution_count": 32,
   "id": "bc2cd0e8-6f9a-4c15-8b7d-03acf9b12921",
   "metadata": {},
   "outputs": [],
   "source": [
    "const addingProp = (obj,key,value) => {\n",
    "    return {\n",
    "        ...obj,\n",
    "        [key]:value\n",
    "    }\n",
    "}"
   ]
  },
  {
   "cell_type": "code",
   "execution_count": 33,
   "id": "d26a3481-7447-44bd-b4cc-ddc6d122997d",
   "metadata": {},
   "outputs": [
    {
     "data": {
      "text/plain": [
       "{ host: 'Jools Holland', Director: 'James Cameron', isMarried: true }"
      ]
     },
     "execution_count": 33,
     "metadata": {},
     "output_type": "execute_result"
    }
   ],
   "source": [
    "addingProp(myTeam,'isMarried',true)"
   ]
  },
  {
   "cell_type": "code",
   "execution_count": null,
   "id": "e603dc30-2649-4688-b904-a8219251a05f",
   "metadata": {},
   "outputs": [],
   "source": []
  },
  {
   "cell_type": "code",
   "execution_count": null,
   "id": "b88e75f8-efb8-4d7a-8ce0-8d124626c812",
   "metadata": {},
   "outputs": [],
   "source": []
  },
  {
   "cell_type": "markdown",
   "id": "2b0a3e1f-f7c3-44e0-b9b9-fe20c5fee1a9",
   "metadata": {},
   "source": [
    "## **Adding Methods to Objects**\n",
    "We can add functions as properties on objects. \n",
    "We call them **Methods**\n",
    "\n",
    "* When we make a function, and we add that function to live within something, like maybe an object, and it has to be accessed using the dot operator, then that function is then called a method"
   ]
  },
  {
   "cell_type": "code",
   "execution_count": 34,
   "id": "2bb067e8-c9c2-45ac-9e16-de6d107a4557",
   "metadata": {},
   "outputs": [],
   "source": [
    "const math = {\n",
    "    multiply : (x,y) => x*y,\n",
    "    divide : (x,y) => x/y,\n",
    "    square : (x) => x*x\n",
    "}"
   ]
  },
  {
   "cell_type": "code",
   "execution_count": 36,
   "id": "df48d626-099d-4e3b-a905-74bdaec9c518",
   "metadata": {},
   "outputs": [
    {
     "data": {
      "text/plain": [
       "8"
      ]
     },
     "execution_count": 36,
     "metadata": {},
     "output_type": "execute_result"
    }
   ],
   "source": [
    "math.multiply(2,4)"
   ]
  },
  {
   "cell_type": "code",
   "execution_count": 37,
   "id": "59f68887-9a22-4f8b-b6bc-ce504aefce4c",
   "metadata": {},
   "outputs": [
    {
     "data": {
      "text/plain": [
       "2"
      ]
     },
     "execution_count": 37,
     "metadata": {},
     "output_type": "execute_result"
    }
   ],
   "source": [
    "math.divide(8,4)"
   ]
  },
  {
   "cell_type": "code",
   "execution_count": 38,
   "id": "b5cc307e-a953-4b39-9337-9dd9ffc349e5",
   "metadata": {},
   "outputs": [
    {
     "data": {
      "text/plain": [
       "529"
      ]
     },
     "execution_count": 38,
     "metadata": {},
     "output_type": "execute_result"
    }
   ],
   "source": [
    "math.square(23)"
   ]
  },
  {
   "cell_type": "code",
   "execution_count": 40,
   "id": "d1591488-3d36-488f-a74d-0e6a83fe75ce",
   "metadata": {},
   "outputs": [
    {
     "data": {
      "text/plain": [
       "[Function (anonymous)]"
      ]
     },
     "execution_count": 40,
     "metadata": {},
     "output_type": "execute_result"
    }
   ],
   "source": [
    "math['add'] = (x,y) => x+y;"
   ]
  },
  {
   "cell_type": "code",
   "execution_count": 41,
   "id": "7e2bb363-fb64-45fe-a4fc-79920bd02c08",
   "metadata": {},
   "outputs": [
    {
     "data": {
      "text/plain": [
       "36"
      ]
     },
     "execution_count": 41,
     "metadata": {},
     "output_type": "execute_result"
    }
   ],
   "source": [
    "math.add(34,2)"
   ]
  },
  {
   "cell_type": "code",
   "execution_count": 42,
   "id": "660da501-e5e6-4a91-b4f5-cd91852875b8",
   "metadata": {},
   "outputs": [
    {
     "data": {
      "text/plain": [
       "{\n",
       "  multiply: [Function: multiply],\n",
       "  divide: [Function: divide],\n",
       "  square: [Function: square],\n",
       "  add: [Function (anonymous)]\n",
       "}"
      ]
     },
     "execution_count": 42,
     "metadata": {},
     "output_type": "execute_result"
    }
   ],
   "source": [
    "math"
   ]
  },
  {
   "cell_type": "code",
   "execution_count": null,
   "id": "b2dee1c2-abfe-4ef9-a49e-394260996cf4",
   "metadata": {},
   "outputs": [],
   "source": [
    "  "
   ]
  },
  {
   "cell_type": "code",
   "execution_count": 45,
   "id": "584a41bd-3d98-4a38-9eb4-b274783dc464",
   "metadata": {},
   "outputs": [],
   "source": [
    "// more of a shorthand here\n",
    "const coreMath = {\n",
    "    blah : 'Hi!',\n",
    "    add(x,y){\n",
    "        return x +y;\n",
    "    },\n",
    "    multiply(x,y){\n",
    "        return x*y;\n",
    "    }\n",
    "}"
   ]
  },
  {
   "cell_type": "code",
   "execution_count": 46,
   "id": "b6ba00f2-66a0-460a-aaa4-f82d7511bb28",
   "metadata": {},
   "outputs": [
    {
     "data": {
      "text/plain": [
       "65"
      ]
     },
     "execution_count": 46,
     "metadata": {},
     "output_type": "execute_result"
    }
   ],
   "source": [
    "coreMath.add(56,9)"
   ]
  },
  {
   "cell_type": "code",
   "execution_count": 47,
   "id": "07da6ac8-02cc-4359-87e7-8a47fae10f2e",
   "metadata": {},
   "outputs": [
    {
     "data": {
      "text/plain": [
       "550"
      ]
     },
     "execution_count": 47,
     "metadata": {},
     "output_type": "execute_result"
    }
   ],
   "source": [
    "coreMath.multiply(22,25)"
   ]
  },
  {
   "cell_type": "code",
   "execution_count": null,
   "id": "2d14380a-44e9-4671-a660-8bbd2c569299",
   "metadata": {},
   "outputs": [],
   "source": []
  },
  {
   "cell_type": "code",
   "execution_count": 49,
   "id": "87e6ed36-5057-4859-b914-4eb52d922d14",
   "metadata": {},
   "outputs": [],
   "source": [
    "const auth = {\n",
    "    username : 'TommyBot',\n",
    "    login(){\n",
    "        console.log(\"Logged In\");\n",
    "    },\n",
    "    logout(){\n",
    "        console.log(\"GoodBye\");\n",
    "    }\n",
    "}"
   ]
  },
  {
   "cell_type": "code",
   "execution_count": 51,
   "id": "7ffb137d-6d63-4cd9-828f-6209c9d45480",
   "metadata": {},
   "outputs": [
    {
     "name": "stdout",
     "output_type": "stream",
     "text": [
      "Logged In\n"
     ]
    }
   ],
   "source": [
    "auth.login()"
   ]
  },
  {
   "cell_type": "code",
   "execution_count": null,
   "id": "f9bb65d4-9a19-4007-aacd-5d40bac80142",
   "metadata": {},
   "outputs": [],
   "source": []
  },
  {
   "cell_type": "code",
   "execution_count": null,
   "id": "a25d7edb-1996-490b-9fc1-30023cbb0ce5",
   "metadata": {},
   "outputs": [],
   "source": []
  },
  {
   "cell_type": "code",
   "execution_count": null,
   "id": "23a1c43b-e8f8-4079-bf4b-0e2d1cbd89ec",
   "metadata": {},
   "outputs": [],
   "source": []
  },
  {
   "cell_type": "markdown",
   "id": "e306ff88-c140-42e3-ac2d-b5d0c5705348",
   "metadata": {},
   "source": [
    "# **THIS**\n",
    "The keyword *this* can be a major point of confusion and misery and hardship and general suffering in the life of a new JS developer"
   ]
  },
  {
   "cell_type": "markdown",
   "id": "207db714-fcc9-4b30-abf8-3cf025d2d55e",
   "metadata": {},
   "source": [
    "This is a keyword, think of it as reference to the current execution scope"
   ]
  },
  {
   "cell_type": "code",
   "execution_count": 53,
   "id": "f3fa2b1a-4454-4506-b0fe-e0c420a29cfe",
   "metadata": {},
   "outputs": [],
   "source": [
    "// consider this function\n",
    "\n",
    "function sayHi(){\n",
    "    console.log('Hi')\n",
    "    console.log(this);\n",
    "}"
   ]
  },
  {
   "cell_type": "code",
   "execution_count": 54,
   "id": "a5a62b7a-c2b3-41fe-b8fd-bc82937c7978",
   "metadata": {},
   "outputs": [
    {
     "name": "stdout",
     "output_type": "stream",
     "text": [
      "Hi\n",
      "<ref *1> Object [global] {\n",
      "  global: [Circular *1],\n",
      "  queueMicrotask: [Function: queueMicrotask],\n",
      "  clearImmediate: [Function: clearImmediate],\n",
      "  setImmediate: [Function: setImmediate] {\n",
      "    [Symbol(nodejs.util.promisify.custom)]: [Getter]\n",
      "  },\n",
      "  structuredClone: [Function: structuredClone],\n",
      "  clearInterval: [Function: clearInterval],\n",
      "  clearTimeout: [Function: clearTimeout],\n",
      "  setInterval: [Function: setInterval],\n",
      "  setTimeout: [Function: setTimeout] {\n",
      "    [Symbol(nodejs.util.promisify.custom)]: [Getter]\n",
      "  },\n",
      "  atob: [Function: atob],\n",
      "  btoa: [Function: btoa],\n",
      "  performance: Performance {\n",
      "    nodeTiming: PerformanceNodeTiming {\n",
      "      name: 'node',\n",
      "      entryType: 'node',\n",
      "      startTime: 0,\n",
      "      duration: 3603100.2438439988,\n",
      "      nodeStart: 0.5994039997458458,\n",
      "      v8Start: 3.3162089996039867,\n",
      "      bootstrapComplete: 158.65918099880219,\n",
      "      environment: 22.89265999943018,\n",
      "      loopStart: 166.04641800001264,\n",
      "      loopExit: -1,\n",
      "      idleTime: 3602719.709656\n",
      "    },\n",
      "    timeOrigin: 1680429005413.079\n",
      "  },\n",
      "  fetch: [AsyncFunction: fetch],\n",
      "  __filename: '[eval]',\n",
      "  module: <ref *2> [Function: Module] {\n",
      "    builtinModules: [\n",
      "      '_http_agent',         '_http_client',        '_http_common',\n",
      "      '_http_incoming',      '_http_outgoing',      '_http_server',\n",
      "      '_stream_duplex',      '_stream_passthrough', '_stream_readable',\n",
      "      '_stream_transform',   '_stream_wrap',        '_stream_writable',\n",
      "      '_tls_common',         '_tls_wrap',           'assert',\n",
      "      'assert/strict',       'async_hooks',         'buffer',\n",
      "      'child_process',       'cluster',             'console',\n",
      "      'constants',           'crypto',              'dgram',\n",
      "      'diagnostics_channel', 'dns',                 'dns/promises',\n",
      "      'domain',              'events',              'fs',\n",
      "      'fs/promises',         'http',                'http2',\n",
      "      'https',               'inspector',           'module',\n",
      "      'net',                 'os',                  'path',\n",
      "      'path/posix',          'path/win32',          'perf_hooks',\n",
      "      'process',             'punycode',            'querystring',\n",
      "      'readline',            'readline/promises',   'repl',\n",
      "      'stream',              'stream/consumers',    'stream/promises',\n",
      "      'stream/web',          'string_decoder',      'sys',\n",
      "      'timers',              'timers/promises',     'tls',\n",
      "      'trace_events',        'tty',                 'url',\n",
      "      'util',                'util/types',          'v8',\n",
      "      'vm',                  'worker_threads',      'zlib'\n",
      "    ],\n",
      "    _cache: [Object: null prototype] {},\n",
      "    _pathCache: [Object: null prototype] {},\n",
      "    _extensions: [Object: null prototype] {\n",
      "      '.js': [Function (anonymous)],\n",
      "      '.json': [Function (anonymous)],\n",
      "      '.node': [Function (anonymous)]\n",
      "    },\n",
      "    globalPaths: [\n",
      "      '/home/jhembe/.node_modules',\n",
      "      '/home/jhembe/.node_libraries',\n",
      "      '/usr/lib/node'\n",
      "    ],\n",
      "    _debug: [Function: deprecated],\n",
      "    _findPath: [Function (anonymous)],\n",
      "    _nodeModulePaths: [Function (anonymous)],\n",
      "    _resolveLookupPaths: [Function (anonymous)],\n",
      "    _load: [Function (anonymous)],\n",
      "    _resolveFilename: [Function (anonymous)],\n",
      "    createRequire: [Function: createRequire],\n",
      "    _initPaths: [Function (anonymous)],\n",
      "    _preloadModules: [Function (anonymous)],\n",
      "    syncBuiltinESMExports: [Function: syncBuiltinESMExports],\n",
      "    isBuiltin: [Function: isBuiltin],\n",
      "    Module: [Circular *2],\n",
      "    runMain: [Function: executeUserEntryPoint],\n",
      "    findSourceMap: [Function: findSourceMap],\n",
      "    SourceMap: [class SourceMap]\n",
      "  },\n",
      "  exports: {},\n",
      "  __dirname: '.',\n",
      "  require: [Function: require] {\n",
      "    resolve: [Function: resolve] { paths: [Function: paths] },\n",
      "    main: undefined,\n",
      "    extensions: [Object: null prototype] {\n",
      "      '.js': [Function (anonymous)],\n",
      "      '.json': [Function (anonymous)],\n",
      "      '.node': [Function (anonymous)]\n",
      "    },\n",
      "    cache: [Object: null prototype] {}\n",
      "  },\n",
      "  '$$mimer$$': [Function: defaultMimer],\n",
      "  '$$done$$': [Function: bound bound done],\n",
      "  addProp: [Function: addProp],\n",
      "  sayHi: [Function: sayHi],\n",
      "  console: Console [console] {\n",
      "    log: [Function: log],\n",
      "    warn: [Function: warn],\n",
      "    dir: [Function: dir],\n",
      "    time: [Function: time],\n",
      "    timeEnd: [Function: timeEnd],\n",
      "    timeLog: [Function: timeLog],\n",
      "    trace: [Function: trace],\n",
      "    assert: [Function: assert],\n",
      "    clear: [Function: clear],\n",
      "    count: [Function: count],\n",
      "    countReset: [Function: countReset],\n",
      "    group: [Function: group],\n",
      "    groupEnd: [Function: groupEnd],\n",
      "    table: [Function: table],\n",
      "    debug: [Function: debug],\n",
      "    info: [Function: info],\n",
      "    dirxml: [Function: dirxml],\n",
      "    error: [Function: error],\n",
      "    groupCollapsed: [Function: groupCollapsed],\n",
      "    Console: [Function: Console]\n",
      "  },\n",
      "  '$$': [Object: null prototype] {\n",
      "    async: [Function: bound async],\n",
      "    done: [Function: bound done],\n",
      "    sendResult: [Function: bound ],\n",
      "    sendError: [Function: bound ],\n",
      "    mime: [Function: bound ],\n",
      "    text: [Function: bound ],\n",
      "    html: [Function: bound ],\n",
      "    svg: [Function: bound ],\n",
      "    png: [Function: bound ],\n",
      "    jpeg: [Function: bound ],\n",
      "    json: [Function: bound ],\n",
      "    input: [Function: bound input],\n",
      "    display: [Function: bound createDisplay],\n",
      "    clear: [Function: bound clear]\n",
      "  }\n",
      "}\n"
     ]
    }
   ],
   "source": [
    "sayHi()"
   ]
  },
  {
   "cell_type": "code",
   "execution_count": 55,
   "id": "618c127c-c7cc-4167-9d93-b964757c1eaa",
   "metadata": {},
   "outputs": [],
   "source": [
    "// this that we passed in the node shell, it shows that we\n",
    "// are in the context of global, if run in browser, we get\n",
    "// a window scope."
   ]
  },
  {
   "cell_type": "code",
   "execution_count": null,
   "id": "b902b597-5cd4-4435-89be-a43194618608",
   "metadata": {},
   "outputs": [],
   "source": []
  },
  {
   "cell_type": "code",
   "execution_count": 59,
   "id": "7a5633a5-eb48-46ad-9dfe-2cfe000105a9",
   "metadata": {},
   "outputs": [],
   "source": [
    "const greet = function(){\n",
    "    console.log(this);\n",
    "}"
   ]
  },
  {
   "cell_type": "code",
   "execution_count": null,
   "id": "f82a0209-e56c-4f3e-8eb3-bc65d639061d",
   "metadata": {},
   "outputs": [],
   "source": []
  },
  {
   "cell_type": "code",
   "execution_count": null,
   "id": "bb12a881-3e91-47b0-8758-b748154536b1",
   "metadata": {},
   "outputs": [],
   "source": []
  },
  {
   "cell_type": "markdown",
   "id": "00e15bd3-e5c5-4ccd-9fbc-df71855b7080",
   "metadata": {},
   "source": [
    "## **Using THIS in Methods**"
   ]
  },
  {
   "cell_type": "code",
   "execution_count": 62,
   "id": "e9fbc0cf-a1fb-4058-9a48-118e851ea37b",
   "metadata": {},
   "outputs": [],
   "source": [
    "// if we have an object\n",
    "\n",
    "const pers = {\n",
    "    first : 'Cherilyn',\n",
    "    last : 'Srkisian',\n",
    "    nickName : 'Cher',\n",
    "    fullName(){\n",
    "        console.log(this)\n",
    "    }\n",
    "}"
   ]
  },
  {
   "cell_type": "code",
   "execution_count": 63,
   "id": "94c874f4-8669-4f24-b0a6-a5e80335742e",
   "metadata": {},
   "outputs": [
    {
     "name": "stdout",
     "output_type": "stream",
     "text": [
      "{\n",
      "  first: 'Cherilyn',\n",
      "  last: 'Srkisian',\n",
      "  nickName: 'Cher',\n",
      "  fullName: [Function: fullName]\n",
      "}\n"
     ]
    }
   ],
   "source": [
    "pers.fullName();"
   ]
  },
  {
   "cell_type": "markdown",
   "id": "440334f0-4c24-4bd7-b7a9-1298925a4302",
   "metadata": {},
   "source": [
    "now, we see the value of 'this' is in context of the object"
   ]
  },
  {
   "cell_type": "code",
   "execution_count": 65,
   "id": "3286bfc5-76dd-453d-b32c-d61fbf80ff2e",
   "metadata": {},
   "outputs": [],
   "source": [
    "const persons = {\n",
    "    first : 'Cherilyn',\n",
    "    last : 'Srkisian',\n",
    "    nickName : 'Cher',\n",
    "    fullName(){\n",
    "        console.log(this.first, this.last)\n",
    "    }\n",
    "}"
   ]
  },
  {
   "cell_type": "code",
   "execution_count": 67,
   "id": "2a68609d-e558-4a15-a86d-ea46295123a5",
   "metadata": {},
   "outputs": [
    {
     "name": "stdout",
     "output_type": "stream",
     "text": [
      "Cherilyn Srkisian\n"
     ]
    }
   ],
   "source": [
    "persons.fullName()"
   ]
  },
  {
   "cell_type": "code",
   "execution_count": null,
   "id": "c24d9e37-9f89-49ad-b325-e5fc51729432",
   "metadata": {},
   "outputs": [],
   "source": []
  },
  {
   "cell_type": "code",
   "execution_count": 69,
   "id": "0eaa6461-66fa-4261-8039-b91a227b1d66",
   "metadata": {},
   "outputs": [],
   "source": [
    "const persTest = {\n",
    "    first : 'Cherilyn',\n",
    "    last : 'Srkisian',\n",
    "    nickName : 'Cher',\n",
    "    fullName(){\n",
    "        console.log(first, last)\n",
    "    }\n",
    "}"
   ]
  },
  {
   "cell_type": "code",
   "execution_count": 71,
   "id": "4aa215f3-8205-452c-b571-f4bd3c58953d",
   "metadata": {},
   "outputs": [
    {
     "ename": "ReferenceError",
     "evalue": "first is not defined",
     "execution_count": 71,
     "output_type": "error",
     "traceback": [
      "evalmachine.<anonymous>:6",
      "        console.log(first, last)",
      "                    ^",
      "",
      "ReferenceError: first is not defined",
      "    at Object.fullName (evalmachine.<anonymous>:6:21)",
      "    at evalmachine.<anonymous>:1:10",
      "    at Script.runInThisContext (node:vm:129:12)",
      "    at Object.runInThisContext (node:vm:307:38)",
      "    at run ([eval]:1020:15)",
      "    at onRunRequest ([eval]:864:18)",
      "    at onMessage ([eval]:828:13)",
      "    at process.emit (node:events:513:28)",
      "    at emit (node:internal/child_process:937:14)",
      "    at process.processTicksAndRejections (node:internal/process/task_queues:83:21)"
     ]
    }
   ],
   "source": [
    "persTest.fullName()"
   ]
  },
  {
   "cell_type": "code",
   "execution_count": null,
   "id": "b21dc33d-761d-4ce9-a262-7fb63f19165e",
   "metadata": {},
   "outputs": [],
   "source": [
    "// inorder to what i just did to work, is need to unpack \n",
    "// my object"
   ]
  },
  {
   "cell_type": "code",
   "execution_count": 72,
   "id": "e308866c-a200-4381-a993-1d9ac02f0c8f",
   "metadata": {},
   "outputs": [],
   "source": [
    "const persTest1 = {\n",
    "    first : 'Cherilyn',\n",
    "    last : 'Srkisian',\n",
    "    nickName : 'Cher',\n",
    "    fullName(){\n",
    "        const {first,last} = this;\n",
    "        console.log(first, last)\n",
    "    }\n",
    "}"
   ]
  },
  {
   "cell_type": "code",
   "execution_count": 73,
   "id": "e6ead981-24e3-454c-88cd-58ec1425400f",
   "metadata": {},
   "outputs": [
    {
     "name": "stdout",
     "output_type": "stream",
     "text": [
      "Cherilyn Srkisian\n"
     ]
    }
   ],
   "source": [
    "persTest1.fullName()"
   ]
  },
  {
   "cell_type": "code",
   "execution_count": 74,
   "id": "aedfc5ed-3a82-4f4c-a45e-41fa91208da5",
   "metadata": {},
   "outputs": [
    {
     "data": {
      "text/plain": [
       "'CHERRRRRR'"
      ]
     },
     "execution_count": 74,
     "metadata": {},
     "output_type": "execute_result"
    }
   ],
   "source": [
    "persTest1.fullName = 'CHERRRRRR'"
   ]
  },
  {
   "cell_type": "code",
   "execution_count": 75,
   "id": "501ccab6-1615-4184-b83a-c22c0ee95507",
   "metadata": {},
   "outputs": [
    {
     "data": {
      "text/plain": [
       "{\n",
       "  first: 'Cherilyn',\n",
       "  last: 'Srkisian',\n",
       "  nickName: 'Cher',\n",
       "  fullName: 'CHERRRRRR'\n",
       "}"
      ]
     },
     "execution_count": 75,
     "metadata": {},
     "output_type": "execute_result"
    }
   ],
   "source": [
    "persTest1"
   ]
  },
  {
   "cell_type": "code",
   "execution_count": null,
   "id": "be60f15a-dce8-44f5-bc06-243ddfd990d2",
   "metadata": {},
   "outputs": [],
   "source": []
  },
  {
   "cell_type": "code",
   "execution_count": null,
   "id": "8a1e095e-4bac-45fc-b3a6-a9ff77f415ce",
   "metadata": {},
   "outputs": [],
   "source": []
  },
  {
   "cell_type": "code",
   "execution_count": 76,
   "id": "f04fdcfd-a58e-4fbd-9718-fd5df1dd2ac4",
   "metadata": {},
   "outputs": [],
   "source": [
    "// one nore example."
   ]
  },
  {
   "cell_type": "code",
   "execution_count": 86,
   "id": "5dc5e8bd-eef0-4fa5-8246-7b09f94518e9",
   "metadata": {},
   "outputs": [],
   "source": [
    "const persExample = {\n",
    "    first : 'Cherilyn',\n",
    "    last : 'Srkisian',\n",
    "    nickName : 'Cher',\n",
    "    fullName(){\n",
    "        const {first,last} = this;\n",
    "        console.log(first, last)\n",
    "    },\n",
    "    printBio(){\n",
    "        this.fullName();\n",
    "    }\n",
    "}"
   ]
  },
  {
   "cell_type": "code",
   "execution_count": 87,
   "id": "d2841afd-2706-43dc-b3fb-1ad27f1e8e16",
   "metadata": {},
   "outputs": [
    {
     "name": "stdout",
     "output_type": "stream",
     "text": [
      "Cherilyn Srkisian\n"
     ]
    }
   ],
   "source": [
    "persExample.printBio()"
   ]
  },
  {
   "cell_type": "code",
   "execution_count": null,
   "id": "c88f2f73-7a86-4502-ba7a-f6746370a3fb",
   "metadata": {},
   "outputs": [],
   "source": []
  },
  {
   "cell_type": "code",
   "execution_count": null,
   "id": "3edf23ac-0a4c-4b7d-a5f8-c43660373feb",
   "metadata": {},
   "outputs": [],
   "source": []
  },
  {
   "cell_type": "code",
   "execution_count": 2,
   "id": "4d51f9a1-05d9-49ad-bec1-71f596e9774c",
   "metadata": {},
   "outputs": [],
   "source": [
    "const suits = ['hearts','diamonds','spades','clubs'];\n",
    "const values = '2,3,4,5,6,7,8,9,10,J,Q,K,A';"
   ]
  },
  {
   "cell_type": "code",
   "execution_count": 3,
   "id": "f2ad766a-3a1e-4ba5-a6e9-19a894ea23cd",
   "metadata": {},
   "outputs": [],
   "source": [
    "function makeDeck(){\n",
    "    const deck = [];\n",
    "    const suits = ['hearts','diamonds','spades','clubs'];\n",
    "    const values = '2,3,4,5,6,7,8,9,10,J,Q,K,A';\n",
    "    \n",
    "    for(let value of values.split(',')){\n",
    "        for(let suit of suits){\n",
    "            deck.push({\n",
    "                value,\n",
    "                suit\n",
    "            })\n",
    "        }\n",
    "    }\n",
    "    return deck;\n",
    "}\n"
   ]
  },
  {
   "cell_type": "code",
   "execution_count": 4,
   "id": "3ec5c2d2-77a5-4ebe-ac1e-971e3e9d8951",
   "metadata": {},
   "outputs": [
    {
     "data": {
      "text/plain": [
       "[\n",
       "  { value: '2', suit: 'hearts' },\n",
       "  { value: '2', suit: 'diamonds' },\n",
       "  { value: '2', suit: 'spades' },\n",
       "  { value: '2', suit: 'clubs' },\n",
       "  { value: '3', suit: 'hearts' },\n",
       "  { value: '3', suit: 'diamonds' },\n",
       "  { value: '3', suit: 'spades' },\n",
       "  { value: '3', suit: 'clubs' },\n",
       "  { value: '4', suit: 'hearts' },\n",
       "  { value: '4', suit: 'diamonds' },\n",
       "  { value: '4', suit: 'spades' },\n",
       "  { value: '4', suit: 'clubs' },\n",
       "  { value: '5', suit: 'hearts' },\n",
       "  { value: '5', suit: 'diamonds' },\n",
       "  { value: '5', suit: 'spades' },\n",
       "  { value: '5', suit: 'clubs' },\n",
       "  { value: '6', suit: 'hearts' },\n",
       "  { value: '6', suit: 'diamonds' },\n",
       "  { value: '6', suit: 'spades' },\n",
       "  { value: '6', suit: 'clubs' },\n",
       "  { value: '7', suit: 'hearts' },\n",
       "  { value: '7', suit: 'diamonds' },\n",
       "  { value: '7', suit: 'spades' },\n",
       "  { value: '7', suit: 'clubs' },\n",
       "  { value: '8', suit: 'hearts' },\n",
       "  { value: '8', suit: 'diamonds' },\n",
       "  { value: '8', suit: 'spades' },\n",
       "  { value: '8', suit: 'clubs' },\n",
       "  { value: '9', suit: 'hearts' },\n",
       "  { value: '9', suit: 'diamonds' },\n",
       "  { value: '9', suit: 'spades' },\n",
       "  { value: '9', suit: 'clubs' },\n",
       "  { value: '10', suit: 'hearts' },\n",
       "  { value: '10', suit: 'diamonds' },\n",
       "  { value: '10', suit: 'spades' },\n",
       "  { value: '10', suit: 'clubs' },\n",
       "  { value: 'J', suit: 'hearts' },\n",
       "  { value: 'J', suit: 'diamonds' },\n",
       "  { value: 'J', suit: 'spades' },\n",
       "  { value: 'J', suit: 'clubs' },\n",
       "  { value: 'Q', suit: 'hearts' },\n",
       "  { value: 'Q', suit: 'diamonds' },\n",
       "  { value: 'Q', suit: 'spades' },\n",
       "  { value: 'Q', suit: 'clubs' },\n",
       "  { value: 'K', suit: 'hearts' },\n",
       "  { value: 'K', suit: 'diamonds' },\n",
       "  { value: 'K', suit: 'spades' },\n",
       "  { value: 'K', suit: 'clubs' },\n",
       "  { value: 'A', suit: 'hearts' },\n",
       "  { value: 'A', suit: 'diamonds' },\n",
       "  { value: 'A', suit: 'spades' },\n",
       "  { value: 'A', suit: 'clubs' }\n",
       "]"
      ]
     },
     "execution_count": 4,
     "metadata": {},
     "output_type": "execute_result"
    }
   ],
   "source": [
    "makeDeck()"
   ]
  },
  {
   "cell_type": "code",
   "execution_count": null,
   "id": "89e8e8ea-13d3-4e2a-a39b-9eb07dbf55d9",
   "metadata": {},
   "outputs": [],
   "source": [
    "// those are all combinations of the of suits and valus"
   ]
  },
  {
   "cell_type": "code",
   "execution_count": 5,
   "id": "631958fb-c769-41f2-9b74-120196d7e6f6",
   "metadata": {},
   "outputs": [],
   "source": [
    "const mDeck = {\n",
    "    deck: [],\n",
    "    suits :['hearts','diamonds','spades','clubs'],\n",
    "    values : '2,3,4,5,6,7,8,9,10,J,Q,K,A',\n",
    "    \n",
    "    initializeDeck(){\n",
    "        const {siits,values,deck} = this;\n",
    "        for(let value of values.split(',')){\n",
    "            for(let suit of suits){\n",
    "                deck.push({\n",
    "                    value,\n",
    "                    suit\n",
    "                })\n",
    "            }\n",
    "        }\n",
    "    }\n",
    "}"
   ]
  },
  {
   "cell_type": "code",
   "execution_count": 6,
   "id": "354d4eed-c627-4c2b-ade9-5ad855082ed5",
   "metadata": {},
   "outputs": [],
   "source": [
    "mDeck.initializeDeck()"
   ]
  },
  {
   "cell_type": "code",
   "execution_count": 7,
   "id": "0ae1f988-73d7-45c3-9190-cd9f686223f4",
   "metadata": {},
   "outputs": [
    {
     "data": {
      "text/plain": [
       "[\n",
       "  { value: '2', suit: 'hearts' },\n",
       "  { value: '2', suit: 'diamonds' },\n",
       "  { value: '2', suit: 'spades' },\n",
       "  { value: '2', suit: 'clubs' },\n",
       "  { value: '3', suit: 'hearts' },\n",
       "  { value: '3', suit: 'diamonds' },\n",
       "  { value: '3', suit: 'spades' },\n",
       "  { value: '3', suit: 'clubs' },\n",
       "  { value: '4', suit: 'hearts' },\n",
       "  { value: '4', suit: 'diamonds' },\n",
       "  { value: '4', suit: 'spades' },\n",
       "  { value: '4', suit: 'clubs' },\n",
       "  { value: '5', suit: 'hearts' },\n",
       "  { value: '5', suit: 'diamonds' },\n",
       "  { value: '5', suit: 'spades' },\n",
       "  { value: '5', suit: 'clubs' },\n",
       "  { value: '6', suit: 'hearts' },\n",
       "  { value: '6', suit: 'diamonds' },\n",
       "  { value: '6', suit: 'spades' },\n",
       "  { value: '6', suit: 'clubs' },\n",
       "  { value: '7', suit: 'hearts' },\n",
       "  { value: '7', suit: 'diamonds' },\n",
       "  { value: '7', suit: 'spades' },\n",
       "  { value: '7', suit: 'clubs' },\n",
       "  { value: '8', suit: 'hearts' },\n",
       "  { value: '8', suit: 'diamonds' },\n",
       "  { value: '8', suit: 'spades' },\n",
       "  { value: '8', suit: 'clubs' },\n",
       "  { value: '9', suit: 'hearts' },\n",
       "  { value: '9', suit: 'diamonds' },\n",
       "  { value: '9', suit: 'spades' },\n",
       "  { value: '9', suit: 'clubs' },\n",
       "  { value: '10', suit: 'hearts' },\n",
       "  { value: '10', suit: 'diamonds' },\n",
       "  { value: '10', suit: 'spades' },\n",
       "  { value: '10', suit: 'clubs' },\n",
       "  { value: 'J', suit: 'hearts' },\n",
       "  { value: 'J', suit: 'diamonds' },\n",
       "  { value: 'J', suit: 'spades' },\n",
       "  { value: 'J', suit: 'clubs' },\n",
       "  { value: 'Q', suit: 'hearts' },\n",
       "  { value: 'Q', suit: 'diamonds' },\n",
       "  { value: 'Q', suit: 'spades' },\n",
       "  { value: 'Q', suit: 'clubs' },\n",
       "  { value: 'K', suit: 'hearts' },\n",
       "  { value: 'K', suit: 'diamonds' },\n",
       "  { value: 'K', suit: 'spades' },\n",
       "  { value: 'K', suit: 'clubs' },\n",
       "  { value: 'A', suit: 'hearts' },\n",
       "  { value: 'A', suit: 'diamonds' },\n",
       "  { value: 'A', suit: 'spades' },\n",
       "  { value: 'A', suit: 'clubs' }\n",
       "]"
      ]
     },
     "execution_count": 7,
     "metadata": {},
     "output_type": "execute_result"
    }
   ],
   "source": [
    "mDeck.deck"
   ]
  },
  {
   "cell_type": "code",
   "execution_count": null,
   "id": "52f9b802-b07b-44d6-869f-2365138a3258",
   "metadata": {},
   "outputs": [],
   "source": []
  },
  {
   "cell_type": "code",
   "execution_count": null,
   "id": "b8712271-5e6c-45df-9aac-d56012c84acd",
   "metadata": {},
   "outputs": [],
   "source": []
  },
  {
   "cell_type": "code",
   "execution_count": null,
   "id": "103c60f6-686f-4022-9d78-b725fe1ff5bc",
   "metadata": {},
   "outputs": [],
   "source": []
  }
 ],
 "metadata": {
  "kernelspec": {
   "display_name": "JavaScript (Node.js)",
   "language": "javascript",
   "name": "javascript"
  },
  "language_info": {
   "file_extension": ".js",
   "mimetype": "application/javascript",
   "name": "javascript",
   "version": "18.15.0"
  }
 },
 "nbformat": 4,
 "nbformat_minor": 5
}
