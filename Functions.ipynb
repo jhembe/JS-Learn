{
 "cells": [
  {
   "cell_type": "markdown",
   "id": "59135625-79e8-4400-a85a-f4d793cda142",
   "metadata": {},
   "source": [
    "<center><h1><b>FUNCTIONS</b></h1></center>"
   ]
  },
  {
   "cell_type": "markdown",
   "id": "8db1cf50-15f6-4e9a-a214-bb712ab48fb8",
   "metadata": {},
   "source": [
    "## **GOALS**\n",
    "* Write Valid Functions\n",
    "* Write Functions with arguments\n",
    "* Compare function expressions and Function Statements\n",
    "* Write a bunch of functions"
   ]
  },
  {
   "cell_type": "markdown",
   "id": "e66c5d14-a694-4ad2-9e49-9870708b516c",
   "metadata": {},
   "source": [
    "### **Functions**\n",
    "#### Reusable procedures\n",
    "- Functions allow us to write reusable, modular code\n",
    "- We define a \"chunk\" of code that we can then execute at a later point\n",
    "- We use them all the time"
   ]
  },
  {
   "cell_type": "code",
   "execution_count": null,
   "id": "238e5f01-9360-4b46-87b9-0cfcac112f0f",
   "metadata": {},
   "outputs": [],
   "source": []
  },
  {
   "cell_type": "code",
   "execution_count": null,
   "id": "2c094ad9-534e-4593-b18e-0d1d6b946624",
   "metadata": {},
   "outputs": [],
   "source": [
    "#### Syntax of Defining a function\n",
    "\n",
    "function funcName(){\n",
    "    // do something\n",
    "}"
   ]
  },
  {
   "cell_type": "code",
   "execution_count": 1,
   "id": "65bd4d34-7bad-4505-9976-d145d3168b44",
   "metadata": {},
   "outputs": [],
   "source": [
    "// That's a function declaration statement"
   ]
  },
  {
   "cell_type": "code",
   "execution_count": null,
   "id": "78d9f9ca-4bd0-4ca9-9df1-c830a1fab907",
   "metadata": {},
   "outputs": [],
   "source": []
  },
  {
   "cell_type": "code",
   "execution_count": 2,
   "id": "498526cc-03c0-424b-80eb-9e0e60fdfee5",
   "metadata": {},
   "outputs": [],
   "source": [
    "// example "
   ]
  },
  {
   "cell_type": "code",
   "execution_count": 3,
   "id": "97e7564e-f9c9-4158-a497-6c31d766f6ae",
   "metadata": {},
   "outputs": [],
   "source": [
    "function grumpus(){\n",
    "    console.log('Ughh...You again ....');\n",
    "    console.log('For the LAST TIME...');\n",
    "    console.log('LEAVE ME ALONE !!');\n",
    "}"
   ]
  },
  {
   "cell_type": "code",
   "execution_count": 4,
   "id": "c79e20dc-d03f-4c88-a881-672826895e51",
   "metadata": {},
   "outputs": [
    {
     "name": "stdout",
     "output_type": "stream",
     "text": [
      "Ughh...You again ....\n",
      "For the LAST TIME...\n",
      "LEAVE ME ALONE !!\n"
     ]
    }
   ],
   "source": [
    "// now, in order to run it, let's do the this :\n",
    "\n",
    "grumpus();"
   ]
  },
  {
   "cell_type": "code",
   "execution_count": null,
   "id": "f6cad9e2-c7f3-4384-b4cb-db10d260a03e",
   "metadata": {},
   "outputs": [],
   "source": []
  },
  {
   "cell_type": "code",
   "execution_count": 5,
   "id": "95471923-f9d4-40c5-9e8b-d8dcb2222461",
   "metadata": {},
   "outputs": [
    {
     "data": {
      "text/plain": [
       "2"
      ]
     },
     "execution_count": 5,
     "metadata": {},
     "output_type": "execute_result"
    }
   ],
   "source": [
    "Math.floor(Math.random()*6);"
   ]
  },
  {
   "cell_type": "markdown",
   "id": "01eb0540-f80b-47de-b23b-e87245c5ca1c",
   "metadata": {},
   "source": [
    "## **Dice Roll Function**"
   ]
  },
  {
   "cell_type": "code",
   "execution_count": 8,
   "id": "a8bca8ee-ab40-447c-be28-d03608579441",
   "metadata": {},
   "outputs": [],
   "source": [
    "function rollDie(){\n",
    "    let roll = Math.floor(Math.random()*6) + 1;\n",
    "    console.log(`Rolled : ${roll}`);\n",
    "}"
   ]
  },
  {
   "cell_type": "code",
   "execution_count": 9,
   "id": "267c7c6b-3275-41cb-b0dc-e4711aa19d0d",
   "metadata": {},
   "outputs": [
    {
     "name": "stdout",
     "output_type": "stream",
     "text": [
      "Rolled : 1\n"
     ]
    }
   ],
   "source": [
    "rollDie();"
   ]
  },
  {
   "cell_type": "code",
   "execution_count": null,
   "id": "fab980d8-063a-42e9-ae03-356e48fafa4e",
   "metadata": {},
   "outputs": [],
   "source": []
  },
  {
   "cell_type": "code",
   "execution_count": 10,
   "id": "20ed459b-72b4-480c-ab06-7048343786ca",
   "metadata": {},
   "outputs": [],
   "source": [
    "// Functions can also call functions within themselves"
   ]
  },
  {
   "cell_type": "code",
   "execution_count": 11,
   "id": "c35e6818-bb02-46b1-b407-1176df258519",
   "metadata": {},
   "outputs": [],
   "source": [
    "function throwDice(){\n",
    "    rollDie();\n",
    "    rollDie();\n",
    "    rollDie();\n",
    "}"
   ]
  },
  {
   "cell_type": "code",
   "execution_count": 12,
   "id": "9e7edf2c-9c6d-4019-814e-ee96d72b1d69",
   "metadata": {},
   "outputs": [
    {
     "name": "stdout",
     "output_type": "stream",
     "text": [
      "Rolled : 2\n",
      "Rolled : 2\n",
      "Rolled : 6\n"
     ]
    }
   ],
   "source": [
    "throwDice();"
   ]
  },
  {
   "cell_type": "code",
   "execution_count": null,
   "id": "5dccc720-6a1d-421c-97b7-a2fb9e1f0252",
   "metadata": {},
   "outputs": [],
   "source": []
  },
  {
   "cell_type": "code",
   "execution_count": null,
   "id": "bc3c3d1e-80f4-402f-bb55-6acc0b3f097c",
   "metadata": {},
   "outputs": [],
   "source": []
  },
  {
   "cell_type": "markdown",
   "id": "865d3a73-0805-4cee-8db8-dc79ac99ab60",
   "metadata": {},
   "source": [
    "## **Introducing Arguments**"
   ]
  },
  {
   "cell_type": "markdown",
   "id": "56d25bc5-0e46-4f51-b031-943f0d8a49d7",
   "metadata": {},
   "source": [
    "### **Inputs**\n",
    "- Right now, our simple functions accept zero inputs. They behave the same way every time."
   ]
  },
  {
   "cell_type": "code",
   "execution_count": 13,
   "id": "e4dfdeb3-8587-4c8b-872f-98358ec728a7",
   "metadata": {},
   "outputs": [
    {
     "name": "stdout",
     "output_type": "stream",
     "text": [
      "Hi\n"
     ]
    }
   ],
   "source": [
    "// consider the function greet\n",
    "function greet(){\n",
    "    console.log('Hi');\n",
    "}\n",
    "greet();"
   ]
  },
  {
   "cell_type": "code",
   "execution_count": 14,
   "id": "d7b03d1c-afcd-4da2-833e-ff05ecd81c6e",
   "metadata": {},
   "outputs": [
    {
     "name": "stdout",
     "output_type": "stream",
     "text": [
      "Hi\n"
     ]
    }
   ],
   "source": [
    "greet()"
   ]
  },
  {
   "cell_type": "code",
   "execution_count": null,
   "id": "0da22a0e-87a4-415a-b3f3-ce319287e9ad",
   "metadata": {},
   "outputs": [],
   "source": []
  },
  {
   "cell_type": "markdown",
   "id": "b98901cf-bf8a-45c9-a2b8-2ea7515dfbf0",
   "metadata": {},
   "source": [
    "#### Now we can allow functions to accept inputs, called arguments"
   ]
  },
  {
   "cell_type": "code",
   "execution_count": 16,
   "id": "f0756e77-bd98-4e24-994a-5503dd3f4122",
   "metadata": {},
   "outputs": [],
   "source": [
    "// let's update greet to accept input\n",
    "function greet(name){\n",
    "    console.log(`Hi ${name}`);\n",
    "}"
   ]
  },
  {
   "cell_type": "code",
   "execution_count": 17,
   "id": "d418343d-15a1-40d9-9085-5f281ef0ec48",
   "metadata": {},
   "outputs": [
    {
     "name": "stdout",
     "output_type": "stream",
     "text": [
      "Hi Joseph\n"
     ]
    }
   ],
   "source": [
    "greet(\"Joseph\");"
   ]
  },
  {
   "cell_type": "code",
   "execution_count": null,
   "id": "b9e69fc4-eb1d-44f8-9bb5-3cd6bb335856",
   "metadata": {},
   "outputs": [],
   "source": []
  },
  {
   "cell_type": "code",
   "execution_count": 19,
   "id": "589f1c28-5b68-41bc-b0c9-ffd77640dec3",
   "metadata": {},
   "outputs": [
    {
     "name": "stdout",
     "output_type": "stream",
     "text": [
      "Rolled : 1\n",
      "Rolled : 5\n",
      "Rolled : 6\n"
     ]
    }
   ],
   "source": [
    "// let's update the throw dice function\n",
    "\n",
    "function throwDice(times){\n",
    "    for(let i=0; i<times; i++){\n",
    "        rollDie();\n",
    "    }\n",
    "}\n",
    "\n",
    "throwDice(3);"
   ]
  },
  {
   "cell_type": "code",
   "execution_count": null,
   "id": "0a4438ec-e0d2-4a2b-bbdd-3f41cb70bbd5",
   "metadata": {},
   "outputs": [],
   "source": []
  },
  {
   "cell_type": "code",
   "execution_count": null,
   "id": "80d11712-422b-4ee6-9dc3-363906842771",
   "metadata": {},
   "outputs": [],
   "source": []
  },
  {
   "cell_type": "markdown",
   "id": "c42d7337-1e02-4a24-8a7b-fc3a13f8e9ed",
   "metadata": {},
   "source": [
    "## **Functions With Multiple Arguments**"
   ]
  },
  {
   "cell_type": "code",
   "execution_count": 20,
   "id": "e1608e69-edcc-4e78-89e1-752038d4a908",
   "metadata": {},
   "outputs": [],
   "source": [
    "// consider the function square"
   ]
  },
  {
   "cell_type": "code",
   "execution_count": 21,
   "id": "75c69aa5-c52e-4345-a4d3-e00cffefbed6",
   "metadata": {},
   "outputs": [
    {
     "name": "stdout",
     "output_type": "stream",
     "text": [
      "16\n"
     ]
    }
   ],
   "source": [
    "function square(num){\n",
    "    console.log(num*num);\n",
    "}\n",
    "\n",
    "square(4);"
   ]
  },
  {
   "cell_type": "code",
   "execution_count": 22,
   "id": "1b5157e4-b506-4f5b-baa2-f415240b333d",
   "metadata": {},
   "outputs": [],
   "source": [
    "// now for 2 param"
   ]
  },
  {
   "cell_type": "code",
   "execution_count": 25,
   "id": "5dc63c75-0f8f-437a-8961-ceb43ff0e42f",
   "metadata": {},
   "outputs": [],
   "source": [
    "function power(num,pow){\n",
    "    console.log(num**pow);\n",
    "}"
   ]
  },
  {
   "cell_type": "code",
   "execution_count": 26,
   "id": "398268bc-667a-488d-8f55-8331f2a0cad2",
   "metadata": {},
   "outputs": [
    {
     "name": "stdout",
     "output_type": "stream",
     "text": [
      "8\n"
     ]
    }
   ],
   "source": [
    "power(2,3);"
   ]
  },
  {
   "cell_type": "code",
   "execution_count": 27,
   "id": "3cc07b8a-fbf0-4405-a2d5-21b4435be1b5",
   "metadata": {},
   "outputs": [
    {
     "name": "stdout",
     "output_type": "stream",
     "text": [
      "105\n"
     ]
    }
   ],
   "source": [
    "// addition function\n",
    "function sum(x,y){\n",
    "    console.log(x+y);\n",
    "}\n",
    "\n",
    "sum(7,98);"
   ]
  },
  {
   "cell_type": "code",
   "execution_count": null,
   "id": "797d692f-20df-4d15-89a8-78a45888d6f9",
   "metadata": {},
   "outputs": [],
   "source": []
  },
  {
   "cell_type": "code",
   "execution_count": null,
   "id": "9326b477-d9d9-464c-a01c-c47cf78c6dc9",
   "metadata": {},
   "outputs": [],
   "source": []
  },
  {
   "cell_type": "markdown",
   "id": "c216a63b-353b-47db-a02d-f8d20095a637",
   "metadata": {},
   "source": [
    "## **Return**\n",
    "- Built-in methods **return** values when we call them. We can store those values."
   ]
  },
  {
   "cell_type": "code",
   "execution_count": 28,
   "id": "3f08ba0e-b23d-4a6e-9d42-a29d4688376d",
   "metadata": {},
   "outputs": [],
   "source": [
    "// we have been printing values out, but not returning."
   ]
  },
  {
   "cell_type": "code",
   "execution_count": 29,
   "id": "7564009e-f5d0-4210-8751-cf714bc69859",
   "metadata": {},
   "outputs": [],
   "source": [
    "// here is an example of returning methods\n",
    "const scream = \"mamaaaa!!\".toUpperCase();"
   ]
  },
  {
   "cell_type": "code",
   "execution_count": 30,
   "id": "9479a6d4-2a15-43f2-b1f9-ef066696b9b2",
   "metadata": {},
   "outputs": [
    {
     "data": {
      "text/plain": [
       "'MAMAAAA!!'"
      ]
     },
     "execution_count": 30,
     "metadata": {},
     "output_type": "execute_result"
    }
   ],
   "source": [
    "scream"
   ]
  },
  {
   "cell_type": "code",
   "execution_count": 31,
   "id": "ed11f83e-9d63-4b44-a642-189f758cb707",
   "metadata": {},
   "outputs": [],
   "source": [
    "// return values are usefull, because we can capture them, store\n",
    "// ormanipulate them in some way"
   ]
  },
  {
   "cell_type": "code",
   "execution_count": 32,
   "id": "031e84d5-25cd-42f5-bdac-354372499c1a",
   "metadata": {},
   "outputs": [],
   "source": [
    "// to add a return value, we use the return keyword"
   ]
  },
  {
   "cell_type": "code",
   "execution_count": 33,
   "id": "30cfc8bd-9473-4734-ace2-350a8a638076",
   "metadata": {},
   "outputs": [],
   "source": [
    "function add(x,y){\n",
    "    return x+y;\n",
    "}"
   ]
  },
  {
   "cell_type": "code",
   "execution_count": 34,
   "id": "6ac04ff3-957a-44b5-b1f8-e2cd228323ec",
   "metadata": {},
   "outputs": [
    {
     "name": "stdout",
     "output_type": "stream",
     "text": [
      "12\n"
     ]
    }
   ],
   "source": [
    "let result = add(7,5);\n",
    "console.log(result);"
   ]
  },
  {
   "cell_type": "code",
   "execution_count": null,
   "id": "9e7416c0-70ef-47b2-82f1-0758aad26196",
   "metadata": {},
   "outputs": [],
   "source": []
  },
  {
   "cell_type": "markdown",
   "id": "511701b3-2b99-431c-b150-5e18ee97076b",
   "metadata": {},
   "source": [
    "## More on Return Values"
   ]
  },
  {
   "cell_type": "code",
   "execution_count": 35,
   "id": "7153aad3-a649-45c3-a06a-1664f86b7f9f",
   "metadata": {},
   "outputs": [],
   "source": [
    "// Return statements, end function execution"
   ]
  },
  {
   "cell_type": "code",
   "execution_count": 36,
   "id": "85baf3d3-c61b-4e0e-b658-e8ad1661ad7c",
   "metadata": {},
   "outputs": [],
   "source": [
    "function square(x){\n",
    "    return x**x;\n",
    "    console.log('All Done');\n",
    "}"
   ]
  },
  {
   "cell_type": "code",
   "execution_count": 37,
   "id": "751633d5-d56e-4108-b122-70bdc50501d1",
   "metadata": {},
   "outputs": [
    {
     "data": {
      "text/plain": [
       "3125"
      ]
     },
     "execution_count": 37,
     "metadata": {},
     "output_type": "execute_result"
    }
   ],
   "source": [
    "square(5);"
   ]
  },
  {
   "cell_type": "code",
   "execution_count": 38,
   "id": "9471bea9-4c41-4a3e-832f-32da5f87e3af",
   "metadata": {},
   "outputs": [],
   "source": [
    "// see, we don't see the text \"All Done\""
   ]
  },
  {
   "cell_type": "code",
   "execution_count": null,
   "id": "017c881d-4f7f-455a-a775-12eaee2d1b0d",
   "metadata": {},
   "outputs": [],
   "source": []
  },
  {
   "cell_type": "code",
   "execution_count": 45,
   "id": "3208963d-6b73-4993-80d6-70c7492c1367",
   "metadata": {},
   "outputs": [],
   "source": [
    "// now considet this function]\n",
    "\n",
    "function isPurple(color){\n",
    "    if(color.toLowerCase() === 'purple'){\n",
    "        return true;\n",
    "    }\n",
    "    else{\n",
    "        return false;\n",
    "    }\n",
    "}"
   ]
  },
  {
   "cell_type": "code",
   "execution_count": 46,
   "id": "f9ce44cc-e581-467b-982f-5b69b749a11e",
   "metadata": {},
   "outputs": [
    {
     "data": {
      "text/plain": [
       "false"
      ]
     },
     "execution_count": 46,
     "metadata": {},
     "output_type": "execute_result"
    }
   ],
   "source": [
    "isPurple('Blue')"
   ]
  },
  {
   "cell_type": "code",
   "execution_count": 48,
   "id": "634db310-f89d-4c6e-8562-505705bcfa61",
   "metadata": {},
   "outputs": [
    {
     "data": {
      "text/plain": [
       "false"
      ]
     },
     "execution_count": 48,
     "metadata": {},
     "output_type": "execute_result"
    }
   ],
   "source": [
    "isPurple('Purple')"
   ]
  },
  {
   "cell_type": "code",
   "execution_count": 49,
   "id": "a4badb06-d031-4d3f-932b-adff21e6d7b5",
   "metadata": {},
   "outputs": [],
   "source": [
    "// let's rewrite the function\n",
    "\n",
    "function isPurple(color){\n",
    "    if(color.toLowerCase() === 'purple'){\n",
    "        return true;\n",
    "    }\n",
    "    return false;\n",
    "}"
   ]
  },
  {
   "cell_type": "code",
   "execution_count": 50,
   "id": "9e1b99f9-866d-4bc0-a08e-3fcbb02a7997",
   "metadata": {},
   "outputs": [
    {
     "data": {
      "text/plain": [
       "true"
      ]
     },
     "execution_count": 50,
     "metadata": {},
     "output_type": "execute_result"
    }
   ],
   "source": [
    "isPurple('PURPLE')"
   ]
  },
  {
   "cell_type": "code",
   "execution_count": 51,
   "id": "eef551d5-00fd-4158-9688-18cf612de5c4",
   "metadata": {},
   "outputs": [],
   "source": [
    "// another shorter way \n",
    "function isPurple(color){\n",
    "    return color.toLowerCase() === 'purple';\n",
    "}"
   ]
  },
  {
   "cell_type": "code",
   "execution_count": 52,
   "id": "926fc3ad-0cc2-4002-a74d-297e7c434146",
   "metadata": {},
   "outputs": [
    {
     "data": {
      "text/plain": [
       "true"
      ]
     },
     "execution_count": 52,
     "metadata": {},
     "output_type": "execute_result"
    }
   ],
   "source": [
    "isPurple('PURPLE')"
   ]
  },
  {
   "cell_type": "code",
   "execution_count": null,
   "id": "937a88ec-aa4b-49f1-b64a-101a445f0779",
   "metadata": {},
   "outputs": [],
   "source": []
  },
  {
   "cell_type": "code",
   "execution_count": null,
   "id": "57224fb3-7108-4bc5-8713-3e45240b78ed",
   "metadata": {},
   "outputs": [],
   "source": []
  },
  {
   "cell_type": "code",
   "execution_count": 54,
   "id": "20466ac1-98c8-4508-9c88-e72b63229ab3",
   "metadata": {},
   "outputs": [
    {
     "data": {
      "text/plain": [
       "true"
      ]
     },
     "execution_count": 54,
     "metadata": {},
     "output_type": "execute_result"
    }
   ],
   "source": [
    "// A more advanced version of Is Purple\n",
    "\n",
    "let colors = ['cream','Blue','purple','Magenta','Indigo','Brown']\n",
    "\n",
    "function identColor(colors){\n",
    "    // let's use a for loop\n",
    "    for(let color of colors){\n",
    "        if(color.toLowerCase() === 'purple' || color.toLowerCase() === 'magenta'){\n",
    "            return true;\n",
    "        }\n",
    "    }\n",
    "    return false;\n",
    "}\n",
    "\n",
    "identColor(colors);"
   ]
  },
  {
   "cell_type": "code",
   "execution_count": null,
   "id": "19f48d5c-b730-443e-a33c-d91eeab0fbe6",
   "metadata": {},
   "outputs": [],
   "source": []
  },
  {
   "cell_type": "code",
   "execution_count": 2,
   "id": "c0aeed06-d781-4630-87f9-04798c10a99d",
   "metadata": {},
   "outputs": [
    {
     "data": {
      "text/plain": [
       "'mygreethello'"
      ]
     },
     "execution_count": 2,
     "metadata": {},
     "output_type": "execute_result"
    }
   ],
   "source": [
    "hello = \"mygreethello\";"
   ]
  },
  {
   "cell_type": "code",
   "execution_count": 4,
   "id": "0ed3e9a9-dcc0-4129-a0eb-9fd85363fb2e",
   "metadata": {},
   "outputs": [
    {
     "data": {
      "text/plain": [
       "null"
      ]
     },
     "execution_count": 4,
     "metadata": {},
     "output_type": "execute_result"
    }
   ],
   "source": [
    "hello.match(\"nana\");"
   ]
  },
  {
   "cell_type": "code",
   "execution_count": 1,
   "id": "4f70baa1-d49e-49dd-a13a-3e958d2e615a",
   "metadata": {},
   "outputs": [
    {
     "ename": "TypeError",
     "evalue": "\"hellomydear\".contains is not a function",
     "execution_count": 1,
     "output_type": "error",
     "traceback": [
      "evalmachine.<anonymous>:1",
      "\"hellomydear\".contains('hello')",
      "              ^",
      "",
      "TypeError: \"hellomydear\".contains is not a function",
      "    at evalmachine.<anonymous>:1:15",
      "    at Script.runInThisContext (node:vm:129:12)",
      "    at Object.runInThisContext (node:vm:307:38)",
      "    at run ([eval]:1020:15)",
      "    at onRunRequest ([eval]:864:18)",
      "    at onMessage ([eval]:828:13)",
      "    at process.emit (node:events:513:28)",
      "    at emit (node:internal/child_process:937:14)",
      "    at process.processTicksAndRejections (node:internal/process/task_queues:83:21)"
     ]
    }
   ],
   "source": [
    "\"hellomydear\".contains('hello')"
   ]
  },
  {
   "cell_type": "code",
   "execution_count": null,
   "id": "65e31f39-0f49-4880-bb46-c25ec6c2ed19",
   "metadata": {},
   "outputs": [],
   "source": []
  },
  {
   "cell_type": "markdown",
   "id": "2e5bdb40-aed7-4eff-b185-3015bcfd4374",
   "metadata": {},
   "source": [
    "## **CHALLENGES**"
   ]
  },
  {
   "cell_type": "code",
   "execution_count": 14,
   "id": "b93431db-beac-4951-a1ca-24925f9a6d63",
   "metadata": {},
   "outputs": [],
   "source": [
    "// Write a isValidPassword function\n",
    "// It accepts 2 arguments: password and username\n",
    "// Password must:\n",
    "//\t- be at least 8 characters\n",
    "//  - cannot contain spaces\n",
    "//  - cannot contain the username\n",
    "// If all requirements are met, return true.\n",
    "//Otherwise: false\n",
    "\n",
    "function isValidPassword(password,username){\n",
    "    if(password.indexOf(' ') === -1 && password.length >= 8 && password.toLowerCase().match(username.toLowerCase()) === null ){\n",
    "        return true;\n",
    "    }\n",
    "    return false;\n",
    "}\n",
    "\n",
    "// isValidPassword('89Fjj1nms', 'dogLuvr');  //true\n",
    "// isValidPassword('dogLuvr123!', 'dogLuvr') //false\n",
    "// isValidPassword('hello1', 'dogLuvr') //false?"
   ]
  },
  {
   "cell_type": "code",
   "execution_count": 11,
   "id": "faa4956b-07f3-4cc6-b547-a8d3eebe7113",
   "metadata": {},
   "outputs": [
    {
     "data": {
      "text/plain": [
       "true"
      ]
     },
     "execution_count": 11,
     "metadata": {},
     "output_type": "execute_result"
    }
   ],
   "source": [
    "isValidPassword('89Fjj1nms', 'dogLuvr');  //true"
   ]
  },
  {
   "cell_type": "code",
   "execution_count": 12,
   "id": "3e0da3bf-77fb-4468-b2cb-cb58ebbe0909",
   "metadata": {},
   "outputs": [
    {
     "data": {
      "text/plain": [
       "false"
      ]
     },
     "execution_count": 12,
     "metadata": {},
     "output_type": "execute_result"
    }
   ],
   "source": [
    "isValidPassword('dogLuvr123!', 'dogLuvr') //false"
   ]
  },
  {
   "cell_type": "code",
   "execution_count": 13,
   "id": "55798026-12c7-49c5-9e4a-9d654d2fb566",
   "metadata": {},
   "outputs": [
    {
     "data": {
      "text/plain": [
       "false"
      ]
     },
     "execution_count": 13,
     "metadata": {},
     "output_type": "execute_result"
    }
   ],
   "source": [
    "isValidPassword('hello1', 'dogLuvr') //false?"
   ]
  },
  {
   "cell_type": "code",
   "execution_count": null,
   "id": "8d34e0a0-70c2-4477-a432-ca7f19476e85",
   "metadata": {},
   "outputs": [],
   "source": []
  },
  {
   "cell_type": "code",
   "execution_count": null,
   "id": "e571bafe-00fd-4217-be20-ea49c4cbe6e4",
   "metadata": {},
   "outputs": [],
   "source": []
  },
  {
   "cell_type": "code",
   "execution_count": 15,
   "id": "8604fe9c-701f-4c6a-83f2-824f920fc541",
   "metadata": {},
   "outputs": [],
   "source": [
    "// Write a function to find the average value in an array of numbers\n",
    "//avg([0,50]) //25\n",
    "//avg([75,76,80,95,100]) //85.2\n",
    "\n",
    "function avg(arr){\n",
    "    let sum=0;\n",
    "    for(let score of arr){\n",
    "        sum+=score;\n",
    "    }\n",
    "    return sum/arr.length;\n",
    "}"
   ]
  },
  {
   "cell_type": "code",
   "execution_count": 17,
   "id": "5e00d7f8-f382-4ab1-961f-e6f5c9c7472f",
   "metadata": {},
   "outputs": [
    {
     "data": {
      "text/plain": [
       "25"
      ]
     },
     "execution_count": 17,
     "metadata": {},
     "output_type": "execute_result"
    }
   ],
   "source": [
    "avg([0,50]) //25"
   ]
  },
  {
   "cell_type": "code",
   "execution_count": 18,
   "id": "f10e34dc-4e38-47a7-9ee6-9d13c17ae5de",
   "metadata": {},
   "outputs": [
    {
     "data": {
      "text/plain": [
       "85.2"
      ]
     },
     "execution_count": 18,
     "metadata": {},
     "output_type": "execute_result"
    }
   ],
   "source": [
    "avg([75,76,80,95,100]) //85.2"
   ]
  },
  {
   "cell_type": "code",
   "execution_count": null,
   "id": "2587f7a5-53ec-4f0e-b8ee-b656c5852e84",
   "metadata": {},
   "outputs": [],
   "source": []
  },
  {
   "cell_type": "code",
   "execution_count": null,
   "id": "fa76182a-feb6-4410-8741-bb8ff16626ac",
   "metadata": {},
   "outputs": [],
   "source": []
  },
  {
   "cell_type": "code",
   "execution_count": 50,
   "id": "be4b9f7a-b5fa-46d0-8229-d3b794ec9196",
   "metadata": {},
   "outputs": [],
   "source": [
    "// A pangram is a sentence that contains every letter of the alphabet, like:\n",
    "//\"The quick brown fox jumps over the lazy dog\"\n",
    "\n",
    "// Write a function called isPangram, which checks to see if a given sentence contains every letter of the alphabet.  Make sure you igore string casing!\n",
    "\n",
    "function isPangram(sentence){\n",
    "    // let's create out alphabet array\n",
    "    for(let alpha of 'abcdefghijklmnopqrstuvwxyz'){\n",
    "        if(!sentence.toLowerCase().includes(alpha)) return false;\n",
    "    }\n",
    "    return true;\n",
    "}\n",
    "\n"
   ]
  },
  {
   "cell_type": "code",
   "execution_count": 51,
   "id": "827acf34-92d1-437f-8389-9e1756d21365",
   "metadata": {},
   "outputs": [
    {
     "data": {
      "text/plain": [
       "true"
      ]
     },
     "execution_count": 51,
     "metadata": {},
     "output_type": "execute_result"
    }
   ],
   "source": [
    "isPangram('The five boxing wizards jump quickly') //true"
   ]
  },
  {
   "cell_type": "code",
   "execution_count": 52,
   "id": "10ecfcab-bfa7-4767-9447-a0e79c679244",
   "metadata": {},
   "outputs": [
    {
     "data": {
      "text/plain": [
       "false"
      ]
     },
     "execution_count": 52,
     "metadata": {},
     "output_type": "execute_result"
    }
   ],
   "source": [
    "isPangram('The five boxing wizards jump quick') //false"
   ]
  },
  {
   "cell_type": "code",
   "execution_count": null,
   "id": "b56cf54a-65d3-4235-86b2-cb059a141718",
   "metadata": {},
   "outputs": [],
   "source": []
  },
  {
   "cell_type": "code",
   "execution_count": null,
   "id": "e35b8212-9b9b-4ab0-b4de-e55f55b4c68e",
   "metadata": {},
   "outputs": [],
   "source": []
  },
  {
   "cell_type": "code",
   "execution_count": 77,
   "id": "87d6f9ae-773e-4047-a408-15136969c949",
   "metadata": {},
   "outputs": [],
   "source": [
    "// Write a getCard() function which returns a random playing card object, like:\n",
    "// \t\t{\n",
    "// \t\t\tvalue: 'K'\n",
    "// \t\t\tsuit: 'clubs'\n",
    "// \t\t}\n",
    "//Pick a random value from:\n",
    "//----1,2,3,4,5,6,7,8,9,10,J,Q,K,A\n",
    "//Pick a random suit from:\n",
    "//----clubs,spades, hearts, diamonds\n",
    "//Return both in an object\n",
    "\n",
    "function pick(arr){\n",
    "    let rand = Math.floor(Math.random()*arr.length);\n",
    "    return arr[rand];\n",
    "}\n",
    "\n",
    "function getCard(){\n",
    "    const values = ['2','3','4','5','6','7','8','9','10','J','Q','K','A'];\n",
    "    const suits = ['clubs','spades','heart','diamonds'];\n",
    "    \n",
    "    return {\n",
    "        value : pick(values),\n",
    "        suit : pick(suits)        \n",
    "    };\n",
    "}\n"
   ]
  },
  {
   "cell_type": "code",
   "execution_count": 78,
   "id": "878f7dad-ed89-4feb-acf1-ce7cc8703705",
   "metadata": {},
   "outputs": [
    {
     "data": {
      "text/plain": [
       "{ value: 'A', suit: 'spades' }"
      ]
     },
     "execution_count": 78,
     "metadata": {},
     "output_type": "execute_result"
    }
   ],
   "source": [
    "getCard()"
   ]
  },
  {
   "cell_type": "code",
   "execution_count": null,
   "id": "627ea44e-2a5a-4b1a-a1dc-2fe54481551e",
   "metadata": {},
   "outputs": [],
   "source": []
  }
 ],
 "metadata": {
  "kernelspec": {
   "display_name": "JavaScript (Node.js)",
   "language": "javascript",
   "name": "javascript"
  },
  "language_info": {
   "file_extension": ".js",
   "mimetype": "application/javascript",
   "name": "javascript",
   "version": "18.15.0"
  }
 },
 "nbformat": 4,
 "nbformat_minor": 5
}
